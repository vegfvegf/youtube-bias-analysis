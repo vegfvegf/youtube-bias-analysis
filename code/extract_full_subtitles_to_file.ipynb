{
 "cells": [
  {
   "cell_type": "code",
   "execution_count": 30,
   "metadata": {},
   "outputs": [
    {
     "name": "stdout",
     "output_type": "stream",
     "text": [
      "Requirement already satisfied: youtube_transcript_api in /Library/Frameworks/Python.framework/Versions/3.8/lib/python3.8/site-packages (0.4.1)\n",
      "Requirement already satisfied: requests in /Library/Frameworks/Python.framework/Versions/3.8/lib/python3.8/site-packages (from youtube_transcript_api) (2.25.1)\n",
      "Requirement already satisfied: idna<3,>=2.5 in /Library/Frameworks/Python.framework/Versions/3.8/lib/python3.8/site-packages (from requests->youtube_transcript_api) (2.10)\n",
      "Requirement already satisfied: certifi>=2017.4.17 in /Library/Frameworks/Python.framework/Versions/3.8/lib/python3.8/site-packages (from requests->youtube_transcript_api) (2020.12.5)\n",
      "Requirement already satisfied: chardet<5,>=3.0.2 in /Library/Frameworks/Python.framework/Versions/3.8/lib/python3.8/site-packages (from requests->youtube_transcript_api) (4.0.0)\n",
      "Requirement already satisfied: urllib3<1.27,>=1.21.1 in /Library/Frameworks/Python.framework/Versions/3.8/lib/python3.8/site-packages (from requests->youtube_transcript_api) (1.26.3)\n",
      "\u001b[33mWARNING: You are using pip version 20.2.4; however, version 21.1.2 is available.\n",
      "You should consider upgrading via the '/Library/Frameworks/Python.framework/Versions/3.8/bin/python3.8 -m pip install --upgrade pip' command.\u001b[0m\n"
     ]
    }
   ],
   "source": [
    "!pip install youtube_transcript_api"
   ]
  },
  {
   "cell_type": "code",
   "execution_count": 1,
   "metadata": {},
   "outputs": [],
   "source": [
    "from youtube_transcript_api import YouTubeTranscriptApi\n",
    "import pandas as pd\n",
    "from os import listdir\n",
    "import csv\n",
    "import time"
   ]
  },
  {
   "cell_type": "code",
   "execution_count": 2,
   "metadata": {},
   "outputs": [],
   "source": [
    "def write_comments_to_file(video, file_name):\n",
    "    subs = []\n",
    "    retry = 0\n",
    "\n",
    "    while len(subs) == 0 and retry < 10:\n",
    "        try:\n",
    "            subs=YouTubeTranscriptApi.get_transcript(video)\n",
    "            retry += 1\n",
    "            #print('Trying: ' + str(retry))\n",
    "        except:\n",
    "            retry += 1\n",
    "            #print('Retrying: ' + str(retry))\n",
    "\n",
    "    status = 0\n",
    "    phrase_count = 0\n",
    "    phrase = \"\"\n",
    "    \n",
    "    for text in subs:\n",
    "        oneLine = text['text'].replace(\"\\n\", \" \")\n",
    "        oneLine = \" \".join(oneLine.split())\n",
    "        if len(oneLine) > 0 and oneLine[-1] =='.':\n",
    "            status = 0\n",
    "            if len(phrase) > 0:\n",
    "                phrase = (phrase + \" \" + oneLine.strip())\n",
    "            else:\n",
    "                phrase = oneLine.strip()\n",
    "\n",
    "            with open(\"subtitles/\" + file_name + '.csv', mode='a') as out_file:\n",
    "                result_writer = csv.writer(out_file, delimiter=',', quotechar='\"', quoting=csv.QUOTE_MINIMAL)\n",
    "                result_writer.writerow([video, phrase_count, phrase])\n",
    "\n",
    "            phrase_count += 1\n",
    "            phrase = \"\"\n",
    "        else:\n",
    "            status = 1\n",
    "            if len(phrase) > 0:\n",
    "                phrase = phrase + \" \" + oneLine.strip()\n",
    "            else:\n",
    "                phrase = oneLine.strip()\n",
    "\n",
    "    # A status of 0 means that the phrase has been building, but was not written to the file\n",
    "    if status == 0:\n",
    "        with open(\"subtitles/\" + file_name + '.csv', mode='a') as out_file:\n",
    "            result_writer = csv.writer(out_file, delimiter=',', quotechar='\"', quoting=csv.QUOTE_MINIMAL)\n",
    "            result_writer.writerow([video, phrase_count, phrase])\n",
    "    with open(\"subtitles/summary_\" + file_name + '.csv', mode='a') as out_file:\n",
    "        result_writer = csv.writer(out_file, delimiter=',', quotechar='\"', quoting=csv.QUOTE_MINIMAL)\n",
    "        result_writer.writerow([video, phrase_count])\n",
    "    #print('Extracted subtitles: ' + str(phrase_count))"
   ]
  },
  {
   "cell_type": "code",
   "execution_count": 3,
   "metadata": {},
   "outputs": [],
   "source": [
    "def write_subtitles_to_file(video, file_name):\n",
    "    subs = []\n",
    "    retry = 0\n",
    "    phrase = \"\"\n",
    "\n",
    "    while len(subs) == 0 and retry < 5:\n",
    "        try:\n",
    "            subs=YouTubeTranscriptApi.get_transcript(video)\n",
    "            retry += 1\n",
    "        except:\n",
    "            retry += 1\n",
    "\n",
    "    for text in subs:\n",
    "        oneLine = text['text'].replace(\"\\n\", \" \")\n",
    "        oneLine = \" \".join(oneLine.split())\n",
    "\n",
    "        if len(phrase) > 0:\n",
    "            phrase = phrase + \" \" + oneLine.strip()\n",
    "        else:\n",
    "            phrase = oneLine.strip()\n",
    "\n",
    "    phrase_count = len(phrase)\n",
    "    \n",
    "    #video_record = df.iloc[df[df['video']==video].index[0]].to_list()\n",
    "    video_record = df[df['video']==video].values[0].tolist()\n",
    "    video_record.append(phrase)\n",
    "    #print('About to write with phrase_count:', phrase_count, 'for', video)\n",
    "    if phrase_count > 0:\n",
    "        with open(\"subtitles/\" + file_name + '.csv', mode='a') as out_file:\n",
    "            result_writer = csv.writer(out_file, delimiter=',', quotechar='\"', quoting=csv.QUOTE_MINIMAL)\n",
    "            result_writer.writerow(video_record)\n",
    "        #print('Extracted subtitles for:', video, str(phrase_count))"
   ]
  },
  {
   "cell_type": "code",
   "execution_count": 4,
   "metadata": {},
   "outputs": [
    {
     "data": {
      "text/plain": [
       "(21248, 22)"
      ]
     },
     "execution_count": 4,
     "metadata": {},
     "output_type": "execute_result"
    }
   ],
   "source": [
    "filepaths = [\"subtitles/\" + f for f in listdir(\"subtitles/\") if f.endswith('.csv')]\n",
    "df_subs = pd.concat(map(pd.read_csv, filepaths))\n",
    "df_subs.shape"
   ]
  },
  {
   "cell_type": "code",
   "execution_count": 5,
   "metadata": {},
   "outputs": [
    {
     "data": {
      "text/plain": [
       "(17721, 18)"
      ]
     },
     "execution_count": 5,
     "metadata": {},
     "output_type": "execute_result"
    }
   ],
   "source": [
    "pd.set_option('display.max_rows', None)\n",
    "filepaths = [\"results/completed/\" + f for f in listdir(\"./results/completed\") if f.endswith('.csv')]\n",
    "df = pd.concat(map(pd.read_csv, filepaths))\n",
    "df.shape"
   ]
  },
  {
   "cell_type": "code",
   "execution_count": 6,
   "metadata": {},
   "outputs": [
    {
     "data": {
      "text/plain": [
       "(2856, 18)"
      ]
     },
     "execution_count": 6,
     "metadata": {},
     "output_type": "execute_result"
    }
   ],
   "source": [
    "df=df[-df[\"video\"].isin(df_subs['video'])]\n",
    "df.shape"
   ]
  },
  {
   "cell_type": "code",
   "execution_count": 7,
   "metadata": {},
   "outputs": [
    {
     "data": {
      "text/plain": [
       "(808,)"
      ]
     },
     "execution_count": 7,
     "metadata": {},
     "output_type": "execute_result"
    }
   ],
   "source": [
    "df['video'].unique().shape"
   ]
  },
  {
   "cell_type": "code",
   "execution_count": 47,
   "metadata": {
    "scrolled": true
   },
   "outputs": [
    {
     "name": "stdout",
     "output_type": "stream",
     "text": [
      "File: subtitles_2021-06-12_06_53_10\n",
      "Reached: 0 2021-06-12_06_53_12\n",
      "Reached: 1000 2021-06-12_07_21_57\n"
     ]
    }
   ],
   "source": [
    "date = time.strftime('%Y-%m-%d_%H_%M_%S')\n",
    "file_name = 'subtitles_'+ date\n",
    "header=df.columns.to_list()\n",
    "header.append('subtitles')\n",
    "header\n",
    "\n",
    "print(\"File: \" + file_name)\n",
    "counter = 0\n",
    "with open(\"subtitles/\" + file_name + '.csv', mode='w') as out_file:\n",
    "    result_writer = csv.writer(out_file, delimiter=',', quotechar='\"', quoting=csv.QUOTE_MINIMAL)\n",
    "    result_writer.writerow(header)\n",
    "\n",
    "for v in df['video'].unique():\n",
    "    write_subtitles_to_file(v, file_name)\n",
    "    #write_comments_to_file(v, file_name)\n",
    "    if counter%1000 == 0:\n",
    "        print('Reached: ' + str(counter) + ' ' + time.strftime('%Y-%m-%d_%H_%M_%S'))\n",
    "    counter += 1"
   ]
  }
 ],
 "metadata": {
  "instance_type": "ml.t3.medium",
  "kernelspec": {
   "display_name": "Python 3",
   "language": "python",
   "name": "python3"
  },
  "language_info": {
   "codemirror_mode": {
    "name": "ipython",
    "version": 3
   },
   "file_extension": ".py",
   "mimetype": "text/x-python",
   "name": "python",
   "nbconvert_exporter": "python",
   "pygments_lexer": "ipython3",
   "version": "3.8.6"
  }
 },
 "nbformat": 4,
 "nbformat_minor": 4
}
