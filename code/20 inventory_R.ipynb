{
 "cells": [
  {
   "cell_type": "code",
   "execution_count": 2,
   "id": "c920471b",
   "metadata": {},
   "outputs": [
    {
     "name": "stderr",
     "output_type": "stream",
     "text": [
      "\n",
      "Attaching package: ‘dplyr’\n",
      "\n",
      "\n",
      "The following objects are masked from ‘package:stats’:\n",
      "\n",
      "    filter, lag\n",
      "\n",
      "\n",
      "The following objects are masked from ‘package:base’:\n",
      "\n",
      "    intersect, setdiff, setequal, union\n",
      "\n",
      "\n",
      "\n",
      "Attaching package: ‘gridExtra’\n",
      "\n",
      "\n",
      "The following object is masked from ‘package:dplyr’:\n",
      "\n",
      "    combine\n",
      "\n",
      "\n"
     ]
    }
   ],
   "source": [
    "library(dplyr)\n",
    "library(ggplot2)\n",
    "library(gridExtra)\n",
    "library(pivottabler)"
   ]
  },
  {
   "cell_type": "code",
   "execution_count": 3,
   "id": "f3aad2d5",
   "metadata": {},
   "outputs": [],
   "source": [
    "count <- function(file) {\n",
    "    df_search <- read.csv(file)\n",
    "    print(file)\n",
    "    print(paste(\"No. of rows\", nrow(df_search)))\n",
    "    print(unique(df_search$keyword))\n",
    "    print(length(unique(df_search$video)))\n",
    "    print(unique(df_search$video))\n",
    "}"
   ]
  },
  {
   "cell_type": "code",
   "execution_count": 4,
   "id": "1f82bda1",
   "metadata": {},
   "outputs": [
    {
     "name": "stdout",
     "output_type": "stream",
     "text": [
      "[1] \"model/classified_videos_proportional_Dataset5_top152022-01-28_18_36_39.csv\"\n"
     ]
    }
   ],
   "source": [
    "# Training set based on result channels, with evenly distributed instances for each bias class\n",
    "#file_names <- dir(\"model/\", pattern = \"classified_videos_1_2024_2022-01-22_04_57_16.csv\")\n",
    "\n",
    "# Training set based on result channels, with proportionally distributed instances for each bias class\n",
    "#file_names <- dir(\"model/\", pattern = \"classified_videos_1_proportional_2022-01-22_09_32_02.csv\")\n",
    "\n",
    "# Training set based on result videos, with proportionally distributed instances for each bias class\n",
    "#file_names <- dir(\"model/\", pattern = \"classified_videos_1_fromresults_2022-01-22_15_29_42.csv\")\n",
    "\n",
    "file_names <- dir(\"model/\", pattern = \"classified_videos_proportional_Dataset5_top152022-01-28_18_36_39.csv\")\n",
    "\n",
    "file_names <- gsub(\" \", \"\", paste(\"model/\",file_names, sep=''))\n",
    "\n",
    "file_no = 0\n",
    "for (file in file_names) {\n",
    "    print(file)\n",
    "    if (file_no == 0) {\n",
    "        df_search <- read.csv(file) }\n",
    "    else {\n",
    "        df_search_append <- read.csv(file)\n",
    "        df_search<- rbind(df_search, df_search_append)\n",
    "    }\n",
    "file_no =+ 1\n",
    "}"
   ]
  },
  {
   "cell_type": "code",
   "execution_count": 5,
   "id": "3815f2e0",
   "metadata": {},
   "outputs": [],
   "source": [
    "total_rows <- nrow(df_search)"
   ]
  },
  {
   "cell_type": "markdown",
   "id": "7a409a87-2877-448c-a5a7-5b48569cf1da",
   "metadata": {},
   "source": [
    "## Fxing clsas coding and setting order for plotting"
   ]
  },
  {
   "cell_type": "code",
   "execution_count": 6,
   "id": "7b1a18cd-5466-4a0e-a597-e20c1a437d92",
   "metadata": {},
   "outputs": [],
   "source": [
    "df_search$bias[df_search$bias==\"LC\"] <- \"CL\"\n",
    "df_search$bias[df_search$bias==\"RC\"] <- \"CR\"\n",
    "df_search$bias[df_search$bias==\"\"] <- \"NA\"\n",
    "df_search$bias <- factor(df_search$bias,levels = c(\"R\", \"CR\", \"C\", \"CL\", \"L\", \"NA\"))"
   ]
  },
  {
   "cell_type": "markdown",
   "id": "334d75ca-44c2-4547-92d5-0011e004b2c1",
   "metadata": {},
   "source": [
    "## Removing the videos without transcript"
   ]
  },
  {
   "cell_type": "code",
   "execution_count": 7,
   "id": "e2767c42-a593-4e14-8e0f-e218408b99c5",
   "metadata": {},
   "outputs": [],
   "source": [
    "df_search <- df_search %>%\n",
    "    dplyr::filter(length > 0)"
   ]
  },
  {
   "cell_type": "code",
   "execution_count": 8,
   "id": "6a69beb8-7245-4cae-b198-d600a9951819",
   "metadata": {},
   "outputs": [],
   "source": [
    "rows_with_transcript <- nrow(df_search)\n",
    "rows_with_transcript_pct <- rows_with_transcript / total_rows"
   ]
  },
  {
   "cell_type": "markdown",
   "id": "d2252aaa-4221-43d5-bbc2-b78c36f6a55f",
   "metadata": {},
   "source": [
    "# Video Counts"
   ]
  },
  {
   "cell_type": "code",
   "execution_count": 9,
   "id": "d77ae945-420c-43e3-a975-e7409688132d",
   "metadata": {},
   "outputs": [
    {
     "data": {
      "text/html": [
       "'Total rows: 462986'"
      ],
      "text/latex": [
       "'Total rows: 462986'"
      ],
      "text/markdown": [
       "'Total rows: 462986'"
      ],
      "text/plain": [
       "[1] \"Total rows: 462986\""
      ]
     },
     "metadata": {},
     "output_type": "display_data"
    },
    {
     "data": {
      "text/html": [
       "'Rows with transcripts: 354636'"
      ],
      "text/latex": [
       "'Rows with transcripts: 354636'"
      ],
      "text/markdown": [
       "'Rows with transcripts: 354636'"
      ],
      "text/plain": [
       "[1] \"Rows with transcripts: 354636\""
      ]
     },
     "metadata": {},
     "output_type": "display_data"
    },
    {
     "data": {
      "text/html": [
       "'Rows with transcripts(%): 76.6'"
      ],
      "text/latex": [
       "'Rows with transcripts(\\%): 76.6'"
      ],
      "text/markdown": [
       "'Rows with transcripts(%): 76.6'"
      ],
      "text/plain": [
       "[1] \"Rows with transcripts(%): 76.6\""
      ]
     },
     "metadata": {},
     "output_type": "display_data"
    }
   ],
   "source": [
    "paste(\"Total rows:\", total_rows)\n",
    "paste(\"Rows with transcripts:\", rows_with_transcript)\n",
    "paste(\"Rows with transcripts(%):\", 100 * round(rows_with_transcript_pct, 4))"
   ]
  },
  {
   "cell_type": "markdown",
   "id": "8e307582-50b6-425b-aa14-291afe989343",
   "metadata": {},
   "source": [
    "## Unique Videos"
   ]
  },
  {
   "cell_type": "code",
   "execution_count": 10,
   "id": "6fa56352-e0f0-430a-9ff8-791358162382",
   "metadata": {},
   "outputs": [
    {
     "data": {
      "text/html": [
       "<table class=\"dataframe\">\n",
       "<caption>A data.frame: 1 × 2</caption>\n",
       "<thead>\n",
       "\t<tr><th scope=col>count</th><th scope=col>Unique Videos</th></tr>\n",
       "\t<tr><th scope=col>&lt;int&gt;</th><th scope=col>&lt;int&gt;</th></tr>\n",
       "</thead>\n",
       "<tbody>\n",
       "\t<tr><td>354636</td><td>39326</td></tr>\n",
       "</tbody>\n",
       "</table>\n"
      ],
      "text/latex": [
       "A data.frame: 1 × 2\n",
       "\\begin{tabular}{ll}\n",
       " count & Unique Videos\\\\\n",
       " <int> & <int>\\\\\n",
       "\\hline\n",
       "\t 354636 & 39326\\\\\n",
       "\\end{tabular}\n"
      ],
      "text/markdown": [
       "\n",
       "A data.frame: 1 × 2\n",
       "\n",
       "| count &lt;int&gt; | Unique Videos &lt;int&gt; |\n",
       "|---|---|\n",
       "| 354636 | 39326 |\n",
       "\n"
      ],
      "text/plain": [
       "  count  Unique Videos\n",
       "1 354636 39326        "
      ]
     },
     "metadata": {},
     "output_type": "display_data"
    }
   ],
   "source": [
    "df_search %>%\n",
    "    #dplyr::group_by(keyword) %>%\n",
    "    dplyr::summarise(count = n(), \"Unique Videos\" = n_distinct(video))"
   ]
  },
  {
   "cell_type": "markdown",
   "id": "139a84ab-592a-4156-a04c-8d1cd5ed3060",
   "metadata": {},
   "source": [
    "## Videos by Search Term"
   ]
  },
  {
   "cell_type": "code",
   "execution_count": 11,
   "id": "21699e0d-dc23-4c57-b63d-49396fb46703",
   "metadata": {},
   "outputs": [
    {
     "data": {
      "text/html": [
       "<table class=\"dataframe\">\n",
       "<caption>A tibble: 36 × 3</caption>\n",
       "<thead>\n",
       "\t<tr><th scope=col>keyword</th><th scope=col>Count</th><th scope=col>Unique Videos</th></tr>\n",
       "\t<tr><th scope=col>&lt;chr&gt;</th><th scope=col>&lt;int&gt;</th><th scope=col>&lt;int&gt;</th></tr>\n",
       "</thead>\n",
       "<tbody>\n",
       "\t<tr><td>AOC                               </td><td>10340</td><td>1347</td></tr>\n",
       "\t<tr><td>Anthony Fauci                     </td><td>11144</td><td>2776</td></tr>\n",
       "\t<tr><td>Anthony Huber                     </td><td> 8495</td><td>2195</td></tr>\n",
       "\t<tr><td>Barak Obama                       </td><td> 9021</td><td>2583</td></tr>\n",
       "\t<tr><td>Climate Change                    </td><td>10928</td><td>2555</td></tr>\n",
       "\t<tr><td>Cultural Appropriation            </td><td> 8556</td><td>3116</td></tr>\n",
       "\t<tr><td>Donald Trump                      </td><td>11988</td><td>2977</td></tr>\n",
       "\t<tr><td>Feminism                          </td><td> 9786</td><td>2044</td></tr>\n",
       "\t<tr><td>Free Speech                       </td><td>11720</td><td>3031</td></tr>\n",
       "\t<tr><td>Gavin Newson                      </td><td> 7317</td><td>2191</td></tr>\n",
       "\t<tr><td>Gun Control                       </td><td> 8604</td><td>1708</td></tr>\n",
       "\t<tr><td>Hillary Clinton                   </td><td>12094</td><td>2459</td></tr>\n",
       "\t<tr><td>Ilhan Omar                        </td><td>10632</td><td>2475</td></tr>\n",
       "\t<tr><td>Immigration                       </td><td>11391</td><td>2544</td></tr>\n",
       "\t<tr><td>Infrastructure Bill               </td><td>10022</td><td>2248</td></tr>\n",
       "\t<tr><td>Joe Biden                         </td><td>13781</td><td>2247</td></tr>\n",
       "\t<tr><td>Joe Manchin                       </td><td>11119</td><td>2124</td></tr>\n",
       "\t<tr><td>Joseph Rosenbaum                  </td><td> 8575</td><td>1692</td></tr>\n",
       "\t<tr><td>Kyle Rittenhouse                  </td><td> 4821</td><td>1551</td></tr>\n",
       "\t<tr><td>Lets go Brandon                   </td><td> 4672</td><td>1689</td></tr>\n",
       "\t<tr><td>Lindsey Graham                    </td><td>13106</td><td>2478</td></tr>\n",
       "\t<tr><td>Mitch McConnell                   </td><td>12858</td><td>2109</td></tr>\n",
       "\t<tr><td>Moderna                           </td><td> 9613</td><td>1567</td></tr>\n",
       "\t<tr><td>NRA                               </td><td>11385</td><td>2848</td></tr>\n",
       "\t<tr><td>Nancy Pelosi                      </td><td> 4954</td><td>1397</td></tr>\n",
       "\t<tr><td>Newt Gingrich                     </td><td>13582</td><td>1488</td></tr>\n",
       "\t<tr><td>Omicron                           </td><td>11095</td><td>2734</td></tr>\n",
       "\t<tr><td>Peter Thiel                       </td><td> 9116</td><td>2287</td></tr>\n",
       "\t<tr><td>Pfizer                            </td><td> 8397</td><td>1568</td></tr>\n",
       "\t<tr><td>Planned Parenthood                </td><td> 9127</td><td>2299</td></tr>\n",
       "\t<tr><td>Ted Cruz                          </td><td>11575</td><td>2122</td></tr>\n",
       "\t<tr><td>Welfare State                     </td><td> 8005</td><td>1715</td></tr>\n",
       "\t<tr><td>biden is the best president ever  </td><td>10632</td><td>2995</td></tr>\n",
       "\t<tr><td>biden is the worst president ever </td><td> 7609</td><td>2211</td></tr>\n",
       "\t<tr><td>trump was the best president ever </td><td>10535</td><td>2803</td></tr>\n",
       "\t<tr><td>trump was the worst president ever</td><td> 8041</td><td>2457</td></tr>\n",
       "</tbody>\n",
       "</table>\n"
      ],
      "text/latex": [
       "A tibble: 36 × 3\n",
       "\\begin{tabular}{lll}\n",
       " keyword & Count & Unique Videos\\\\\n",
       " <chr> & <int> & <int>\\\\\n",
       "\\hline\n",
       "\t AOC                                & 10340 & 1347\\\\\n",
       "\t Anthony Fauci                      & 11144 & 2776\\\\\n",
       "\t Anthony Huber                      &  8495 & 2195\\\\\n",
       "\t Barak Obama                        &  9021 & 2583\\\\\n",
       "\t Climate Change                     & 10928 & 2555\\\\\n",
       "\t Cultural Appropriation             &  8556 & 3116\\\\\n",
       "\t Donald Trump                       & 11988 & 2977\\\\\n",
       "\t Feminism                           &  9786 & 2044\\\\\n",
       "\t Free Speech                        & 11720 & 3031\\\\\n",
       "\t Gavin Newson                       &  7317 & 2191\\\\\n",
       "\t Gun Control                        &  8604 & 1708\\\\\n",
       "\t Hillary Clinton                    & 12094 & 2459\\\\\n",
       "\t Ilhan Omar                         & 10632 & 2475\\\\\n",
       "\t Immigration                        & 11391 & 2544\\\\\n",
       "\t Infrastructure Bill                & 10022 & 2248\\\\\n",
       "\t Joe Biden                          & 13781 & 2247\\\\\n",
       "\t Joe Manchin                        & 11119 & 2124\\\\\n",
       "\t Joseph Rosenbaum                   &  8575 & 1692\\\\\n",
       "\t Kyle Rittenhouse                   &  4821 & 1551\\\\\n",
       "\t Lets go Brandon                    &  4672 & 1689\\\\\n",
       "\t Lindsey Graham                     & 13106 & 2478\\\\\n",
       "\t Mitch McConnell                    & 12858 & 2109\\\\\n",
       "\t Moderna                            &  9613 & 1567\\\\\n",
       "\t NRA                                & 11385 & 2848\\\\\n",
       "\t Nancy Pelosi                       &  4954 & 1397\\\\\n",
       "\t Newt Gingrich                      & 13582 & 1488\\\\\n",
       "\t Omicron                            & 11095 & 2734\\\\\n",
       "\t Peter Thiel                        &  9116 & 2287\\\\\n",
       "\t Pfizer                             &  8397 & 1568\\\\\n",
       "\t Planned Parenthood                 &  9127 & 2299\\\\\n",
       "\t Ted Cruz                           & 11575 & 2122\\\\\n",
       "\t Welfare State                      &  8005 & 1715\\\\\n",
       "\t biden is the best president ever   & 10632 & 2995\\\\\n",
       "\t biden is the worst president ever  &  7609 & 2211\\\\\n",
       "\t trump was the best president ever  & 10535 & 2803\\\\\n",
       "\t trump was the worst president ever &  8041 & 2457\\\\\n",
       "\\end{tabular}\n"
      ],
      "text/markdown": [
       "\n",
       "A tibble: 36 × 3\n",
       "\n",
       "| keyword &lt;chr&gt; | Count &lt;int&gt; | Unique Videos &lt;int&gt; |\n",
       "|---|---|---|\n",
       "| AOC                                | 10340 | 1347 |\n",
       "| Anthony Fauci                      | 11144 | 2776 |\n",
       "| Anthony Huber                      |  8495 | 2195 |\n",
       "| Barak Obama                        |  9021 | 2583 |\n",
       "| Climate Change                     | 10928 | 2555 |\n",
       "| Cultural Appropriation             |  8556 | 3116 |\n",
       "| Donald Trump                       | 11988 | 2977 |\n",
       "| Feminism                           |  9786 | 2044 |\n",
       "| Free Speech                        | 11720 | 3031 |\n",
       "| Gavin Newson                       |  7317 | 2191 |\n",
       "| Gun Control                        |  8604 | 1708 |\n",
       "| Hillary Clinton                    | 12094 | 2459 |\n",
       "| Ilhan Omar                         | 10632 | 2475 |\n",
       "| Immigration                        | 11391 | 2544 |\n",
       "| Infrastructure Bill                | 10022 | 2248 |\n",
       "| Joe Biden                          | 13781 | 2247 |\n",
       "| Joe Manchin                        | 11119 | 2124 |\n",
       "| Joseph Rosenbaum                   |  8575 | 1692 |\n",
       "| Kyle Rittenhouse                   |  4821 | 1551 |\n",
       "| Lets go Brandon                    |  4672 | 1689 |\n",
       "| Lindsey Graham                     | 13106 | 2478 |\n",
       "| Mitch McConnell                    | 12858 | 2109 |\n",
       "| Moderna                            |  9613 | 1567 |\n",
       "| NRA                                | 11385 | 2848 |\n",
       "| Nancy Pelosi                       |  4954 | 1397 |\n",
       "| Newt Gingrich                      | 13582 | 1488 |\n",
       "| Omicron                            | 11095 | 2734 |\n",
       "| Peter Thiel                        |  9116 | 2287 |\n",
       "| Pfizer                             |  8397 | 1568 |\n",
       "| Planned Parenthood                 |  9127 | 2299 |\n",
       "| Ted Cruz                           | 11575 | 2122 |\n",
       "| Welfare State                      |  8005 | 1715 |\n",
       "| biden is the best president ever   | 10632 | 2995 |\n",
       "| biden is the worst president ever  |  7609 | 2211 |\n",
       "| trump was the best president ever  | 10535 | 2803 |\n",
       "| trump was the worst president ever |  8041 | 2457 |\n",
       "\n"
      ],
      "text/plain": [
       "   keyword                            Count Unique Videos\n",
       "1  AOC                                10340 1347         \n",
       "2  Anthony Fauci                      11144 2776         \n",
       "3  Anthony Huber                       8495 2195         \n",
       "4  Barak Obama                         9021 2583         \n",
       "5  Climate Change                     10928 2555         \n",
       "6  Cultural Appropriation              8556 3116         \n",
       "7  Donald Trump                       11988 2977         \n",
       "8  Feminism                            9786 2044         \n",
       "9  Free Speech                        11720 3031         \n",
       "10 Gavin Newson                        7317 2191         \n",
       "11 Gun Control                         8604 1708         \n",
       "12 Hillary Clinton                    12094 2459         \n",
       "13 Ilhan Omar                         10632 2475         \n",
       "14 Immigration                        11391 2544         \n",
       "15 Infrastructure Bill                10022 2248         \n",
       "16 Joe Biden                          13781 2247         \n",
       "17 Joe Manchin                        11119 2124         \n",
       "18 Joseph Rosenbaum                    8575 1692         \n",
       "19 Kyle Rittenhouse                    4821 1551         \n",
       "20 Lets go Brandon                     4672 1689         \n",
       "21 Lindsey Graham                     13106 2478         \n",
       "22 Mitch McConnell                    12858 2109         \n",
       "23 Moderna                             9613 1567         \n",
       "24 NRA                                11385 2848         \n",
       "25 Nancy Pelosi                        4954 1397         \n",
       "26 Newt Gingrich                      13582 1488         \n",
       "27 Omicron                            11095 2734         \n",
       "28 Peter Thiel                         9116 2287         \n",
       "29 Pfizer                              8397 1568         \n",
       "30 Planned Parenthood                  9127 2299         \n",
       "31 Ted Cruz                           11575 2122         \n",
       "32 Welfare State                       8005 1715         \n",
       "33 biden is the best president ever   10632 2995         \n",
       "34 biden is the worst president ever   7609 2211         \n",
       "35 trump was the best president ever  10535 2803         \n",
       "36 trump was the worst president ever  8041 2457         "
      ]
     },
     "metadata": {},
     "output_type": "display_data"
    }
   ],
   "source": [
    "df_search %>%\n",
    "  dplyr::group_by(keyword) %>%\n",
    "  dplyr::summarise(Count = n(), \"Unique Videos\" = n_distinct(video))"
   ]
  },
  {
   "cell_type": "markdown",
   "id": "f377b33b-9683-4cf4-b0d6-8a967dcd1857",
   "metadata": {},
   "source": [
    "## Videos by A-priori Bias"
   ]
  },
  {
   "cell_type": "code",
   "execution_count": 12,
   "id": "34e5d157-b22b-4e32-95fb-84d764465d5b",
   "metadata": {},
   "outputs": [
    {
     "data": {
      "text/html": [
       "<table class=\"dataframe\">\n",
       "<caption>A tibble: 6 × 3</caption>\n",
       "<thead>\n",
       "\t<tr><th scope=col>bias</th><th scope=col>count</th><th scope=col>UNIQUE_COUNT</th></tr>\n",
       "\t<tr><th scope=col>&lt;fct&gt;</th><th scope=col>&lt;int&gt;</th><th scope=col>&lt;int&gt;</th></tr>\n",
       "</thead>\n",
       "<tbody>\n",
       "\t<tr><td>R </td><td> 39414</td><td>  657</td></tr>\n",
       "\t<tr><td>CR</td><td> 17398</td><td> 1015</td></tr>\n",
       "\t<tr><td>C </td><td> 42539</td><td> 2661</td></tr>\n",
       "\t<tr><td>CL</td><td> 36399</td><td> 4501</td></tr>\n",
       "\t<tr><td>L </td><td> 16863</td><td>  934</td></tr>\n",
       "\t<tr><td>NA</td><td>202023</td><td>29558</td></tr>\n",
       "</tbody>\n",
       "</table>\n"
      ],
      "text/latex": [
       "A tibble: 6 × 3\n",
       "\\begin{tabular}{lll}\n",
       " bias & count & UNIQUE\\_COUNT\\\\\n",
       " <fct> & <int> & <int>\\\\\n",
       "\\hline\n",
       "\t R  &  39414 &   657\\\\\n",
       "\t CR &  17398 &  1015\\\\\n",
       "\t C  &  42539 &  2661\\\\\n",
       "\t CL &  36399 &  4501\\\\\n",
       "\t L  &  16863 &   934\\\\\n",
       "\t NA & 202023 & 29558\\\\\n",
       "\\end{tabular}\n"
      ],
      "text/markdown": [
       "\n",
       "A tibble: 6 × 3\n",
       "\n",
       "| bias &lt;fct&gt; | count &lt;int&gt; | UNIQUE_COUNT &lt;int&gt; |\n",
       "|---|---|---|\n",
       "| R  |  39414 |   657 |\n",
       "| CR |  17398 |  1015 |\n",
       "| C  |  42539 |  2661 |\n",
       "| CL |  36399 |  4501 |\n",
       "| L  |  16863 |   934 |\n",
       "| NA | 202023 | 29558 |\n",
       "\n"
      ],
      "text/plain": [
       "  bias count  UNIQUE_COUNT\n",
       "1 R     39414   657       \n",
       "2 CR    17398  1015       \n",
       "3 C     42539  2661       \n",
       "4 CL    36399  4501       \n",
       "5 L     16863   934       \n",
       "6 NA   202023 29558       "
      ]
     },
     "metadata": {},
     "output_type": "display_data"
    }
   ],
   "source": [
    "df_search %>%\n",
    "    #dplyr::filter(bias != \"\") %>%\n",
    "    dplyr::group_by(bias) %>%\n",
    "    dplyr::summarise(count = n(), UNIQUE_COUNT = n_distinct(video))"
   ]
  },
  {
   "cell_type": "code",
   "execution_count": 13,
   "id": "82805456-29bd-4b85-812e-c3a78d74748a",
   "metadata": {},
   "outputs": [],
   "source": [
    "videos_with_apriori_bias <- df_search %>%\n",
    "    dplyr::filter(bias != \"NA\") %>%\n",
    "    nrow()\n",
    "\n",
    "videos_without_apriori_bias <- df_search %>%\n",
    "    dplyr::filter(bias == \"NA\") %>%\n",
    "    nrow()\n",
    "\n",
    "videos_without_apriori_bias_pct <- videos_without_apriori_bias / rows_with_transcript"
   ]
  },
  {
   "cell_type": "code",
   "execution_count": 14,
   "id": "814c1af1-da18-4f2e-9ae8-36bb4670d255",
   "metadata": {},
   "outputs": [
    {
     "data": {
      "text/html": [
       "'Videos with a-priori bias: 152613'"
      ],
      "text/latex": [
       "'Videos with a-priori bias: 152613'"
      ],
      "text/markdown": [
       "'Videos with a-priori bias: 152613'"
      ],
      "text/plain": [
       "[1] \"Videos with a-priori bias: 152613\""
      ]
     },
     "metadata": {},
     "output_type": "display_data"
    },
    {
     "data": {
      "text/html": [
       "'Videos without a-priori bias: 202023'"
      ],
      "text/latex": [
       "'Videos without a-priori bias: 202023'"
      ],
      "text/markdown": [
       "'Videos without a-priori bias: 202023'"
      ],
      "text/plain": [
       "[1] \"Videos without a-priori bias: 202023\""
      ]
     },
     "metadata": {},
     "output_type": "display_data"
    },
    {
     "data": {
      "text/html": [
       "'Percentage of videos without a-priori bias: 56.97'"
      ],
      "text/latex": [
       "'Percentage of videos without a-priori bias: 56.97'"
      ],
      "text/markdown": [
       "'Percentage of videos without a-priori bias: 56.97'"
      ],
      "text/plain": [
       "[1] \"Percentage of videos without a-priori bias: 56.97\""
      ]
     },
     "metadata": {},
     "output_type": "display_data"
    }
   ],
   "source": [
    "paste(\"Videos with a-priori bias:\", videos_with_apriori_bias)\n",
    "paste(\"Videos without a-priori bias:\", videos_without_apriori_bias)\n",
    "paste(\"Percentage of videos without a-priori bias:\", 100 * round(videos_without_apriori_bias_pct, 4))"
   ]
  },
  {
   "cell_type": "code",
   "execution_count": 15,
   "id": "ace9870a-ae27-4c3d-ab83-435ab0b01596",
   "metadata": {},
   "outputs": [
    {
     "data": {
      "image/png": "[encoded data removed]",
      "text/plain": [
       "plot without title"
      ]
     },
     "metadata": {
      "image/png": {
       "height": 600,
       "width": 900
      }
     },
     "output_type": "display_data"
    }
   ],
   "source": [
    "options(repr.plot.width=15, repr.plot.height=10)\n",
    "    \n",
    "df_search %>%\n",
    "    #dplyr::filter(bias != \"\") %>%\n",
    "    dplyr::group_by(bias) %>%\n",
    "    dplyr::summarise(Count = n(), UNIQUE_COUNT = n_distinct(video)) %>%\n",
    "    ggplot(aes(x = bias, y = Count, fill = bias)) +\n",
    "        geom_bar(stat = \"identity\") +\n",
    "        theme(\n",
    "            legend.text = element_text(size = 20),\n",
    "            legend.key.size = unit(1.5, \"cm\"),\n",
    "            legend.key.width = unit(1.5, \"cm\"),\n",
    "            legend.title = element_blank(),\n",
    "            axis.text.x = element_text(size = 20),\n",
    "            axis.text.y = element_text(size = 20),\n",
    "            axis.title.x = element_text(size = 25),\n",
    "            axis.title.y = element_blank()\n",
    "        ) +\n",
    "        scale_fill_manual(values = c(\"NA\" = \"darkgrey\",\n",
    "            \"L\" = \"blue4\",\n",
    "            \"CL\" = \"royalblue\",\n",
    "            \"C\" = \"grey\",\n",
    "            \"CR\" = \"red\",\n",
    "            \"R\" = \"red3\")) +\n",
    "        coord_flip()"
   ]
  },
  {
   "cell_type": "code",
   "execution_count": 16,
   "id": "622270bd-a088-43cd-a41c-3ef69aa286cb",
   "metadata": {},
   "outputs": [],
   "source": [
    "df_with_bias <- df_search %>%\n",
    "    dplyr::filter(bias != \"NA\")"
   ]
  },
  {
   "cell_type": "code",
   "execution_count": 17,
   "id": "8aa2ee6e-304a-486c-8c5c-b9a4ed3ceacd",
   "metadata": {},
   "outputs": [],
   "source": [
    "df_with_bias <- df_search %>%\n",
    "    dplyr::filter(bias != \"NA\")\n",
    "\n",
    "unique_videos_with_apriori_bias <- nrow(distinct(df_with_bias, video))\n",
    "\n",
    "df_without_bias <- df_search %>%\n",
    "    dplyr::filter(bias == \"NA\")\n",
    "\n",
    "unique_videos_without_apriori_bias <- nrow(distinct(df_without_bias, video))\n",
    "\n",
    "unique_videos_without_apriori_bias_pct <- unique_videos_without_apriori_bias / (unique_videos_with_apriori_bias + unique_videos_without_apriori_bias)"
   ]
  },
  {
   "cell_type": "code",
   "execution_count": 18,
   "id": "c1b930f6-4d51-4233-addf-a33b95a76113",
   "metadata": {},
   "outputs": [
    {
     "data": {
      "text/html": [
       "'Unique Videos with a-priori bias: 9768'"
      ],
      "text/latex": [
       "'Unique Videos with a-priori bias: 9768'"
      ],
      "text/markdown": [
       "'Unique Videos with a-priori bias: 9768'"
      ],
      "text/plain": [
       "[1] \"Unique Videos with a-priori bias: 9768\""
      ]
     },
     "metadata": {},
     "output_type": "display_data"
    },
    {
     "data": {
      "text/html": [
       "'Unique Videos without a-priori bias: 29558'"
      ],
      "text/latex": [
       "'Unique Videos without a-priori bias: 29558'"
      ],
      "text/markdown": [
       "'Unique Videos without a-priori bias: 29558'"
      ],
      "text/plain": [
       "[1] \"Unique Videos without a-priori bias: 29558\""
      ]
     },
     "metadata": {},
     "output_type": "display_data"
    },
    {
     "data": {
      "text/html": [
       "'Percentage of unique videos without a-priori bias: 56.97'"
      ],
      "text/latex": [
       "'Percentage of unique videos without a-priori bias: 56.97'"
      ],
      "text/markdown": [
       "'Percentage of unique videos without a-priori bias: 56.97'"
      ],
      "text/plain": [
       "[1] \"Percentage of unique videos without a-priori bias: 56.97\""
      ]
     },
     "metadata": {},
     "output_type": "display_data"
    }
   ],
   "source": [
    "paste(\"Unique Videos with a-priori bias:\", unique_videos_with_apriori_bias)\n",
    "paste(\"Unique Videos without a-priori bias:\", unique_videos_without_apriori_bias)\n",
    "paste(\"Percentage of unique videos without a-priori bias:\", 100 * round(videos_without_apriori_bias_pct, 4))"
   ]
  },
  {
   "cell_type": "code",
   "execution_count": 19,
   "id": "001828a7-ebc9-4c3a-896e-2f69c9fd499e",
   "metadata": {},
   "outputs": [
    {
     "data": {
      "image/png": "[encoded data removed]",
      "text/plain": [
       "plot without title"
      ]
     },
     "metadata": {
      "image/png": {
       "height": 600,
       "width": 900
      }
     },
     "output_type": "display_data"
    }
   ],
   "source": [
    "df_search %>%\n",
    "    #dplyr::filter(bias != \"\") %>%\n",
    "    dplyr::group_by(bias) %>%\n",
    "    dplyr::summarise(Count = n(), Unique_Count = n_distinct(video)) %>%\n",
    "    ggplot(aes(x = bias, y = Unique_Count, fill = bias)) +\n",
    "        geom_bar(stat = \"identity\") +\n",
    "        theme(\n",
    "            legend.text = element_text(size = 20),\n",
    "            legend.key.size = unit(1.5, \"cm\"),\n",
    "            legend.key.width = unit(1.5, \"cm\"),\n",
    "            legend.title = element_blank(),\n",
    "            axis.text.x = element_text(size = 20),\n",
    "            axis.text.y = element_text(size = 20),\n",
    "            axis.title.x = element_text(size = 25),\n",
    "            axis.title.y = element_blank()\n",
    "        ) +\n",
    "        scale_fill_manual(values = c(\"NA\" = \"darkgrey\",\n",
    "            \"L\" = \"blue4\",\n",
    "            \"CL\" = \"royalblue\",\n",
    "            \"C\" = \"grey\",\n",
    "            \"CR\" = \"red\",\n",
    "            \"R\" = \"red3\")) +\n",
    "        coord_flip()"
   ]
  },
  {
   "cell_type": "markdown",
   "id": "187045f9-ec82-4555-9cf6-2d91b059c032",
   "metadata": {},
   "source": [
    "# Channels"
   ]
  },
  {
   "cell_type": "code",
   "execution_count": 38,
   "id": "8eb50940-6820-4237-a81a-e1e78507bafd",
   "metadata": {},
   "outputs": [
    {
     "data": {
      "text/html": [
       "<table class=\"dataframe\">\n",
       "<caption>A data.frame: 1 × 1</caption>\n",
       "<thead>\n",
       "\t<tr><th scope=col>UNIQUE_COUNT</th></tr>\n",
       "\t<tr><th scope=col>&lt;int&gt;</th></tr>\n",
       "</thead>\n",
       "<tbody>\n",
       "\t<tr><td>11745</td></tr>\n",
       "</tbody>\n",
       "</table>\n"
      ],
      "text/latex": [
       "A data.frame: 1 × 1\n",
       "\\begin{tabular}{l}\n",
       " UNIQUE\\_COUNT\\\\\n",
       " <int>\\\\\n",
       "\\hline\n",
       "\t 11745\\\\\n",
       "\\end{tabular}\n"
      ],
      "text/markdown": [
       "\n",
       "A data.frame: 1 × 1\n",
       "\n",
       "| UNIQUE_COUNT &lt;int&gt; |\n",
       "|---|\n",
       "| 11745 |\n",
       "\n"
      ],
      "text/plain": [
       "  UNIQUE_COUNT\n",
       "1 11745       "
      ]
     },
     "metadata": {},
     "output_type": "display_data"
    }
   ],
   "source": [
    "df_search %>%\n",
    "    dplyr::select(channel_id) %>%\n",
    "    dplyr::summarise(UNIQUE_COUNT = n_distinct(channel_id))"
   ]
  },
  {
   "cell_type": "code",
   "execution_count": 41,
   "id": "618922eb-a245-4c65-a45a-a864d4e944c5",
   "metadata": {},
   "outputs": [
    {
     "data": {
      "text/html": [
       "<table class=\"dataframe\">\n",
       "<caption>A data.frame: 1 × 3</caption>\n",
       "<thead>\n",
       "\t<tr><th scope=col>count</th><th scope=col>video_UNIQUE_COUNT</th><th scope=col>UNIQUE_COUNT</th></tr>\n",
       "\t<tr><th scope=col>&lt;int&gt;</th><th scope=col>&lt;int&gt;</th><th scope=col>&lt;int&gt;</th></tr>\n",
       "</thead>\n",
       "<tbody>\n",
       "\t<tr><td>152613</td><td>9768</td><td>145</td></tr>\n",
       "</tbody>\n",
       "</table>\n"
      ],
      "text/latex": [
       "A data.frame: 1 × 3\n",
       "\\begin{tabular}{lll}\n",
       " count & video\\_UNIQUE\\_COUNT & UNIQUE\\_COUNT\\\\\n",
       " <int> & <int> & <int>\\\\\n",
       "\\hline\n",
       "\t 152613 & 9768 & 145\\\\\n",
       "\\end{tabular}\n"
      ],
      "text/markdown": [
       "\n",
       "A data.frame: 1 × 3\n",
       "\n",
       "| count &lt;int&gt; | video_UNIQUE_COUNT &lt;int&gt; | UNIQUE_COUNT &lt;int&gt; |\n",
       "|---|---|---|\n",
       "| 152613 | 9768 | 145 |\n",
       "\n"
      ],
      "text/plain": [
       "  count  video_UNIQUE_COUNT UNIQUE_COUNT\n",
       "1 152613 9768               145         "
      ]
     },
     "metadata": {},
     "output_type": "display_data"
    }
   ],
   "source": [
    "df_search %>%\n",
    "    dplyr::filter(bias != \"NA\") %>%\n",
    "    dplyr::summarise(vcount = n(), channel_title, channel_id, video) %>%\n",
    "    dplyr::filter(vcount >= 400) %>%\n",
    "    dplyr::summarise(count = n(), video_UNIQUE_COUNT = n_distinct(video), UNIQUE_COUNT = n_distinct(channel_id)) %>%\n",
    "    dplyr::arrange(desc(count))"
   ]
  },
  {
   "cell_type": "code",
   "execution_count": 45,
   "id": "d1c973b7-1c29-488f-8504-9f4a153713d6",
   "metadata": {},
   "outputs": [
    {
     "data": {
      "text/html": [
       "<table class=\"dataframe\">\n",
       "<caption>A tibble: 5 × 4</caption>\n",
       "<thead>\n",
       "\t<tr><th scope=col>bias</th><th scope=col>count</th><th scope=col>UNIQUE_COUNT</th><th scope=col>channel_UNIQUE_COUNT</th></tr>\n",
       "\t<tr><th scope=col>&lt;fct&gt;</th><th scope=col>&lt;int&gt;</th><th scope=col>&lt;int&gt;</th><th scope=col>&lt;int&gt;</th></tr>\n",
       "</thead>\n",
       "<tbody>\n",
       "\t<tr><td>C </td><td>42539</td><td>2661</td><td> 20</td></tr>\n",
       "\t<tr><td>R </td><td>39414</td><td> 657</td><td>  2</td></tr>\n",
       "\t<tr><td>CL</td><td>36399</td><td>4501</td><td>105</td></tr>\n",
       "\t<tr><td>CR</td><td>17398</td><td>1015</td><td>  8</td></tr>\n",
       "\t<tr><td>L </td><td>16863</td><td> 934</td><td> 10</td></tr>\n",
       "</tbody>\n",
       "</table>\n"
      ],
      "text/latex": [
       "A tibble: 5 × 4\n",
       "\\begin{tabular}{llll}\n",
       " bias & count & UNIQUE\\_COUNT & channel\\_UNIQUE\\_COUNT\\\\\n",
       " <fct> & <int> & <int> & <int>\\\\\n",
       "\\hline\n",
       "\t C  & 42539 & 2661 &  20\\\\\n",
       "\t R  & 39414 &  657 &   2\\\\\n",
       "\t CL & 36399 & 4501 & 105\\\\\n",
       "\t CR & 17398 & 1015 &   8\\\\\n",
       "\t L  & 16863 &  934 &  10\\\\\n",
       "\\end{tabular}\n"
      ],
      "text/markdown": [
       "\n",
       "A tibble: 5 × 4\n",
       "\n",
       "| bias &lt;fct&gt; | count &lt;int&gt; | UNIQUE_COUNT &lt;int&gt; | channel_UNIQUE_COUNT &lt;int&gt; |\n",
       "|---|---|---|---|\n",
       "| C  | 42539 | 2661 |  20 |\n",
       "| R  | 39414 |  657 |   2 |\n",
       "| CL | 36399 | 4501 | 105 |\n",
       "| CR | 17398 | 1015 |   8 |\n",
       "| L  | 16863 |  934 |  10 |\n",
       "\n"
      ],
      "text/plain": [
       "  bias count UNIQUE_COUNT channel_UNIQUE_COUNT\n",
       "1 C    42539 2661          20                 \n",
       "2 R    39414  657           2                 \n",
       "3 CL   36399 4501         105                 \n",
       "4 CR   17398 1015           8                 \n",
       "5 L    16863  934          10                 "
      ]
     },
     "metadata": {},
     "output_type": "display_data"
    }
   ],
   "source": [
    "df_search %>%\n",
    "    dplyr::filter(bias != \"NA\") %>%\n",
    "    dplyr::group_by(bias) %>%\n",
    "    dplyr::summarise(count = n(), UNIQUE_COUNT = n_distinct(video), channel_UNIQUE_COUNT = n_distinct(channel_id)) %>%\n",
    "    dplyr::filter(count >= 400) %>%\n",
    "    dplyr::arrange(desc(count))"
   ]
  },
  {
   "cell_type": "code",
   "execution_count": 66,
   "id": "1e131007-cbda-427e-a42f-7a2e440084ad",
   "metadata": {},
   "outputs": [
    {
     "data": {
      "text/html": [
       "<table class=\"dataframe\">\n",
       "<caption>A data.frame: 1 × 2</caption>\n",
       "<thead>\n",
       "\t<tr><th scope=col>count</th><th scope=col>UNIQUE_COUNT</th></tr>\n",
       "\t<tr><th scope=col>&lt;int&gt;</th><th scope=col>&lt;int&gt;</th></tr>\n",
       "</thead>\n",
       "<tbody>\n",
       "\t<tr><td>202023</td><td>29558</td></tr>\n",
       "</tbody>\n",
       "</table>\n"
      ],
      "text/latex": [
       "A data.frame: 1 × 2\n",
       "\\begin{tabular}{ll}\n",
       " count & UNIQUE\\_COUNT\\\\\n",
       " <int> & <int>\\\\\n",
       "\\hline\n",
       "\t 202023 & 29558\\\\\n",
       "\\end{tabular}\n"
      ],
      "text/markdown": [
       "\n",
       "A data.frame: 1 × 2\n",
       "\n",
       "| count &lt;int&gt; | UNIQUE_COUNT &lt;int&gt; |\n",
       "|---|---|\n",
       "| 202023 | 29558 |\n",
       "\n"
      ],
      "text/plain": [
       "  count  UNIQUE_COUNT\n",
       "1 202023 29558       "
      ]
     },
     "metadata": {},
     "output_type": "display_data"
    }
   ],
   "source": [
    "df_search %>%\n",
    "    dplyr::filter(bias == \"NA\") %>%\n",
    "#    dplyr::group_by(new_bias) %>%\n",
    "    dplyr::summarise(count = n(), UNIQUE_COUNT = n_distinct(video))\n",
    "                     #%>%\n",
    "    #dplyr::filter(count >= 400) %>%\n",
    "    #dplyr::arrange(desc(count))"
   ]
  },
  {
   "cell_type": "code",
   "execution_count": 64,
   "id": "d4df61d4-9a06-4486-a085-832dd651aee8",
   "metadata": {},
   "outputs": [
    {
     "data": {
      "text/html": [
       "<table class=\"dataframe\">\n",
       "<caption>A tibble: 5 × 3</caption>\n",
       "<thead>\n",
       "\t<tr><th scope=col>new_bias</th><th scope=col>count</th><th scope=col>UNIQUE_COUNT</th></tr>\n",
       "\t<tr><th scope=col>&lt;chr&gt;</th><th scope=col>&lt;int&gt;</th><th scope=col>&lt;int&gt;</th></tr>\n",
       "</thead>\n",
       "<tbody>\n",
       "\t<tr><td>C </td><td> 64029</td><td> 7378</td></tr>\n",
       "\t<tr><td>CL</td><td>126539</td><td>20161</td></tr>\n",
       "\t<tr><td>CR</td><td>  8356</td><td> 1439</td></tr>\n",
       "\t<tr><td>L </td><td>  2300</td><td>  526</td></tr>\n",
       "\t<tr><td>R </td><td>   799</td><td>   54</td></tr>\n",
       "</tbody>\n",
       "</table>\n"
      ],
      "text/latex": [
       "A tibble: 5 × 3\n",
       "\\begin{tabular}{lll}\n",
       " new\\_bias & count & UNIQUE\\_COUNT\\\\\n",
       " <chr> & <int> & <int>\\\\\n",
       "\\hline\n",
       "\t C  &  64029 &  7378\\\\\n",
       "\t CL & 126539 & 20161\\\\\n",
       "\t CR &   8356 &  1439\\\\\n",
       "\t L  &   2300 &   526\\\\\n",
       "\t R  &    799 &    54\\\\\n",
       "\\end{tabular}\n"
      ],
      "text/markdown": [
       "\n",
       "A tibble: 5 × 3\n",
       "\n",
       "| new_bias &lt;chr&gt; | count &lt;int&gt; | UNIQUE_COUNT &lt;int&gt; |\n",
       "|---|---|---|\n",
       "| C  |  64029 |  7378 |\n",
       "| CL | 126539 | 20161 |\n",
       "| CR |   8356 |  1439 |\n",
       "| L  |   2300 |   526 |\n",
       "| R  |    799 |    54 |\n",
       "\n"
      ],
      "text/plain": [
       "  new_bias count  UNIQUE_COUNT\n",
       "1 C         64029  7378       \n",
       "2 CL       126539 20161       \n",
       "3 CR         8356  1439       \n",
       "4 L          2300   526       \n",
       "5 R           799    54       "
      ]
     },
     "metadata": {},
     "output_type": "display_data"
    }
   ],
   "source": [
    "df_search %>%\n",
    "    dplyr::filter(bias == \"NA\") %>%\n",
    "    dplyr::group_by(new_bias) %>%\n",
    "    dplyr::summarise(count = n(), UNIQUE_COUNT = n_distinct(video))"
   ]
  },
  {
   "cell_type": "code",
   "execution_count": 67,
   "id": "d750c569-4866-414e-bffa-2c87b8aa4d46",
   "metadata": {},
   "outputs": [
    {
     "data": {
      "text/html": [
       "<table class=\"dataframe\">\n",
       "<caption>A tibble: 5 × 3</caption>\n",
       "<thead>\n",
       "\t<tr><th scope=col>Bias</th><th scope=col>count</th><th scope=col>UNIQUE_COUNT</th></tr>\n",
       "\t<tr><th scope=col>&lt;fct&gt;</th><th scope=col>&lt;int&gt;</th><th scope=col>&lt;int&gt;</th></tr>\n",
       "</thead>\n",
       "<tbody>\n",
       "\t<tr><td>R </td><td> 40213</td><td>  711</td></tr>\n",
       "\t<tr><td>CR</td><td> 25754</td><td> 2454</td></tr>\n",
       "\t<tr><td>C </td><td>106568</td><td>10039</td></tr>\n",
       "\t<tr><td>CL</td><td>162938</td><td>24662</td></tr>\n",
       "\t<tr><td>L </td><td> 19163</td><td> 1460</td></tr>\n",
       "</tbody>\n",
       "</table>\n"
      ],
      "text/latex": [
       "A tibble: 5 × 3\n",
       "\\begin{tabular}{lll}\n",
       " Bias & count & UNIQUE\\_COUNT\\\\\n",
       " <fct> & <int> & <int>\\\\\n",
       "\\hline\n",
       "\t R  &  40213 &   711\\\\\n",
       "\t CR &  25754 &  2454\\\\\n",
       "\t C  & 106568 & 10039\\\\\n",
       "\t CL & 162938 & 24662\\\\\n",
       "\t L  &  19163 &  1460\\\\\n",
       "\\end{tabular}\n"
      ],
      "text/markdown": [
       "\n",
       "A tibble: 5 × 3\n",
       "\n",
       "| Bias &lt;fct&gt; | count &lt;int&gt; | UNIQUE_COUNT &lt;int&gt; |\n",
       "|---|---|---|\n",
       "| R  |  40213 |   711 |\n",
       "| CR |  25754 |  2454 |\n",
       "| C  | 106568 | 10039 |\n",
       "| CL | 162938 | 24662 |\n",
       "| L  |  19163 |  1460 |\n",
       "\n"
      ],
      "text/plain": [
       "  Bias count  UNIQUE_COUNT\n",
       "1 R     40213   711       \n",
       "2 CR    25754  2454       \n",
       "3 C    106568 10039       \n",
       "4 CL   162938 24662       \n",
       "5 L     19163  1460       "
      ]
     },
     "metadata": {},
     "output_type": "display_data"
    }
   ],
   "source": [
    "df_search %>%\n",
    "    #dplyr::filter(bias == \"NA\") %>%\n",
    "    dplyr::group_by(Bias) %>%\n",
    "    dplyr::summarise(count = n(), UNIQUE_COUNT = n_distinct(video))"
   ]
  },
  {
   "cell_type": "code",
   "execution_count": 47,
   "id": "0975c414-40ff-42de-9bf6-283288b44a29",
   "metadata": {},
   "outputs": [],
   "source": [
    "df_search$Bias[df_search$bias==\"L\"] <- \"L\"\n",
    "df_search$Bias[df_search$bias==\"CL\"] <- \"CL\"\n",
    "df_search$Bias[df_search$bias==\"C\"] <- \"C\"\n",
    "df_search$Bias[df_search$bias==\"CR\"] <- \"CR\"\n",
    "df_search$Bias[df_search$bias==\"R\"] <- \"R\"\n",
    "df_search$Bias[df_search$bias==\"NA\"] <- df_search$new_bias[df_search$bias==\"NA\"]"
   ]
  },
  {
   "cell_type": "code",
   "execution_count": 48,
   "id": "7050ff4e-1bda-4df7-950a-18b20ea74aa4",
   "metadata": {},
   "outputs": [],
   "source": [
    "#df_search <- subset(df_search, select = -c(Bias))"
   ]
  },
  {
   "cell_type": "code",
   "execution_count": 49,
   "id": "b56fae97-d821-4c18-97cd-32b1cdad261d",
   "metadata": {},
   "outputs": [],
   "source": [
    "df_search$Bias <- factor(df_search$Bias,levels = c(\"R\", \"CR\", \"C\", \"CL\", \"L\", \"NA\"))"
   ]
  },
  {
   "cell_type": "code",
   "execution_count": 50,
   "id": "60d7a606-3c90-464f-bfb8-e4116f3d2850",
   "metadata": {},
   "outputs": [
    {
     "data": {
      "text/html": [
       "<table class=\"dataframe\">\n",
       "<caption>A tibble: 5 × 3</caption>\n",
       "<thead>\n",
       "\t<tr><th scope=col>Bias</th><th scope=col>count</th><th scope=col>UNIQUE_COUNT</th></tr>\n",
       "\t<tr><th scope=col>&lt;fct&gt;</th><th scope=col>&lt;int&gt;</th><th scope=col>&lt;int&gt;</th></tr>\n",
       "</thead>\n",
       "<tbody>\n",
       "\t<tr><td>R </td><td> 40213</td><td>  711</td></tr>\n",
       "\t<tr><td>CR</td><td> 25754</td><td> 2454</td></tr>\n",
       "\t<tr><td>C </td><td>106568</td><td>10039</td></tr>\n",
       "\t<tr><td>CL</td><td>162938</td><td>24662</td></tr>\n",
       "\t<tr><td>L </td><td> 19163</td><td> 1460</td></tr>\n",
       "</tbody>\n",
       "</table>\n"
      ],
      "text/latex": [
       "A tibble: 5 × 3\n",
       "\\begin{tabular}{lll}\n",
       " Bias & count & UNIQUE\\_COUNT\\\\\n",
       " <fct> & <int> & <int>\\\\\n",
       "\\hline\n",
       "\t R  &  40213 &   711\\\\\n",
       "\t CR &  25754 &  2454\\\\\n",
       "\t C  & 106568 & 10039\\\\\n",
       "\t CL & 162938 & 24662\\\\\n",
       "\t L  &  19163 &  1460\\\\\n",
       "\\end{tabular}\n"
      ],
      "text/markdown": [
       "\n",
       "A tibble: 5 × 3\n",
       "\n",
       "| Bias &lt;fct&gt; | count &lt;int&gt; | UNIQUE_COUNT &lt;int&gt; |\n",
       "|---|---|---|\n",
       "| R  |  40213 |   711 |\n",
       "| CR |  25754 |  2454 |\n",
       "| C  | 106568 | 10039 |\n",
       "| CL | 162938 | 24662 |\n",
       "| L  |  19163 |  1460 |\n",
       "\n"
      ],
      "text/plain": [
       "  Bias count  UNIQUE_COUNT\n",
       "1 R     40213   711       \n",
       "2 CR    25754  2454       \n",
       "3 C    106568 10039       \n",
       "4 CL   162938 24662       \n",
       "5 L     19163  1460       "
      ]
     },
     "metadata": {},
     "output_type": "display_data"
    }
   ],
   "source": [
    "df_search %>%\n",
    "    #dplyr::filter(bias == \"NA\") %>%\n",
    "    dplyr::group_by(Bias) %>%\n",
    "    dplyr::summarise(count = n(), UNIQUE_COUNT = n_distinct(video))"
   ]
  },
  {
   "cell_type": "code",
   "execution_count": 52,
   "id": "ee933ee2-0ea9-4d1d-8dc6-bcfcf583b746",
   "metadata": {},
   "outputs": [
    {
     "data": {
      "image/png": "[encoded data removed]",
      "text/plain": [
       "plot without title"
      ]
     },
     "metadata": {
      "image/png": {
       "height": 600,
       "width": 900
      }
     },
     "output_type": "display_data"
    }
   ],
   "source": [
    "options(repr.plot.width=15, repr.plot.height=10)\n",
    "    \n",
    "df_search %>%\n",
    "    #dplyr::filter(bias != \"\") %>%\n",
    "    dplyr::group_by(Bias) %>%\n",
    "    dplyr::summarise(Count = n()) %>%\n",
    "    ggplot(aes(x = Bias, y = Count, fill = Bias)) +\n",
    "        geom_bar(stat = \"identity\") +\n",
    "        theme(\n",
    "            legend.text = element_text(size = 20),\n",
    "            legend.key.size = unit(1.5, \"cm\"),\n",
    "            legend.key.width = unit(1.5, \"cm\"),\n",
    "            legend.title = element_blank(),\n",
    "            axis.text.x = element_text(size = 20),\n",
    "            axis.text.y = element_text(size = 20),\n",
    "            axis.title.x = element_text(size = 25),\n",
    "            axis.title.y = element_blank()\n",
    "        ) +\n",
    "        scale_fill_manual(values = c(\"NA\" = \"darkgrey\",\n",
    "            \"L\" = \"blue4\",\n",
    "            \"CL\" = \"royalblue\",\n",
    "            \"C\" = \"grey\",\n",
    "            \"CR\" = \"red\",\n",
    "            \"R\" = \"red3\")) +\n",
    "        coord_flip()"
   ]
  },
  {
   "cell_type": "code",
   "execution_count": 53,
   "id": "26c947ed-7247-4fdf-b307-79173ea1b259",
   "metadata": {
    "tags": []
   },
   "outputs": [
    {
     "data": {
      "image/png": "[encoded data removed]",
      "text/plain": [
       "plot without title"
      ]
     },
     "metadata": {
      "image/png": {
       "height": 600,
       "width": 900
      }
     },
     "output_type": "display_data"
    }
   ],
   "source": [
    "df_search %>%\n",
    "    #dplyr::filter(bias != \"\") %>%\n",
    "    dplyr::group_by(Bias) %>%\n",
    "    dplyr::summarise(Count = n(), Unique_Count = n_distinct(video)) %>%\n",
    "    ggplot(aes(x = Bias, y = Unique_Count, fill = Bias)) +\n",
    "        geom_bar(stat = \"identity\") +\n",
    "        theme(\n",
    "            legend.text = element_text(size = 20),\n",
    "            legend.key.size = unit(1.5, \"cm\"),\n",
    "            legend.key.width = unit(1.5, \"cm\"),\n",
    "            legend.title = element_blank(),\n",
    "            axis.text.x = element_text(size = 20),\n",
    "            axis.text.y = element_text(size = 20),\n",
    "            axis.title.x = element_text(size = 25),\n",
    "            axis.title.y = element_blank()\n",
    "        ) +\n",
    "        scale_fill_manual(values = c(\"NA\" = \"darkgrey\",\n",
    "            \"L\" = \"blue4\",\n",
    "            \"CL\" = \"royalblue\",\n",
    "            \"C\" = \"grey\",\n",
    "            \"CR\" = \"red\",\n",
    "            \"R\" = \"red3\")) +\n",
    "        coord_flip()"
   ]
  },
  {
   "cell_type": "code",
   "execution_count": 146,
   "id": "5002b38d-d321-4af7-8f48-7db11d1e897c",
   "metadata": {},
   "outputs": [],
   "source": [
    "df_channels <- read.csv(\"model/unique_channels.csv\")"
   ]
  },
  {
   "cell_type": "code",
   "execution_count": 147,
   "id": "3435b8c4-9ae5-4634-a6f9-b2b48464707b",
   "metadata": {},
   "outputs": [],
   "source": [
    "joined_channels <- left_join(df_channels, df_search, \n",
    "              by = c(\"channel_id\" = \"channel_id\"))"
   ]
  },
  {
   "cell_type": "code",
   "execution_count": 148,
   "id": "070a84c5-32d8-4870-9b3f-be508316d2a5",
   "metadata": {},
   "outputs": [
    {
     "data": {
      "text/html": [
       "<table class=\"dataframe\">\n",
       "<caption>A data.frame: 1 × 1</caption>\n",
       "<thead>\n",
       "\t<tr><th scope=col>count</th></tr>\n",
       "\t<tr><th scope=col>&lt;int&gt;</th></tr>\n",
       "</thead>\n",
       "<tbody>\n",
       "\t<tr><td>152625</td></tr>\n",
       "</tbody>\n",
       "</table>\n"
      ],
      "text/latex": [
       "A data.frame: 1 × 1\n",
       "\\begin{tabular}{l}\n",
       " count\\\\\n",
       " <int>\\\\\n",
       "\\hline\n",
       "\t 152625\\\\\n",
       "\\end{tabular}\n"
      ],
      "text/markdown": [
       "\n",
       "A data.frame: 1 × 1\n",
       "\n",
       "| count &lt;int&gt; |\n",
       "|---|\n",
       "| 152625 |\n",
       "\n"
      ],
      "text/plain": [
       "  count \n",
       "1 152625"
      ]
     },
     "metadata": {},
     "output_type": "display_data"
    }
   ],
   "source": [
    "joined_channels %>%\n",
    "    #dplyr::filter(bias == \"NA\") %>%\n",
    "    #dplyr::group_by(current_depth, Bias) %>%\n",
    "    dplyr::summarise(count = n())"
   ]
  },
  {
   "cell_type": "code",
   "execution_count": 149,
   "id": "3317b8fd-1de0-4f0e-8556-208fd1d78ac5",
   "metadata": {},
   "outputs": [
    {
     "data": {
      "text/html": [
       "157"
      ],
      "text/latex": [
       "157"
      ],
      "text/markdown": [
       "157"
      ],
      "text/plain": [
       "[1] 157"
      ]
     },
     "metadata": {},
     "output_type": "display_data"
    }
   ],
   "source": [
    "nrow(df_channels)"
   ]
  },
  {
   "cell_type": "code",
   "execution_count": null,
   "id": "cca0aabd-68dd-4567-8e40-e1401a5dfa16",
   "metadata": {},
   "outputs": [],
   "source": [
    "joined_channels %>%\n",
    "    #dplyr::filter(bias == \"NA\") %>%\n",
    "    #dplyr::group_by(current_depth, Bias) %>%\n",
    "    dplyr::summarise(count = n())"
   ]
  },
  {
   "cell_type": "code",
   "execution_count": null,
   "id": "e8b84706-08c3-49fb-ba6b-163dba719043",
   "metadata": {},
   "outputs": [],
   "source": []
  },
  {
   "cell_type": "code",
   "execution_count": 150,
   "id": "aca7c285-8eb6-46b2-9d84-2be90cd8ffe2",
   "metadata": {},
   "outputs": [
    {
     "data": {
      "text/html": [
       "<table class=\"dataframe\">\n",
       "<caption>A data.frame: 1 × 1</caption>\n",
       "<thead>\n",
       "\t<tr><th scope=col>UNIQUE_COUNT</th></tr>\n",
       "\t<tr><th scope=col>&lt;int&gt;</th></tr>\n",
       "</thead>\n",
       "<tbody>\n",
       "\t<tr><td>11745</td></tr>\n",
       "</tbody>\n",
       "</table>\n"
      ],
      "text/latex": [
       "A data.frame: 1 × 1\n",
       "\\begin{tabular}{l}\n",
       " UNIQUE\\_COUNT\\\\\n",
       " <int>\\\\\n",
       "\\hline\n",
       "\t 11745\\\\\n",
       "\\end{tabular}\n"
      ],
      "text/markdown": [
       "\n",
       "A data.frame: 1 × 1\n",
       "\n",
       "| UNIQUE_COUNT &lt;int&gt; |\n",
       "|---|\n",
       "| 11745 |\n",
       "\n"
      ],
      "text/plain": [
       "  UNIQUE_COUNT\n",
       "1 11745       "
      ]
     },
     "metadata": {},
     "output_type": "display_data"
    }
   ],
   "source": [
    "df_search %>%\n",
    "    dplyr::summarise(UNIQUE_COUNT = n_distinct(channel_id))"
   ]
  },
  {
   "cell_type": "code",
   "execution_count": 22,
   "id": "f326234f-ea3f-4fdc-b9d8-77a7859f816d",
   "metadata": {},
   "outputs": [],
   "source": [
    "df_search$lsd_sentiment <- 'neutral'\n",
    "df_search$lsd_sentiment[df_search$lsd_ratio > 0.4] <- 'positive'\n",
    "df_search$lsd_sentiment[df_search$lsd_ratio < 0.4] <- 'negative'\n",
    "\n",
    "df_search$afinn_sentiment <- 'neutral'\n",
    "df_search$afinn_sentiment[df_search$afinn_ratio > 0.4] <- 'positive'\n",
    "df_search$afinn_sentiment[df_search$afinn_ratio < 0.4] <- 'negative'\n",
    "\n",
    "df_search$geninqposneg_sentiment <- 'neutral'\n",
    "df_search$geninqposneg_sentiment[df_search$geninqposneg_ratio > 0.4] <- 'positive'\n",
    "df_search$geninqposneg_sentiment[df_search$geninqposneg_ratio < 0.4] <- 'negative'\n",
    "\n",
    "df_search$huliu_sentiment <- 'neutral'\n",
    "df_search$huliu_sentiment[df_search$huliu_ratio > 0.4] <- 'positive'\n",
    "df_search$huliu_sentiment[df_search$huliu_ratio < 0.4] <- 'negative'"
   ]
  },
  {
   "cell_type": "code",
   "execution_count": 23,
   "id": "2340829a-7b8d-40e3-bd04-c0f066420710",
   "metadata": {},
   "outputs": [],
   "source": [
    "df_search <- subset(df_search, select = c(keyword, video, parent_video, current_depth, trace, parent_trace, bias, new_bias, channel_title, channel_id, length, lm, lgpp, nrc_el, lsd_sentiment, afinn_sentiment, geninqposneg_sentiment, huliu_sentiment))"
   ]
  },
  {
   "cell_type": "code",
   "execution_count": 24,
   "id": "0098d6f7-cacd-483f-ba44-25f606116ec7",
   "metadata": {},
   "outputs": [
    {
     "data": {
      "text/html": [
       "<table class=\"dataframe\">\n",
       "<caption>A tibble: 36 × 3</caption>\n",
       "<thead>\n",
       "\t<tr><th scope=col>keyword</th><th scope=col>count</th><th scope=col>UNIQUE_COUNT</th></tr>\n",
       "\t<tr><th scope=col>&lt;chr&gt;</th><th scope=col>&lt;int&gt;</th><th scope=col>&lt;int&gt;</th></tr>\n",
       "</thead>\n",
       "<tbody>\n",
       "\t<tr><td>AOC                               </td><td>11587</td><td>1604</td></tr>\n",
       "\t<tr><td>Anthony Fauci                     </td><td>12187</td><td>3186</td></tr>\n",
       "\t<tr><td>Anthony Huber                     </td><td>11114</td><td>2437</td></tr>\n",
       "\t<tr><td>Barak Obama                       </td><td> 9795</td><td>2921</td></tr>\n",
       "\t<tr><td>Climate Change                    </td><td>11851</td><td>2806</td></tr>\n",
       "\t<tr><td>Cultural Appropriation            </td><td> 9054</td><td>3369</td></tr>\n",
       "\t<tr><td>Donald Trump                      </td><td>12880</td><td>3277</td></tr>\n",
       "\t<tr><td>Feminism                          </td><td>10041</td><td>2164</td></tr>\n",
       "\t<tr><td>Free Speech                       </td><td>12954</td><td>3376</td></tr>\n",
       "\t<tr><td>Gavin Newson                      </td><td> 9216</td><td>2454</td></tr>\n",
       "\t<tr><td>Gun Control                       </td><td> 9296</td><td>1910</td></tr>\n",
       "\t<tr><td>Hillary Clinton                   </td><td>13155</td><td>2726</td></tr>\n",
       "\t<tr><td>Ilhan Omar                        </td><td>12368</td><td>2900</td></tr>\n",
       "\t<tr><td>Immigration                       </td><td>12596</td><td>2925</td></tr>\n",
       "\t<tr><td>Infrastructure Bill               </td><td>10819</td><td>2508</td></tr>\n",
       "\t<tr><td>Joe Biden                         </td><td>14625</td><td>2487</td></tr>\n",
       "\t<tr><td>Joe Manchin                       </td><td>12005</td><td>2419</td></tr>\n",
       "\t<tr><td>Joseph Rosenbaum                  </td><td>11636</td><td>2008</td></tr>\n",
       "\t<tr><td>Kyle Rittenhouse                  </td><td> 7883</td><td>1827</td></tr>\n",
       "\t<tr><td>Lets go Brandon                   </td><td> 5255</td><td>1890</td></tr>\n",
       "\t<tr><td>Lindsey Graham                    </td><td>14901</td><td>2830</td></tr>\n",
       "\t<tr><td>Mitch McConnell                   </td><td>14010</td><td>2333</td></tr>\n",
       "\t<tr><td>Moderna                           </td><td>10096</td><td>1706</td></tr>\n",
       "\t<tr><td>NRA                               </td><td>11821</td><td>3062</td></tr>\n",
       "\t<tr><td>Nancy Pelosi                      </td><td> 5441</td><td>1590</td></tr>\n",
       "\t<tr><td>Newt Gingrich                     </td><td>14742</td><td>1709</td></tr>\n",
       "\t<tr><td>Omicron                           </td><td>12218</td><td>3107</td></tr>\n",
       "\t<tr><td>Peter Thiel                       </td><td>12033</td><td>2879</td></tr>\n",
       "\t<tr><td>Pfizer                            </td><td>10181</td><td>1972</td></tr>\n",
       "\t<tr><td>Planned Parenthood                </td><td> 9998</td><td>2574</td></tr>\n",
       "\t<tr><td>Ted Cruz                          </td><td>12828</td><td>2463</td></tr>\n",
       "\t<tr><td>Welfare State                     </td><td> 8914</td><td>1993</td></tr>\n",
       "\t<tr><td>biden is the best president ever  </td><td>11643</td><td>3281</td></tr>\n",
       "\t<tr><td>biden is the worst president ever </td><td> 8500</td><td>2496</td></tr>\n",
       "\t<tr><td>trump was the best president ever </td><td>12329</td><td>3180</td></tr>\n",
       "\t<tr><td>trump was the worst president ever</td><td> 9645</td><td>2832</td></tr>\n",
       "</tbody>\n",
       "</table>\n"
      ],
      "text/latex": [
       "A tibble: 36 × 3\n",
       "\\begin{tabular}{lll}\n",
       " keyword & count & UNIQUE\\_COUNT\\\\\n",
       " <chr> & <int> & <int>\\\\\n",
       "\\hline\n",
       "\t AOC                                & 11587 & 1604\\\\\n",
       "\t Anthony Fauci                      & 12187 & 3186\\\\\n",
       "\t Anthony Huber                      & 11114 & 2437\\\\\n",
       "\t Barak Obama                        &  9795 & 2921\\\\\n",
       "\t Climate Change                     & 11851 & 2806\\\\\n",
       "\t Cultural Appropriation             &  9054 & 3369\\\\\n",
       "\t Donald Trump                       & 12880 & 3277\\\\\n",
       "\t Feminism                           & 10041 & 2164\\\\\n",
       "\t Free Speech                        & 12954 & 3376\\\\\n",
       "\t Gavin Newson                       &  9216 & 2454\\\\\n",
       "\t Gun Control                        &  9296 & 1910\\\\\n",
       "\t Hillary Clinton                    & 13155 & 2726\\\\\n",
       "\t Ilhan Omar                         & 12368 & 2900\\\\\n",
       "\t Immigration                        & 12596 & 2925\\\\\n",
       "\t Infrastructure Bill                & 10819 & 2508\\\\\n",
       "\t Joe Biden                          & 14625 & 2487\\\\\n",
       "\t Joe Manchin                        & 12005 & 2419\\\\\n",
       "\t Joseph Rosenbaum                   & 11636 & 2008\\\\\n",
       "\t Kyle Rittenhouse                   &  7883 & 1827\\\\\n",
       "\t Lets go Brandon                    &  5255 & 1890\\\\\n",
       "\t Lindsey Graham                     & 14901 & 2830\\\\\n",
       "\t Mitch McConnell                    & 14010 & 2333\\\\\n",
       "\t Moderna                            & 10096 & 1706\\\\\n",
       "\t NRA                                & 11821 & 3062\\\\\n",
       "\t Nancy Pelosi                       &  5441 & 1590\\\\\n",
       "\t Newt Gingrich                      & 14742 & 1709\\\\\n",
       "\t Omicron                            & 12218 & 3107\\\\\n",
       "\t Peter Thiel                        & 12033 & 2879\\\\\n",
       "\t Pfizer                             & 10181 & 1972\\\\\n",
       "\t Planned Parenthood                 &  9998 & 2574\\\\\n",
       "\t Ted Cruz                           & 12828 & 2463\\\\\n",
       "\t Welfare State                      &  8914 & 1993\\\\\n",
       "\t biden is the best president ever   & 11643 & 3281\\\\\n",
       "\t biden is the worst president ever  &  8500 & 2496\\\\\n",
       "\t trump was the best president ever  & 12329 & 3180\\\\\n",
       "\t trump was the worst president ever &  9645 & 2832\\\\\n",
       "\\end{tabular}\n"
      ],
      "text/markdown": [
       "\n",
       "A tibble: 36 × 3\n",
       "\n",
       "| keyword &lt;chr&gt; | count &lt;int&gt; | UNIQUE_COUNT &lt;int&gt; |\n",
       "|---|---|---|\n",
       "| AOC                                | 11587 | 1604 |\n",
       "| Anthony Fauci                      | 12187 | 3186 |\n",
       "| Anthony Huber                      | 11114 | 2437 |\n",
       "| Barak Obama                        |  9795 | 2921 |\n",
       "| Climate Change                     | 11851 | 2806 |\n",
       "| Cultural Appropriation             |  9054 | 3369 |\n",
       "| Donald Trump                       | 12880 | 3277 |\n",
       "| Feminism                           | 10041 | 2164 |\n",
       "| Free Speech                        | 12954 | 3376 |\n",
       "| Gavin Newson                       |  9216 | 2454 |\n",
       "| Gun Control                        |  9296 | 1910 |\n",
       "| Hillary Clinton                    | 13155 | 2726 |\n",
       "| Ilhan Omar                         | 12368 | 2900 |\n",
       "| Immigration                        | 12596 | 2925 |\n",
       "| Infrastructure Bill                | 10819 | 2508 |\n",
       "| Joe Biden                          | 14625 | 2487 |\n",
       "| Joe Manchin                        | 12005 | 2419 |\n",
       "| Joseph Rosenbaum                   | 11636 | 2008 |\n",
       "| Kyle Rittenhouse                   |  7883 | 1827 |\n",
       "| Lets go Brandon                    |  5255 | 1890 |\n",
       "| Lindsey Graham                     | 14901 | 2830 |\n",
       "| Mitch McConnell                    | 14010 | 2333 |\n",
       "| Moderna                            | 10096 | 1706 |\n",
       "| NRA                                | 11821 | 3062 |\n",
       "| Nancy Pelosi                       |  5441 | 1590 |\n",
       "| Newt Gingrich                      | 14742 | 1709 |\n",
       "| Omicron                            | 12218 | 3107 |\n",
       "| Peter Thiel                        | 12033 | 2879 |\n",
       "| Pfizer                             | 10181 | 1972 |\n",
       "| Planned Parenthood                 |  9998 | 2574 |\n",
       "| Ted Cruz                           | 12828 | 2463 |\n",
       "| Welfare State                      |  8914 | 1993 |\n",
       "| biden is the best president ever   | 11643 | 3281 |\n",
       "| biden is the worst president ever  |  8500 | 2496 |\n",
       "| trump was the best president ever  | 12329 | 3180 |\n",
       "| trump was the worst president ever |  9645 | 2832 |\n",
       "\n"
      ],
      "text/plain": [
       "   keyword                            count UNIQUE_COUNT\n",
       "1  AOC                                11587 1604        \n",
       "2  Anthony Fauci                      12187 3186        \n",
       "3  Anthony Huber                      11114 2437        \n",
       "4  Barak Obama                         9795 2921        \n",
       "5  Climate Change                     11851 2806        \n",
       "6  Cultural Appropriation              9054 3369        \n",
       "7  Donald Trump                       12880 3277        \n",
       "8  Feminism                           10041 2164        \n",
       "9  Free Speech                        12954 3376        \n",
       "10 Gavin Newson                        9216 2454        \n",
       "11 Gun Control                         9296 1910        \n",
       "12 Hillary Clinton                    13155 2726        \n",
       "13 Ilhan Omar                         12368 2900        \n",
       "14 Immigration                        12596 2925        \n",
       "15 Infrastructure Bill                10819 2508        \n",
       "16 Joe Biden                          14625 2487        \n",
       "17 Joe Manchin                        12005 2419        \n",
       "18 Joseph Rosenbaum                   11636 2008        \n",
       "19 Kyle Rittenhouse                    7883 1827        \n",
       "20 Lets go Brandon                     5255 1890        \n",
       "21 Lindsey Graham                     14901 2830        \n",
       "22 Mitch McConnell                    14010 2333        \n",
       "23 Moderna                            10096 1706        \n",
       "24 NRA                                11821 3062        \n",
       "25 Nancy Pelosi                        5441 1590        \n",
       "26 Newt Gingrich                      14742 1709        \n",
       "27 Omicron                            12218 3107        \n",
       "28 Peter Thiel                        12033 2879        \n",
       "29 Pfizer                             10181 1972        \n",
       "30 Planned Parenthood                  9998 2574        \n",
       "31 Ted Cruz                           12828 2463        \n",
       "32 Welfare State                       8914 1993        \n",
       "33 biden is the best president ever   11643 3281        \n",
       "34 biden is the worst president ever   8500 2496        \n",
       "35 trump was the best president ever  12329 3180        \n",
       "36 trump was the worst president ever  9645 2832        "
      ]
     },
     "metadata": {},
     "output_type": "display_data"
    }
   ],
   "source": [
    "df_search %>%\n",
    "  dplyr::group_by(keyword) %>%\n",
    "  dplyr::summarise(count = n(), UNIQUE_COUNT = n_distinct(video))"
   ]
  },
  {
   "cell_type": "code",
   "execution_count": 134,
   "id": "f626adb2-c1db-46a9-8837-55d8de102906",
   "metadata": {},
   "outputs": [],
   "source": [
    "df_search$apriori_bias <- df_search$bias"
   ]
  },
  {
   "cell_type": "code",
   "execution_count": 135,
   "id": "95077ef2-786f-40f5-bac4-0444c852cdbf",
   "metadata": {},
   "outputs": [
    {
     "data": {
      "text/html": [
       "<table class=\"dataframe\">\n",
       "<caption>A tibble: 6 × 3</caption>\n",
       "<thead>\n",
       "\t<tr><th scope=col>apriori_bias</th><th scope=col>count</th><th scope=col>UNIQUE_COUNT</th></tr>\n",
       "\t<tr><th scope=col>&lt;chr&gt;</th><th scope=col>&lt;int&gt;</th><th scope=col>&lt;int&gt;</th></tr>\n",
       "</thead>\n",
       "<tbody>\n",
       "\t<tr><td>  </td><td>236227</td><td>33588</td></tr>\n",
       "\t<tr><td>C </td><td> 43418</td><td> 2713</td></tr>\n",
       "\t<tr><td>L </td><td> 16865</td><td>  936</td></tr>\n",
       "\t<tr><td>LC</td><td> 42982</td><td> 4677</td></tr>\n",
       "\t<tr><td>R </td><td> 39607</td><td>  669</td></tr>\n",
       "\t<tr><td>RC</td><td> 20518</td><td> 1098</td></tr>\n",
       "</tbody>\n",
       "</table>\n"
      ],
      "text/latex": [
       "A tibble: 6 × 3\n",
       "\\begin{tabular}{lll}\n",
       " apriori\\_bias & count & UNIQUE\\_COUNT\\\\\n",
       " <chr> & <int> & <int>\\\\\n",
       "\\hline\n",
       "\t    & 236227 & 33588\\\\\n",
       "\t C  &  43418 &  2713\\\\\n",
       "\t L  &  16865 &   936\\\\\n",
       "\t LC &  42982 &  4677\\\\\n",
       "\t R  &  39607 &   669\\\\\n",
       "\t RC &  20518 &  1098\\\\\n",
       "\\end{tabular}\n"
      ],
      "text/markdown": [
       "\n",
       "A tibble: 6 × 3\n",
       "\n",
       "| apriori_bias &lt;chr&gt; | count &lt;int&gt; | UNIQUE_COUNT &lt;int&gt; |\n",
       "|---|---|---|\n",
       "| <!----> | 236227 | 33588 |\n",
       "| C  |  43418 |  2713 |\n",
       "| L  |  16865 |   936 |\n",
       "| LC |  42982 |  4677 |\n",
       "| R  |  39607 |   669 |\n",
       "| RC |  20518 |  1098 |\n",
       "\n"
      ],
      "text/plain": [
       "  apriori_bias count  UNIQUE_COUNT\n",
       "1              236227 33588       \n",
       "2 C             43418  2713       \n",
       "3 L             16865   936       \n",
       "4 LC            42982  4677       \n",
       "5 R             39607   669       \n",
       "6 RC            20518  1098       "
      ]
     },
     "metadata": {},
     "output_type": "display_data"
    }
   ],
   "source": [
    "df_search %>%\n",
    "  dplyr::group_by(apriori_bias) %>%\n",
    "  dplyr::summarise(count = n(), UNIQUE_COUNT = n_distinct(video))"
   ]
  },
  {
   "cell_type": "code",
   "execution_count": 136,
   "id": "25041731-aec6-45fd-9b3d-527269a059f7",
   "metadata": {},
   "outputs": [
    {
     "data": {
      "text/html": [
       "<table class=\"dataframe\">\n",
       "<caption>A tibble: 1 × 3</caption>\n",
       "<thead>\n",
       "\t<tr><th scope=col>new_bias</th><th scope=col>count</th><th scope=col>UNIQUE_COUNT</th></tr>\n",
       "\t<tr><th scope=col>&lt;chr&gt;</th><th scope=col>&lt;int&gt;</th><th scope=col>&lt;int&gt;</th></tr>\n",
       "</thead>\n",
       "<tbody>\n",
       "\t<tr><td>CL</td><td>236227</td><td>33588</td></tr>\n",
       "</tbody>\n",
       "</table>\n"
      ],
      "text/latex": [
       "A tibble: 1 × 3\n",
       "\\begin{tabular}{lll}\n",
       " new\\_bias & count & UNIQUE\\_COUNT\\\\\n",
       " <chr> & <int> & <int>\\\\\n",
       "\\hline\n",
       "\t CL & 236227 & 33588\\\\\n",
       "\\end{tabular}\n"
      ],
      "text/markdown": [
       "\n",
       "A tibble: 1 × 3\n",
       "\n",
       "| new_bias &lt;chr&gt; | count &lt;int&gt; | UNIQUE_COUNT &lt;int&gt; |\n",
       "|---|---|---|\n",
       "| CL | 236227 | 33588 |\n",
       "\n"
      ],
      "text/plain": [
       "  new_bias count  UNIQUE_COUNT\n",
       "1 CL       236227 33588       "
      ]
     },
     "metadata": {},
     "output_type": "display_data"
    }
   ],
   "source": [
    "df_search %>%\n",
    "    dplyr::filter(apriori_bias == \"\") %>%\n",
    "    dplyr::group_by(new_bias) %>%\n",
    "    dplyr::summarise(count = n(), UNIQUE_COUNT = n_distinct(video))"
   ]
  },
  {
   "cell_type": "code",
   "execution_count": 141,
   "id": "b601453c-4a58-4035-a30f-101cc80716a6",
   "metadata": {},
   "outputs": [
    {
     "name": "stderr",
     "output_type": "stream",
     "text": [
      "`summarise()` has grouped output by 'keyword'. You can override using the `.groups` argument.\n",
      "\n"
     ]
    },
    {
     "data": {
      "text/html": [
       "<table class=\"dataframe\">\n",
       "<caption>A grouped_df: 216 × 4</caption>\n",
       "<thead>\n",
       "\t<tr><th scope=col>keyword</th><th scope=col>apriori_bias</th><th scope=col>count</th><th scope=col>UNIQUE_COUNT</th></tr>\n",
       "\t<tr><th scope=col>&lt;chr&gt;</th><th scope=col>&lt;chr&gt;</th><th scope=col>&lt;int&gt;</th><th scope=col>&lt;int&gt;</th></tr>\n",
       "</thead>\n",
       "<tbody>\n",
       "\t<tr><td>AOC           </td><td>  </td><td>5752</td><td>1233</td></tr>\n",
       "\t<tr><td>AOC           </td><td>C </td><td> 162</td><td>  51</td></tr>\n",
       "\t<tr><td>AOC           </td><td>L </td><td>  34</td><td>  11</td></tr>\n",
       "\t<tr><td>AOC           </td><td>LC</td><td> 286</td><td> 102</td></tr>\n",
       "\t<tr><td>AOC           </td><td>R </td><td>4575</td><td> 115</td></tr>\n",
       "\t<tr><td>AOC           </td><td>RC</td><td> 778</td><td>  92</td></tr>\n",
       "\t<tr><td>Anthony Fauci </td><td>  </td><td>9378</td><td>2517</td></tr>\n",
       "\t<tr><td>Anthony Fauci </td><td>C </td><td>1249</td><td> 270</td></tr>\n",
       "\t<tr><td>Anthony Fauci </td><td>L </td><td> 569</td><td>  67</td></tr>\n",
       "\t<tr><td>Anthony Fauci </td><td>LC</td><td> 680</td><td> 249</td></tr>\n",
       "\t<tr><td>Anthony Fauci </td><td>R </td><td> 156</td><td>  41</td></tr>\n",
       "\t<tr><td>Anthony Fauci </td><td>RC</td><td> 155</td><td>  42</td></tr>\n",
       "\t<tr><td>Anthony Huber </td><td>  </td><td>4022</td><td>1659</td></tr>\n",
       "\t<tr><td>Anthony Huber </td><td>C </td><td> 219</td><td>  69</td></tr>\n",
       "\t<tr><td>Anthony Huber </td><td>L </td><td> 389</td><td>  64</td></tr>\n",
       "\t<tr><td>Anthony Huber </td><td>LC</td><td>2634</td><td> 436</td></tr>\n",
       "\t<tr><td>Anthony Huber </td><td>R </td><td>2277</td><td> 104</td></tr>\n",
       "\t<tr><td>Anthony Huber </td><td>RC</td><td>1573</td><td> 105</td></tr>\n",
       "\t<tr><td>Barak Obama   </td><td>  </td><td>7499</td><td>2207</td></tr>\n",
       "\t<tr><td>Barak Obama   </td><td>C </td><td> 793</td><td> 196</td></tr>\n",
       "\t<tr><td>Barak Obama   </td><td>L </td><td> 197</td><td>  85</td></tr>\n",
       "\t<tr><td>Barak Obama   </td><td>LC</td><td>1273</td><td> 410</td></tr>\n",
       "\t<tr><td>Barak Obama   </td><td>R </td><td>  14</td><td>   9</td></tr>\n",
       "\t<tr><td>Barak Obama   </td><td>RC</td><td>  19</td><td>  14</td></tr>\n",
       "\t<tr><td>Climate Change</td><td>  </td><td>6687</td><td>2163</td></tr>\n",
       "\t<tr><td>Climate Change</td><td>C </td><td>2877</td><td> 243</td></tr>\n",
       "\t<tr><td>Climate Change</td><td>L </td><td> 258</td><td>  64</td></tr>\n",
       "\t<tr><td>Climate Change</td><td>LC</td><td> 612</td><td> 253</td></tr>\n",
       "\t<tr><td>Climate Change</td><td>R </td><td>1157</td><td>  51</td></tr>\n",
       "\t<tr><td>Climate Change</td><td>RC</td><td> 260</td><td>  32</td></tr>\n",
       "\t<tr><td>⋮</td><td>⋮</td><td>⋮</td><td>⋮</td></tr>\n",
       "\t<tr><td>Welfare State                     </td><td>  </td><td>7280</td><td>1637</td></tr>\n",
       "\t<tr><td>Welfare State                     </td><td>C </td><td> 909</td><td> 177</td></tr>\n",
       "\t<tr><td>Welfare State                     </td><td>L </td><td>  30</td><td>  14</td></tr>\n",
       "\t<tr><td>Welfare State                     </td><td>LC</td><td> 127</td><td>  84</td></tr>\n",
       "\t<tr><td>Welfare State                     </td><td>R </td><td>  59</td><td>  26</td></tr>\n",
       "\t<tr><td>Welfare State                     </td><td>RC</td><td> 509</td><td>  55</td></tr>\n",
       "\t<tr><td>biden is the best president ever  </td><td>  </td><td>7124</td><td>2362</td></tr>\n",
       "\t<tr><td>biden is the best president ever  </td><td>C </td><td> 706</td><td> 146</td></tr>\n",
       "\t<tr><td>biden is the best president ever  </td><td>L </td><td>1192</td><td> 140</td></tr>\n",
       "\t<tr><td>biden is the best president ever  </td><td>LC</td><td>2558</td><td> 593</td></tr>\n",
       "\t<tr><td>biden is the best president ever  </td><td>R </td><td>  35</td><td>  22</td></tr>\n",
       "\t<tr><td>biden is the best president ever  </td><td>RC</td><td>  28</td><td>  18</td></tr>\n",
       "\t<tr><td>biden is the worst president ever </td><td>  </td><td>5893</td><td>1900</td></tr>\n",
       "\t<tr><td>biden is the worst president ever </td><td>C </td><td> 595</td><td> 147</td></tr>\n",
       "\t<tr><td>biden is the worst president ever </td><td>L </td><td> 240</td><td>  35</td></tr>\n",
       "\t<tr><td>biden is the worst president ever </td><td>LC</td><td> 901</td><td> 283</td></tr>\n",
       "\t<tr><td>biden is the worst president ever </td><td>R </td><td> 456</td><td>  79</td></tr>\n",
       "\t<tr><td>biden is the worst president ever </td><td>RC</td><td> 415</td><td>  52</td></tr>\n",
       "\t<tr><td>trump was the best president ever </td><td>  </td><td>7262</td><td>2203</td></tr>\n",
       "\t<tr><td>trump was the best president ever </td><td>C </td><td>1642</td><td> 206</td></tr>\n",
       "\t<tr><td>trump was the best president ever </td><td>L </td><td> 462</td><td>  64</td></tr>\n",
       "\t<tr><td>trump was the best president ever </td><td>LC</td><td>2790</td><td> 626</td></tr>\n",
       "\t<tr><td>trump was the best president ever </td><td>R </td><td> 112</td><td>  45</td></tr>\n",
       "\t<tr><td>trump was the best president ever </td><td>RC</td><td>  61</td><td>  36</td></tr>\n",
       "\t<tr><td>trump was the worst president ever</td><td>  </td><td>8311</td><td>2441</td></tr>\n",
       "\t<tr><td>trump was the worst president ever</td><td>C </td><td> 439</td><td>  82</td></tr>\n",
       "\t<tr><td>trump was the worst president ever</td><td>L </td><td> 180</td><td>  68</td></tr>\n",
       "\t<tr><td>trump was the worst president ever</td><td>LC</td><td> 540</td><td> 188</td></tr>\n",
       "\t<tr><td>trump was the worst president ever</td><td>R </td><td>  94</td><td>  32</td></tr>\n",
       "\t<tr><td>trump was the worst president ever</td><td>RC</td><td>  81</td><td>  21</td></tr>\n",
       "</tbody>\n",
       "</table>\n"
      ],
      "text/latex": [
       "A grouped\\_df: 216 × 4\n",
       "\\begin{tabular}{llll}\n",
       " keyword & apriori\\_bias & count & UNIQUE\\_COUNT\\\\\n",
       " <chr> & <chr> & <int> & <int>\\\\\n",
       "\\hline\n",
       "\t AOC            &    & 5752 & 1233\\\\\n",
       "\t AOC            & C  &  162 &   51\\\\\n",
       "\t AOC            & L  &   34 &   11\\\\\n",
       "\t AOC            & LC &  286 &  102\\\\\n",
       "\t AOC            & R  & 4575 &  115\\\\\n",
       "\t AOC            & RC &  778 &   92\\\\\n",
       "\t Anthony Fauci  &    & 9378 & 2517\\\\\n",
       "\t Anthony Fauci  & C  & 1249 &  270\\\\\n",
       "\t Anthony Fauci  & L  &  569 &   67\\\\\n",
       "\t Anthony Fauci  & LC &  680 &  249\\\\\n",
       "\t Anthony Fauci  & R  &  156 &   41\\\\\n",
       "\t Anthony Fauci  & RC &  155 &   42\\\\\n",
       "\t Anthony Huber  &    & 4022 & 1659\\\\\n",
       "\t Anthony Huber  & C  &  219 &   69\\\\\n",
       "\t Anthony Huber  & L  &  389 &   64\\\\\n",
       "\t Anthony Huber  & LC & 2634 &  436\\\\\n",
       "\t Anthony Huber  & R  & 2277 &  104\\\\\n",
       "\t Anthony Huber  & RC & 1573 &  105\\\\\n",
       "\t Barak Obama    &    & 7499 & 2207\\\\\n",
       "\t Barak Obama    & C  &  793 &  196\\\\\n",
       "\t Barak Obama    & L  &  197 &   85\\\\\n",
       "\t Barak Obama    & LC & 1273 &  410\\\\\n",
       "\t Barak Obama    & R  &   14 &    9\\\\\n",
       "\t Barak Obama    & RC &   19 &   14\\\\\n",
       "\t Climate Change &    & 6687 & 2163\\\\\n",
       "\t Climate Change & C  & 2877 &  243\\\\\n",
       "\t Climate Change & L  &  258 &   64\\\\\n",
       "\t Climate Change & LC &  612 &  253\\\\\n",
       "\t Climate Change & R  & 1157 &   51\\\\\n",
       "\t Climate Change & RC &  260 &   32\\\\\n",
       "\t ⋮ & ⋮ & ⋮ & ⋮\\\\\n",
       "\t Welfare State                      &    & 7280 & 1637\\\\\n",
       "\t Welfare State                      & C  &  909 &  177\\\\\n",
       "\t Welfare State                      & L  &   30 &   14\\\\\n",
       "\t Welfare State                      & LC &  127 &   84\\\\\n",
       "\t Welfare State                      & R  &   59 &   26\\\\\n",
       "\t Welfare State                      & RC &  509 &   55\\\\\n",
       "\t biden is the best president ever   &    & 7124 & 2362\\\\\n",
       "\t biden is the best president ever   & C  &  706 &  146\\\\\n",
       "\t biden is the best president ever   & L  & 1192 &  140\\\\\n",
       "\t biden is the best president ever   & LC & 2558 &  593\\\\\n",
       "\t biden is the best president ever   & R  &   35 &   22\\\\\n",
       "\t biden is the best president ever   & RC &   28 &   18\\\\\n",
       "\t biden is the worst president ever  &    & 5893 & 1900\\\\\n",
       "\t biden is the worst president ever  & C  &  595 &  147\\\\\n",
       "\t biden is the worst president ever  & L  &  240 &   35\\\\\n",
       "\t biden is the worst president ever  & LC &  901 &  283\\\\\n",
       "\t biden is the worst president ever  & R  &  456 &   79\\\\\n",
       "\t biden is the worst president ever  & RC &  415 &   52\\\\\n",
       "\t trump was the best president ever  &    & 7262 & 2203\\\\\n",
       "\t trump was the best president ever  & C  & 1642 &  206\\\\\n",
       "\t trump was the best president ever  & L  &  462 &   64\\\\\n",
       "\t trump was the best president ever  & LC & 2790 &  626\\\\\n",
       "\t trump was the best president ever  & R  &  112 &   45\\\\\n",
       "\t trump was the best president ever  & RC &   61 &   36\\\\\n",
       "\t trump was the worst president ever &    & 8311 & 2441\\\\\n",
       "\t trump was the worst president ever & C  &  439 &   82\\\\\n",
       "\t trump was the worst president ever & L  &  180 &   68\\\\\n",
       "\t trump was the worst president ever & LC &  540 &  188\\\\\n",
       "\t trump was the worst president ever & R  &   94 &   32\\\\\n",
       "\t trump was the worst president ever & RC &   81 &   21\\\\\n",
       "\\end{tabular}\n"
      ],
      "text/markdown": [
       "\n",
       "A grouped_df: 216 × 4\n",
       "\n",
       "| keyword &lt;chr&gt; | apriori_bias &lt;chr&gt; | count &lt;int&gt; | UNIQUE_COUNT &lt;int&gt; |\n",
       "|---|---|---|---|\n",
       "| AOC            | <!----> | 5752 | 1233 |\n",
       "| AOC            | C  |  162 |   51 |\n",
       "| AOC            | L  |   34 |   11 |\n",
       "| AOC            | LC |  286 |  102 |\n",
       "| AOC            | R  | 4575 |  115 |\n",
       "| AOC            | RC |  778 |   92 |\n",
       "| Anthony Fauci  | <!----> | 9378 | 2517 |\n",
       "| Anthony Fauci  | C  | 1249 |  270 |\n",
       "| Anthony Fauci  | L  |  569 |   67 |\n",
       "| Anthony Fauci  | LC |  680 |  249 |\n",
       "| Anthony Fauci  | R  |  156 |   41 |\n",
       "| Anthony Fauci  | RC |  155 |   42 |\n",
       "| Anthony Huber  | <!----> | 4022 | 1659 |\n",
       "| Anthony Huber  | C  |  219 |   69 |\n",
       "| Anthony Huber  | L  |  389 |   64 |\n",
       "| Anthony Huber  | LC | 2634 |  436 |\n",
       "| Anthony Huber  | R  | 2277 |  104 |\n",
       "| Anthony Huber  | RC | 1573 |  105 |\n",
       "| Barak Obama    | <!----> | 7499 | 2207 |\n",
       "| Barak Obama    | C  |  793 |  196 |\n",
       "| Barak Obama    | L  |  197 |   85 |\n",
       "| Barak Obama    | LC | 1273 |  410 |\n",
       "| Barak Obama    | R  |   14 |    9 |\n",
       "| Barak Obama    | RC |   19 |   14 |\n",
       "| Climate Change | <!----> | 6687 | 2163 |\n",
       "| Climate Change | C  | 2877 |  243 |\n",
       "| Climate Change | L  |  258 |   64 |\n",
       "| Climate Change | LC |  612 |  253 |\n",
       "| Climate Change | R  | 1157 |   51 |\n",
       "| Climate Change | RC |  260 |   32 |\n",
       "| ⋮ | ⋮ | ⋮ | ⋮ |\n",
       "| Welfare State                      | <!----> | 7280 | 1637 |\n",
       "| Welfare State                      | C  |  909 |  177 |\n",
       "| Welfare State                      | L  |   30 |   14 |\n",
       "| Welfare State                      | LC |  127 |   84 |\n",
       "| Welfare State                      | R  |   59 |   26 |\n",
       "| Welfare State                      | RC |  509 |   55 |\n",
       "| biden is the best president ever   | <!----> | 7124 | 2362 |\n",
       "| biden is the best president ever   | C  |  706 |  146 |\n",
       "| biden is the best president ever   | L  | 1192 |  140 |\n",
       "| biden is the best president ever   | LC | 2558 |  593 |\n",
       "| biden is the best president ever   | R  |   35 |   22 |\n",
       "| biden is the best president ever   | RC |   28 |   18 |\n",
       "| biden is the worst president ever  | <!----> | 5893 | 1900 |\n",
       "| biden is the worst president ever  | C  |  595 |  147 |\n",
       "| biden is the worst president ever  | L  |  240 |   35 |\n",
       "| biden is the worst president ever  | LC |  901 |  283 |\n",
       "| biden is the worst president ever  | R  |  456 |   79 |\n",
       "| biden is the worst president ever  | RC |  415 |   52 |\n",
       "| trump was the best president ever  | <!----> | 7262 | 2203 |\n",
       "| trump was the best president ever  | C  | 1642 |  206 |\n",
       "| trump was the best president ever  | L  |  462 |   64 |\n",
       "| trump was the best president ever  | LC | 2790 |  626 |\n",
       "| trump was the best president ever  | R  |  112 |   45 |\n",
       "| trump was the best president ever  | RC |   61 |   36 |\n",
       "| trump was the worst president ever | <!----> | 8311 | 2441 |\n",
       "| trump was the worst president ever | C  |  439 |   82 |\n",
       "| trump was the worst president ever | L  |  180 |   68 |\n",
       "| trump was the worst president ever | LC |  540 |  188 |\n",
       "| trump was the worst president ever | R  |   94 |   32 |\n",
       "| trump was the worst president ever | RC |   81 |   21 |\n",
       "\n"
      ],
      "text/plain": [
       "    keyword                            apriori_bias count UNIQUE_COUNT\n",
       "1   AOC                                             5752  1233        \n",
       "2   AOC                                C             162    51        \n",
       "3   AOC                                L              34    11        \n",
       "4   AOC                                LC            286   102        \n",
       "5   AOC                                R            4575   115        \n",
       "6   AOC                                RC            778    92        \n",
       "7   Anthony Fauci                                   9378  2517        \n",
       "8   Anthony Fauci                      C            1249   270        \n",
       "9   Anthony Fauci                      L             569    67        \n",
       "10  Anthony Fauci                      LC            680   249        \n",
       "11  Anthony Fauci                      R             156    41        \n",
       "12  Anthony Fauci                      RC            155    42        \n",
       "13  Anthony Huber                                   4022  1659        \n",
       "14  Anthony Huber                      C             219    69        \n",
       "15  Anthony Huber                      L             389    64        \n",
       "16  Anthony Huber                      LC           2634   436        \n",
       "17  Anthony Huber                      R            2277   104        \n",
       "18  Anthony Huber                      RC           1573   105        \n",
       "19  Barak Obama                                     7499  2207        \n",
       "20  Barak Obama                        C             793   196        \n",
       "21  Barak Obama                        L             197    85        \n",
       "22  Barak Obama                        LC           1273   410        \n",
       "23  Barak Obama                        R              14     9        \n",
       "24  Barak Obama                        RC             19    14        \n",
       "25  Climate Change                                  6687  2163        \n",
       "26  Climate Change                     C            2877   243        \n",
       "27  Climate Change                     L             258    64        \n",
       "28  Climate Change                     LC            612   253        \n",
       "29  Climate Change                     R            1157    51        \n",
       "30  Climate Change                     RC            260    32        \n",
       "⋮   ⋮                                  ⋮            ⋮     ⋮           \n",
       "187 Welfare State                                   7280  1637        \n",
       "188 Welfare State                      C             909   177        \n",
       "189 Welfare State                      L              30    14        \n",
       "190 Welfare State                      LC            127    84        \n",
       "191 Welfare State                      R              59    26        \n",
       "192 Welfare State                      RC            509    55        \n",
       "193 biden is the best president ever                7124  2362        \n",
       "194 biden is the best president ever   C             706   146        \n",
       "195 biden is the best president ever   L            1192   140        \n",
       "196 biden is the best president ever   LC           2558   593        \n",
       "197 biden is the best president ever   R              35    22        \n",
       "198 biden is the best president ever   RC             28    18        \n",
       "199 biden is the worst president ever               5893  1900        \n",
       "200 biden is the worst president ever  C             595   147        \n",
       "201 biden is the worst president ever  L             240    35        \n",
       "202 biden is the worst president ever  LC            901   283        \n",
       "203 biden is the worst president ever  R             456    79        \n",
       "204 biden is the worst president ever  RC            415    52        \n",
       "205 trump was the best president ever               7262  2203        \n",
       "206 trump was the best president ever  C            1642   206        \n",
       "207 trump was the best president ever  L             462    64        \n",
       "208 trump was the best president ever  LC           2790   626        \n",
       "209 trump was the best president ever  R             112    45        \n",
       "210 trump was the best president ever  RC             61    36        \n",
       "211 trump was the worst president ever              8311  2441        \n",
       "212 trump was the worst president ever C             439    82        \n",
       "213 trump was the worst president ever L             180    68        \n",
       "214 trump was the worst president ever LC            540   188        \n",
       "215 trump was the worst president ever R              94    32        \n",
       "216 trump was the worst president ever RC             81    21        "
      ]
     },
     "metadata": {},
     "output_type": "display_data"
    }
   ],
   "source": [
    "df_search %>%\n",
    "  dplyr::group_by(keyword, apriori_bias) %>%\n",
    "  dplyr::summarise(count = n(), UNIQUE_COUNT = n_distinct(video))"
   ]
  },
  {
   "cell_type": "code",
   "execution_count": 137,
   "id": "f9a4c781-4aa3-474b-9701-a15867dbc5c5",
   "metadata": {},
   "outputs": [
    {
     "data": {
      "text/html": [
       "<table class=\"dataframe\">\n",
       "<caption>A data.frame: 1 × 3</caption>\n",
       "<thead>\n",
       "\t<tr><th scope=col>apriori_bias</th><th scope=col>new_bias</th><th scope=col>n</th></tr>\n",
       "\t<tr><th scope=col>&lt;chr&gt;</th><th scope=col>&lt;chr&gt;</th><th scope=col>&lt;int&gt;</th></tr>\n",
       "</thead>\n",
       "<tbody>\n",
       "\t<tr><td></td><td>CL</td><td>236227</td></tr>\n",
       "</tbody>\n",
       "</table>\n"
      ],
      "text/latex": [
       "A data.frame: 1 × 3\n",
       "\\begin{tabular}{lll}\n",
       " apriori\\_bias & new\\_bias & n\\\\\n",
       " <chr> & <chr> & <int>\\\\\n",
       "\\hline\n",
       "\t  & CL & 236227\\\\\n",
       "\\end{tabular}\n"
      ],
      "text/markdown": [
       "\n",
       "A data.frame: 1 × 3\n",
       "\n",
       "| apriori_bias &lt;chr&gt; | new_bias &lt;chr&gt; | n &lt;int&gt; |\n",
       "|---|---|---|\n",
       "| <!----> | CL | 236227 |\n",
       "\n"
      ],
      "text/plain": [
       "  apriori_bias new_bias n     \n",
       "1              CL       236227"
      ]
     },
     "metadata": {},
     "output_type": "display_data"
    }
   ],
   "source": [
    "# These records will be assigned the predicted bias\n",
    "df_search %>%\n",
    "    dplyr::filter(apriori_bias == \"\") %>%\n",
    "    dplyr::count(apriori_bias, new_bias)"
   ]
  },
  {
   "cell_type": "code",
   "execution_count": 138,
   "id": "b23abdd9-dc39-4493-99ae-a49f2ffc7e95",
   "metadata": {},
   "outputs": [],
   "source": [
    "df_search$bias[df_search$apriori_bias == \"\"] <- df_search$new_bias[df_search$apriori_bias == \"\"]"
   ]
  },
  {
   "cell_type": "code",
   "execution_count": 139,
   "id": "a885f361-9602-4e89-a86c-7c00675c91e9",
   "metadata": {},
   "outputs": [
    {
     "data": {
      "text/html": [
       "<table class=\"dataframe\">\n",
       "<caption>A data.frame: 1 × 3</caption>\n",
       "<thead>\n",
       "\t<tr><th scope=col>apriori_bias</th><th scope=col>bias</th><th scope=col>n</th></tr>\n",
       "\t<tr><th scope=col>&lt;chr&gt;</th><th scope=col>&lt;chr&gt;</th><th scope=col>&lt;int&gt;</th></tr>\n",
       "</thead>\n",
       "<tbody>\n",
       "\t<tr><td></td><td>CL</td><td>236227</td></tr>\n",
       "</tbody>\n",
       "</table>\n"
      ],
      "text/latex": [
       "A data.frame: 1 × 3\n",
       "\\begin{tabular}{lll}\n",
       " apriori\\_bias & bias & n\\\\\n",
       " <chr> & <chr> & <int>\\\\\n",
       "\\hline\n",
       "\t  & CL & 236227\\\\\n",
       "\\end{tabular}\n"
      ],
      "text/markdown": [
       "\n",
       "A data.frame: 1 × 3\n",
       "\n",
       "| apriori_bias &lt;chr&gt; | bias &lt;chr&gt; | n &lt;int&gt; |\n",
       "|---|---|---|\n",
       "| <!----> | CL | 236227 |\n",
       "\n"
      ],
      "text/plain": [
       "  apriori_bias bias n     \n",
       "1              CL   236227"
      ]
     },
     "metadata": {},
     "output_type": "display_data"
    }
   ],
   "source": [
    "df_search %>%\n",
    "    dplyr::filter(apriori_bias == \"\") %>%\n",
    "    dplyr::count(apriori_bias, bias)"
   ]
  },
  {
   "cell_type": "code",
   "execution_count": 140,
   "id": "7be72cf5-2108-4436-8e47-937e4f24086f",
   "metadata": {},
   "outputs": [
    {
     "data": {
      "text/html": [
       "<table class=\"dataframe\">\n",
       "<caption>A data.frame: 5 × 2</caption>\n",
       "<thead>\n",
       "\t<tr><th scope=col>apriori_bias</th><th scope=col>n</th></tr>\n",
       "\t<tr><th scope=col>&lt;chr&gt;</th><th scope=col>&lt;int&gt;</th></tr>\n",
       "</thead>\n",
       "<tbody>\n",
       "\t<tr><td>C </td><td>43418</td></tr>\n",
       "\t<tr><td>L </td><td>16865</td></tr>\n",
       "\t<tr><td>LC</td><td>42982</td></tr>\n",
       "\t<tr><td>R </td><td>39607</td></tr>\n",
       "\t<tr><td>RC</td><td>20518</td></tr>\n",
       "</tbody>\n",
       "</table>\n"
      ],
      "text/latex": [
       "A data.frame: 5 × 2\n",
       "\\begin{tabular}{ll}\n",
       " apriori\\_bias & n\\\\\n",
       " <chr> & <int>\\\\\n",
       "\\hline\n",
       "\t C  & 43418\\\\\n",
       "\t L  & 16865\\\\\n",
       "\t LC & 42982\\\\\n",
       "\t R  & 39607\\\\\n",
       "\t RC & 20518\\\\\n",
       "\\end{tabular}\n"
      ],
      "text/markdown": [
       "\n",
       "A data.frame: 5 × 2\n",
       "\n",
       "| apriori_bias &lt;chr&gt; | n &lt;int&gt; |\n",
       "|---|---|\n",
       "| C  | 43418 |\n",
       "| L  | 16865 |\n",
       "| LC | 42982 |\n",
       "| R  | 39607 |\n",
       "| RC | 20518 |\n",
       "\n"
      ],
      "text/plain": [
       "  apriori_bias n    \n",
       "1 C            43418\n",
       "2 L            16865\n",
       "3 LC           42982\n",
       "4 R            39607\n",
       "5 RC           20518"
      ]
     },
     "metadata": {},
     "output_type": "display_data"
    }
   ],
   "source": [
    "df_search %>%\n",
    "    dplyr::filter(apriori_bias != \"\") %>%\n",
    "    dplyr::count(apriori_bias)"
   ]
  },
  {
   "cell_type": "code",
   "execution_count": 124,
   "id": "452a3930-b592-4baf-9fa5-a5bb29c02704",
   "metadata": {},
   "outputs": [
    {
     "data": {
      "text/html": [
       "<table class=\"dataframe\">\n",
       "<caption>A data.frame: 144 × 3</caption>\n",
       "<thead>\n",
       "\t<tr><th scope=col>channel_title</th><th scope=col>apriori_bias</th><th scope=col>n</th></tr>\n",
       "\t<tr><th scope=col>&lt;chr&gt;</th><th scope=col>&lt;chr&gt;</th><th scope=col>&lt;int&gt;</th></tr>\n",
       "</thead>\n",
       "<tbody>\n",
       "\t<tr><td>Fox News                          </td><td>R </td><td>39482</td></tr>\n",
       "\t<tr><td>MIT OpenCourseWare                </td><td>C </td><td>19834</td></tr>\n",
       "\t<tr><td>Forbes Breaking News              </td><td>RC</td><td>13473</td></tr>\n",
       "\t<tr><td>TEDx Talks                        </td><td>C </td><td>11454</td></tr>\n",
       "\t<tr><td>Vanity Fair                       </td><td>L </td><td> 9065</td></tr>\n",
       "\t<tr><td>MSNBC                             </td><td>L </td><td> 4736</td></tr>\n",
       "\t<tr><td>LastWeekTonight                   </td><td>LC</td><td> 4129</td></tr>\n",
       "\t<tr><td>GQ                                </td><td>LC</td><td> 3567</td></tr>\n",
       "\t<tr><td>Fox Business                      </td><td>RC</td><td> 3469</td></tr>\n",
       "\t<tr><td>NBC News                          </td><td>LC</td><td> 3268</td></tr>\n",
       "\t<tr><td>WIRED                             </td><td>LC</td><td> 2121</td></tr>\n",
       "\t<tr><td>ABC 7 Chicago                     </td><td>LC</td><td> 2112</td></tr>\n",
       "\t<tr><td>TED-Ed                            </td><td>C </td><td> 2096</td></tr>\n",
       "\t<tr><td>NBC Chicago                       </td><td>LC</td><td> 2086</td></tr>\n",
       "\t<tr><td>CNBC Television                   </td><td>LC</td><td> 2081</td></tr>\n",
       "\t<tr><td>VICE News                         </td><td>LC</td><td> 2037</td></tr>\n",
       "\t<tr><td>Sky News                          </td><td>C </td><td> 1972</td></tr>\n",
       "\t<tr><td>Late Night with Seth Meyers       </td><td>L </td><td> 1885</td></tr>\n",
       "\t<tr><td>11Alive                           </td><td>C </td><td> 1866</td></tr>\n",
       "\t<tr><td>FOX6 News Milwaukee               </td><td>RC</td><td> 1754</td></tr>\n",
       "\t<tr><td>Ars Technica                      </td><td>C </td><td> 1524</td></tr>\n",
       "\t<tr><td>TED                               </td><td>C </td><td> 1505</td></tr>\n",
       "\t<tr><td>The Late Show with Stephen Colbert</td><td>LC</td><td> 1425</td></tr>\n",
       "\t<tr><td>Hoover Institution                </td><td>RC</td><td> 1386</td></tr>\n",
       "\t<tr><td>DeepMind                          </td><td>LC</td><td> 1338</td></tr>\n",
       "\t<tr><td>Guardian Live                     </td><td>LC</td><td> 1323</td></tr>\n",
       "\t<tr><td>British GQ                        </td><td>LC</td><td> 1303</td></tr>\n",
       "\t<tr><td>DW Documentary                    </td><td>LC</td><td> 1210</td></tr>\n",
       "\t<tr><td>The Daily Show with Trevor Noah   </td><td>LC</td><td> 1194</td></tr>\n",
       "\t<tr><td>Insider                           </td><td>LC</td><td> 1086</td></tr>\n",
       "\t<tr><td>⋮</td><td>⋮</td><td>⋮</td></tr>\n",
       "\t<tr><td>PBS Eons                          </td><td>LC</td><td>5</td></tr>\n",
       "\t<tr><td>Eyewitness News ABC7NY            </td><td>LC</td><td>4</td></tr>\n",
       "\t<tr><td>NBC                               </td><td>LC</td><td>4</td></tr>\n",
       "\t<tr><td>WCCO - CBS Minnesota              </td><td>LC</td><td>4</td></tr>\n",
       "\t<tr><td>q on cbc                          </td><td>LC</td><td>4</td></tr>\n",
       "\t<tr><td>ABC Science                       </td><td>LC</td><td>3</td></tr>\n",
       "\t<tr><td>CNBC Prime                        </td><td>LC</td><td>3</td></tr>\n",
       "\t<tr><td>CNN Business                      </td><td>L </td><td>3</td></tr>\n",
       "\t<tr><td>Google Cloud Tech                 </td><td>LC</td><td>3</td></tr>\n",
       "\t<tr><td>VICE TV                           </td><td>LC</td><td>3</td></tr>\n",
       "\t<tr><td>WIRED Events                      </td><td>LC</td><td>3</td></tr>\n",
       "\t<tr><td>ABC                               </td><td>LC</td><td>2</td></tr>\n",
       "\t<tr><td>American Experience | PBS         </td><td>LC</td><td>2</td></tr>\n",
       "\t<tr><td>CBC NL - Newfoundland and Labrador</td><td>LC</td><td>2</td></tr>\n",
       "\t<tr><td>NBC New York                      </td><td>LC</td><td>2</td></tr>\n",
       "\t<tr><td>PBS Wisconsin                     </td><td>LC</td><td>2</td></tr>\n",
       "\t<tr><td>Sky Sports Football               </td><td>C </td><td>2</td></tr>\n",
       "\t<tr><td>Sky Sports News                   </td><td>C </td><td>2</td></tr>\n",
       "\t<tr><td>TED Archive                       </td><td>C </td><td>2</td></tr>\n",
       "\t<tr><td>WTVR CBS 6                        </td><td>LC</td><td>2</td></tr>\n",
       "\t<tr><td>23 ABC News | KERO                </td><td>LC</td><td>1</td></tr>\n",
       "\t<tr><td>6abc Philadelphia                 </td><td>LC</td><td>1</td></tr>\n",
       "\t<tr><td>9 News Australia                  </td><td>RC</td><td>1</td></tr>\n",
       "\t<tr><td>ABC Australia                     </td><td>LC</td><td>1</td></tr>\n",
       "\t<tr><td>ABC13 Houston                     </td><td>LC</td><td>1</td></tr>\n",
       "\t<tr><td>Antiques Roadshow PBS             </td><td>LC</td><td>1</td></tr>\n",
       "\t<tr><td>CBS Miami                         </td><td>LC</td><td>1</td></tr>\n",
       "\t<tr><td>HuffPost                          </td><td>L </td><td>1</td></tr>\n",
       "\t<tr><td>PBS Terra                         </td><td>LC</td><td>1</td></tr>\n",
       "\t<tr><td>Sky Sports F1                     </td><td>C </td><td>1</td></tr>\n",
       "</tbody>\n",
       "</table>\n"
      ],
      "text/latex": [
       "A data.frame: 144 × 3\n",
       "\\begin{tabular}{lll}\n",
       " channel\\_title & apriori\\_bias & n\\\\\n",
       " <chr> & <chr> & <int>\\\\\n",
       "\\hline\n",
       "\t Fox News                           & R  & 39482\\\\\n",
       "\t MIT OpenCourseWare                 & C  & 19834\\\\\n",
       "\t Forbes Breaking News               & RC & 13473\\\\\n",
       "\t TEDx Talks                         & C  & 11454\\\\\n",
       "\t Vanity Fair                        & L  &  9065\\\\\n",
       "\t MSNBC                              & L  &  4736\\\\\n",
       "\t LastWeekTonight                    & LC &  4129\\\\\n",
       "\t GQ                                 & LC &  3567\\\\\n",
       "\t Fox Business                       & RC &  3469\\\\\n",
       "\t NBC News                           & LC &  3268\\\\\n",
       "\t WIRED                              & LC &  2121\\\\\n",
       "\t ABC 7 Chicago                      & LC &  2112\\\\\n",
       "\t TED-Ed                             & C  &  2096\\\\\n",
       "\t NBC Chicago                        & LC &  2086\\\\\n",
       "\t CNBC Television                    & LC &  2081\\\\\n",
       "\t VICE News                          & LC &  2037\\\\\n",
       "\t Sky News                           & C  &  1972\\\\\n",
       "\t Late Night with Seth Meyers        & L  &  1885\\\\\n",
       "\t 11Alive                            & C  &  1866\\\\\n",
       "\t FOX6 News Milwaukee                & RC &  1754\\\\\n",
       "\t Ars Technica                       & C  &  1524\\\\\n",
       "\t TED                                & C  &  1505\\\\\n",
       "\t The Late Show with Stephen Colbert & LC &  1425\\\\\n",
       "\t Hoover Institution                 & RC &  1386\\\\\n",
       "\t DeepMind                           & LC &  1338\\\\\n",
       "\t Guardian Live                      & LC &  1323\\\\\n",
       "\t British GQ                         & LC &  1303\\\\\n",
       "\t DW Documentary                     & LC &  1210\\\\\n",
       "\t The Daily Show with Trevor Noah    & LC &  1194\\\\\n",
       "\t Insider                            & LC &  1086\\\\\n",
       "\t ⋮ & ⋮ & ⋮\\\\\n",
       "\t PBS Eons                           & LC & 5\\\\\n",
       "\t Eyewitness News ABC7NY             & LC & 4\\\\\n",
       "\t NBC                                & LC & 4\\\\\n",
       "\t WCCO - CBS Minnesota               & LC & 4\\\\\n",
       "\t q on cbc                           & LC & 4\\\\\n",
       "\t ABC Science                        & LC & 3\\\\\n",
       "\t CNBC Prime                         & LC & 3\\\\\n",
       "\t CNN Business                       & L  & 3\\\\\n",
       "\t Google Cloud Tech                  & LC & 3\\\\\n",
       "\t VICE TV                            & LC & 3\\\\\n",
       "\t WIRED Events                       & LC & 3\\\\\n",
       "\t ABC                                & LC & 2\\\\\n",
       "\t American Experience \\textbar{} PBS          & LC & 2\\\\\n",
       "\t CBC NL - Newfoundland and Labrador & LC & 2\\\\\n",
       "\t NBC New York                       & LC & 2\\\\\n",
       "\t PBS Wisconsin                      & LC & 2\\\\\n",
       "\t Sky Sports Football                & C  & 2\\\\\n",
       "\t Sky Sports News                    & C  & 2\\\\\n",
       "\t TED Archive                        & C  & 2\\\\\n",
       "\t WTVR CBS 6                         & LC & 2\\\\\n",
       "\t 23 ABC News \\textbar{} KERO                 & LC & 1\\\\\n",
       "\t 6abc Philadelphia                  & LC & 1\\\\\n",
       "\t 9 News Australia                   & RC & 1\\\\\n",
       "\t ABC Australia                      & LC & 1\\\\\n",
       "\t ABC13 Houston                      & LC & 1\\\\\n",
       "\t Antiques Roadshow PBS              & LC & 1\\\\\n",
       "\t CBS Miami                          & LC & 1\\\\\n",
       "\t HuffPost                           & L  & 1\\\\\n",
       "\t PBS Terra                          & LC & 1\\\\\n",
       "\t Sky Sports F1                      & C  & 1\\\\\n",
       "\\end{tabular}\n"
      ],
      "text/markdown": [
       "\n",
       "A data.frame: 144 × 3\n",
       "\n",
       "| channel_title &lt;chr&gt; | apriori_bias &lt;chr&gt; | n &lt;int&gt; |\n",
       "|---|---|---|\n",
       "| Fox News                           | R  | 39482 |\n",
       "| MIT OpenCourseWare                 | C  | 19834 |\n",
       "| Forbes Breaking News               | RC | 13473 |\n",
       "| TEDx Talks                         | C  | 11454 |\n",
       "| Vanity Fair                        | L  |  9065 |\n",
       "| MSNBC                              | L  |  4736 |\n",
       "| LastWeekTonight                    | LC |  4129 |\n",
       "| GQ                                 | LC |  3567 |\n",
       "| Fox Business                       | RC |  3469 |\n",
       "| NBC News                           | LC |  3268 |\n",
       "| WIRED                              | LC |  2121 |\n",
       "| ABC 7 Chicago                      | LC |  2112 |\n",
       "| TED-Ed                             | C  |  2096 |\n",
       "| NBC Chicago                        | LC |  2086 |\n",
       "| CNBC Television                    | LC |  2081 |\n",
       "| VICE News                          | LC |  2037 |\n",
       "| Sky News                           | C  |  1972 |\n",
       "| Late Night with Seth Meyers        | L  |  1885 |\n",
       "| 11Alive                            | C  |  1866 |\n",
       "| FOX6 News Milwaukee                | RC |  1754 |\n",
       "| Ars Technica                       | C  |  1524 |\n",
       "| TED                                | C  |  1505 |\n",
       "| The Late Show with Stephen Colbert | LC |  1425 |\n",
       "| Hoover Institution                 | RC |  1386 |\n",
       "| DeepMind                           | LC |  1338 |\n",
       "| Guardian Live                      | LC |  1323 |\n",
       "| British GQ                         | LC |  1303 |\n",
       "| DW Documentary                     | LC |  1210 |\n",
       "| The Daily Show with Trevor Noah    | LC |  1194 |\n",
       "| Insider                            | LC |  1086 |\n",
       "| ⋮ | ⋮ | ⋮ |\n",
       "| PBS Eons                           | LC | 5 |\n",
       "| Eyewitness News ABC7NY             | LC | 4 |\n",
       "| NBC                                | LC | 4 |\n",
       "| WCCO - CBS Minnesota               | LC | 4 |\n",
       "| q on cbc                           | LC | 4 |\n",
       "| ABC Science                        | LC | 3 |\n",
       "| CNBC Prime                         | LC | 3 |\n",
       "| CNN Business                       | L  | 3 |\n",
       "| Google Cloud Tech                  | LC | 3 |\n",
       "| VICE TV                            | LC | 3 |\n",
       "| WIRED Events                       | LC | 3 |\n",
       "| ABC                                | LC | 2 |\n",
       "| American Experience | PBS          | LC | 2 |\n",
       "| CBC NL - Newfoundland and Labrador | LC | 2 |\n",
       "| NBC New York                       | LC | 2 |\n",
       "| PBS Wisconsin                      | LC | 2 |\n",
       "| Sky Sports Football                | C  | 2 |\n",
       "| Sky Sports News                    | C  | 2 |\n",
       "| TED Archive                        | C  | 2 |\n",
       "| WTVR CBS 6                         | LC | 2 |\n",
       "| 23 ABC News | KERO                 | LC | 1 |\n",
       "| 6abc Philadelphia                  | LC | 1 |\n",
       "| 9 News Australia                   | RC | 1 |\n",
       "| ABC Australia                      | LC | 1 |\n",
       "| ABC13 Houston                      | LC | 1 |\n",
       "| Antiques Roadshow PBS              | LC | 1 |\n",
       "| CBS Miami                          | LC | 1 |\n",
       "| HuffPost                           | L  | 1 |\n",
       "| PBS Terra                          | LC | 1 |\n",
       "| Sky Sports F1                      | C  | 1 |\n",
       "\n"
      ],
      "text/plain": [
       "    channel_title                      apriori_bias n    \n",
       "1   Fox News                           R            39482\n",
       "2   MIT OpenCourseWare                 C            19834\n",
       "3   Forbes Breaking News               RC           13473\n",
       "4   TEDx Talks                         C            11454\n",
       "5   Vanity Fair                        L             9065\n",
       "6   MSNBC                              L             4736\n",
       "7   LastWeekTonight                    LC            4129\n",
       "8   GQ                                 LC            3567\n",
       "9   Fox Business                       RC            3469\n",
       "10  NBC News                           LC            3268\n",
       "11  WIRED                              LC            2121\n",
       "12  ABC 7 Chicago                      LC            2112\n",
       "13  TED-Ed                             C             2096\n",
       "14  NBC Chicago                        LC            2086\n",
       "15  CNBC Television                    LC            2081\n",
       "16  VICE News                          LC            2037\n",
       "17  Sky News                           C             1972\n",
       "18  Late Night with Seth Meyers        L             1885\n",
       "19  11Alive                            C             1866\n",
       "20  FOX6 News Milwaukee                RC            1754\n",
       "21  Ars Technica                       C             1524\n",
       "22  TED                                C             1505\n",
       "23  The Late Show with Stephen Colbert LC            1425\n",
       "24  Hoover Institution                 RC            1386\n",
       "25  DeepMind                           LC            1338\n",
       "26  Guardian Live                      LC            1323\n",
       "27  British GQ                         LC            1303\n",
       "28  DW Documentary                     LC            1210\n",
       "29  The Daily Show with Trevor Noah    LC            1194\n",
       "30  Insider                            LC            1086\n",
       "⋮   ⋮                                  ⋮            ⋮    \n",
       "115 PBS Eons                           LC           5    \n",
       "116 Eyewitness News ABC7NY             LC           4    \n",
       "117 NBC                                LC           4    \n",
       "118 WCCO - CBS Minnesota               LC           4    \n",
       "119 q on cbc                           LC           4    \n",
       "120 ABC Science                        LC           3    \n",
       "121 CNBC Prime                         LC           3    \n",
       "122 CNN Business                       L            3    \n",
       "123 Google Cloud Tech                  LC           3    \n",
       "124 VICE TV                            LC           3    \n",
       "125 WIRED Events                       LC           3    \n",
       "126 ABC                                LC           2    \n",
       "127 American Experience | PBS          LC           2    \n",
       "128 CBC NL - Newfoundland and Labrador LC           2    \n",
       "129 NBC New York                       LC           2    \n",
       "130 PBS Wisconsin                      LC           2    \n",
       "131 Sky Sports Football                C            2    \n",
       "132 Sky Sports News                    C            2    \n",
       "133 TED Archive                        C            2    \n",
       "134 WTVR CBS 6                         LC           2    \n",
       "135 23 ABC News | KERO                 LC           1    \n",
       "136 6abc Philadelphia                  LC           1    \n",
       "137 9 News Australia                   RC           1    \n",
       "138 ABC Australia                      LC           1    \n",
       "139 ABC13 Houston                      LC           1    \n",
       "140 Antiques Roadshow PBS              LC           1    \n",
       "141 CBS Miami                          LC           1    \n",
       "142 HuffPost                           L            1    \n",
       "143 PBS Terra                          LC           1    \n",
       "144 Sky Sports F1                      C            1    "
      ]
     },
     "metadata": {},
     "output_type": "display_data"
    }
   ],
   "source": [
    "df_search %>%\n",
    "    dplyr::filter(apriori_bias != \"\") %>%\n",
    "    dplyr::count(channel_title, apriori_bias, sort = TRUE)"
   ]
  },
  {
   "cell_type": "code",
   "execution_count": 125,
   "id": "4a2d0ede-c0e7-400f-9ad3-7c84710757c8",
   "metadata": {},
   "outputs": [
    {
     "data": {
      "text/html": [
       "<table class=\"dataframe\">\n",
       "<caption>A data.frame: 7 × 2</caption>\n",
       "<thead>\n",
       "\t<tr><th scope=col>bias</th><th scope=col>n</th></tr>\n",
       "\t<tr><th scope=col>&lt;chr&gt;</th><th scope=col>&lt;int&gt;</th></tr>\n",
       "</thead>\n",
       "<tbody>\n",
       "\t<tr><td>C </td><td> 43419</td></tr>\n",
       "\t<tr><td>CL</td><td> 57421</td></tr>\n",
       "\t<tr><td>CR</td><td>178800</td></tr>\n",
       "\t<tr><td>L </td><td> 16865</td></tr>\n",
       "\t<tr><td>LC</td><td> 42982</td></tr>\n",
       "\t<tr><td>R </td><td> 39612</td></tr>\n",
       "\t<tr><td>RC</td><td> 20518</td></tr>\n",
       "</tbody>\n",
       "</table>\n"
      ],
      "text/latex": [
       "A data.frame: 7 × 2\n",
       "\\begin{tabular}{ll}\n",
       " bias & n\\\\\n",
       " <chr> & <int>\\\\\n",
       "\\hline\n",
       "\t C  &  43419\\\\\n",
       "\t CL &  57421\\\\\n",
       "\t CR & 178800\\\\\n",
       "\t L  &  16865\\\\\n",
       "\t LC &  42982\\\\\n",
       "\t R  &  39612\\\\\n",
       "\t RC &  20518\\\\\n",
       "\\end{tabular}\n"
      ],
      "text/markdown": [
       "\n",
       "A data.frame: 7 × 2\n",
       "\n",
       "| bias &lt;chr&gt; | n &lt;int&gt; |\n",
       "|---|---|\n",
       "| C  |  43419 |\n",
       "| CL |  57421 |\n",
       "| CR | 178800 |\n",
       "| L  |  16865 |\n",
       "| LC |  42982 |\n",
       "| R  |  39612 |\n",
       "| RC |  20518 |\n",
       "\n"
      ],
      "text/plain": [
       "  bias n     \n",
       "1 C     43419\n",
       "2 CL    57421\n",
       "3 CR   178800\n",
       "4 L     16865\n",
       "5 LC    42982\n",
       "6 R     39612\n",
       "7 RC    20518"
      ]
     },
     "metadata": {},
     "output_type": "display_data"
    }
   ],
   "source": [
    "df_search %>%\n",
    "    dplyr::count(bias)"
   ]
  },
  {
   "cell_type": "code",
   "execution_count": 45,
   "id": "327ee486",
   "metadata": {},
   "outputs": [
    {
     "data": {
      "text/html": [
       "<table class=\"dataframe\">\n",
       "<caption>A data.frame: 1 × 1</caption>\n",
       "<thead>\n",
       "\t<tr><th scope=col>UNIQUE_COUNT</th></tr>\n",
       "\t<tr><th scope=col>&lt;int&gt;</th></tr>\n",
       "</thead>\n",
       "<tbody>\n",
       "\t<tr><td>43681</td></tr>\n",
       "</tbody>\n",
       "</table>\n"
      ],
      "text/latex": [
       "A data.frame: 1 × 1\n",
       "\\begin{tabular}{l}\n",
       " UNIQUE\\_COUNT\\\\\n",
       " <int>\\\\\n",
       "\\hline\n",
       "\t 43681\\\\\n",
       "\\end{tabular}\n"
      ],
      "text/markdown": [
       "\n",
       "A data.frame: 1 × 1\n",
       "\n",
       "| UNIQUE_COUNT &lt;int&gt; |\n",
       "|---|\n",
       "| 43681 |\n",
       "\n"
      ],
      "text/plain": [
       "  UNIQUE_COUNT\n",
       "1 43681       "
      ]
     },
     "metadata": {},
     "output_type": "display_data"
    }
   ],
   "source": [
    "df_search %>%\n",
    "  dplyr::summarise(UNIQUE_COUNT = n_distinct(video))"
   ]
  },
  {
   "cell_type": "code",
   "execution_count": 50,
   "id": "597391c5-94c2-4e47-bd9a-b6441e9d55c9",
   "metadata": {},
   "outputs": [
    {
     "data": {
      "text/html": [
       "<table class=\"dataframe\">\n",
       "<caption>A data.frame: 6 × 2</caption>\n",
       "<thead>\n",
       "\t<tr><th></th><th scope=col>video</th><th scope=col>new_bias</th></tr>\n",
       "\t<tr><th></th><th scope=col>&lt;chr&gt;</th><th scope=col>&lt;chr&gt;</th></tr>\n",
       "</thead>\n",
       "<tbody>\n",
       "\t<tr><th scope=row>1</th><td>BXgQZXQnfhA</td><td>LC</td></tr>\n",
       "\t<tr><th scope=row>2</th><td>L8SS7LCsAZQ</td><td>LC</td></tr>\n",
       "\t<tr><th scope=row>3</th><td>8fD5hrH8zmc</td><td>LC</td></tr>\n",
       "\t<tr><th scope=row>4</th><td>L8SS7LCsAZQ</td><td>LC</td></tr>\n",
       "\t<tr><th scope=row>5</th><td>8fD5hrH8zmc</td><td>LC</td></tr>\n",
       "\t<tr><th scope=row>6</th><td>L8SS7LCsAZQ</td><td>LC</td></tr>\n",
       "</tbody>\n",
       "</table>\n"
      ],
      "text/latex": [
       "A data.frame: 6 × 2\n",
       "\\begin{tabular}{r|ll}\n",
       "  & video & new\\_bias\\\\\n",
       "  & <chr> & <chr>\\\\\n",
       "\\hline\n",
       "\t1 & BXgQZXQnfhA & LC\\\\\n",
       "\t2 & L8SS7LCsAZQ & LC\\\\\n",
       "\t3 & 8fD5hrH8zmc & LC\\\\\n",
       "\t4 & L8SS7LCsAZQ & LC\\\\\n",
       "\t5 & 8fD5hrH8zmc & LC\\\\\n",
       "\t6 & L8SS7LCsAZQ & LC\\\\\n",
       "\\end{tabular}\n"
      ],
      "text/markdown": [
       "\n",
       "A data.frame: 6 × 2\n",
       "\n",
       "| <!--/--> | video &lt;chr&gt; | new_bias &lt;chr&gt; |\n",
       "|---|---|---|\n",
       "| 1 | BXgQZXQnfhA | LC |\n",
       "| 2 | L8SS7LCsAZQ | LC |\n",
       "| 3 | 8fD5hrH8zmc | LC |\n",
       "| 4 | L8SS7LCsAZQ | LC |\n",
       "| 5 | 8fD5hrH8zmc | LC |\n",
       "| 6 | L8SS7LCsAZQ | LC |\n",
       "\n"
      ],
      "text/plain": [
       "  video       new_bias\n",
       "1 BXgQZXQnfhA LC      \n",
       "2 L8SS7LCsAZQ LC      \n",
       "3 8fD5hrH8zmc LC      \n",
       "4 L8SS7LCsAZQ LC      \n",
       "5 8fD5hrH8zmc LC      \n",
       "6 L8SS7LCsAZQ LC      "
      ]
     },
     "metadata": {},
     "output_type": "display_data"
    }
   ],
   "source": [
    "head(df_search[c(2,7)])"
   ]
  },
  {
   "cell_type": "code",
   "execution_count": 51,
   "id": "5109ad3f-716a-47bd-b95d-a070b2db6926",
   "metadata": {},
   "outputs": [],
   "source": [
    "df_count_classes <- df_search[!duplicated(df_search[c(2,7)]), ]"
   ]
  },
  {
   "cell_type": "code",
   "execution_count": 52,
   "id": "159d055a-bb5e-469b-b40b-c3cfaa06c5cd",
   "metadata": {},
   "outputs": [
    {
     "data": {
      "text/html": [
       "<table class=\"dataframe\">\n",
       "<caption>A tibble: 5 × 2</caption>\n",
       "<thead>\n",
       "\t<tr><th scope=col>new_bias</th><th scope=col>n</th></tr>\n",
       "\t<tr><th scope=col>&lt;chr&gt;</th><th scope=col>&lt;int&gt;</th></tr>\n",
       "</thead>\n",
       "<tbody>\n",
       "\t<tr><td>C </td><td> 3968</td></tr>\n",
       "\t<tr><td>L </td><td>  640</td></tr>\n",
       "\t<tr><td>LC</td><td>37081</td></tr>\n",
       "\t<tr><td>R </td><td>  290</td></tr>\n",
       "\t<tr><td>RC</td><td> 1702</td></tr>\n",
       "</tbody>\n",
       "</table>\n"
      ],
      "text/latex": [
       "A tibble: 5 × 2\n",
       "\\begin{tabular}{ll}\n",
       " new\\_bias & n\\\\\n",
       " <chr> & <int>\\\\\n",
       "\\hline\n",
       "\t C  &  3968\\\\\n",
       "\t L  &   640\\\\\n",
       "\t LC & 37081\\\\\n",
       "\t R  &   290\\\\\n",
       "\t RC &  1702\\\\\n",
       "\\end{tabular}\n"
      ],
      "text/markdown": [
       "\n",
       "A tibble: 5 × 2\n",
       "\n",
       "| new_bias &lt;chr&gt; | n &lt;int&gt; |\n",
       "|---|---|\n",
       "| C  |  3968 |\n",
       "| L  |   640 |\n",
       "| LC | 37081 |\n",
       "| R  |   290 |\n",
       "| RC |  1702 |\n",
       "\n"
      ],
      "text/plain": [
       "  new_bias n    \n",
       "1 C         3968\n",
       "2 L          640\n",
       "3 LC       37081\n",
       "4 R          290\n",
       "5 RC        1702"
      ]
     },
     "metadata": {},
     "output_type": "display_data"
    }
   ],
   "source": [
    "df_count_classes %>%\n",
    "  dplyr::group_by(new_bias) %>%\n",
    "  dplyr::summarise(n = n())"
   ]
  },
  {
   "cell_type": "markdown",
   "id": "69adeeee-2b1b-4848-a1c6-524f474faad4",
   "metadata": {},
   "source": [
    "# Preparing for Plotting"
   ]
  },
  {
   "cell_type": "code",
   "execution_count": 72,
   "id": "8dd79699-855e-46e7-a4ba-9545dba541bb",
   "metadata": {},
   "outputs": [],
   "source": [
    "df_search$new_bias[df_search$new_bias=='LC'] <- 'CL'\n",
    "df_search$new_bias[df_search$new_bias=='RC'] <- 'CR'"
   ]
  },
  {
   "cell_type": "markdown",
   "id": "732ab94a-60a0-43d0-b622-5532790d2f82",
   "metadata": {},
   "source": [
    "# Charting Functions"
   ]
  },
  {
   "cell_type": "code",
   "execution_count": 83,
   "id": "ab7535ca-3850-424f-8b51-f0f0521dd9db",
   "metadata": {},
   "outputs": [],
   "source": [
    "plotLaverGarry <- function(df, file_prefix ,verbose) {\n",
    "    \n",
    "    df_lgpp <- df %>%\n",
    "      dplyr::filter(!is.na(lgpp)) %>%\n",
    "      dplyr::count(current_depth, lgpp)\n",
    "\n",
    "    df_lgpp$order <- order(df_lgpp$current_depth, df_lgpp$n)\n",
    "    \n",
    "    df_lgpp_0<-df_lgpp[df_lgpp$current_depth==0,]\n",
    "    df_lgpp_1<-df_lgpp[df_lgpp$current_depth==1,]\n",
    "    df_lgpp_2<-df_lgpp[df_lgpp$current_depth==2,]\n",
    "    df_lgpp_3<-df_lgpp[df_lgpp$current_depth==3,]\n",
    "    df_lgpp_4<-df_lgpp[df_lgpp$current_depth==4,]\n",
    "    df_lgpp_5<-df_lgpp[df_lgpp$current_depth==5,]\n",
    "\n",
    "    df_lgpp_0<-arrange(df_lgpp_0, df_lgpp_0$n)\n",
    "    df_lgpp_1<-arrange(df_lgpp_1, df_lgpp_1$n)\n",
    "    df_lgpp_2<-arrange(df_lgpp_2, df_lgpp_2$n)\n",
    "    df_lgpp_3<-arrange(df_lgpp_3, df_lgpp_3$n)\n",
    "    df_lgpp_4<-arrange(df_lgpp_4, df_lgpp_4$n)\n",
    "    df_lgpp_5<-arrange(df_lgpp_5, df_lgpp_5$n)\n",
    "\n",
    "    df_lgpp_0$order<-order(df_lgpp_0$n)\n",
    "    df_lgpp_1$order<-order(df_lgpp_1$n)\n",
    "    df_lgpp_2$order<-order(df_lgpp_2$n)\n",
    "    df_lgpp_3$order<-order(df_lgpp_3$n)\n",
    "    df_lgpp_4$order<-order(df_lgpp_4$n)\n",
    "    df_lgpp_5$order<-order(df_lgpp_5$n)\n",
    "\n",
    "    df_lgpp<- rbind(df_lgpp_0, df_lgpp_1, df_lgpp_2, df_lgpp_3, df_lgpp_4, df_lgpp_5)\n",
    "\n",
    "    cols <- c(urban='blue', law_and_order='orange', rural='red', culture='red', environment='blue3', economy='green3', values='grey51', groups='chartreuse4', institutions='royalblue3')\n",
    "    legendTitle <- 'Policy Position'\n",
    "    \n",
    "    options(repr.plot.width=15, repr.plot.height=10)\n",
    "    \n",
    "    lineplot=ggplot(data = df_lgpp, aes(x=current_depth, y=n)) +\n",
    "        geom_line(aes(colour=lgpp), size=2) +\n",
    "        scale_color_manual(legendTitle, values=cols) +\n",
    "        theme(legend.text=element_text(size=12), legend.title=element_text(size=12)) +\n",
    "        theme(axis.text=element_text(size=12), axis.title=element_text(size=12,face='bold')) +\n",
    "        xlab('Recommendation Depth') + ylab('No. of Videos')\n",
    "\n",
    "    posplot=ggplot(data = df_lgpp, aes(x=current_depth, y=order)) +\n",
    "        geom_line(aes(colour=lgpp), size=2) +\n",
    "        scale_color_manual(legendTitle, values=cols) +\n",
    "        theme(legend.text=element_text(size=12), legend.title=element_text(size=12)) +\n",
    "        theme(axis.text=element_text(size=12), axis.title=element_text(size=12,face='bold')) +\n",
    "        xlab('Recommendation Depth') + ylab('Order of Policy Position')\n",
    "\n",
    "    barplot=ggplot(data = df_lgpp, aes(x=current_depth, y=n, order=lgpp)) + \n",
    "        geom_bar(position='fill', stat='identity', aes(fill=lgpp)) +\n",
    "        scale_fill_manual(legendTitle, values=cols) +\n",
    "        theme(legend.text=element_text(size=12), legend.title=element_text(size=12)) +\n",
    "        theme(axis.text=element_text(size=12), axis.title=element_text(size=12,face=\"bold\")) +\n",
    "        xlab('Recommendation Depth') + ylab('Relative Volume')\n",
    "\n",
    "    g_lgpp <- arrangeGrob(lineplot, posplot, barplot, nrow = 3)\n",
    "    \n",
    "    date = format(Sys.time(), '%Y-%m-%d_%H_%M_%S')\n",
    "    file_name = paste('plotting/images/', file_prefix, '_lgpp_', date, '.png', sep='')\n",
    "\n",
    "    ggsave(file=file_name, g_lgpp)\n",
    "    if (verbose==1){\n",
    "        grid.arrange(lineplot, posplot, barplot, nrow = 3)        \n",
    "    }\n",
    "    \n",
    "    pt <- PivotTable$new()\n",
    "    pt$addData(df)\n",
    "    pt$addColumnDataGroups('current_depth')\n",
    "    pt$addRowDataGroups('lgpp')\n",
    "    pt$defineCalculation(calculationName=\"video\", summariseExpression=\"n()\")\n",
    "    pt$evaluatePivot()\n",
    "    pt\n",
    "}"
   ]
  },
  {
   "cell_type": "code",
   "execution_count": 84,
   "id": "c847d116-5070-480d-87fd-b4b13cefa12b",
   "metadata": {},
   "outputs": [],
   "source": [
    "plotNRC_el <- function(df, file_prefix, verbose) {\n",
    "    \n",
    "    df_nrc_el <- df %>%\n",
    "      dplyr::filter(!is.na(nrc_el)) %>%\n",
    "      dplyr::count(current_depth, nrc_el)\n",
    "\n",
    "    #df_nrc_el <- df_nrc_el[complete.cases(df_nrc_el),]\n",
    "\n",
    "    df_nrc_el_0<-df_nrc_el[df_nrc_el$current_depth==0,]\n",
    "    df_nrc_el_1<-df_nrc_el[df_nrc_el$current_depth==1,]\n",
    "    df_nrc_el_2<-df_nrc_el[df_nrc_el$current_depth==2,]\n",
    "    df_nrc_el_3<-df_nrc_el[df_nrc_el$current_depth==3,]\n",
    "    df_nrc_el_4<-df_nrc_el[df_nrc_el$current_depth==4,]\n",
    "    df_nrc_el_5<-df_nrc_el[df_nrc_el$current_depth==5,]\n",
    "\n",
    "    df_nrc_el_0<-arrange(df_nrc_el_0, df_nrc_el_0$n)\n",
    "    df_nrc_el_1<-arrange(df_nrc_el_1, df_nrc_el_1$n)\n",
    "    df_nrc_el_2<-arrange(df_nrc_el_2, df_nrc_el_2$n)\n",
    "    df_nrc_el_3<-arrange(df_nrc_el_3, df_nrc_el_3$n)\n",
    "    df_nrc_el_4<-arrange(df_nrc_el_4, df_nrc_el_4$n)\n",
    "    df_nrc_el_5<-arrange(df_nrc_el_5, df_nrc_el_5$n)\n",
    "\n",
    "    df_nrc_el_0$order<-order(df_nrc_el_0$n)\n",
    "    df_nrc_el_1$order<-order(df_nrc_el_1$n)\n",
    "    df_nrc_el_2$order<-order(df_nrc_el_2$n)\n",
    "    df_nrc_el_3$order<-order(df_nrc_el_3$n)\n",
    "    df_nrc_el_4$order<-order(df_nrc_el_4$n)\n",
    "    df_nrc_el_5$order<-order(df_nrc_el_5$n)\n",
    "\n",
    "    df_nrc_el<- rbind(df_nrc_el_0, df_nrc_el_1, df_nrc_el_2, df_nrc_el_3, df_nrc_el_4, df_nrc_el_5)\n",
    "\n",
    "    cols <- c(anger='blue', surprise='orange', anticipation='red', disgust='blue4', positive='blue3', fear='green3', negative='grey51', sadness='chartreuse4', joy='royalblue3', trust='red4')\n",
    "    legendTitle <- 'Emotion'\n",
    "    \n",
    "    options(repr.plot.width=15, repr.plot.height=10)\n",
    "    \n",
    "    lineplot=ggplot(data = df_nrc_el, aes(x=current_depth, y=n)) +\n",
    "        geom_line(aes(colour=nrc_el), size=2) +\n",
    "        scale_color_manual(legendTitle, values=cols) +\n",
    "        theme(legend.text=element_text(size=12), legend.title=element_text(size=12)) +\n",
    "        theme(axis.text=element_text(size=12), axis.title=element_text(size=14,face='bold')) +\n",
    "        xlab('Recommendation Depth') + ylab('No. of Videos')\n",
    "\n",
    "    posplot=ggplot(data = df_nrc_el, aes(x=current_depth, y=order)) +\n",
    "        geom_line(aes(colour=nrc_el), size=2) +\n",
    "        scale_color_manual(legendTitle, values=cols) +\n",
    "        theme(legend.text=element_text(size=12), legend.title=element_text(size=12)) +\n",
    "        theme(axis.text=element_text(size=12), axis.title=element_text(size=14,face='bold')) +\n",
    "        xlab('Recommendation Depth') + ylab('Order of NRC Emotion')\n",
    "\n",
    "    barplot=ggplot(data = df_nrc_el, aes(x=current_depth, y=n, order=nrc_el)) + \n",
    "        geom_bar(position='fill', stat='identity', aes(fill=nrc_el)) +\n",
    "        scale_fill_manual(legendTitle, values=cols) +\n",
    "        theme(legend.text=element_text(size=12), legend.title=element_text(size=12)) +\n",
    "        theme(axis.text=element_text(size=12), axis.title=element_text(size=14,face=\"bold\")) +\n",
    "        xlab('Recommendation Depth') + ylab('Relative Volume')\n",
    "\n",
    "    g_nrc_el <- arrangeGrob(lineplot, posplot, barplot, nrow = 3)\n",
    "    \n",
    "    date = format(Sys.time(), '%Y-%m-%d_%H_%M_%S')\n",
    "    file_name = paste('plotting/images/', file_prefix, '_nrc_el_', date, '.png', sep='')\n",
    "\n",
    "    ggsave(file=file_name, g_nrc_el)\n",
    "    if (verbose==1){\n",
    "        grid.arrange(lineplot, posplot, barplot, nrow = 3)        \n",
    "    }\n",
    "    \n",
    "    pt <- PivotTable$new()\n",
    "    pt$addData(df)\n",
    "    pt$addColumnDataGroups('current_depth')\n",
    "    pt$addRowDataGroups('nrc_el')\n",
    "    pt$defineCalculation(calculationName=\"video\", summariseExpression=\"n()\")\n",
    "    pt$evaluatePivot()\n",
    "    pt\n",
    "}"
   ]
  },
  {
   "cell_type": "code",
   "execution_count": 85,
   "id": "39526e99-dda9-433f-9ae6-85f0ba970faa",
   "metadata": {},
   "outputs": [],
   "source": [
    "plotBias <- function(df, file_prefix, verbose) {\n",
    "\n",
    "    df_channel_bias <- df %>%\n",
    "      dplyr::count(current_depth, new_bias)\n",
    "\n",
    "    df_channel_bias_0<-df_channel_bias[df_channel_bias$current_depth==0,]\n",
    "    df_channel_bias_1<-df_channel_bias[df_channel_bias$current_depth==1,]\n",
    "    df_channel_bias_2<-df_channel_bias[df_channel_bias$current_depth==2,]\n",
    "    df_channel_bias_3<-df_channel_bias[df_channel_bias$current_depth==3,]\n",
    "    df_channel_bias_4<-df_channel_bias[df_channel_bias$current_depth==4,]\n",
    "    df_channel_bias_5<-df_channel_bias[df_channel_bias$current_depth==5,]\n",
    "\n",
    "    df_channel_bias_0<-arrange(df_channel_bias_0, df_channel_bias_0$n)\n",
    "    df_channel_bias_1<-arrange(df_channel_bias_1, df_channel_bias_1$n)\n",
    "    df_channel_bias_2<-arrange(df_channel_bias_2, df_channel_bias_2$n)\n",
    "    df_channel_bias_3<-arrange(df_channel_bias_3, df_channel_bias_3$n)\n",
    "    df_channel_bias_4<-arrange(df_channel_bias_4, df_channel_bias_4$n)\n",
    "    df_channel_bias_5<-arrange(df_channel_bias_5, df_channel_bias_5$n)\n",
    "\n",
    "    df_channel_bias_0$order<-order(df_channel_bias_0$n)\n",
    "    df_channel_bias_1$order<-order(df_channel_bias_1$n)\n",
    "    df_channel_bias_2$order<-order(df_channel_bias_2$n)\n",
    "    df_channel_bias_3$order<-order(df_channel_bias_3$n)\n",
    "    df_channel_bias_4$order<-order(df_channel_bias_4$n)\n",
    "    df_channel_bias_5$order<-order(df_channel_bias_5$n)\n",
    "\n",
    "    df_channel_bias <- rbind(df_channel_bias_0, df_channel_bias_1, df_channel_bias_2, df_channel_bias_3, df_channel_bias_4, df_channel_bias_5)\n",
    "\n",
    "    df_channel_bias <- transform(df_channel_bias, \n",
    "            new_bias.ord = factor(\n",
    "                 new_bias ,\n",
    "                 levels=c('L','CL', 'C', 'CR', 'R'),\n",
    "                 ordered =TRUE))\n",
    "\n",
    "    cols <- c(L='blue4',CL='royalblue', C='grey', CR='red', R='red3')\n",
    "    legendTitle <- 'Bias'\n",
    "\n",
    "    options(repr.plot.width=15, repr.plot.height=10)\n",
    "    \n",
    "    lineplot=ggplot(data = df_channel_bias, aes(x=current_depth, y=n)) + geom_line(aes(colour=new_bias.ord), size=2) +\n",
    "        scale_color_manual(legendTitle, values=cols) +\n",
    "        theme(legend.text=element_text(size=12), legend.title=element_text(size=12), rect = element_rect(fill = \"transparent\")) +\n",
    "        theme(axis.text=element_text(size=12), axis.title=element_text(size=12, face='bold')) +\n",
    "        xlab('Recommendation Depth') + ylab('No. of Videos')\n",
    "\n",
    "    posplot=ggplot(data = df_channel_bias, aes(x=current_depth, y=order)) + geom_line(aes(colour=new_bias.ord), size=2) +\n",
    "        scale_color_manual(legendTitle, values=cols) +\n",
    "        theme(legend.text=element_text(size=12), legend.title=element_text(size=12)) +\n",
    "        theme(axis.text=element_text(size=12), axis.title=element_text(size=12, face='bold')) +\n",
    "        xlab('Recommendation Depth') + ylab('Order of Bias')\n",
    "\n",
    "    barplot=ggplot(data = df_channel_bias, aes(x=current_depth, y=n, order=new_bias.ord)) + \n",
    "        geom_bar(position=\"fill\", stat=\"identity\", aes(fill=new_bias.ord)) + scale_fill_manual(legendTitle, values=cols) +\n",
    "        theme(legend.text=element_text(size=12), legend.title=element_text(size=12)) +\n",
    "        theme(axis.text=element_text(size=12), axis.title=element_text(size=12, face=\"bold\")) +\n",
    "        xlab('Recommendation Depth') + ylab('Relative Volume')\n",
    "\n",
    "    g_bias <- arrangeGrob(lineplot, posplot, barplot, nrow = 3)\n",
    "    \n",
    "    date = format(Sys.time(), '%Y-%m-%d_%H_%M_%S')\n",
    "    file_name = paste('plotting/images/', file_prefix, '_bias_', date, '.png', sep='')\n",
    "\n",
    "    ggsave(file=file_name, g_bias)\n",
    "    if (verbose==1){\n",
    "        grid.arrange(lineplot, posplot, barplot, nrow = 3)        \n",
    "    }\n",
    "\n",
    "    pt <- PivotTable$new()\n",
    "    pt$addData(df)\n",
    "    pt$addColumnDataGroups('current_depth')\n",
    "    pt$addRowDataGroups('new_bias')\n",
    "    pt$defineCalculation(calculationName=\"video\", summariseExpression=\"n()\")\n",
    "    pt$evaluatePivot()\n",
    "    pt\n",
    "}"
   ]
  },
  {
   "cell_type": "markdown",
   "id": "ad42599b-4931-4026-86ed-cc1cb6a2ecec",
   "metadata": {},
   "source": [
    "# Full Set"
   ]
  },
  {
   "cell_type": "code",
   "execution_count": 86,
   "id": "4ea42491-21a0-4181-b5e9-6a5dab3f1e47",
   "metadata": {},
   "outputs": [
    {
     "name": "stderr",
     "output_type": "stream",
     "text": [
      "Saving 7 x 7 in image\n",
      "\n"
     ]
    },
    {
     "data": {
      "text/plain": [
       "       0    1    2     3      4      5       Total   \n",
       "C       12   24   220   1117   5579   29549   36501  \n",
       "CL     113  555  2400  10935  50967  256925  321895  \n",
       "CR       3   14    93    470   2221   11679   14480  \n",
       "L        1   13   104    438   1907    8775   11238  \n",
       "R        2   26   129    612   2723   12011   15503  \n",
       "Total  131  632  2946  13572  63397  318939  399617  "
      ]
     },
     "metadata": {},
     "output_type": "display_data"
    },
    {
     "name": "stderr",
     "output_type": "stream",
     "text": [
      "Saving 7 x 7 in image\n",
      "\n"
     ]
    },
    {
     "data": {
      "text/plain": [
       "               0    1    2     3      4      5       Total   \n",
       "culture         12   85   424   2143   9623   49533   61820  \n",
       "economy         71  395  1937   8960  42728  218524  272615  \n",
       "environment           9    38    164    941    4809    5961  \n",
       "groups           2    3     8     50    189     974    1226  \n",
       "institutions    31  107   410   1634   7047   31247   40476  \n",
       "law_and_order    7   21    73    378   1808    8562   10849  \n",
       "rural                 1     8     48    198    1211    1466  \n",
       "urban                              2      7      26      35  \n",
       "values           8   11    48    193    856    4053    5169  \n",
       "Total          131  632  2946  13572  63397  318939  399617  "
      ]
     },
     "metadata": {},
     "output_type": "display_data"
    },
    {
     "name": "stderr",
     "output_type": "stream",
     "text": [
      "Saving 7 x 7 in image\n",
      "\n"
     ]
    },
    {
     "data": {
      "text/plain": [
       "              0    1    2     3      4      5       Total   \n",
       "anger           2   34   147    728   3156   13964   18031  \n",
       "anticipation    1    1    15     54    295    1582    1948  \n",
       "disgust                    2      8     18      23      51  \n",
       "fear            3    2    16     72    294    1364    1751  \n",
       "joy                               9     44     460     513  \n",
       "negative       21   68   262   1268   5876   28687   36182  \n",
       "positive      101  515  2457  11221  52850  269195  336339  \n",
       "sadness         1                 3     17     113     134  \n",
       "surprise                                 1       5       6  \n",
       "trust           2   12    47    209    846    3546    4662  \n",
       "Total         131  632  2946  13572  63397  318939  399617  "
      ]
     },
     "metadata": {},
     "output_type": "display_data"
    }
   ],
   "source": [
    "keyword <- 'Full'\n",
    "keyword_prefix <- gsub(\" \", \"\", keyword, fixed = TRUE)\n",
    "\n",
    "plotBias(df_search, keyword_prefix, 0)\n",
    "plotLaverGarry(df_search, keyword_prefix, 0)\n",
    "plotNRC_el(df_search, keyword_prefix, 0)"
   ]
  },
  {
   "cell_type": "markdown",
   "id": "cf0131cb-6787-41f4-8d18-07c6e5ede227",
   "metadata": {},
   "source": [
    "# By Bias Seed"
   ]
  },
  {
   "cell_type": "code",
   "execution_count": 60,
   "id": "1a3ac3a2-3e39-4050-a90c-fb3ffaf2d0be",
   "metadata": {},
   "outputs": [],
   "source": [
    "getChildren <- function(video) {\n",
    "    #print(video)\n",
    "    children <- df_keyword_plot[0,]\n",
    "    next_depth <- as.numeric(video[3]) + 1\n",
    "    \n",
    "    if (next_depth < 6) {\n",
    "        videoId <- video[1]\n",
    "        key <- video[2]\n",
    "        fetched <- video[4]\n",
    "        children <- total %>%\n",
    "          dplyr::filter(current_depth==next_depth) %>%\n",
    "          dplyr::filter(parent_video==videoId) %>%\n",
    "          dplyr::filter(keyword==key) %>%\n",
    "          dplyr::filter(fetch_time > fetched) %>%\n",
    "          dplyr::arrange(fetch_time) %>%\n",
    "          dplyr::slice_min(fetch_time, n=5)\n",
    "\n",
    "        children <- rbind(children, do.call('rbind', apply(children, 1, getChildren)))\n",
    "    }\n",
    "    return(children)\n",
    "}"
   ]
  },
  {
   "cell_type": "code",
   "execution_count": 165,
   "id": "e3628e19-1680-40c8-a1bf-cb32d4c7fbc0",
   "metadata": {},
   "outputs": [
    {
     "name": "stderr",
     "output_type": "stream",
     "text": [
      "Saving 7 x 3 in image\n",
      "\n"
     ]
    },
    {
     "data": {
      "text/plain": [
       "          0  1   2    3    4     5      Total  \n",
       "negative      3   23   71   369   1797   2263  \n",
       "neutral   4  16  100  485  2220  10647  13472  \n",
       "positive  3  13   42  239  1293   6861   8451  \n",
       "Total     7  32  165  795  3882  19305  24186  "
      ]
     },
     "metadata": {},
     "output_type": "display_data"
    },
    {
     "name": "stderr",
     "output_type": "stream",
     "text": [
      "Saving 7 x 3 in image\n",
      "\n"
     ]
    },
    {
     "data": {
      "text/plain": [
       "          0  1   2    3    4     5      Total  \n",
       "negative  2  15   75  288  1381   6821   8582  \n",
       "positive  5  17   90  507  2501  12484  15604  \n",
       "NA            3    9   64   368   1894   2338  \n",
       "Total     7  35  174  859  4250  21199  26524  "
      ]
     },
     "metadata": {},
     "output_type": "display_data"
    },
    {
     "name": "stderr",
     "output_type": "stream",
     "text": [
      "Saving 7 x 7 in image\n",
      "\n"
     ]
    },
    {
     "data": {
      "text/plain": [
       "       0  1   2    3    4     5      Total  \n",
       "                9   84   522   3477   4092  \n",
       "C          1   12   81   434   2093   2621  \n",
       "CL         1    5   28   198   1173   1405  \n",
       "CR         2   18  137   757   3836   4750  \n",
       "L          1    3   15    81    407    507  \n",
       "R      7  30  127  514  2258  10213  13149  \n",
       "Total  7  35  174  859  4250  21199  26524  "
      ]
     },
     "metadata": {},
     "output_type": "display_data"
    },
    {
     "name": "stderr",
     "output_type": "stream",
     "text": [
      "Saving 7 x 7 in image\n",
      "\n"
     ]
    },
    {
     "data": {
      "text/plain": [
       "               0  1   2    3    4     5      Total  \n",
       "CULTURE            1   13   51   283   1493   1841  \n",
       "ECONOMY        1   1   17   59   346   1693   2117  \n",
       "ENVIRONMENT        1    4   19   111    616    751  \n",
       "GROUPS             4   12   61   332   1935   2344  \n",
       "INSTITUTIONS   5  16   68  317  1526   6971   8903  \n",
       "LAW_AND_ORDER  1   9   41  255  1063   5251   6620  \n",
       "RURAL                   4   15   124    756    899  \n",
       "URBAN                   1    4    27    163    195  \n",
       "VALUES                  5   12    57    363    437  \n",
       "NA                 3    9   66   381   1958   2417  \n",
       "Total          7  35  174  859  4250  21199  26524  "
      ]
     },
     "metadata": {},
     "output_type": "display_data"
    },
    {
     "name": "stderr",
     "output_type": "stream",
     "text": [
      "Saving 7 x 7 in image\n",
      "\n"
     ]
    },
    {
     "data": {
      "text/plain": [
       "              0  1   2    3    4     5      Total  \n",
       "anger         1   1    8   33   174    834   1051  \n",
       "anticipation      1    9   25   154    851   1040  \n",
       "disgust                5   10    82    395    492  \n",
       "fear                   3   15    93    543    654  \n",
       "joy               1    1   14   119    788    923  \n",
       "negative      1  10   29  142   604   3004   3790  \n",
       "positive          1    3   12   109    478    603  \n",
       "sadness           3   21   70   336   1529   1959  \n",
       "surprise               3   35   178   1157   1373  \n",
       "trust         5  15   83  437  2020   9662  12222  \n",
       "NA                3    9   66   381   1958   2417  \n",
       "Total         7  35  174  859  4250  21199  26524  "
      ]
     },
     "metadata": {},
     "output_type": "display_data"
    },
    {
     "name": "stderr",
     "output_type": "stream",
     "text": [
      "Saving 7 x 7 in image\n",
      "\n"
     ]
    },
    {
     "data": {
      "text/plain": [
       "           0  1   2    3    4     5      Total  \n",
       "diplomacy      3   24   84   469   2544   3124  \n",
       "economy    2  10   46  295  1327   6766   8446  \n",
       "military       1   14   43   274   1434   1766  \n",
       "politics   5  14   69  313  1526   7059   8986  \n",
       "society        4   12   58   273   1438   1785  \n",
       "NA             3    9   66   381   1958   2417  \n",
       "Total      7  35  174  859  4250  21199  26524  "
      ]
     },
     "metadata": {},
     "output_type": "display_data"
    }
   ],
   "source": [
    "bias1 <- 'R'\n",
    "bias2 <- 'R'\n",
    "keyword_prefix <- 'Right'\n",
    "\n",
    "df_keyword_plot <- total %>%\n",
    "  dplyr::filter(current_depth==0) %>%\n",
    "  dplyr::filter(Bias==bias1 | Bias==bias2)\n",
    "\n",
    "df_keyword_plot <- rbind(df_keyword_plot, do.call('rbind', apply(df_keyword_plot, 1, getChildren)))\n",
    "\n",
    "plotSentimentRatio(df_keyword_plot, keyword_prefix, 0)\n",
    "plotSentiment(df_keyword_plot, keyword_prefix, 0)\n",
    "plotBias(df_keyword_plot, keyword_prefix, 0)\n",
    "plotLaverGarry(df_keyword_plot, keyword_prefix, 0)\n",
    "plotNRC_el(df_keyword_plot, keyword_prefix, 0)\n",
    "plotTopic(df_keyword_plot, keyword_prefix, 0)"
   ]
  },
  {
   "cell_type": "code",
   "execution_count": 166,
   "id": "66f62c49-c788-4572-a9e9-59622d6d02fc",
   "metadata": {},
   "outputs": [
    {
     "name": "stderr",
     "output_type": "stream",
     "text": [
      "Saving 7 x 3 in image\n",
      "\n"
     ]
    },
    {
     "data": {
      "text/plain": [
       "          0   1   2    3     4     5      Total  \n",
       "negative   1   6   40   142   726   3386   4301  \n",
       "neutral    6  41  205   959  4433  21419  27063  \n",
       "positive   9  25  109   607  3215  16863  20828  \n",
       "Total     16  72  354  1708  8374  41668  52192  "
      ]
     },
     "metadata": {},
     "output_type": "display_data"
    },
    {
     "name": "stderr",
     "output_type": "stream",
     "text": [
      "Saving 7 x 3 in image\n",
      "\n"
     ]
    },
    {
     "data": {
      "text/plain": [
       "          0   1   2    3     4     5      Total  \n",
       "negative   5  29  129   543  2584  12557  15847  \n",
       "positive  11  43  225  1165  5790  29111  36345  \n",
       "NA         1   9   42   244  1248   6218   7762  \n",
       "Total     17  81  396  1952  9622  47886  59954  "
      ]
     },
     "metadata": {},
     "output_type": "display_data"
    },
    {
     "name": "stderr",
     "output_type": "stream",
     "text": [
      "Saving 7 x 7 in image\n",
      "\n"
     ]
    },
    {
     "data": {
      "text/plain": [
       "       0   1   2    3     4     5      Total  \n",
       "            3   46   337  2022  12364  14772  \n",
       "C           2   19   120   623   3068   3832  \n",
       "CL          1   11    86   564   3313   3975  \n",
       "CR     10  32  118   526  2298  10133  13117  \n",
       "L           2   11    57   304   1428   1802  \n",
       "R       7  41  191   826  3811  17580  22456  \n",
       "Total  17  81  396  1952  9622  47886  59954  "
      ]
     },
     "metadata": {},
     "output_type": "display_data"
    },
    {
     "name": "stderr",
     "output_type": "stream",
     "text": [
      "Saving 7 x 7 in image\n",
      "\n"
     ]
    },
    {
     "data": {
      "text/plain": [
       "               0   1   2    3     4     5      Total  \n",
       "CULTURE             2   18    74   486   2713   3293  \n",
       "ECONOMY         1   7   42   137   756   3542   4485  \n",
       "ENVIRONMENT         2    9    47   274   1481   1813  \n",
       "GROUPS              4   24   138   793   4507   5466  \n",
       "INSTITUTIONS   13  39  152   707  3158  14576  18645  \n",
       "LAW_AND_ORDER   1  15   84   473  2120  10242  12935  \n",
       "RURAL                    6    40   318   1976   2340  \n",
       "URBAN                    4    17    93    602    716  \n",
       "VALUES          1   3   15    71   361   1946   2397  \n",
       "NA              1   9   42   248  1263   6301   7864  \n",
       "Total          17  81  396  1952  9622  47886  59954  "
      ]
     },
     "metadata": {},
     "output_type": "display_data"
    },
    {
     "name": "stderr",
     "output_type": "stream",
     "text": [
      "Saving 7 x 7 in image\n",
      "\n"
     ]
    },
    {
     "data": {
      "text/plain": [
       "              0   1   2    3     4     5      Total  \n",
       "anger          1   1   10    59   274   1377   1722  \n",
       "anticipation       3   15    53   319   1679   2069  \n",
       "disgust                 7    30   213   1176   1426  \n",
       "fear                    6    37   234   1435   1712  \n",
       "joy                1    9    62   456   2717   3245  \n",
       "negative       1  11   39   203   938   4662   5854  \n",
       "positive       1   3   10    61   392   2001   2468  \n",
       "sadness        1   9   42   158   765   3552   4527  \n",
       "surprise                7    65   418   2716   3206  \n",
       "trust         12  44  209   976  4350  20270  25861  \n",
       "NA             1   9   42   248  1263   6301   7864  \n",
       "Total         17  81  396  1952  9622  47886  59954  "
      ]
     },
     "metadata": {},
     "output_type": "display_data"
    },
    {
     "name": "stderr",
     "output_type": "stream",
     "text": [
      "Saving 7 x 7 in image\n",
      "\n"
     ]
    },
    {
     "data": {
      "text/plain": [
       "           0   1   2    3     4     5      Total  \n",
       "diplomacy       4   37   165   959   5355   6520  \n",
       "economy     4  23  114   615  2898  14430  18084  \n",
       "military    1   3   28   123   747   3917   4819  \n",
       "politics   11  37  154   684  3198  14857  18941  \n",
       "society         5   21   117   557   3026   3726  \n",
       "NA          1   9   42   248  1263   6301   7864  \n",
       "Total      17  81  396  1952  9622  47886  59954  "
      ]
     },
     "metadata": {},
     "output_type": "display_data"
    }
   ],
   "source": [
    "bias1 <- 'R'\n",
    "bias2 <- 'CR'\n",
    "keyword_prefix <- 'Right-Center-Right'\n",
    "\n",
    "df_keyword_plot <- total %>%\n",
    "  dplyr::filter(current_depth==0) %>%\n",
    "  dplyr::filter(Bias==bias1 | Bias==bias2)\n",
    "\n",
    "df_keyword_plot <- rbind(df_keyword_plot, do.call('rbind', apply(df_keyword_plot, 1, getChildren)))\n",
    "\n",
    "plotSentimentRatio(df_keyword_plot, keyword_prefix, 0)\n",
    "plotSentiment(df_keyword_plot, keyword_prefix, 0)\n",
    "plotBias(df_keyword_plot, keyword_prefix, 0)\n",
    "plotLaverGarry(df_keyword_plot, keyword_prefix, 0)\n",
    "plotNRC_el(df_keyword_plot, keyword_prefix, 0)\n",
    "plotTopic(df_keyword_plot, keyword_prefix, 0)"
   ]
  },
  {
   "cell_type": "code",
   "execution_count": 167,
   "id": "b4cab911-6ee0-4756-a12f-0f03b14658f2",
   "metadata": {},
   "outputs": [
    {
     "name": "stderr",
     "output_type": "stream",
     "text": [
      "Saving 7 x 3 in image\n",
      "\n"
     ]
    },
    {
     "data": {
      "text/plain": [
       "          0   1   2    3     4     5      Total  \n",
       "negative   4   3   17    96   452   2023   2595  \n",
       "neutral    2  26  131   625  2910  14027  17721  \n",
       "positive   4  22  111   539  2809  14360  17845  \n",
       "Total     10  51  259  1260  6171  30410  38161  "
      ]
     },
     "metadata": {},
     "output_type": "display_data"
    },
    {
     "name": "stderr",
     "output_type": "stream",
     "text": [
      "Saving 7 x 3 in image\n",
      "\n"
     ]
    },
    {
     "data": {
      "text/plain": [
       "          0   1   2    3     4     5      Total  \n",
       "negative   5  13   70   348  1567   7586   9589  \n",
       "positive   5  38  189   912  4604  22824  28572  \n",
       "NA         2   9   40   218  1135   5998   7402  \n",
       "Total     12  60  299  1478  7306  36408  45563  "
      ]
     },
     "metadata": {},
     "output_type": "display_data"
    },
    {
     "name": "stderr",
     "output_type": "stream",
     "text": [
      "Saving 7 x 7 in image\n",
      "\n"
     ]
    },
    {
     "data": {
      "text/plain": [
       "       0   1   2    3     4     5      Total  \n",
       "            4   39   239  1345   7786   9413  \n",
       "C                4    28   138    786    956  \n",
       "CL         14   70   361  1906   9637  11988  \n",
       "CR          2   12    63   322   1653   2052  \n",
       "L      12  39  166   731  3244  14627  18819  \n",
       "R           1    8    56   351   1919   2335  \n",
       "Total  12  60  299  1478  7306  36408  45563  "
      ]
     },
     "metadata": {},
     "output_type": "display_data"
    },
    {
     "name": "stderr",
     "output_type": "stream",
     "text": [
      "Saving 7 x 7 in image\n",
      "\n"
     ]
    },
    {
     "data": {
      "text/plain": [
       "               0   1   2    3     4     5      Total  \n",
       "CULTURE         1   3    8    63   349   2040   2464  \n",
       "ECONOMY             1   13    68   373   1964   2419  \n",
       "ENVIRONMENT              2    19   136    887   1044  \n",
       "GROUPS          2   5   53   266  1462   7544   9332  \n",
       "INSTITUTIONS    7  39  169   749  3332  14976  19272  \n",
       "LAW_AND_ORDER            1     6    70    385    462  \n",
       "RURAL               2    7    37   187   1027   1260  \n",
       "URBAN                          3    17    123    143  \n",
       "VALUES              1    6    48   244   1455   1754  \n",
       "NA              2   9   40   219  1136   6007   7413  \n",
       "Total          12  60  299  1478  7306  36408  45563  "
      ]
     },
     "metadata": {},
     "output_type": "display_data"
    },
    {
     "name": "stderr",
     "output_type": "stream",
     "text": [
      "Saving 7 x 7 in image\n",
      "\n"
     ]
    },
    {
     "data": {
      "text/plain": [
       "              0   1   2    3     4     5      Total  \n",
       "anger                   2     4    33    166    205  \n",
       "anticipation   1   1    3    19   100    632    756  \n",
       "disgust        1   2    8    31   163    856   1061  \n",
       "fear                    2    11    80    411    504  \n",
       "joy            1   7   52   294  1606   8379  10339  \n",
       "negative                3    32   213   1308   1556  \n",
       "positive           1    4    35   155    924   1119  \n",
       "sadness            2   18    81   446   2213   2760  \n",
       "surprise           1    2    21   111    751    886  \n",
       "trust          7  37  165   731  3263  14761  18964  \n",
       "NA             2   9   40   219  1136   6007   7413  \n",
       "Total         12  60  299  1478  7306  36408  45563  "
      ]
     },
     "metadata": {},
     "output_type": "display_data"
    },
    {
     "name": "stderr",
     "output_type": "stream",
     "text": [
      "Saving 7 x 7 in image\n",
      "\n"
     ]
    },
    {
     "data": {
      "text/plain": [
       "           0   1   2    3     4     5      Total  \n",
       "diplomacy   2   8   59   322  1709   8849  10949  \n",
       "economy     1   2   12    56   356   2040   2467  \n",
       "military        2   13    74   379   2003   2471  \n",
       "politics    7  39  173   779  3520  16196  20714  \n",
       "society              2    28   206   1313   1549  \n",
       "NA          2   9   40   219  1136   6007   7413  \n",
       "Total      12  60  299  1478  7306  36408  45563  "
      ]
     },
     "metadata": {},
     "output_type": "display_data"
    }
   ],
   "source": [
    "bias1 <- 'L'\n",
    "bias2 <- 'L'\n",
    "keyword_prefix <- 'Left'\n",
    "\n",
    "df_keyword_plot <- total %>%\n",
    "  dplyr::filter(current_depth==0) %>%\n",
    "  dplyr::filter(Bias==bias1 | Bias==bias2)\n",
    "\n",
    "df_keyword_plot <- rbind(df_keyword_plot, do.call('rbind', apply(df_keyword_plot, 1, getChildren)))\n",
    "\n",
    "plotSentimentRatio(df_keyword_plot, keyword_prefix, 0)\n",
    "plotSentiment(df_keyword_plot, keyword_prefix, 0)\n",
    "plotBias(df_keyword_plot, keyword_prefix, 0)\n",
    "plotLaverGarry(df_keyword_plot, keyword_prefix, 0)\n",
    "plotNRC_el(df_keyword_plot, keyword_prefix, 0)\n",
    "plotTopic(df_keyword_plot, keyword_prefix, 0)"
   ]
  },
  {
   "cell_type": "code",
   "execution_count": null,
   "id": "f0e52908-0b2e-49ad-a707-8231758cc6e7",
   "metadata": {},
   "outputs": [],
   "source": [
    "bias1 <- 'L'\n",
    "bias2 <- 'CL'\n",
    "keyword_prefix <- 'Left-Center-Left'\n",
    "\n",
    "df_keyword_plot <- total %>%\n",
    "  dplyr::filter(current_depth==0) %>%\n",
    "  dplyr::filter(Bias==bias1 | Bias==bias2)\n",
    "\n",
    "df_keyword_plot <- rbind(df_keyword_plot, do.call('rbind', apply(df_keyword_plot, 1, getChildren)))\n",
    "\n",
    "plotSentimentRatio(df_keyword_plot, keyword_prefix, 0)\n",
    "plotSentiment(df_keyword_plot, keyword_prefix, 0)\n",
    "plotBias(df_keyword_plot, keyword_prefix, 0)\n",
    "plotLaverGarry(df_keyword_plot, keyword_prefix, 0)\n",
    "plotNRC_el(df_keyword_plot, keyword_prefix, 0)\n",
    "plotTopic(df_keyword_plot, keyword_prefix, 0)"
   ]
  },
  {
   "cell_type": "code",
   "execution_count": null,
   "id": "20d6bcb7-732d-41c2-8872-e531e0476dc0",
   "metadata": {},
   "outputs": [],
   "source": [
    "bias1 <- 'C'\n",
    "bias2 <- 'C'\n",
    "keyword_prefix <- 'Center'\n",
    "\n",
    "df_keyword_plot <- total %>%\n",
    "  dplyr::filter(current_depth==0) %>%\n",
    "  dplyr::filter(Bias==bias1 | Bias==bias2)\n",
    "\n",
    "df_keyword_plot <- rbind(df_keyword_plot, do.call('rbind', apply(df_keyword_plot, 1, getChildren)))\n",
    "\n",
    "plotSentimentRatio(df_keyword_plot, keyword_prefix, 0)\n",
    "plotSentiment(df_keyword_plot, keyword_prefix, 0)\n",
    "plotBias(df_keyword_plot, keyword_prefix, 0)\n",
    "plotLaverGarry(df_keyword_plot, keyword_prefix, 0)\n",
    "plotNRC_el(df_keyword_plot, keyword_prefix, 0)\n",
    "plotTopic(df_keyword_plot, keyword_prefix, 0)"
   ]
  },
  {
   "cell_type": "markdown",
   "id": "34653ca9-ad4b-420e-a83b-d06598b23c6a",
   "metadata": {},
   "source": [
    "# By Search Term"
   ]
  },
  {
   "cell_type": "code",
   "execution_count": 82,
   "id": "0e205e33-bdb7-49ae-9874-336cd53f50d3",
   "metadata": {},
   "outputs": [],
   "source": [
    "keywords <- c('feminism',\n",
    "'Border',\n",
    "'NRA',\n",
    "'Gun Control',\n",
    "' free speech',\n",
    "'climate change',\n",
    "'cultural appropriation',\n",
    "'welfare state',\n",
    "'immigration',\n",
    "' vaccine',\n",
    "' moderna',\n",
    "'planned parenthood')\n",
    "\n",
    "keyword_prefix <- 'Topics'\n",
    "\n",
    "df_keyword_plot <- filter(total, keyword %in% keywords)"
   ]
  },
  {
   "cell_type": "code",
   "execution_count": 84,
   "id": "56570c05-6d2b-43b9-85ee-93e38d52a2b6",
   "metadata": {},
   "outputs": [
    {
     "name": "stderr",
     "output_type": "stream",
     "text": [
      "Saving 7 x 3 in image\n",
      "\n"
     ]
    },
    {
     "data": {
      "text/plain": [
       "          0   1    2     3     4      5       Total   \n",
       "negative   2   13    82   332   1508    7239    9176  \n",
       "neutral   26  101   464  2073   9860   48005   60529  \n",
       "positive  25  105   522  2653  12841   64713   80859  \n",
       "Total     53  219  1068  5058  24209  119957  150564  "
      ]
     },
     "metadata": {},
     "output_type": "display_data"
    },
    {
     "name": "stderr",
     "output_type": "stream",
     "text": [
      "Saving 7 x 3 in image\n",
      "\n"
     ]
    },
    {
     "data": {
      "text/plain": [
       "          0   1    2     3     4      5       Total   \n",
       "negative   4   45   255  1055   4953   23955   30267  \n",
       "positive  49  174   813  4003  19256   96002  120297  \n",
       "NA         5   56   242  1200   5791   30088   37382  \n",
       "Total     58  275  1310  6258  30000  150045  187946  "
      ]
     },
     "metadata": {},
     "output_type": "display_data"
    },
    {
     "name": "stderr",
     "output_type": "stream",
     "text": [
      "Saving 7 x 7 in image\n",
      "\n"
     ]
    },
    {
     "data": {
      "text/plain": [
       "       0   1    2     3     4      5       Total   \n",
       "       26  114   576  2805  13641   71462   88624  \n",
       "C       5   35   183   945   4695   23258   29121  \n",
       "CL     22   86   359  1606   7383   34936   44392  \n",
       "CR      2    9    40   168    764    3295    4278  \n",
       "L       1   15    75   363   1818    9262   11534  \n",
       "R       2   16    77   371   1699    7832    9997  \n",
       "Total  58  275  1310  6258  30000  150045  187946  "
      ]
     },
     "metadata": {},
     "output_type": "display_data"
    },
    {
     "name": "stderr",
     "output_type": "stream",
     "text": [
      "Saving 7 x 7 in image\n",
      "\n"
     ]
    },
    {
     "data": {
      "text/plain": [
       "               0   1    2     3     4      5       Total   \n",
       "CULTURE              8    51   255   1370    7476    9160  \n",
       "ECONOMY         8   36   172   829   3733   17509   22287  \n",
       "ENVIRONMENT     3   13    70   405   2108   10909   13508  \n",
       "GROUPS          2   37   211  1051   5068   25623   31992  \n",
       "INSTITUTIONS   24   65   255  1099   5033   23046   29522  \n",
       "LAW_AND_ORDER        8    60   300   1404    7432    9204  \n",
       "RURAL           2    4    49   197   1098    5994    7344  \n",
       "URBAN                1     8    29    163     954    1155  \n",
       "VALUES         14   47   192   885   4195   20818   26151  \n",
       "NA              5   56   242  1208   5828   30284   37623  \n",
       "Total          58  275  1310  6258  30000  150045  187946  "
      ]
     },
     "metadata": {},
     "output_type": "display_data"
    },
    {
     "name": "stderr",
     "output_type": "stream",
     "text": [
      "Saving 7 x 7 in image\n",
      "\n"
     ]
    },
    {
     "data": {
      "text/plain": [
       "              0   1    2     3     4      5       Total   \n",
       "anger               3     9    45    215    1201    1473  \n",
       "anticipation        4    32   162    946    5261    6405  \n",
       "disgust        1    3    44   196   1166    6197    7607  \n",
       "fear           1   10    59   295   1505    7895    9765  \n",
       "joy            4   29   171   915   4480   23347   28946  \n",
       "negative       5   31   124   580   2808   13803   17351  \n",
       "positive       9   36   162   785   3664   18549   23205  \n",
       "sadness       10   39   181   815   3552   16088   20685  \n",
       "surprise       1   10    55   260   1272    6587    8185  \n",
       "trust         22   54   231   997   4564   20833   26701  \n",
       "NA             5   56   242  1208   5828   30284   37623  \n",
       "Total         58  275  1310  6258  30000  150045  187946  "
      ]
     },
     "metadata": {},
     "output_type": "display_data"
    },
    {
     "name": "stderr",
     "output_type": "stream",
     "text": [
      "Saving 7 x 7 in image\n",
      "\n"
     ]
    },
    {
     "data": {
      "text/plain": [
       "           0   1    2     3     4      5       Total   \n",
       "diplomacy   1   35   194   966   4750   24340   30286  \n",
       "economy     3   17   118   569   2872   15263   18842  \n",
       "military   11   43   208   912   4247   21057   26478  \n",
       "politics   34  105   409  1857   8398   38652   49455  \n",
       "society     4   19   139   746   3905   20449   25262  \n",
       "NA          5   56   242  1208   5828   30284   37623  \n",
       "Total      58  275  1310  6258  30000  150045  187946  "
      ]
     },
     "metadata": {},
     "output_type": "display_data"
    }
   ],
   "source": [
    "plotSentimentRatio(df_keyword_plot, keyword_prefix, 0)\n",
    "plotSentiment(df_keyword_plot, keyword_prefix, 0)\n",
    "plotBias(df_keyword_plot, keyword_prefix, 0)\n",
    "plotLaverGarry(df_keyword_plot, keyword_prefix, 0)\n",
    "plotNRC_el(df_keyword_plot, keyword_prefix, 0)\n",
    "plotTopic(df_keyword_plot, keyword_prefix, 0)"
   ]
  }
 ],
 "metadata": {
  "kernelspec": {
   "display_name": "R",
   "language": "R",
   "name": "ir"
  },
  "language_info": {
   "codemirror_mode": "r",
   "file_extension": ".r",
   "mimetype": "text/x-r-source",
   "name": "R",
   "pygments_lexer": "r",
   "version": "4.0.5"
  }
 },
 "nbformat": 4,
 "nbformat_minor": 5
}
