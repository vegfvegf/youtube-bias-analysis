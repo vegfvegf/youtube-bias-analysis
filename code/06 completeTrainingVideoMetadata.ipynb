{
 "cells": [
  {
   "cell_type": "code",
   "execution_count": 2,
   "metadata": {},
   "outputs": [],
   "source": [
    "#pip install youtube-search-python"
   ]
  },
  {
   "cell_type": "code",
   "execution_count": 2,
   "metadata": {},
   "outputs": [],
   "source": [
    "#from youtubesearchpython.__future__ import VideosSearch\n",
    "from youtubesearchpython import VideosSearch\n",
    "import pandas as pd\n",
    "from os import listdir\n",
    "from os import remove\n",
    "import csv\n",
    "import time\n",
    "import asyncio\n",
    "\n",
    "pd.set_option('display.max_rows', None)"
   ]
  },
  {
   "cell_type": "code",
   "execution_count": 3,
   "metadata": {},
   "outputs": [],
   "source": [
    "def getMetadata(video, file_name):\n",
    "    videosSearch = VideosSearch(video, limit = 1)\n",
    "    videosResult = videosSearch.result()\n",
    "    if videosResult and \"result\" in videosResult and len(videosResult[\"result\"]) > 0:\n",
    "        title = videosResult['result'][0]['title']\n",
    "        duration = videosResult['result'][0]['duration']\n",
    "\n",
    "        view_count_txt = videosResult['result'][0]['viewCount']['text']\n",
    "        view_count = 0\n",
    "        if view_count_txt and (view_count_txt.isnumeric()) == True:\n",
    "            view_count = int(view_count_txt.replace(\",\", \"\").split()[0])\n",
    "\n",
    "        width = 0\n",
    "        height = 0\n",
    "\n",
    "        description_snippet_txt = videosResult['result'][0]['descriptionSnippet']\n",
    "        description_snippet = \"\"\n",
    "        if description_snippet_txt:\n",
    "            description_snippet = description_snippet_txt[0]['text']\n",
    "\n",
    "        channel_id = videosResult['result'][0]['channel']['id']\n",
    "        channel_title = videosResult['result'][0]['channel']['name']\n",
    "        \n",
    "        published_time_txt = videosResult['result'][0]['publishedTime']\n",
    "        published_time = \"\"\n",
    "        if published_time_txt:\n",
    "            published_time = published_time_txt\n",
    "        \n",
    "        status = \"Success\"\n",
    "\n",
    "        with open(file_name, mode='a') as out_file:\n",
    "            result_writer = csv.writer(out_file, delimiter=',', quotechar='\"', quoting=csv.QUOTE_MINIMAL)\n",
    "            result_writer.writerow([video, title, duration, view_count, width, height, description_snippet, channel_id, channel_title, published_time, status])"
   ]
  },
  {
   "cell_type": "code",
   "execution_count": 8,
   "metadata": {},
   "outputs": [
    {
     "name": "stdout",
     "output_type": "stream",
     "text": [
      "New videos: 83\n",
      "0\n"
     ]
    }
   ],
   "source": [
    "# Create output file with header\n",
    "date = time.strftime('%Y-%m-%d_%H_%M_%S')\n",
    "file_name = \"processed/training_videos_metadata\" + date + \".csv\"\n",
    "\n",
    "# Get videos\n",
    "filepaths = [\"processed/\" + f for f in listdir(\"processed/\") if f.startswith(\"training_videos2022-01-10_15:18:33\")]\n",
    "df_videos = pd.concat(map(pd.read_csv, filepaths))\n",
    "\n",
    "# Get already processed videos\n",
    "filepaths = [\"processed/\" + f for f in listdir(\"processed/\") if f.startswith(\"training_videos_metadata2022-01-10_15_33_33.csv\")]\n",
    "df_processed = pd.concat(map(pd.read_csv, filepaths))\n",
    "\n",
    "# Create dataframe with unique videos\n",
    "df_new_unique_videos = pd.merge(df_videos, df_processed, on=\"video\", indicator=True, how='outer').query('_merge==\"left_only\"').drop('_merge', axis=1)\n",
    "\n",
    "with open(file_name, mode='a') as out_file:\n",
    "    result_writer = csv.writer(out_file, delimiter=',', quotechar='\"', quoting=csv.QUOTE_MINIMAL)\n",
    "    result_writer.writerow([\"video\", \"title\", \"duration\", \"view_count\", \"width\", \"height\", \"description_snippet\", \"channel_id\", \"channel_title\", \"published_time\", \"status\"])\n",
    "\n",
    "print(\"New videos:\", len(df_new_unique_videos))\n",
    "\n",
    "i = 0\n",
    "for index, row in df_new_unique_videos.iterrows():\n",
    "    getMetadata(row[\"video\"], file_name)\n",
    "    if i % 500 == 0: \n",
    "        print(i)\n",
    "    i += 1"
   ]
  }
 ],
 "metadata": {
  "instance_type": "ml.t3.medium",
  "kernelspec": {
   "display_name": "Python 3 (Data Science)",
   "language": "python",
   "name": "python3__SAGEMAKER_INTERNAL__arn:aws:sagemaker:us-east-2:429704687514:image/datascience-1.0"
  },
  "language_info": {
   "codemirror_mode": {
    "name": "ipython",
    "version": 3
   },
   "file_extension": ".py",
   "mimetype": "text/x-python",
   "name": "python",
   "nbconvert_exporter": "python",
   "pygments_lexer": "ipython3",
   "version": "3.7.10"
  }
 },
 "nbformat": 4,
 "nbformat_minor": 4
}
