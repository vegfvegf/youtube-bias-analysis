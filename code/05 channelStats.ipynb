{
 "cells": [
  {
   "cell_type": "code",
   "execution_count": 4,
   "metadata": {},
   "outputs": [
    {
     "name": "stdout",
     "output_type": "stream",
     "text": [
      "/opt/conda/lib/python3.7/site-packages/secretstorage/dhcrypto.py:16: CryptographyDeprecationWarning: int_from_bytes is deprecated, use int.from_bytes instead\n",
      "  from cryptography.utils import int_from_bytes\n",
      "/opt/conda/lib/python3.7/site-packages/secretstorage/util.py:25: CryptographyDeprecationWarning: int_from_bytes is deprecated, use int.from_bytes instead\n",
      "  from cryptography.utils import int_from_bytes\n",
      "Collecting youtube-search-python\n",
      "  Using cached youtube_search_python-1.5.3-py3-none-any.whl (73 kB)\n",
      "Collecting httpx>=0.14.2\n",
      "  Downloading httpx-0.21.3-py3-none-any.whl (83 kB)\n",
      "     |████████████████████████████████| 83 kB 153 kB/s             \n",
      "\u001b[?25hRequirement already satisfied: certifi in /opt/conda/lib/python3.7/site-packages (from httpx>=0.14.2->youtube-search-python) (2021.10.8)\n",
      "Requirement already satisfied: charset-normalizer in /opt/conda/lib/python3.7/site-packages (from httpx>=0.14.2->youtube-search-python) (2.0.4)\n",
      "Collecting sniffio\n",
      "  Using cached sniffio-1.2.0-py3-none-any.whl (10 kB)\n",
      "Collecting httpcore<0.15.0,>=0.14.0\n",
      "  Downloading httpcore-0.14.4-py3-none-any.whl (59 kB)\n",
      "     |████████████████████████████████| 59 kB 753 kB/s             \n",
      "\u001b[?25hCollecting rfc3986[idna2008]<2,>=1.3\n",
      "  Using cached rfc3986-1.5.0-py2.py3-none-any.whl (31 kB)\n",
      "Collecting h11<0.13,>=0.11\n",
      "  Using cached h11-0.12.0-py3-none-any.whl (54 kB)\n",
      "Collecting anyio==3.*\n",
      "  Downloading anyio-3.5.0-py3-none-any.whl (79 kB)\n",
      "     |████████████████████████████████| 79 kB 481 kB/s             \n",
      "\u001b[?25hRequirement already satisfied: typing-extensions in /opt/conda/lib/python3.7/site-packages (from anyio==3.*->httpcore<0.15.0,>=0.14.0->httpx>=0.14.2->youtube-search-python) (4.0.1)\n",
      "Requirement already satisfied: idna>=2.8 in /opt/conda/lib/python3.7/site-packages (from anyio==3.*->httpcore<0.15.0,>=0.14.0->httpx>=0.14.2->youtube-search-python) (2.8)\n",
      "Installing collected packages: sniffio, rfc3986, h11, anyio, httpcore, httpx, youtube-search-python\n",
      "Successfully installed anyio-3.5.0 h11-0.12.0 httpcore-0.14.4 httpx-0.21.3 rfc3986-1.5.0 sniffio-1.2.0 youtube-search-python-1.5.3\n",
      "\u001b[33mWARNING: Running pip as the 'root' user can result in broken permissions and conflicting behaviour with the system package manager. It is recommended to use a virtual environment instead: https://pip.pypa.io/warnings/venv\u001b[0m\n",
      "/opt/conda/lib/python3.7/site-packages/secretstorage/dhcrypto.py:16: CryptographyDeprecationWarning: int_from_bytes is deprecated, use int.from_bytes instead\n",
      "  from cryptography.utils import int_from_bytes\n",
      "/opt/conda/lib/python3.7/site-packages/secretstorage/util.py:25: CryptographyDeprecationWarning: int_from_bytes is deprecated, use int.from_bytes instead\n",
      "  from cryptography.utils import int_from_bytes\n",
      "Collecting google_auth_oauthlib\n",
      "  Using cached google_auth_oauthlib-0.4.6-py2.py3-none-any.whl (18 kB)\n",
      "Collecting google-auth>=1.0.0\n",
      "  Using cached google_auth-2.3.3-py2.py3-none-any.whl (155 kB)\n",
      "Collecting requests-oauthlib>=0.7.0\n",
      "  Using cached requests_oauthlib-1.3.0-py2.py3-none-any.whl (23 kB)\n",
      "Collecting cachetools<5.0,>=2.0.0\n",
      "  Using cached cachetools-4.2.4-py3-none-any.whl (10 kB)\n",
      "Requirement already satisfied: setuptools>=40.3.0 in /opt/conda/lib/python3.7/site-packages (from google-auth>=1.0.0->google_auth_oauthlib) (59.5.0)\n",
      "Requirement already satisfied: rsa<5,>=3.1.4 in /opt/conda/lib/python3.7/site-packages (from google-auth>=1.0.0->google_auth_oauthlib) (4.8)\n",
      "Requirement already satisfied: six>=1.9.0 in /opt/conda/lib/python3.7/site-packages (from google-auth>=1.0.0->google_auth_oauthlib) (1.14.0)\n",
      "Collecting pyasn1-modules>=0.2.1\n",
      "  Using cached pyasn1_modules-0.2.8-py2.py3-none-any.whl (155 kB)\n",
      "Requirement already satisfied: requests>=2.0.0 in /opt/conda/lib/python3.7/site-packages (from requests-oauthlib>=0.7.0->google_auth_oauthlib) (2.26.0)\n",
      "Collecting oauthlib>=3.0.0\n",
      "  Using cached oauthlib-3.1.1-py2.py3-none-any.whl (146 kB)\n",
      "Requirement already satisfied: pyasn1<0.5.0,>=0.4.6 in /opt/conda/lib/python3.7/site-packages (from pyasn1-modules>=0.2.1->google-auth>=1.0.0->google_auth_oauthlib) (0.4.8)\n",
      "Requirement already satisfied: charset-normalizer~=2.0.0 in /opt/conda/lib/python3.7/site-packages (from requests>=2.0.0->requests-oauthlib>=0.7.0->google_auth_oauthlib) (2.0.4)\n",
      "Requirement already satisfied: idna<4,>=2.5 in /opt/conda/lib/python3.7/site-packages (from requests>=2.0.0->requests-oauthlib>=0.7.0->google_auth_oauthlib) (2.8)\n",
      "Requirement already satisfied: urllib3<1.27,>=1.21.1 in /opt/conda/lib/python3.7/site-packages (from requests>=2.0.0->requests-oauthlib>=0.7.0->google_auth_oauthlib) (1.26.7)\n",
      "Requirement already satisfied: certifi>=2017.4.17 in /opt/conda/lib/python3.7/site-packages (from requests>=2.0.0->requests-oauthlib>=0.7.0->google_auth_oauthlib) (2021.10.8)\n",
      "Installing collected packages: pyasn1-modules, oauthlib, cachetools, requests-oauthlib, google-auth, google-auth-oauthlib\n",
      "Successfully installed cachetools-4.2.4 google-auth-2.3.3 google-auth-oauthlib-0.4.6 oauthlib-3.1.1 pyasn1-modules-0.2.8 requests-oauthlib-1.3.0\n",
      "\u001b[33mWARNING: Running pip as the 'root' user can result in broken permissions and conflicting behaviour with the system package manager. It is recommended to use a virtual environment instead: https://pip.pypa.io/warnings/venv\u001b[0m\n",
      "/opt/conda/lib/python3.7/site-packages/secretstorage/dhcrypto.py:16: CryptographyDeprecationWarning: int_from_bytes is deprecated, use int.from_bytes instead\n",
      "  from cryptography.utils import int_from_bytes\n",
      "/opt/conda/lib/python3.7/site-packages/secretstorage/util.py:25: CryptographyDeprecationWarning: int_from_bytes is deprecated, use int.from_bytes instead\n",
      "  from cryptography.utils import int_from_bytes\n",
      "Collecting google-api-python-client\n",
      "  Downloading google_api_python_client-2.35.0-py2.py3-none-any.whl (8.0 MB)\n",
      "     |████████████████████████████████| 8.0 MB 5.1 MB/s            \n",
      "\u001b[?25hRequirement already satisfied: google-auth<3.0.0dev,>=1.16.0 in /opt/conda/lib/python3.7/site-packages (from google-api-python-client) (2.3.3)\n",
      "Collecting google-api-core<3.0.0dev,>=1.21.0\n",
      "  Downloading google_api_core-2.4.0-py2.py3-none-any.whl (111 kB)\n",
      "     |████████████████████████████████| 111 kB 80.1 MB/s            \n",
      "\u001b[?25hCollecting uritemplate<5,>=3.0.1\n",
      "  Using cached uritemplate-4.1.1-py2.py3-none-any.whl (10 kB)\n",
      "Collecting google-auth-httplib2>=0.1.0\n",
      "  Using cached google_auth_httplib2-0.1.0-py2.py3-none-any.whl (9.3 kB)\n",
      "Collecting httplib2<1dev,>=0.15.0\n",
      "  Using cached httplib2-0.20.2-py3-none-any.whl (96 kB)\n",
      "Collecting googleapis-common-protos<2.0dev,>=1.52.0\n",
      "  Using cached googleapis_common_protos-1.54.0-py2.py3-none-any.whl (207 kB)\n",
      "Requirement already satisfied: requests<3.0.0dev,>=2.18.0 in /opt/conda/lib/python3.7/site-packages (from google-api-core<3.0.0dev,>=1.21.0->google-api-python-client) (2.26.0)\n",
      "Requirement already satisfied: protobuf>=3.12.0 in /opt/conda/lib/python3.7/site-packages (from google-api-core<3.0.0dev,>=1.21.0->google-api-python-client) (3.19.1)\n",
      "Requirement already satisfied: setuptools>=40.3.0 in /opt/conda/lib/python3.7/site-packages (from google-api-core<3.0.0dev,>=1.21.0->google-api-python-client) (59.5.0)\n",
      "Requirement already satisfied: rsa<5,>=3.1.4 in /opt/conda/lib/python3.7/site-packages (from google-auth<3.0.0dev,>=1.16.0->google-api-python-client) (4.8)\n",
      "Requirement already satisfied: pyasn1-modules>=0.2.1 in /opt/conda/lib/python3.7/site-packages (from google-auth<3.0.0dev,>=1.16.0->google-api-python-client) (0.2.8)\n",
      "Requirement already satisfied: cachetools<5.0,>=2.0.0 in /opt/conda/lib/python3.7/site-packages (from google-auth<3.0.0dev,>=1.16.0->google-api-python-client) (4.2.4)\n",
      "Requirement already satisfied: six>=1.9.0 in /opt/conda/lib/python3.7/site-packages (from google-auth<3.0.0dev,>=1.16.0->google-api-python-client) (1.14.0)\n",
      "Requirement already satisfied: pyparsing!=3.0.0,!=3.0.1,!=3.0.2,!=3.0.3,<4,>=2.4.2 in /opt/conda/lib/python3.7/site-packages (from httplib2<1dev,>=0.15.0->google-api-python-client) (2.4.6)\n",
      "Requirement already satisfied: pyasn1<0.5.0,>=0.4.6 in /opt/conda/lib/python3.7/site-packages (from pyasn1-modules>=0.2.1->google-auth<3.0.0dev,>=1.16.0->google-api-python-client) (0.4.8)\n",
      "Requirement already satisfied: charset-normalizer~=2.0.0 in /opt/conda/lib/python3.7/site-packages (from requests<3.0.0dev,>=2.18.0->google-api-core<3.0.0dev,>=1.21.0->google-api-python-client) (2.0.4)\n",
      "Requirement already satisfied: certifi>=2017.4.17 in /opt/conda/lib/python3.7/site-packages (from requests<3.0.0dev,>=2.18.0->google-api-core<3.0.0dev,>=1.21.0->google-api-python-client) (2021.10.8)\n",
      "Requirement already satisfied: idna<4,>=2.5 in /opt/conda/lib/python3.7/site-packages (from requests<3.0.0dev,>=2.18.0->google-api-core<3.0.0dev,>=1.21.0->google-api-python-client) (2.8)\n",
      "Requirement already satisfied: urllib3<1.27,>=1.21.1 in /opt/conda/lib/python3.7/site-packages (from requests<3.0.0dev,>=2.18.0->google-api-core<3.0.0dev,>=1.21.0->google-api-python-client) (1.26.7)\n",
      "Installing collected packages: httplib2, googleapis-common-protos, uritemplate, google-auth-httplib2, google-api-core, google-api-python-client\n",
      "Successfully installed google-api-core-2.4.0 google-api-python-client-2.35.0 google-auth-httplib2-0.1.0 googleapis-common-protos-1.54.0 httplib2-0.20.2 uritemplate-4.1.1\n",
      "\u001b[33mWARNING: Running pip as the 'root' user can result in broken permissions and conflicting behaviour with the system package manager. It is recommended to use a virtual environment instead: https://pip.pypa.io/warnings/venv\u001b[0m\n"
     ]
    }
   ],
   "source": [
    "#!pip install youtube-search-python\n",
    "#!pip install google_auth_oauthlib\n",
    "#!pip install google-api-python-client"
   ]
  },
  {
   "cell_type": "code",
   "execution_count": 5,
   "metadata": {},
   "outputs": [],
   "source": [
    "import pandas as pd\n",
    "from os import listdir\n",
    "import csv\n",
    "import time\n",
    "\n",
    "from youtubesearchpython import *\n",
    "\n",
    "import os\n",
    "\n",
    "import google_auth_oauthlib.flow\n",
    "import googleapiclient.discovery\n",
    "import googleapiclient.errors\n",
    "\n",
    "pd.set_option(\"display.max_rows\", None)"
   ]
  },
  {
   "cell_type": "code",
   "execution_count": 12,
   "metadata": {},
   "outputs": [],
   "source": [
    "# Get videos\n",
    "filepaths = [\"results/\" + f for f in listdir(\"results/\") if f.endswith(\".csv\")]\n",
    "df_videos = pd.concat(map(pd.read_csv, filepaths))\n",
    "\n",
    "# Get videos metadata\n",
    "filepaths = [\"processed/\" + f for f in listdir(\"processed/\") if f.startswith(\"unique_videos_metadata\")]\n",
    "df_processed = pd.concat(map(pd.read_csv, filepaths))"
   ]
  },
  {
   "cell_type": "code",
   "execution_count": 13,
   "metadata": {},
   "outputs": [
    {
     "name": "stdout",
     "output_type": "stream",
     "text": [
      "(462986, 14)\n",
      "(56424, 11)\n"
     ]
    }
   ],
   "source": [
    "print(df_videos.shape)\n",
    "print(df_processed.shape)"
   ]
  },
  {
   "cell_type": "code",
   "execution_count": 14,
   "metadata": {},
   "outputs": [],
   "source": [
    "df_processed_channel = df_processed.groupby([\"channel_title\", \"channel_id\"]).size().sort_values(ascending=False).to_frame(\"unique_count\").reset_index()"
   ]
  },
  {
   "cell_type": "code",
   "execution_count": 15,
   "metadata": {},
   "outputs": [],
   "source": [
    "df_videos=df_videos.merge(df_processed, on=\"video\")"
   ]
  },
  {
   "cell_type": "code",
   "execution_count": 16,
   "metadata": {},
   "outputs": [
    {
     "data": {
      "text/plain": [
       "keyword                461982\n",
       "video                  461982\n",
       "parent_video           461802\n",
       "current_depth          461982\n",
       "pubdate                459424\n",
       "likes                  461982\n",
       "dislikes               461982\n",
       "rating                 461982\n",
       "reco_count             461982\n",
       "fetch_time             461982\n",
       "reco_list               92577\n",
       "elapsed                461982\n",
       "trace                  461982\n",
       "parent_trace           461982\n",
       "title                  461982\n",
       "duration               458929\n",
       "view_count             461982\n",
       "width                  461982\n",
       "height                 461982\n",
       "description_snippet    457505\n",
       "channel_id             461982\n",
       "channel_title          461982\n",
       "published_time         456559\n",
       "status                 461982\n",
       "dtype: int64"
      ]
     },
     "execution_count": 16,
     "metadata": {},
     "output_type": "execute_result"
    }
   ],
   "source": [
    "df_videos.count()"
   ]
  },
  {
   "cell_type": "code",
   "execution_count": 17,
   "metadata": {},
   "outputs": [],
   "source": [
    "df_videos_channel = df_videos.groupby([\"channel_title\", \"channel_id\"]).size().sort_values(ascending=False).to_frame(\"total_count\").reset_index()"
   ]
  },
  {
   "cell_type": "code",
   "execution_count": 18,
   "metadata": {},
   "outputs": [
    {
     "data": {
      "text/html": [
       "<div>\n",
       "<style scoped>\n",
       "    .dataframe tbody tr th:only-of-type {\n",
       "        vertical-align: middle;\n",
       "    }\n",
       "\n",
       "    .dataframe tbody tr th {\n",
       "        vertical-align: top;\n",
       "    }\n",
       "\n",
       "    .dataframe thead th {\n",
       "        text-align: right;\n",
       "    }\n",
       "</style>\n",
       "<table border=\"1\" class=\"dataframe\">\n",
       "  <thead>\n",
       "    <tr style=\"text-align: right;\">\n",
       "      <th></th>\n",
       "      <th>channel_title</th>\n",
       "      <th>channel_id</th>\n",
       "      <th>unique_count</th>\n",
       "    </tr>\n",
       "  </thead>\n",
       "  <tbody>\n",
       "    <tr>\n",
       "      <th>0</th>\n",
       "      <td>TEDx Talks</td>\n",
       "      <td>UCsT0YIqwnpJCM-mx7-gSA4Q</td>\n",
       "      <td>1289</td>\n",
       "    </tr>\n",
       "    <tr>\n",
       "      <th>1</th>\n",
       "      <td>Forbes Breaking News</td>\n",
       "      <td>UCg40OxZ1GYh3u3jBntB6DLg</td>\n",
       "      <td>762</td>\n",
       "    </tr>\n",
       "    <tr>\n",
       "      <th>2</th>\n",
       "      <td>VICE News</td>\n",
       "      <td>UCZaT_X_mc0BI-djXOlfhqWQ</td>\n",
       "      <td>684</td>\n",
       "    </tr>\n",
       "    <tr>\n",
       "      <th>3</th>\n",
       "      <td>Fox News</td>\n",
       "      <td>UCXIJgqnII2ZOINSWNOGFThA</td>\n",
       "      <td>673</td>\n",
       "    </tr>\n",
       "    <tr>\n",
       "      <th>4</th>\n",
       "      <td>PBS NewsHour</td>\n",
       "      <td>UC6ZFN9Tx6xh-skXCuRHCDpQ</td>\n",
       "      <td>403</td>\n",
       "    </tr>\n",
       "  </tbody>\n",
       "</table>\n",
       "</div>"
      ],
      "text/plain": [
       "          channel_title                channel_id  unique_count\n",
       "0            TEDx Talks  UCsT0YIqwnpJCM-mx7-gSA4Q          1289\n",
       "1  Forbes Breaking News  UCg40OxZ1GYh3u3jBntB6DLg           762\n",
       "2             VICE News  UCZaT_X_mc0BI-djXOlfhqWQ           684\n",
       "3              Fox News  UCXIJgqnII2ZOINSWNOGFThA           673\n",
       "4          PBS NewsHour  UC6ZFN9Tx6xh-skXCuRHCDpQ           403"
      ]
     },
     "execution_count": 18,
     "metadata": {},
     "output_type": "execute_result"
    }
   ],
   "source": [
    "df_processed_channel.head()"
   ]
  },
  {
   "cell_type": "code",
   "execution_count": 19,
   "metadata": {},
   "outputs": [],
   "source": [
    "df_videos_channel=df_videos_channel.merge(df_processed_channel[[\"channel_id\", \"unique_count\"]], on=\"channel_id\")"
   ]
  },
  {
   "cell_type": "code",
   "execution_count": 20,
   "metadata": {},
   "outputs": [
    {
     "data": {
      "text/html": [
       "<div>\n",
       "<style scoped>\n",
       "    .dataframe tbody tr th:only-of-type {\n",
       "        vertical-align: middle;\n",
       "    }\n",
       "\n",
       "    .dataframe tbody tr th {\n",
       "        vertical-align: top;\n",
       "    }\n",
       "\n",
       "    .dataframe thead th {\n",
       "        text-align: right;\n",
       "    }\n",
       "</style>\n",
       "<table border=\"1\" class=\"dataframe\">\n",
       "  <thead>\n",
       "    <tr style=\"text-align: right;\">\n",
       "      <th></th>\n",
       "      <th>channel_title</th>\n",
       "      <th>channel_id</th>\n",
       "      <th>total_count</th>\n",
       "      <th>unique_count</th>\n",
       "    </tr>\n",
       "  </thead>\n",
       "  <tbody>\n",
       "    <tr>\n",
       "      <th>0</th>\n",
       "      <td>Fox News</td>\n",
       "      <td>UCXIJgqnII2ZOINSWNOGFThA</td>\n",
       "      <td>42836</td>\n",
       "      <td>673</td>\n",
       "    </tr>\n",
       "    <tr>\n",
       "      <th>1</th>\n",
       "      <td>MIT OpenCourseWare</td>\n",
       "      <td>UCEBb1b_L6zDS3xTUrIALZOw</td>\n",
       "      <td>19836</td>\n",
       "      <td>277</td>\n",
       "    </tr>\n",
       "    <tr>\n",
       "      <th>2</th>\n",
       "      <td>The B1M</td>\n",
       "      <td>UC6n8I1UDTKP1IWjQMg6_TwA</td>\n",
       "      <td>16270</td>\n",
       "      <td>117</td>\n",
       "    </tr>\n",
       "    <tr>\n",
       "      <th>3</th>\n",
       "      <td>Dr. John Campbell</td>\n",
       "      <td>UCF9IOB2TExg3QIBupFtBDxg</td>\n",
       "      <td>14919</td>\n",
       "      <td>156</td>\n",
       "    </tr>\n",
       "    <tr>\n",
       "      <th>4</th>\n",
       "      <td>Forbes Breaking News</td>\n",
       "      <td>UCg40OxZ1GYh3u3jBntB6DLg</td>\n",
       "      <td>14445</td>\n",
       "      <td>762</td>\n",
       "    </tr>\n",
       "  </tbody>\n",
       "</table>\n",
       "</div>"
      ],
      "text/plain": [
       "          channel_title                channel_id  total_count  unique_count\n",
       "0              Fox News  UCXIJgqnII2ZOINSWNOGFThA        42836           673\n",
       "1    MIT OpenCourseWare  UCEBb1b_L6zDS3xTUrIALZOw        19836           277\n",
       "2               The B1M  UC6n8I1UDTKP1IWjQMg6_TwA        16270           117\n",
       "3     Dr. John Campbell  UCF9IOB2TExg3QIBupFtBDxg        14919           156\n",
       "4  Forbes Breaking News  UCg40OxZ1GYh3u3jBntB6DLg        14445           762"
      ]
     },
     "execution_count": 20,
     "metadata": {},
     "output_type": "execute_result"
    }
   ],
   "source": [
    "df_videos_channel.head()"
   ]
  },
  {
   "cell_type": "code",
   "execution_count": 6,
   "metadata": {},
   "outputs": [
    {
     "name": "stdout",
     "output_type": "stream",
     "text": [
      "Please visit this URL to authorize this application: https://accounts.google.com/o/oauth2/auth?response_type=code&client_id=263597259024-fi9beqgg6a1pk5p457gjg86s53gf0ikh.apps.googleusercontent.com&redirect_uri=urn%3Aietf%3Awg%3Aoauth%3A2.0%3Aoob&scope=https%3A%2F%2Fwww.googleapis.com%2Fauth%2Fyoutube.readonly&state=QtlnO67wrxVmw8OpotaCTHC82w803T&prompt=consent&access_type=offline\n"
     ]
    },
    {
     "name": "stdin",
     "output_type": "stream",
     "text": [
      "Enter the authorization code:  4/1AX4XfWjVMVB0w0DvemH729kle2ZzQ50nz52i81gYcxut4oSgh_j-JPglwI8\n"
     ]
    }
   ],
   "source": [
    "scopes = [\"https://www.googleapis.com/auth/youtube.readonly\"]\n",
    "os.environ[\"OAUTHLIB_INSECURE_TRANSPORT\"] = \"1\"\n",
    "\n",
    "api_service_name = \"youtube\"\n",
    "api_version = \"v3\"\n",
    "client_secrets_file = \"client_secret_263597259024-fi9beqgg6a1pk5p457gjg86s53gf0ikh.apps.googleusercontent.com.json\"\n",
    "\n",
    "# Get credentials and create an API client\n",
    "flow = google_auth_oauthlib.flow.InstalledAppFlow.from_client_secrets_file(\n",
    "    client_secrets_file, scopes)\n",
    "credentials = flow.run_console()\n",
    "youtube = googleapiclient.discovery.build(\n",
    "    api_service_name, api_version, credentials=credentials)"
   ]
  },
  {
   "cell_type": "code",
   "execution_count": 18,
   "metadata": {},
   "outputs": [],
   "source": [
    "def getUploads(channel):\n",
    "    #print(\"Requested:\", channel)\n",
    "    request = youtube.channels().list(\n",
    "        part=\"contentDetails\",\n",
    "        id=channel,\n",
    "        maxResults=5\n",
    "    )\n",
    "    response = request.execute()\n",
    "\n",
    "    if response and \"items\" in response:\n",
    "        uploads = response.get(\"items\")[0].get(\"contentDetails\").get(\"relatedPlaylists\").get(\"uploads\")\n",
    "        #print(\"Uploads:\", uploads)\n",
    "        return(uploads)\n",
    "    else:\n",
    "        #print(\"Returning Not found\")\n",
    "        return(\"Not fonud\")"
   ]
  },
  {
   "cell_type": "code",
   "execution_count": 25,
   "metadata": {},
   "outputs": [],
   "source": [
    "def getVideos(uploads, filename):\n",
    "    #print(channel)\n",
    "    playlist = Playlist(uploads)\n",
    "\n",
    "    if playlist.hasMoreVideos:\n",
    "        playlist.getNextVideos()\n",
    "    \n",
    "    for row in playlist.videos:\n",
    "        video = row[\"id\"]\n",
    "        title = row[\"title\"]\n",
    "        duration = row[\"duration\"]\n",
    "        view_count = 0\n",
    "        width = 0\n",
    "        height = 0\n",
    "        desciption_snippet = row[\"title\"]\n",
    "        channel_id = row[\"channel\"][\"id\"]\n",
    "        channel_title = row[\"channel\"][\"name\"]\n",
    "        published_time = \"9999 days ago\"\n",
    "        status = 'Success'\n",
    "\n",
    "        with open(file_name, mode='a') as out_file:\n",
    "            result_writer = csv.writer(out_file, delimiter=',', quotechar='\"', quoting=csv.QUOTE_MINIMAL)\n",
    "            result_writer.writerow([video, title, duration, view_count, width, height, desciption_snippet, channel_id, channel_title, published_time, status])"
   ]
  },
  {
   "cell_type": "code",
   "execution_count": 26,
   "metadata": {},
   "outputs": [],
   "source": [
    "df_videos_channel = df_videos_channel[df_videos_channel[\"total_count\"]>=400]"
   ]
  },
  {
   "cell_type": "code",
   "execution_count": 27,
   "metadata": {},
   "outputs": [],
   "source": [
    "df_videos_channel[\"uploads\"] = df_videos_channel[\"channel_id\"].apply(getUploads)"
   ]
  },
  {
   "cell_type": "code",
   "execution_count": 31,
   "metadata": {},
   "outputs": [
    {
     "name": "stdout",
     "output_type": "stream",
     "text": [
      "151\n"
     ]
    },
    {
     "data": {
      "text/html": [
       "<div>\n",
       "<style scoped>\n",
       "    .dataframe tbody tr th:only-of-type {\n",
       "        vertical-align: middle;\n",
       "    }\n",
       "\n",
       "    .dataframe tbody tr th {\n",
       "        vertical-align: top;\n",
       "    }\n",
       "\n",
       "    .dataframe thead th {\n",
       "        text-align: right;\n",
       "    }\n",
       "</style>\n",
       "<table border=\"1\" class=\"dataframe\">\n",
       "  <thead>\n",
       "    <tr style=\"text-align: right;\">\n",
       "      <th></th>\n",
       "      <th>channel_title</th>\n",
       "      <th>channel_id</th>\n",
       "      <th>total_count</th>\n",
       "      <th>unique_count</th>\n",
       "      <th>uploads</th>\n",
       "    </tr>\n",
       "  </thead>\n",
       "  <tbody>\n",
       "    <tr>\n",
       "      <th>0</th>\n",
       "      <td>Fox News</td>\n",
       "      <td>UCXIJgqnII2ZOINSWNOGFThA</td>\n",
       "      <td>42836</td>\n",
       "      <td>673</td>\n",
       "      <td>UUXIJgqnII2ZOINSWNOGFThA</td>\n",
       "    </tr>\n",
       "    <tr>\n",
       "      <th>1</th>\n",
       "      <td>MIT OpenCourseWare</td>\n",
       "      <td>UCEBb1b_L6zDS3xTUrIALZOw</td>\n",
       "      <td>19836</td>\n",
       "      <td>277</td>\n",
       "      <td>UUEBb1b_L6zDS3xTUrIALZOw</td>\n",
       "    </tr>\n",
       "    <tr>\n",
       "      <th>2</th>\n",
       "      <td>The B1M</td>\n",
       "      <td>UC6n8I1UDTKP1IWjQMg6_TwA</td>\n",
       "      <td>16270</td>\n",
       "      <td>117</td>\n",
       "      <td>UU6n8I1UDTKP1IWjQMg6_TwA</td>\n",
       "    </tr>\n",
       "    <tr>\n",
       "      <th>3</th>\n",
       "      <td>Dr. John Campbell</td>\n",
       "      <td>UCF9IOB2TExg3QIBupFtBDxg</td>\n",
       "      <td>14919</td>\n",
       "      <td>156</td>\n",
       "      <td>UUF9IOB2TExg3QIBupFtBDxg</td>\n",
       "    </tr>\n",
       "    <tr>\n",
       "      <th>4</th>\n",
       "      <td>Forbes Breaking News</td>\n",
       "      <td>UCg40OxZ1GYh3u3jBntB6DLg</td>\n",
       "      <td>14445</td>\n",
       "      <td>762</td>\n",
       "      <td>UUg40OxZ1GYh3u3jBntB6DLg</td>\n",
       "    </tr>\n",
       "  </tbody>\n",
       "</table>\n",
       "</div>"
      ],
      "text/plain": [
       "          channel_title                channel_id  total_count  unique_count  \\\n",
       "0              Fox News  UCXIJgqnII2ZOINSWNOGFThA        42836           673   \n",
       "1    MIT OpenCourseWare  UCEBb1b_L6zDS3xTUrIALZOw        19836           277   \n",
       "2               The B1M  UC6n8I1UDTKP1IWjQMg6_TwA        16270           117   \n",
       "3     Dr. John Campbell  UCF9IOB2TExg3QIBupFtBDxg        14919           156   \n",
       "4  Forbes Breaking News  UCg40OxZ1GYh3u3jBntB6DLg        14445           762   \n",
       "\n",
       "                    uploads  \n",
       "0  UUXIJgqnII2ZOINSWNOGFThA  \n",
       "1  UUEBb1b_L6zDS3xTUrIALZOw  \n",
       "2  UU6n8I1UDTKP1IWjQMg6_TwA  \n",
       "3  UUF9IOB2TExg3QIBupFtBDxg  \n",
       "4  UUg40OxZ1GYh3u3jBntB6DLg  "
      ]
     },
     "execution_count": 31,
     "metadata": {},
     "output_type": "execute_result"
    }
   ],
   "source": [
    "print(len(df_videos_channel))\n",
    "df_videos_channel.head()"
   ]
  },
  {
   "cell_type": "code",
   "execution_count": 29,
   "metadata": {},
   "outputs": [],
   "source": [
    "date = time.strftime(\"%Y-%m-%d_%H_%M_%S\")\n",
    "file_name = \"processed/unique_channels_uploads\" + date + \".csv\"\n",
    "\n",
    "df_videos_channel.to_csv(file_name, index=False)"
   ]
  },
  {
   "cell_type": "code",
   "execution_count": 30,
   "metadata": {},
   "outputs": [],
   "source": [
    "date = time.strftime(\"%Y-%m-%d_%H:%M:%S\")\n",
    "file_name = \"processed/training_videos\" + date + \".csv\"\n",
    "\n",
    "with open(file_name, mode='w') as out_file:\n",
    "    result_writer = csv.writer(out_file, delimiter=',', quotechar='\"', quoting=csv.QUOTE_MINIMAL)\n",
    "    result_writer.writerow(['video', 'title', 'duration', 'view_count', 'width', 'height', 'description_snippet', 'channel_id', 'channel_title', 'published_time', 'status'])"
   ]
  },
  {
   "cell_type": "code",
   "execution_count": 32,
   "metadata": {},
   "outputs": [
    {
     "name": "stdout",
     "output_type": "stream",
     "text": [
      "0\n",
      "50\n",
      "100\n",
      "150\n"
     ]
    }
   ],
   "source": [
    "i = 0\n",
    "for index, row in df_videos_channel.iterrows():\n",
    "    getVideos(row[\"uploads\"], file_name)\n",
    "    if i % 50 == 0: \n",
    "        print(i)\n",
    "    i += 1"
   ]
  },
  {
   "cell_type": "code",
   "execution_count": 9,
   "metadata": {},
   "outputs": [],
   "source": [
    "# Get channels\n",
    "filepaths = [\"processed/\" + f for f in listdir(\"processed/\") if f.startswith(\"unique_channels.csv\")]\n",
    "df_videos_channel = pd.concat(map(pd.read_csv, filepaths))"
   ]
  },
  {
   "cell_type": "code",
   "execution_count": 21,
   "metadata": {},
   "outputs": [],
   "source": [
    "def getVideosScaled(uploads, scale, filename):\n",
    "    #print(channel)\n",
    "    playlist = Playlist(uploads)\n",
    " \n",
    "    i = 1\n",
    "    \n",
    "    while i <= scale:\n",
    "        i += 1\n",
    "        if playlist.hasMoreVideos:\n",
    "            playlist.getNextVideos()\n",
    "    \n",
    "    for row in playlist.videos:\n",
    "        video = row[\"id\"]\n",
    "        title = row[\"title\"]\n",
    "        duration = row[\"duration\"]\n",
    "        view_count = 0\n",
    "        width = 0\n",
    "        height = 0\n",
    "        desciption_snippet = row[\"title\"]\n",
    "        channel_id = row[\"channel\"][\"id\"]\n",
    "        channel_title = row[\"channel\"][\"name\"]\n",
    "        published_time = \"9999 days ago\"\n",
    "        status = 'Success'\n",
    "\n",
    "        with open(file_name, mode='a') as out_file:\n",
    "            result_writer = csv.writer(out_file, delimiter=',', quotechar='\"', quoting=csv.QUOTE_MINIMAL)\n",
    "            result_writer.writerow([video, title, duration, view_count, width, height, desciption_snippet, channel_id, channel_title, published_time, status])"
   ]
  },
  {
   "cell_type": "code",
   "execution_count": 10,
   "metadata": {},
   "outputs": [
    {
     "data": {
      "text/html": [
       "<div>\n",
       "<style scoped>\n",
       "    .dataframe tbody tr th:only-of-type {\n",
       "        vertical-align: middle;\n",
       "    }\n",
       "\n",
       "    .dataframe tbody tr th {\n",
       "        vertical-align: top;\n",
       "    }\n",
       "\n",
       "    .dataframe thead th {\n",
       "        text-align: right;\n",
       "    }\n",
       "</style>\n",
       "<table border=\"1\" class=\"dataframe\">\n",
       "  <thead>\n",
       "    <tr style=\"text-align: right;\">\n",
       "      <th></th>\n",
       "      <th>channel_title</th>\n",
       "      <th>channel_id</th>\n",
       "      <th>total_count</th>\n",
       "      <th>unique_count</th>\n",
       "      <th>bias</th>\n",
       "    </tr>\n",
       "  </thead>\n",
       "  <tbody>\n",
       "    <tr>\n",
       "      <th>0</th>\n",
       "      <td>Fox News</td>\n",
       "      <td>UCXIJgqnII2ZOINSWNOGFThA</td>\n",
       "      <td>42836</td>\n",
       "      <td>673</td>\n",
       "      <td>R</td>\n",
       "    </tr>\n",
       "    <tr>\n",
       "      <th>1</th>\n",
       "      <td>MIT OpenCourseWare</td>\n",
       "      <td>UCEBb1b_L6zDS3xTUrIALZOw</td>\n",
       "      <td>19836</td>\n",
       "      <td>277</td>\n",
       "      <td>C</td>\n",
       "    </tr>\n",
       "    <tr>\n",
       "      <th>2</th>\n",
       "      <td>Forbes Breaking News</td>\n",
       "      <td>UCg40OxZ1GYh3u3jBntB6DLg</td>\n",
       "      <td>14445</td>\n",
       "      <td>762</td>\n",
       "      <td>RC</td>\n",
       "    </tr>\n",
       "    <tr>\n",
       "      <th>3</th>\n",
       "      <td>TEDx Talks</td>\n",
       "      <td>UCsT0YIqwnpJCM-mx7-gSA4Q</td>\n",
       "      <td>11599</td>\n",
       "      <td>1288</td>\n",
       "      <td>C</td>\n",
       "    </tr>\n",
       "    <tr>\n",
       "      <th>4</th>\n",
       "      <td>Vanity Fair</td>\n",
       "      <td>UCIsbLox_y9dCIMLd8tdC6qg</td>\n",
       "      <td>9100</td>\n",
       "      <td>69</td>\n",
       "      <td>L</td>\n",
       "    </tr>\n",
       "  </tbody>\n",
       "</table>\n",
       "</div>"
      ],
      "text/plain": [
       "          channel_title                channel_id  total_count  unique_count  \\\n",
       "0              Fox News  UCXIJgqnII2ZOINSWNOGFThA        42836           673   \n",
       "1    MIT OpenCourseWare  UCEBb1b_L6zDS3xTUrIALZOw        19836           277   \n",
       "2  Forbes Breaking News  UCg40OxZ1GYh3u3jBntB6DLg        14445           762   \n",
       "3            TEDx Talks  UCsT0YIqwnpJCM-mx7-gSA4Q        11599          1288   \n",
       "4           Vanity Fair  UCIsbLox_y9dCIMLd8tdC6qg         9100            69   \n",
       "\n",
       "  bias  \n",
       "0    R  \n",
       "1    C  \n",
       "2   RC  \n",
       "3    C  \n",
       "4    L  "
      ]
     },
     "execution_count": 10,
     "metadata": {},
     "output_type": "execute_result"
    }
   ],
   "source": [
    "df_videos_channel.head()"
   ]
  },
  {
   "cell_type": "code",
   "execution_count": 13,
   "metadata": {},
   "outputs": [
    {
     "data": {
      "text/plain": [
       "LC    32\n",
       "C     12\n",
       "RC     6\n",
       "L      5\n",
       "R      1\n",
       "Name: bias, dtype: int64"
      ]
     },
     "execution_count": 13,
     "metadata": {},
     "output_type": "execute_result"
    }
   ],
   "source": [
    "df_videos_channel = df_videos_channel[df_videos_channel[\"total_count\"]>=400]\n",
    "df_videos_channel.bias.value_counts()"
   ]
  },
  {
   "cell_type": "code",
   "execution_count": 19,
   "metadata": {},
   "outputs": [],
   "source": [
    "df_videos_channel[\"uploads\"] = df_videos_channel[\"channel_id\"].apply(getUploads)"
   ]
  },
  {
   "cell_type": "code",
   "execution_count": 15,
   "metadata": {},
   "outputs": [],
   "source": [
    "date = time.strftime(\"%Y-%m-%d_%H_%M_%S\")\n",
    "file_name = \"processed/training_videos\" + date + \".csv\"\n",
    "\n",
    "with open(file_name, mode='w') as out_file:\n",
    "    result_writer = csv.writer(out_file, delimiter=',', quotechar='\"', quoting=csv.QUOTE_MINIMAL)\n",
    "    result_writer.writerow(['video', 'title', 'duration', 'view_count', 'width', 'height', 'description_snippet', 'channel_id', 'channel_title', 'published_time', 'status'])"
   ]
  },
  {
   "cell_type": "code",
   "execution_count": 22,
   "metadata": {},
   "outputs": [
    {
     "name": "stdout",
     "output_type": "stream",
     "text": [
      "0\n",
      "50\n"
     ]
    }
   ],
   "source": [
    "i = 0\n",
    "for index, row in df_videos_channel.iterrows():\n",
    "    bias = row[\"bias\"]\n",
    "    if bias == \"LC\":\n",
    "        scale = 1\n",
    "    elif bias == \"C\":\n",
    "        scale = 3\n",
    "    elif bias == \"RC\":\n",
    "        scale = 5\n",
    "    elif bias == \"L\":\n",
    "        scale = 6\n",
    "    else:\n",
    "        scale = 30\n",
    "        \n",
    "    getVideosScaled(row[\"uploads\"], scale, file_name)\n",
    "    if i % 50 == 0: \n",
    "        print(i)\n",
    "    i += 1"
   ]
  },
  {
   "cell_type": "code",
   "execution_count": null,
   "metadata": {},
   "outputs": [],
   "source": [
    "round()"
   ]
  }
 ],
 "metadata": {
  "instance_type": "ml.t3.medium",
  "kernelspec": {
   "display_name": "Python 3 (Data Science)",
   "language": "python",
   "name": "python3__SAGEMAKER_INTERNAL__arn:aws:sagemaker:us-east-2:429704687514:image/datascience-1.0"
  },
  "language_info": {
   "codemirror_mode": {
    "name": "ipython",
    "version": 3
   },
   "file_extension": ".py",
   "mimetype": "text/x-python",
   "name": "python",
   "nbconvert_exporter": "python",
   "pygments_lexer": "ipython3",
   "version": "3.7.10"
  }
 },
 "nbformat": 4,
 "nbformat_minor": 4
}
