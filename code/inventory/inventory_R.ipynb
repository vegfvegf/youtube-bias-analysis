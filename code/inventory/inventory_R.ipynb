{
 "cells": [
  {
   "cell_type": "code",
   "execution_count": 1,
   "id": "c920471b",
   "metadata": {},
   "outputs": [
    {
     "name": "stderr",
     "output_type": "stream",
     "text": [
      "\n",
      "Attaching package: ‘dplyr’\n",
      "\n",
      "\n",
      "The following objects are masked from ‘package:stats’:\n",
      "\n",
      "    filter, lag\n",
      "\n",
      "\n",
      "The following objects are masked from ‘package:base’:\n",
      "\n",
      "    intersect, setdiff, setequal, union\n",
      "\n",
      "\n",
      "\n",
      "Attaching package: ‘gridExtra’\n",
      "\n",
      "\n",
      "The following object is masked from ‘package:dplyr’:\n",
      "\n",
      "    combine\n",
      "\n",
      "\n"
     ]
    }
   ],
   "source": [
    "library(dplyr)\n",
    "library(ggplot2)\n",
    "library(gridExtra)\n",
    "library(pivottabler)"
   ]
  },
  {
   "cell_type": "code",
   "execution_count": 3,
   "id": "f3aad2d5",
   "metadata": {},
   "outputs": [],
   "source": [
    "count <- function(file) {\n",
    "    df_search <- read.csv(file)\n",
    "    print(file)\n",
    "    print(paste(\"No. of rows\", nrow(df_search)))\n",
    "    print(unique(df_search$keyword))\n",
    "    print(length(unique(df_search$video)))\n",
    "    print(unique(df_search$video))\n",
    "}"
   ]
  },
  {
   "cell_type": "code",
   "execution_count": 4,
   "id": "1f82bda1",
   "metadata": {},
   "outputs": [
    {
     "name": "stdout",
     "output_type": "stream",
     "text": [
      "[1] \"Quanteda/results/AOC_5_5_5-2021-03-18_23_49_49.csv\"\n",
      "[1] \"Quanteda/results/Border_5_5_5-2021-05-03_13_45_17.csv\"\n",
      "[1] \"Quanteda/results/China_5_5_5-2021-03-17_08_31_35.csv\"\n",
      "[1] \"Quanteda/results/Florida_5_5_5-2021-03-17_08_31_35.csv\"\n",
      "[1] \"Quanteda/results/GunControl_5_5_5-2021-03-20_23_09_45.csv\"\n",
      "[1] \"Quanteda/results/LindseyGraham_5_5_5-2021-06-09_09_51_18.csv\"\n",
      "[1] \"Quanteda/results/MitchMcConnell_5_5_5-2021-06-09_09_51_18.csv\"\n",
      "[1] \"Quanteda/results/NRA_5_5_5-2021-03-20_23_09_45.csv\"\n",
      "[1] \"Quanteda/results/NancyPelosi_5_5_5-2021-03-18_23_49_49.csv\"\n",
      "[1] \"Quanteda/results/NewtGingrich_5_5_5-2021-06-09_09_51_18.csv\"\n",
      "[1] \"Quanteda/results/TedCruz_5_5_5-2021-03-18_23_49_49.csv\"\n",
      "[1] \"Quanteda/results/Texas_5_5_5-2021-03-17_08_31_35.csv\"\n",
      "[1] \"Quanteda/results/andrewcuomo_5_5_5-2021-05-26_14_59_15.csv\"\n",
      "[1] \"Quanteda/results/biden_5_5_5-2021-05-26_14_59_14.csv\"\n",
      "[1] \"Quanteda/results/climatechange_5_5_5-2021-05-17_21_02_02.csv\"\n",
      "[1] \"Quanteda/results/clinton_5_5_5-2021-05-14_05_26_50.csv\"\n",
      "[1] \"Quanteda/results/culturalappropriation_5_5_5-2021-05-04_03_05_50.csv\"\n",
      "[1] \"Quanteda/results/feminism_5_5_5-2021-05-07_13_36_16.csv\"\n",
      "[1] \"Quanteda/results/freespeech_5_5_5-2021-05-04_03_05_50.csv\"\n",
      "[1] \"Quanteda/results/immigration_5_5_5-2021-05-05_05_47_37.csv\"\n",
      "[1] \"Quanteda/results/mask_5_5_5-2021-05-07_13_36_16.csv\"\n",
      "[1] \"Quanteda/results/moderna_5_5_5-2021-05-07_13_36_16.csv\"\n",
      "[1] \"Quanteda/results/obama_5_5_5-2021-05-14_05_26_50.csv\"\n",
      "[1] \"Quanteda/results/plannedparenthood_5_5_5-2021-05-17_21_02_02.csv\"\n",
      "[1] \"Quanteda/results/trump_5_5_5-2021-05-14_05_26_50.csv\"\n",
      "[1] \"Quanteda/results/vaccine_5_5_5-2021-05-07_13_36_16.csv\"\n",
      "[1] \"Quanteda/results/welfarestate_5_5_5-2021-05-05_05_47_37.csv\"\n"
     ]
    }
   ],
   "source": [
    "file_names <- dir(\"Quanteda/results/\", pattern = \".csv\")\n",
    "file_names <- gsub(\" \", \"\", paste(\"Quanteda/results/\",file_names, sep=''))\n",
    "\n",
    "file_no = 0\n",
    "for (file in file_names) {\n",
    "    print(file)\n",
    "    if (file_no == 0) {\n",
    "        df_search <- read.csv(file) }\n",
    "    else {\n",
    "        df_search_append <- read.csv(file)\n",
    "        df_search<- rbind(df_search, df_search_append)\n",
    "    }\n",
    "file_no =+ 1\n",
    "}"
   ]
  },
  {
   "cell_type": "code",
   "execution_count": 5,
   "id": "3815f2e0",
   "metadata": {},
   "outputs": [
    {
     "data": {
      "text/html": [
       "431250"
      ],
      "text/latex": [
       "431250"
      ],
      "text/markdown": [
       "431250"
      ],
      "text/plain": [
       "[1] 431250"
      ]
     },
     "metadata": {},
     "output_type": "display_data"
    }
   ],
   "source": [
    "nrow(df_search)"
   ]
  },
  {
   "cell_type": "code",
   "execution_count": 6,
   "id": "0098d6f7-cacd-483f-ba44-25f606116ec7",
   "metadata": {},
   "outputs": [
    {
     "data": {
      "text/html": [
       "<table class=\"dataframe\">\n",
       "<caption>A tibble: 27 × 2</caption>\n",
       "<thead>\n",
       "\t<tr><th scope=col>keyword</th><th scope=col>n</th></tr>\n",
       "\t<tr><th scope=col>&lt;chr&gt;</th><th scope=col>&lt;int&gt;</th></tr>\n",
       "</thead>\n",
       "<tbody>\n",
       "\t<tr><td> clinton              </td><td>17217</td></tr>\n",
       "\t<tr><td> free speech          </td><td>16989</td></tr>\n",
       "\t<tr><td> mask                 </td><td>13450</td></tr>\n",
       "\t<tr><td> moderna              </td><td>16154</td></tr>\n",
       "\t<tr><td> obama                </td><td>18009</td></tr>\n",
       "\t<tr><td> vaccine              </td><td>18530</td></tr>\n",
       "\t<tr><td>AOC                   </td><td>15815</td></tr>\n",
       "\t<tr><td>Border                </td><td>15297</td></tr>\n",
       "\t<tr><td>China                 </td><td>10422</td></tr>\n",
       "\t<tr><td>Florida               </td><td> 7670</td></tr>\n",
       "\t<tr><td>Gun Control           </td><td>17645</td></tr>\n",
       "\t<tr><td>Lindsey Graham        </td><td>17721</td></tr>\n",
       "\t<tr><td>Mitch McConnell       </td><td>18173</td></tr>\n",
       "\t<tr><td>NRA                   </td><td>17168</td></tr>\n",
       "\t<tr><td>Nancy Pelosi          </td><td>17797</td></tr>\n",
       "\t<tr><td>Newt Gingrich         </td><td>19062</td></tr>\n",
       "\t<tr><td>Ted Cruz              </td><td>18386</td></tr>\n",
       "\t<tr><td>Texas                 </td><td>17335</td></tr>\n",
       "\t<tr><td>andrew cuomo          </td><td>16533</td></tr>\n",
       "\t<tr><td>biden                 </td><td>18650</td></tr>\n",
       "\t<tr><td>climate change        </td><td>13232</td></tr>\n",
       "\t<tr><td>cultural appropriation</td><td>11254</td></tr>\n",
       "\t<tr><td>feminism              </td><td>17686</td></tr>\n",
       "\t<tr><td>immigration           </td><td>12796</td></tr>\n",
       "\t<tr><td>planned parenthood    </td><td>13906</td></tr>\n",
       "\t<tr><td>trump                 </td><td>17064</td></tr>\n",
       "\t<tr><td>welfare state         </td><td>17289</td></tr>\n",
       "</tbody>\n",
       "</table>\n"
      ],
      "text/latex": [
       "A tibble: 27 × 2\n",
       "\\begin{tabular}{ll}\n",
       " keyword & n\\\\\n",
       " <chr> & <int>\\\\\n",
       "\\hline\n",
       "\t  clinton               & 17217\\\\\n",
       "\t  free speech           & 16989\\\\\n",
       "\t  mask                  & 13450\\\\\n",
       "\t  moderna               & 16154\\\\\n",
       "\t  obama                 & 18009\\\\\n",
       "\t  vaccine               & 18530\\\\\n",
       "\t AOC                    & 15815\\\\\n",
       "\t Border                 & 15297\\\\\n",
       "\t China                  & 10422\\\\\n",
       "\t Florida                &  7670\\\\\n",
       "\t Gun Control            & 17645\\\\\n",
       "\t Lindsey Graham         & 17721\\\\\n",
       "\t Mitch McConnell        & 18173\\\\\n",
       "\t NRA                    & 17168\\\\\n",
       "\t Nancy Pelosi           & 17797\\\\\n",
       "\t Newt Gingrich          & 19062\\\\\n",
       "\t Ted Cruz               & 18386\\\\\n",
       "\t Texas                  & 17335\\\\\n",
       "\t andrew cuomo           & 16533\\\\\n",
       "\t biden                  & 18650\\\\\n",
       "\t climate change         & 13232\\\\\n",
       "\t cultural appropriation & 11254\\\\\n",
       "\t feminism               & 17686\\\\\n",
       "\t immigration            & 12796\\\\\n",
       "\t planned parenthood     & 13906\\\\\n",
       "\t trump                  & 17064\\\\\n",
       "\t welfare state          & 17289\\\\\n",
       "\\end{tabular}\n"
      ],
      "text/markdown": [
       "\n",
       "A tibble: 27 × 2\n",
       "\n",
       "| keyword &lt;chr&gt; | n &lt;int&gt; |\n",
       "|---|---|\n",
       "|  clinton               | 17217 |\n",
       "|  free speech           | 16989 |\n",
       "|  mask                  | 13450 |\n",
       "|  moderna               | 16154 |\n",
       "|  obama                 | 18009 |\n",
       "|  vaccine               | 18530 |\n",
       "| AOC                    | 15815 |\n",
       "| Border                 | 15297 |\n",
       "| China                  | 10422 |\n",
       "| Florida                |  7670 |\n",
       "| Gun Control            | 17645 |\n",
       "| Lindsey Graham         | 17721 |\n",
       "| Mitch McConnell        | 18173 |\n",
       "| NRA                    | 17168 |\n",
       "| Nancy Pelosi           | 17797 |\n",
       "| Newt Gingrich          | 19062 |\n",
       "| Ted Cruz               | 18386 |\n",
       "| Texas                  | 17335 |\n",
       "| andrew cuomo           | 16533 |\n",
       "| biden                  | 18650 |\n",
       "| climate change         | 13232 |\n",
       "| cultural appropriation | 11254 |\n",
       "| feminism               | 17686 |\n",
       "| immigration            | 12796 |\n",
       "| planned parenthood     | 13906 |\n",
       "| trump                  | 17064 |\n",
       "| welfare state          | 17289 |\n",
       "\n"
      ],
      "text/plain": [
       "   keyword                n    \n",
       "1   clinton               17217\n",
       "2   free speech           16989\n",
       "3   mask                  13450\n",
       "4   moderna               16154\n",
       "5   obama                 18009\n",
       "6   vaccine               18530\n",
       "7  AOC                    15815\n",
       "8  Border                 15297\n",
       "9  China                  10422\n",
       "10 Florida                 7670\n",
       "11 Gun Control            17645\n",
       "12 Lindsey Graham         17721\n",
       "13 Mitch McConnell        18173\n",
       "14 NRA                    17168\n",
       "15 Nancy Pelosi           17797\n",
       "16 Newt Gingrich          19062\n",
       "17 Ted Cruz               18386\n",
       "18 Texas                  17335\n",
       "19 andrew cuomo           16533\n",
       "20 biden                  18650\n",
       "21 climate change         13232\n",
       "22 cultural appropriation 11254\n",
       "23 feminism               17686\n",
       "24 immigration            12796\n",
       "25 planned parenthood     13906\n",
       "26 trump                  17064\n",
       "27 welfare state          17289"
      ]
     },
     "metadata": {},
     "output_type": "display_data"
    }
   ],
   "source": [
    "df_search %>%\n",
    "  dplyr::group_by(keyword) %>%\n",
    "  dplyr::summarise(n = n())"
   ]
  },
  {
   "cell_type": "code",
   "execution_count": 7,
   "id": "458a856f-a3c5-4871-b2bf-bee467d551ee",
   "metadata": {},
   "outputs": [
    {
     "data": {
      "text/html": [
       "431250"
      ],
      "text/latex": [
       "431250"
      ],
      "text/markdown": [
       "431250"
      ],
      "text/plain": [
       "[1] 431250"
      ]
     },
     "metadata": {},
     "output_type": "display_data"
    }
   ],
   "source": [
    "df_search <- df_search %>%\n",
    "  filter(video!='#NAME?')\n",
    "nrow(df_search)"
   ]
  },
  {
   "cell_type": "code",
   "execution_count": 8,
   "id": "c60abe49",
   "metadata": {},
   "outputs": [
    {
     "data": {
      "text/html": [
       "<table class=\"dataframe\">\n",
       "<caption>A tibble: 27 × 2</caption>\n",
       "<thead>\n",
       "\t<tr><th scope=col>keyword</th><th scope=col>n</th></tr>\n",
       "\t<tr><th scope=col>&lt;chr&gt;</th><th scope=col>&lt;int&gt;</th></tr>\n",
       "</thead>\n",
       "<tbody>\n",
       "\t<tr><td> clinton              </td><td>17217</td></tr>\n",
       "\t<tr><td> free speech          </td><td>16989</td></tr>\n",
       "\t<tr><td> mask                 </td><td>13450</td></tr>\n",
       "\t<tr><td> moderna              </td><td>16154</td></tr>\n",
       "\t<tr><td> obama                </td><td>18009</td></tr>\n",
       "\t<tr><td> vaccine              </td><td>18530</td></tr>\n",
       "\t<tr><td>AOC                   </td><td>15815</td></tr>\n",
       "\t<tr><td>Border                </td><td>15297</td></tr>\n",
       "\t<tr><td>China                 </td><td>10422</td></tr>\n",
       "\t<tr><td>Florida               </td><td> 7670</td></tr>\n",
       "\t<tr><td>Gun Control           </td><td>17645</td></tr>\n",
       "\t<tr><td>Lindsey Graham        </td><td>17721</td></tr>\n",
       "\t<tr><td>Mitch McConnell       </td><td>18173</td></tr>\n",
       "\t<tr><td>NRA                   </td><td>17168</td></tr>\n",
       "\t<tr><td>Nancy Pelosi          </td><td>17797</td></tr>\n",
       "\t<tr><td>Newt Gingrich         </td><td>19062</td></tr>\n",
       "\t<tr><td>Ted Cruz              </td><td>18386</td></tr>\n",
       "\t<tr><td>Texas                 </td><td>17335</td></tr>\n",
       "\t<tr><td>andrew cuomo          </td><td>16533</td></tr>\n",
       "\t<tr><td>biden                 </td><td>18650</td></tr>\n",
       "\t<tr><td>climate change        </td><td>13232</td></tr>\n",
       "\t<tr><td>cultural appropriation</td><td>11254</td></tr>\n",
       "\t<tr><td>feminism              </td><td>17686</td></tr>\n",
       "\t<tr><td>immigration           </td><td>12796</td></tr>\n",
       "\t<tr><td>planned parenthood    </td><td>13906</td></tr>\n",
       "\t<tr><td>trump                 </td><td>17064</td></tr>\n",
       "\t<tr><td>welfare state         </td><td>17289</td></tr>\n",
       "</tbody>\n",
       "</table>\n"
      ],
      "text/latex": [
       "A tibble: 27 × 2\n",
       "\\begin{tabular}{ll}\n",
       " keyword & n\\\\\n",
       " <chr> & <int>\\\\\n",
       "\\hline\n",
       "\t  clinton               & 17217\\\\\n",
       "\t  free speech           & 16989\\\\\n",
       "\t  mask                  & 13450\\\\\n",
       "\t  moderna               & 16154\\\\\n",
       "\t  obama                 & 18009\\\\\n",
       "\t  vaccine               & 18530\\\\\n",
       "\t AOC                    & 15815\\\\\n",
       "\t Border                 & 15297\\\\\n",
       "\t China                  & 10422\\\\\n",
       "\t Florida                &  7670\\\\\n",
       "\t Gun Control            & 17645\\\\\n",
       "\t Lindsey Graham         & 17721\\\\\n",
       "\t Mitch McConnell        & 18173\\\\\n",
       "\t NRA                    & 17168\\\\\n",
       "\t Nancy Pelosi           & 17797\\\\\n",
       "\t Newt Gingrich          & 19062\\\\\n",
       "\t Ted Cruz               & 18386\\\\\n",
       "\t Texas                  & 17335\\\\\n",
       "\t andrew cuomo           & 16533\\\\\n",
       "\t biden                  & 18650\\\\\n",
       "\t climate change         & 13232\\\\\n",
       "\t cultural appropriation & 11254\\\\\n",
       "\t feminism               & 17686\\\\\n",
       "\t immigration            & 12796\\\\\n",
       "\t planned parenthood     & 13906\\\\\n",
       "\t trump                  & 17064\\\\\n",
       "\t welfare state          & 17289\\\\\n",
       "\\end{tabular}\n"
      ],
      "text/markdown": [
       "\n",
       "A tibble: 27 × 2\n",
       "\n",
       "| keyword &lt;chr&gt; | n &lt;int&gt; |\n",
       "|---|---|\n",
       "|  clinton               | 17217 |\n",
       "|  free speech           | 16989 |\n",
       "|  mask                  | 13450 |\n",
       "|  moderna               | 16154 |\n",
       "|  obama                 | 18009 |\n",
       "|  vaccine               | 18530 |\n",
       "| AOC                    | 15815 |\n",
       "| Border                 | 15297 |\n",
       "| China                  | 10422 |\n",
       "| Florida                |  7670 |\n",
       "| Gun Control            | 17645 |\n",
       "| Lindsey Graham         | 17721 |\n",
       "| Mitch McConnell        | 18173 |\n",
       "| NRA                    | 17168 |\n",
       "| Nancy Pelosi           | 17797 |\n",
       "| Newt Gingrich          | 19062 |\n",
       "| Ted Cruz               | 18386 |\n",
       "| Texas                  | 17335 |\n",
       "| andrew cuomo           | 16533 |\n",
       "| biden                  | 18650 |\n",
       "| climate change         | 13232 |\n",
       "| cultural appropriation | 11254 |\n",
       "| feminism               | 17686 |\n",
       "| immigration            | 12796 |\n",
       "| planned parenthood     | 13906 |\n",
       "| trump                  | 17064 |\n",
       "| welfare state          | 17289 |\n",
       "\n"
      ],
      "text/plain": [
       "   keyword                n    \n",
       "1   clinton               17217\n",
       "2   free speech           16989\n",
       "3   mask                  13450\n",
       "4   moderna               16154\n",
       "5   obama                 18009\n",
       "6   vaccine               18530\n",
       "7  AOC                    15815\n",
       "8  Border                 15297\n",
       "9  China                  10422\n",
       "10 Florida                 7670\n",
       "11 Gun Control            17645\n",
       "12 Lindsey Graham         17721\n",
       "13 Mitch McConnell        18173\n",
       "14 NRA                    17168\n",
       "15 Nancy Pelosi           17797\n",
       "16 Newt Gingrich          19062\n",
       "17 Ted Cruz               18386\n",
       "18 Texas                  17335\n",
       "19 andrew cuomo           16533\n",
       "20 biden                  18650\n",
       "21 climate change         13232\n",
       "22 cultural appropriation 11254\n",
       "23 feminism               17686\n",
       "24 immigration            12796\n",
       "25 planned parenthood     13906\n",
       "26 trump                  17064\n",
       "27 welfare state          17289"
      ]
     },
     "metadata": {},
     "output_type": "display_data"
    }
   ],
   "source": [
    "df_search %>%\n",
    "  dplyr::group_by(keyword) %>%\n",
    "  dplyr::summarise(n = n())"
   ]
  },
  {
   "cell_type": "code",
   "execution_count": 9,
   "id": "5e9f8486-06ea-45e4-9857-a269d82ae463",
   "metadata": {},
   "outputs": [
    {
     "data": {
      "text/html": [
       "<table class=\"dataframe\">\n",
       "<caption>A tibble: 5 × 2</caption>\n",
       "<thead>\n",
       "\t<tr><th scope=col>Bias</th><th scope=col>n</th></tr>\n",
       "\t<tr><th scope=col>&lt;chr&gt;</th><th scope=col>&lt;int&gt;</th></tr>\n",
       "</thead>\n",
       "<tbody>\n",
       "\t<tr><td>LC</td><td>94727</td></tr>\n",
       "\t<tr><td>C </td><td>42619</td></tr>\n",
       "\t<tr><td>L </td><td>42613</td></tr>\n",
       "\t<tr><td>R </td><td>37329</td></tr>\n",
       "\t<tr><td>RC</td><td>20519</td></tr>\n",
       "</tbody>\n",
       "</table>\n"
      ],
      "text/latex": [
       "A tibble: 5 × 2\n",
       "\\begin{tabular}{ll}\n",
       " Bias & n\\\\\n",
       " <chr> & <int>\\\\\n",
       "\\hline\n",
       "\t LC & 94727\\\\\n",
       "\t C  & 42619\\\\\n",
       "\t L  & 42613\\\\\n",
       "\t R  & 37329\\\\\n",
       "\t RC & 20519\\\\\n",
       "\\end{tabular}\n"
      ],
      "text/markdown": [
       "\n",
       "A tibble: 5 × 2\n",
       "\n",
       "| Bias &lt;chr&gt; | n &lt;int&gt; |\n",
       "|---|---|\n",
       "| LC | 94727 |\n",
       "| C  | 42619 |\n",
       "| L  | 42613 |\n",
       "| R  | 37329 |\n",
       "| RC | 20519 |\n",
       "\n"
      ],
      "text/plain": [
       "  Bias n    \n",
       "1 LC   94727\n",
       "2 C    42619\n",
       "3 L    42613\n",
       "4 R    37329\n",
       "5 RC   20519"
      ]
     },
     "metadata": {},
     "output_type": "display_data"
    }
   ],
   "source": [
    "df_search %>%\n",
    "  #dplyr::filter(current_depth==0) %>%\n",
    "  dplyr::filter(Bias!='') %>%\n",
    "  #dplyr::group_by(channel_title, Bias) %>%\n",
    "  dplyr::group_by(Bias) %>%\n",
    "  dplyr::summarise(n = n()) %>%\n",
    "  #dplyr::filter(n<=1000) %>%\n",
    "  #dplyr::filter(n>500) %>%\n",
    "  dplyr::arrange(desc(n))\n"
   ]
  },
  {
   "cell_type": "code",
   "execution_count": 10,
   "id": "562d20f4",
   "metadata": {},
   "outputs": [
    {
     "data": {
      "text/html": [
       "<table class=\"dataframe\">\n",
       "<caption>A tibble: 27 × 2</caption>\n",
       "<thead>\n",
       "\t<tr><th scope=col>keyword</th><th scope=col>UNIQUE_COUNT</th></tr>\n",
       "\t<tr><th scope=col>&lt;chr&gt;</th><th scope=col>&lt;int&gt;</th></tr>\n",
       "</thead>\n",
       "<tbody>\n",
       "\t<tr><td> clinton              </td><td>6418</td></tr>\n",
       "\t<tr><td> free speech          </td><td>6014</td></tr>\n",
       "\t<tr><td> mask                 </td><td>2950</td></tr>\n",
       "\t<tr><td> moderna              </td><td>4264</td></tr>\n",
       "\t<tr><td> obama                </td><td>5225</td></tr>\n",
       "\t<tr><td> vaccine              </td><td>2933</td></tr>\n",
       "\t<tr><td>AOC                   </td><td>4669</td></tr>\n",
       "\t<tr><td>Border                </td><td>3969</td></tr>\n",
       "\t<tr><td>China                 </td><td>2991</td></tr>\n",
       "\t<tr><td>Florida               </td><td>2524</td></tr>\n",
       "\t<tr><td>Gun Control           </td><td>5444</td></tr>\n",
       "\t<tr><td>Lindsey Graham        </td><td>2350</td></tr>\n",
       "\t<tr><td>Mitch McConnell       </td><td>4058</td></tr>\n",
       "\t<tr><td>NRA                   </td><td>5659</td></tr>\n",
       "\t<tr><td>Nancy Pelosi          </td><td>4614</td></tr>\n",
       "\t<tr><td>Newt Gingrich         </td><td>3123</td></tr>\n",
       "\t<tr><td>Ted Cruz              </td><td>4450</td></tr>\n",
       "\t<tr><td>Texas                 </td><td>6156</td></tr>\n",
       "\t<tr><td>andrew cuomo          </td><td>3875</td></tr>\n",
       "\t<tr><td>biden                 </td><td>3496</td></tr>\n",
       "\t<tr><td>climate change        </td><td>5040</td></tr>\n",
       "\t<tr><td>cultural appropriation</td><td>5026</td></tr>\n",
       "\t<tr><td>feminism              </td><td>3817</td></tr>\n",
       "\t<tr><td>immigration           </td><td>2979</td></tr>\n",
       "\t<tr><td>planned parenthood    </td><td>4109</td></tr>\n",
       "\t<tr><td>trump                 </td><td>2006</td></tr>\n",
       "\t<tr><td>welfare state         </td><td>5344</td></tr>\n",
       "</tbody>\n",
       "</table>\n"
      ],
      "text/latex": [
       "A tibble: 27 × 2\n",
       "\\begin{tabular}{ll}\n",
       " keyword & UNIQUE\\_COUNT\\\\\n",
       " <chr> & <int>\\\\\n",
       "\\hline\n",
       "\t  clinton               & 6418\\\\\n",
       "\t  free speech           & 6014\\\\\n",
       "\t  mask                  & 2950\\\\\n",
       "\t  moderna               & 4264\\\\\n",
       "\t  obama                 & 5225\\\\\n",
       "\t  vaccine               & 2933\\\\\n",
       "\t AOC                    & 4669\\\\\n",
       "\t Border                 & 3969\\\\\n",
       "\t China                  & 2991\\\\\n",
       "\t Florida                & 2524\\\\\n",
       "\t Gun Control            & 5444\\\\\n",
       "\t Lindsey Graham         & 2350\\\\\n",
       "\t Mitch McConnell        & 4058\\\\\n",
       "\t NRA                    & 5659\\\\\n",
       "\t Nancy Pelosi           & 4614\\\\\n",
       "\t Newt Gingrich          & 3123\\\\\n",
       "\t Ted Cruz               & 4450\\\\\n",
       "\t Texas                  & 6156\\\\\n",
       "\t andrew cuomo           & 3875\\\\\n",
       "\t biden                  & 3496\\\\\n",
       "\t climate change         & 5040\\\\\n",
       "\t cultural appropriation & 5026\\\\\n",
       "\t feminism               & 3817\\\\\n",
       "\t immigration            & 2979\\\\\n",
       "\t planned parenthood     & 4109\\\\\n",
       "\t trump                  & 2006\\\\\n",
       "\t welfare state          & 5344\\\\\n",
       "\\end{tabular}\n"
      ],
      "text/markdown": [
       "\n",
       "A tibble: 27 × 2\n",
       "\n",
       "| keyword &lt;chr&gt; | UNIQUE_COUNT &lt;int&gt; |\n",
       "|---|---|\n",
       "|  clinton               | 6418 |\n",
       "|  free speech           | 6014 |\n",
       "|  mask                  | 2950 |\n",
       "|  moderna               | 4264 |\n",
       "|  obama                 | 5225 |\n",
       "|  vaccine               | 2933 |\n",
       "| AOC                    | 4669 |\n",
       "| Border                 | 3969 |\n",
       "| China                  | 2991 |\n",
       "| Florida                | 2524 |\n",
       "| Gun Control            | 5444 |\n",
       "| Lindsey Graham         | 2350 |\n",
       "| Mitch McConnell        | 4058 |\n",
       "| NRA                    | 5659 |\n",
       "| Nancy Pelosi           | 4614 |\n",
       "| Newt Gingrich          | 3123 |\n",
       "| Ted Cruz               | 4450 |\n",
       "| Texas                  | 6156 |\n",
       "| andrew cuomo           | 3875 |\n",
       "| biden                  | 3496 |\n",
       "| climate change         | 5040 |\n",
       "| cultural appropriation | 5026 |\n",
       "| feminism               | 3817 |\n",
       "| immigration            | 2979 |\n",
       "| planned parenthood     | 4109 |\n",
       "| trump                  | 2006 |\n",
       "| welfare state          | 5344 |\n",
       "\n"
      ],
      "text/plain": [
       "   keyword                UNIQUE_COUNT\n",
       "1   clinton               6418        \n",
       "2   free speech           6014        \n",
       "3   mask                  2950        \n",
       "4   moderna               4264        \n",
       "5   obama                 5225        \n",
       "6   vaccine               2933        \n",
       "7  AOC                    4669        \n",
       "8  Border                 3969        \n",
       "9  China                  2991        \n",
       "10 Florida                2524        \n",
       "11 Gun Control            5444        \n",
       "12 Lindsey Graham         2350        \n",
       "13 Mitch McConnell        4058        \n",
       "14 NRA                    5659        \n",
       "15 Nancy Pelosi           4614        \n",
       "16 Newt Gingrich          3123        \n",
       "17 Ted Cruz               4450        \n",
       "18 Texas                  6156        \n",
       "19 andrew cuomo           3875        \n",
       "20 biden                  3496        \n",
       "21 climate change         5040        \n",
       "22 cultural appropriation 5026        \n",
       "23 feminism               3817        \n",
       "24 immigration            2979        \n",
       "25 planned parenthood     4109        \n",
       "26 trump                  2006        \n",
       "27 welfare state          5344        "
      ]
     },
     "metadata": {},
     "output_type": "display_data"
    }
   ],
   "source": [
    "df_search %>%\n",
    "  dplyr::group_by(keyword) %>%\n",
    "  dplyr::summarise(UNIQUE_COUNT = n_distinct(video))"
   ]
  },
  {
   "cell_type": "code",
   "execution_count": 11,
   "id": "327ee486",
   "metadata": {},
   "outputs": [
    {
     "data": {
      "text/html": [
       "<table class=\"dataframe\">\n",
       "<caption>A data.frame: 1 × 1</caption>\n",
       "<thead>\n",
       "\t<tr><th scope=col>UNIQUE_COUNT</th></tr>\n",
       "\t<tr><th scope=col>&lt;int&gt;</th></tr>\n",
       "</thead>\n",
       "<tbody>\n",
       "\t<tr><td>70869</td></tr>\n",
       "</tbody>\n",
       "</table>\n"
      ],
      "text/latex": [
       "A data.frame: 1 × 1\n",
       "\\begin{tabular}{l}\n",
       " UNIQUE\\_COUNT\\\\\n",
       " <int>\\\\\n",
       "\\hline\n",
       "\t 70869\\\\\n",
       "\\end{tabular}\n"
      ],
      "text/markdown": [
       "\n",
       "A data.frame: 1 × 1\n",
       "\n",
       "| UNIQUE_COUNT &lt;int&gt; |\n",
       "|---|\n",
       "| 70869 |\n",
       "\n"
      ],
      "text/plain": [
       "  UNIQUE_COUNT\n",
       "1 70869       "
      ]
     },
     "metadata": {},
     "output_type": "display_data"
    }
   ],
   "source": [
    "df_search %>%\n",
    "  dplyr::summarise(UNIQUE_COUNT = n_distinct(video))"
   ]
  },
  {
   "cell_type": "code",
   "execution_count": 12,
   "id": "4b9f3864-aee7-4705-bd95-6e2ee8de047f",
   "metadata": {},
   "outputs": [
    {
     "data": {
      "text/html": [
       "<table class=\"dataframe\">\n",
       "<caption>A tibble: 27 × 2</caption>\n",
       "<thead>\n",
       "\t<tr><th scope=col>keyword</th><th scope=col>n</th></tr>\n",
       "\t<tr><th scope=col>&lt;chr&gt;</th><th scope=col>&lt;int&gt;</th></tr>\n",
       "</thead>\n",
       "<tbody>\n",
       "\t<tr><td> clinton              </td><td>571</td></tr>\n",
       "\t<tr><td> free speech          </td><td>561</td></tr>\n",
       "\t<tr><td> mask                 </td><td>448</td></tr>\n",
       "\t<tr><td> moderna              </td><td>531</td></tr>\n",
       "\t<tr><td> obama                </td><td>593</td></tr>\n",
       "\t<tr><td> vaccine              </td><td>602</td></tr>\n",
       "\t<tr><td>AOC                   </td><td>517</td></tr>\n",
       "\t<tr><td>Border                </td><td>504</td></tr>\n",
       "\t<tr><td>China                 </td><td>346</td></tr>\n",
       "\t<tr><td>Florida               </td><td>263</td></tr>\n",
       "\t<tr><td>Gun Control           </td><td>579</td></tr>\n",
       "\t<tr><td>Lindsey Graham        </td><td>585</td></tr>\n",
       "\t<tr><td>Mitch McConnell       </td><td>597</td></tr>\n",
       "\t<tr><td>NRA                   </td><td>574</td></tr>\n",
       "\t<tr><td>Nancy Pelosi          </td><td>587</td></tr>\n",
       "\t<tr><td>Newt Gingrich         </td><td>619</td></tr>\n",
       "\t<tr><td>Ted Cruz              </td><td>603</td></tr>\n",
       "\t<tr><td>Texas                 </td><td>571</td></tr>\n",
       "\t<tr><td>andrew cuomo          </td><td>547</td></tr>\n",
       "\t<tr><td>biden                 </td><td>611</td></tr>\n",
       "\t<tr><td>climate change        </td><td>445</td></tr>\n",
       "\t<tr><td>cultural appropriation</td><td>388</td></tr>\n",
       "\t<tr><td>feminism              </td><td>584</td></tr>\n",
       "\t<tr><td>immigration           </td><td>423</td></tr>\n",
       "\t<tr><td>planned parenthood    </td><td>496</td></tr>\n",
       "\t<tr><td>trump                 </td><td>560</td></tr>\n",
       "\t<tr><td>welfare state         </td><td>571</td></tr>\n",
       "</tbody>\n",
       "</table>\n"
      ],
      "text/latex": [
       "A tibble: 27 × 2\n",
       "\\begin{tabular}{ll}\n",
       " keyword & n\\\\\n",
       " <chr> & <int>\\\\\n",
       "\\hline\n",
       "\t  clinton               & 571\\\\\n",
       "\t  free speech           & 561\\\\\n",
       "\t  mask                  & 448\\\\\n",
       "\t  moderna               & 531\\\\\n",
       "\t  obama                 & 593\\\\\n",
       "\t  vaccine               & 602\\\\\n",
       "\t AOC                    & 517\\\\\n",
       "\t Border                 & 504\\\\\n",
       "\t China                  & 346\\\\\n",
       "\t Florida                & 263\\\\\n",
       "\t Gun Control            & 579\\\\\n",
       "\t Lindsey Graham         & 585\\\\\n",
       "\t Mitch McConnell        & 597\\\\\n",
       "\t NRA                    & 574\\\\\n",
       "\t Nancy Pelosi           & 587\\\\\n",
       "\t Newt Gingrich          & 619\\\\\n",
       "\t Ted Cruz               & 603\\\\\n",
       "\t Texas                  & 571\\\\\n",
       "\t andrew cuomo           & 547\\\\\n",
       "\t biden                  & 611\\\\\n",
       "\t climate change         & 445\\\\\n",
       "\t cultural appropriation & 388\\\\\n",
       "\t feminism               & 584\\\\\n",
       "\t immigration            & 423\\\\\n",
       "\t planned parenthood     & 496\\\\\n",
       "\t trump                  & 560\\\\\n",
       "\t welfare state          & 571\\\\\n",
       "\\end{tabular}\n"
      ],
      "text/markdown": [
       "\n",
       "A tibble: 27 × 2\n",
       "\n",
       "| keyword &lt;chr&gt; | n &lt;int&gt; |\n",
       "|---|---|\n",
       "|  clinton               | 571 |\n",
       "|  free speech           | 561 |\n",
       "|  mask                  | 448 |\n",
       "|  moderna               | 531 |\n",
       "|  obama                 | 593 |\n",
       "|  vaccine               | 602 |\n",
       "| AOC                    | 517 |\n",
       "| Border                 | 504 |\n",
       "| China                  | 346 |\n",
       "| Florida                | 263 |\n",
       "| Gun Control            | 579 |\n",
       "| Lindsey Graham         | 585 |\n",
       "| Mitch McConnell        | 597 |\n",
       "| NRA                    | 574 |\n",
       "| Nancy Pelosi           | 587 |\n",
       "| Newt Gingrich          | 619 |\n",
       "| Ted Cruz               | 603 |\n",
       "| Texas                  | 571 |\n",
       "| andrew cuomo           | 547 |\n",
       "| biden                  | 611 |\n",
       "| climate change         | 445 |\n",
       "| cultural appropriation | 388 |\n",
       "| feminism               | 584 |\n",
       "| immigration            | 423 |\n",
       "| planned parenthood     | 496 |\n",
       "| trump                  | 560 |\n",
       "| welfare state          | 571 |\n",
       "\n"
      ],
      "text/plain": [
       "   keyword                n  \n",
       "1   clinton               571\n",
       "2   free speech           561\n",
       "3   mask                  448\n",
       "4   moderna               531\n",
       "5   obama                 593\n",
       "6   vaccine               602\n",
       "7  AOC                    517\n",
       "8  Border                 504\n",
       "9  China                  346\n",
       "10 Florida                263\n",
       "11 Gun Control            579\n",
       "12 Lindsey Graham         585\n",
       "13 Mitch McConnell        597\n",
       "14 NRA                    574\n",
       "15 Nancy Pelosi           587\n",
       "16 Newt Gingrich          619\n",
       "17 Ted Cruz               603\n",
       "18 Texas                  571\n",
       "19 andrew cuomo           547\n",
       "20 biden                  611\n",
       "21 climate change         445\n",
       "22 cultural appropriation 388\n",
       "23 feminism               584\n",
       "24 immigration            423\n",
       "25 planned parenthood     496\n",
       "26 trump                  560\n",
       "27 welfare state          571"
      ]
     },
     "metadata": {},
     "output_type": "display_data"
    }
   ],
   "source": [
    "df_search %>%\n",
    "  dplyr::filter(current_depth==3) %>%\n",
    "  dplyr::group_by(keyword) %>%\n",
    "  dplyr::summarise(n = n())"
   ]
  },
  {
   "cell_type": "markdown",
   "id": "6ca7985e",
   "metadata": {},
   "source": [
    "# Classification"
   ]
  },
  {
   "cell_type": "code",
   "execution_count": 13,
   "id": "6960164f",
   "metadata": {},
   "outputs": [
    {
     "name": "stdout",
     "output_type": "stream",
     "text": [
      "[1] \"Quanteda/Subtitles/Classified/classified_subtitles_2021-06-09_23_19_31.csv\"\n",
      "[1] \"Quanteda/Subtitles/Classified/classified_subtitles_2021-06-12_12_25_38.csv\"\n",
      "[1] \"Quanteda/Subtitles/Classified/classified_subtitles_2021-06-12_12_33_52.csv\"\n"
     ]
    }
   ],
   "source": [
    "file_names <- dir(\"Quanteda/Subtitles/Classified/\", pattern = \".csv\")\n",
    "file_names<-gsub(\" \", \"\", paste(\"Quanteda/Subtitles/Classified/\",file_names, sep=''))\n",
    "\n",
    "file_no = 0\n",
    "for (file in file_names) {\n",
    "    print(file)\n",
    "    if (file_no == 0) {\n",
    "        df_class <- read.csv(file) }\n",
    "    else {\n",
    "        df_class_append <- read.csv(file)\n",
    "        df_class<- rbind(df_class, df_class_append)\n",
    "    }\n",
    "\n",
    "file_no =+ 1\n",
    "}   "
   ]
  },
  {
   "cell_type": "code",
   "execution_count": 14,
   "id": "a5bf4976",
   "metadata": {},
   "outputs": [
    {
     "data": {
      "text/html": [
       "50379"
      ],
      "text/latex": [
       "50379"
      ],
      "text/markdown": [
       "50379"
      ],
      "text/plain": [
       "[1] 50379"
      ]
     },
     "metadata": {},
     "output_type": "display_data"
    }
   ],
   "source": [
    "nrow(df_class)"
   ]
  },
  {
   "cell_type": "code",
   "execution_count": 15,
   "id": "e18799e3-3a56-4074-96cb-2e0fe9d38142",
   "metadata": {},
   "outputs": [
    {
     "data": {
      "text/html": [
       "<table class=\"dataframe\">\n",
       "<caption>A tibble: 27 × 2</caption>\n",
       "<thead>\n",
       "\t<tr><th scope=col>keyword</th><th scope=col>n</th></tr>\n",
       "\t<tr><th scope=col>&lt;chr&gt;</th><th scope=col>&lt;int&gt;</th></tr>\n",
       "</thead>\n",
       "<tbody>\n",
       "\t<tr><td> clinton              </td><td>3198</td></tr>\n",
       "\t<tr><td> free speech          </td><td>2404</td></tr>\n",
       "\t<tr><td> mask                 </td><td>1327</td></tr>\n",
       "\t<tr><td> moderna              </td><td>1405</td></tr>\n",
       "\t<tr><td> obama                </td><td>1813</td></tr>\n",
       "\t<tr><td> vaccine              </td><td>1397</td></tr>\n",
       "\t<tr><td>AOC                   </td><td> 885</td></tr>\n",
       "\t<tr><td>Border                </td><td>1280</td></tr>\n",
       "\t<tr><td>China                 </td><td>2445</td></tr>\n",
       "\t<tr><td>Florida               </td><td>1183</td></tr>\n",
       "\t<tr><td>Gun Control           </td><td>2732</td></tr>\n",
       "\t<tr><td>Lindsey Graham        </td><td> 920</td></tr>\n",
       "\t<tr><td>Mitch McConnell       </td><td>1942</td></tr>\n",
       "\t<tr><td>NRA                   </td><td>2066</td></tr>\n",
       "\t<tr><td>Nancy Pelosi          </td><td>1329</td></tr>\n",
       "\t<tr><td>Newt Gingrich         </td><td>1222</td></tr>\n",
       "\t<tr><td>Ted Cruz              </td><td>1896</td></tr>\n",
       "\t<tr><td>Texas                 </td><td>3864</td></tr>\n",
       "\t<tr><td>andrew cuomo          </td><td>1492</td></tr>\n",
       "\t<tr><td>biden                 </td><td>2155</td></tr>\n",
       "\t<tr><td>climate change        </td><td>2143</td></tr>\n",
       "\t<tr><td>cultural appropriation</td><td>2879</td></tr>\n",
       "\t<tr><td>feminism              </td><td>1674</td></tr>\n",
       "\t<tr><td>immigration           </td><td>1736</td></tr>\n",
       "\t<tr><td>planned parenthood    </td><td>1528</td></tr>\n",
       "\t<tr><td>trump                 </td><td> 649</td></tr>\n",
       "\t<tr><td>welfare state         </td><td>2815</td></tr>\n",
       "</tbody>\n",
       "</table>\n"
      ],
      "text/latex": [
       "A tibble: 27 × 2\n",
       "\\begin{tabular}{ll}\n",
       " keyword & n\\\\\n",
       " <chr> & <int>\\\\\n",
       "\\hline\n",
       "\t  clinton               & 3198\\\\\n",
       "\t  free speech           & 2404\\\\\n",
       "\t  mask                  & 1327\\\\\n",
       "\t  moderna               & 1405\\\\\n",
       "\t  obama                 & 1813\\\\\n",
       "\t  vaccine               & 1397\\\\\n",
       "\t AOC                    &  885\\\\\n",
       "\t Border                 & 1280\\\\\n",
       "\t China                  & 2445\\\\\n",
       "\t Florida                & 1183\\\\\n",
       "\t Gun Control            & 2732\\\\\n",
       "\t Lindsey Graham         &  920\\\\\n",
       "\t Mitch McConnell        & 1942\\\\\n",
       "\t NRA                    & 2066\\\\\n",
       "\t Nancy Pelosi           & 1329\\\\\n",
       "\t Newt Gingrich          & 1222\\\\\n",
       "\t Ted Cruz               & 1896\\\\\n",
       "\t Texas                  & 3864\\\\\n",
       "\t andrew cuomo           & 1492\\\\\n",
       "\t biden                  & 2155\\\\\n",
       "\t climate change         & 2143\\\\\n",
       "\t cultural appropriation & 2879\\\\\n",
       "\t feminism               & 1674\\\\\n",
       "\t immigration            & 1736\\\\\n",
       "\t planned parenthood     & 1528\\\\\n",
       "\t trump                  &  649\\\\\n",
       "\t welfare state          & 2815\\\\\n",
       "\\end{tabular}\n"
      ],
      "text/markdown": [
       "\n",
       "A tibble: 27 × 2\n",
       "\n",
       "| keyword &lt;chr&gt; | n &lt;int&gt; |\n",
       "|---|---|\n",
       "|  clinton               | 3198 |\n",
       "|  free speech           | 2404 |\n",
       "|  mask                  | 1327 |\n",
       "|  moderna               | 1405 |\n",
       "|  obama                 | 1813 |\n",
       "|  vaccine               | 1397 |\n",
       "| AOC                    |  885 |\n",
       "| Border                 | 1280 |\n",
       "| China                  | 2445 |\n",
       "| Florida                | 1183 |\n",
       "| Gun Control            | 2732 |\n",
       "| Lindsey Graham         |  920 |\n",
       "| Mitch McConnell        | 1942 |\n",
       "| NRA                    | 2066 |\n",
       "| Nancy Pelosi           | 1329 |\n",
       "| Newt Gingrich          | 1222 |\n",
       "| Ted Cruz               | 1896 |\n",
       "| Texas                  | 3864 |\n",
       "| andrew cuomo           | 1492 |\n",
       "| biden                  | 2155 |\n",
       "| climate change         | 2143 |\n",
       "| cultural appropriation | 2879 |\n",
       "| feminism               | 1674 |\n",
       "| immigration            | 1736 |\n",
       "| planned parenthood     | 1528 |\n",
       "| trump                  |  649 |\n",
       "| welfare state          | 2815 |\n",
       "\n"
      ],
      "text/plain": [
       "   keyword                n   \n",
       "1   clinton               3198\n",
       "2   free speech           2404\n",
       "3   mask                  1327\n",
       "4   moderna               1405\n",
       "5   obama                 1813\n",
       "6   vaccine               1397\n",
       "7  AOC                     885\n",
       "8  Border                 1280\n",
       "9  China                  2445\n",
       "10 Florida                1183\n",
       "11 Gun Control            2732\n",
       "12 Lindsey Graham          920\n",
       "13 Mitch McConnell        1942\n",
       "14 NRA                    2066\n",
       "15 Nancy Pelosi           1329\n",
       "16 Newt Gingrich          1222\n",
       "17 Ted Cruz               1896\n",
       "18 Texas                  3864\n",
       "19 andrew cuomo           1492\n",
       "20 biden                  2155\n",
       "21 climate change         2143\n",
       "22 cultural appropriation 2879\n",
       "23 feminism               1674\n",
       "24 immigration            1736\n",
       "25 planned parenthood     1528\n",
       "26 trump                   649\n",
       "27 welfare state          2815"
      ]
     },
     "metadata": {},
     "output_type": "display_data"
    }
   ],
   "source": [
    "df_class %>%\n",
    "  group_by(keyword) %>%\n",
    "  #filter(!is.na(lgpp)) %>%\n",
    "  summarise(n = n())"
   ]
  },
  {
   "cell_type": "code",
   "execution_count": 16,
   "id": "93d66c75",
   "metadata": {},
   "outputs": [
    {
     "data": {
      "text/html": [
       "<table class=\"dataframe\">\n",
       "<caption>A data.frame: 6 × 11</caption>\n",
       "<thead>\n",
       "\t<tr><th></th><th scope=col>video</th><th scope=col>positive</th><th scope=col>negative</th><th scope=col>sentiment</th><th scope=col>sentiment_ratio</th><th scope=col>lgpp</th><th scope=col>nrc_el</th><th scope=col>topic</th><th scope=col>Flesch</th><th scope=col>ARI</th><th scope=col>Flesch.Kincaid</th></tr>\n",
       "\t<tr><th></th><th scope=col>&lt;chr&gt;</th><th scope=col>&lt;int&gt;</th><th scope=col>&lt;int&gt;</th><th scope=col>&lt;chr&gt;</th><th scope=col>&lt;dbl&gt;</th><th scope=col>&lt;chr&gt;</th><th scope=col>&lt;chr&gt;</th><th scope=col>&lt;chr&gt;</th><th scope=col>&lt;dbl&gt;</th><th scope=col>&lt;dbl&gt;</th><th scope=col>&lt;dbl&gt;</th></tr>\n",
       "</thead>\n",
       "<tbody>\n",
       "\t<tr><th scope=row>1</th><td>2w2dJd0KaU4</td><td> 33</td><td> 28</td><td>positive</td><td>1.1785714</td><td>INSTITUTIONS</td><td>trust   </td><td>politics </td><td>57.82261</td><td> 9.003887</td><td> 9.725262</td></tr>\n",
       "\t<tr><th scope=row>2</th><td>O67d-r2pBf4</td><td> 15</td><td>  6</td><td>positive</td><td>2.5000000</td><td>INSTITUTIONS</td><td>trust   </td><td>politics </td><td>85.91921</td><td> 2.117912</td><td> 3.352025</td></tr>\n",
       "\t<tr><th scope=row>3</th><td>ZdKoAvNtzPk</td><td>111</td><td>129</td><td>negative</td><td>0.8604651</td><td>INSTITUTIONS</td><td>trust   </td><td>politics </td><td>34.11404</td><td>21.949279</td><td>19.541357</td></tr>\n",
       "\t<tr><th scope=row>4</th><td>yyCCwkQM68A</td><td>137</td><td>127</td><td>positive</td><td>1.0787402</td><td>INSTITUTIONS</td><td>surprise</td><td>diplomacy</td><td>57.52529</td><td>11.379116</td><td>11.243571</td></tr>\n",
       "\t<tr><th scope=row>5</th><td>TO6TneYcASA</td><td> 33</td><td>  9</td><td>positive</td><td>3.6666667</td><td>ECONOMY     </td><td>sadness </td><td>politics </td><td>67.22966</td><td> 5.756827</td><td> 7.335008</td></tr>\n",
       "\t<tr><th scope=row>6</th><td>j1bpnLUl8gs</td><td> 21</td><td> 45</td><td>negative</td><td>0.4666667</td><td>INSTITUTIONS</td><td>trust   </td><td>politics </td><td>46.10878</td><td>14.941537</td><td>13.903990</td></tr>\n",
       "</tbody>\n",
       "</table>\n"
      ],
      "text/latex": [
       "A data.frame: 6 × 11\n",
       "\\begin{tabular}{r|lllllllllll}\n",
       "  & video & positive & negative & sentiment & sentiment\\_ratio & lgpp & nrc\\_el & topic & Flesch & ARI & Flesch.Kincaid\\\\\n",
       "  & <chr> & <int> & <int> & <chr> & <dbl> & <chr> & <chr> & <chr> & <dbl> & <dbl> & <dbl>\\\\\n",
       "\\hline\n",
       "\t1 & 2w2dJd0KaU4 &  33 &  28 & positive & 1.1785714 & INSTITUTIONS & trust    & politics  & 57.82261 &  9.003887 &  9.725262\\\\\n",
       "\t2 & O67d-r2pBf4 &  15 &   6 & positive & 2.5000000 & INSTITUTIONS & trust    & politics  & 85.91921 &  2.117912 &  3.352025\\\\\n",
       "\t3 & ZdKoAvNtzPk & 111 & 129 & negative & 0.8604651 & INSTITUTIONS & trust    & politics  & 34.11404 & 21.949279 & 19.541357\\\\\n",
       "\t4 & yyCCwkQM68A & 137 & 127 & positive & 1.0787402 & INSTITUTIONS & surprise & diplomacy & 57.52529 & 11.379116 & 11.243571\\\\\n",
       "\t5 & TO6TneYcASA &  33 &   9 & positive & 3.6666667 & ECONOMY      & sadness  & politics  & 67.22966 &  5.756827 &  7.335008\\\\\n",
       "\t6 & j1bpnLUl8gs &  21 &  45 & negative & 0.4666667 & INSTITUTIONS & trust    & politics  & 46.10878 & 14.941537 & 13.903990\\\\\n",
       "\\end{tabular}\n"
      ],
      "text/markdown": [
       "\n",
       "A data.frame: 6 × 11\n",
       "\n",
       "| <!--/--> | video &lt;chr&gt; | positive &lt;int&gt; | negative &lt;int&gt; | sentiment &lt;chr&gt; | sentiment_ratio &lt;dbl&gt; | lgpp &lt;chr&gt; | nrc_el &lt;chr&gt; | topic &lt;chr&gt; | Flesch &lt;dbl&gt; | ARI &lt;dbl&gt; | Flesch.Kincaid &lt;dbl&gt; |\n",
       "|---|---|---|---|---|---|---|---|---|---|---|---|\n",
       "| 1 | 2w2dJd0KaU4 |  33 |  28 | positive | 1.1785714 | INSTITUTIONS | trust    | politics  | 57.82261 |  9.003887 |  9.725262 |\n",
       "| 2 | O67d-r2pBf4 |  15 |   6 | positive | 2.5000000 | INSTITUTIONS | trust    | politics  | 85.91921 |  2.117912 |  3.352025 |\n",
       "| 3 | ZdKoAvNtzPk | 111 | 129 | negative | 0.8604651 | INSTITUTIONS | trust    | politics  | 34.11404 | 21.949279 | 19.541357 |\n",
       "| 4 | yyCCwkQM68A | 137 | 127 | positive | 1.0787402 | INSTITUTIONS | surprise | diplomacy | 57.52529 | 11.379116 | 11.243571 |\n",
       "| 5 | TO6TneYcASA |  33 |   9 | positive | 3.6666667 | ECONOMY      | sadness  | politics  | 67.22966 |  5.756827 |  7.335008 |\n",
       "| 6 | j1bpnLUl8gs |  21 |  45 | negative | 0.4666667 | INSTITUTIONS | trust    | politics  | 46.10878 | 14.941537 | 13.903990 |\n",
       "\n"
      ],
      "text/plain": [
       "  video       positive negative sentiment sentiment_ratio lgpp         nrc_el  \n",
       "1 2w2dJd0KaU4  33       28      positive  1.1785714       INSTITUTIONS trust   \n",
       "2 O67d-r2pBf4  15        6      positive  2.5000000       INSTITUTIONS trust   \n",
       "3 ZdKoAvNtzPk 111      129      negative  0.8604651       INSTITUTIONS trust   \n",
       "4 yyCCwkQM68A 137      127      positive  1.0787402       INSTITUTIONS surprise\n",
       "5 TO6TneYcASA  33        9      positive  3.6666667       ECONOMY      sadness \n",
       "6 j1bpnLUl8gs  21       45      negative  0.4666667       INSTITUTIONS trust   \n",
       "  topic     Flesch   ARI       Flesch.Kincaid\n",
       "1 politics  57.82261  9.003887  9.725262     \n",
       "2 politics  85.91921  2.117912  3.352025     \n",
       "3 politics  34.11404 21.949279 19.541357     \n",
       "4 diplomacy 57.52529 11.379116 11.243571     \n",
       "5 politics  67.22966  5.756827  7.335008     \n",
       "6 politics  46.10878 14.941537 13.903990     "
      ]
     },
     "metadata": {},
     "output_type": "display_data"
    }
   ],
   "source": [
    "df_class_tags <- subset(df_class, select = c(video, positive, negative, sentiment, sentiment_ratio, lgpp, nrc_el, topic, Flesch, ARI, Flesch.Kincaid))\n",
    "df_class_tags <- df_class_tags[!duplicated(df_class_tags$video), ]\n",
    "head(df_class_tags)"
   ]
  },
  {
   "cell_type": "code",
   "execution_count": 17,
   "id": "b2db5b27-590f-4b91-abbf-7e187d070dd9",
   "metadata": {},
   "outputs": [
    {
     "data": {
      "text/plain": [
       "    video              positive         negative       sentiment        \n",
       " Length:50379       Min.   :   0.0   Min.   :   0.0   Length:50379      \n",
       " Class :character   1st Qu.:  46.0   1st Qu.:  22.0   Class :character  \n",
       " Mode  :character   Median :  98.0   Median :  52.0   Mode  :character  \n",
       "                    Mean   : 182.7   Mean   : 100.5                     \n",
       "                    3rd Qu.: 220.0   3rd Qu.: 122.0                     \n",
       "                    Max.   :5013.0   Max.   :4262.0                     \n",
       "                                                                        \n",
       " sentiment_ratio       lgpp              nrc_el             topic          \n",
       " Min.   :  0.000   Length:50379       Length:50379       Length:50379      \n",
       " 1st Qu.:  1.230   Class :character   Class :character   Class :character  \n",
       " Median :  1.882   Mode  :character   Mode  :character   Mode  :character  \n",
       " Mean   :  2.440                                                           \n",
       " 3rd Qu.:  2.884                                                           \n",
       " Max.   :154.000                                                           \n",
       "                                                                           \n",
       "     Flesch               ARI          Flesch.Kincaid   \n",
       " Min.   :-10140.75   Min.   : -16.22   Min.   :  -3.40  \n",
       " 1st Qu.: -2477.12   1st Qu.:  11.27   1st Qu.:  10.96  \n",
       " Median :  -894.47   Median : 482.97   Median : 378.57  \n",
       " Mean   : -1673.12   Mean   : 866.42   Mean   : 677.76  \n",
       " 3rd Qu.:    55.11   3rd Qu.:1263.17   3rd Qu.: 987.23  \n",
       " Max.   :   121.22   Max.   :5034.29   Max.   :3929.36  \n",
       " NA's   :2476        NA's   :2476      NA's   :2476     "
      ]
     },
     "metadata": {},
     "output_type": "display_data"
    }
   ],
   "source": [
    "summary(df_class_tags)"
   ]
  },
  {
   "cell_type": "code",
   "execution_count": 18,
   "id": "ef969528-4e8a-49c3-9be9-2e2d44dddec8",
   "metadata": {},
   "outputs": [
    {
     "data": {
      "text/html": [
       "<table class=\"dataframe\">\n",
       "<caption>A data.frame: 50379 × 2</caption>\n",
       "<thead>\n",
       "\t<tr><th scope=col>video</th><th scope=col>n</th></tr>\n",
       "\t<tr><th scope=col>&lt;chr&gt;</th><th scope=col>&lt;int&gt;</th></tr>\n",
       "</thead>\n",
       "<tbody>\n",
       "\t<tr><td>--2yG9pbAzE</td><td>1</td></tr>\n",
       "\t<tr><td>--AuxdQUdlo</td><td>1</td></tr>\n",
       "\t<tr><td>--Cv18I6gxw</td><td>1</td></tr>\n",
       "\t<tr><td>--FGGcY8xiA</td><td>1</td></tr>\n",
       "\t<tr><td>--IPWq1bNcQ</td><td>1</td></tr>\n",
       "\t<tr><td>--dOEtLdSaI</td><td>1</td></tr>\n",
       "\t<tr><td>--fNM9CkdZY</td><td>1</td></tr>\n",
       "\t<tr><td>--iuWzEOdKs</td><td>1</td></tr>\n",
       "\t<tr><td>--mY5ruEhqI</td><td>1</td></tr>\n",
       "\t<tr><td>--oJxSNzWjk</td><td>1</td></tr>\n",
       "\t<tr><td>--secsuooko</td><td>1</td></tr>\n",
       "\t<tr><td>--x0vK2B4H0</td><td>1</td></tr>\n",
       "\t<tr><td>-02h94zVvsg</td><td>1</td></tr>\n",
       "\t<tr><td>-08dWJb66J8</td><td>1</td></tr>\n",
       "\t<tr><td>-0Bg88S0jCM</td><td>1</td></tr>\n",
       "\t<tr><td>-0Md4wYKJDU</td><td>1</td></tr>\n",
       "\t<tr><td>-0QyxtRSo8I</td><td>1</td></tr>\n",
       "\t<tr><td>-0Sg67rF8E4</td><td>1</td></tr>\n",
       "\t<tr><td>-0Wy3clXuH0</td><td>1</td></tr>\n",
       "\t<tr><td>-0ZRlzDwJc0</td><td>1</td></tr>\n",
       "\t<tr><td>-0gCJzeT2Wo</td><td>1</td></tr>\n",
       "\t<tr><td>-0n2kxkdJgM</td><td>1</td></tr>\n",
       "\t<tr><td>-0w0dM_e9a8</td><td>1</td></tr>\n",
       "\t<tr><td>-0xDTScrZA4</td><td>1</td></tr>\n",
       "\t<tr><td>-13Hn43BMjc</td><td>1</td></tr>\n",
       "\t<tr><td>-18kVzU4MMQ</td><td>1</td></tr>\n",
       "\t<tr><td>-1Aud9icDrc</td><td>1</td></tr>\n",
       "\t<tr><td>-1HtuVn7QQ4</td><td>1</td></tr>\n",
       "\t<tr><td>-1M2i5Am0QE</td><td>1</td></tr>\n",
       "\t<tr><td>-1OVBuRZ2to</td><td>1</td></tr>\n",
       "\t<tr><td>⋮</td><td>⋮</td></tr>\n",
       "\t<tr><td>zxBuBJ4cO-4</td><td>1</td></tr>\n",
       "\t<tr><td>zxD0-FZABtY</td><td>1</td></tr>\n",
       "\t<tr><td>zxD8FrR7uco</td><td>1</td></tr>\n",
       "\t<tr><td>zxJQRAid2bw</td><td>1</td></tr>\n",
       "\t<tr><td>zxObW7F1aLc</td><td>1</td></tr>\n",
       "\t<tr><td>zxOwGfqzM6I</td><td>1</td></tr>\n",
       "\t<tr><td>zxRgfBXn6Mg</td><td>1</td></tr>\n",
       "\t<tr><td>zxT8CM8XntA</td><td>1</td></tr>\n",
       "\t<tr><td>zxaXGiKwPis</td><td>1</td></tr>\n",
       "\t<tr><td>zxfJOUfeyzE</td><td>1</td></tr>\n",
       "\t<tr><td>zxfxmrYm1VU</td><td>1</td></tr>\n",
       "\t<tr><td>zxi-RnwkbTM</td><td>1</td></tr>\n",
       "\t<tr><td>zxj3xLDNxo0</td><td>1</td></tr>\n",
       "\t<tr><td>zxjJUdFnhwA</td><td>1</td></tr>\n",
       "\t<tr><td>zxp0CC-DRok</td><td>1</td></tr>\n",
       "\t<tr><td>zy6dajYnAeg</td><td>1</td></tr>\n",
       "\t<tr><td>zy6mVAb-UjU</td><td>1</td></tr>\n",
       "\t<tr><td>zyC3CWDlEzY</td><td>1</td></tr>\n",
       "\t<tr><td>zyEOKMQ7p74</td><td>1</td></tr>\n",
       "\t<tr><td>zyklP1y8HmI</td><td>1</td></tr>\n",
       "\t<tr><td>zzCQbYn4U74</td><td>1</td></tr>\n",
       "\t<tr><td>zzCa8lVBmHM</td><td>1</td></tr>\n",
       "\t<tr><td>zzClWpq6D-U</td><td>1</td></tr>\n",
       "\t<tr><td>zzKPvXYiHjo</td><td>1</td></tr>\n",
       "\t<tr><td>zzLTS5KxkuU</td><td>1</td></tr>\n",
       "\t<tr><td>zzb-0reGWTo</td><td>1</td></tr>\n",
       "\t<tr><td>zzbcG7CRYgQ</td><td>1</td></tr>\n",
       "\t<tr><td>zzch_dS1-us</td><td>1</td></tr>\n",
       "\t<tr><td>zzpK60WGeS8</td><td>1</td></tr>\n",
       "\t<tr><td>zzxFZ1E6Hrw</td><td>1</td></tr>\n",
       "</tbody>\n",
       "</table>\n"
      ],
      "text/latex": [
       "A data.frame: 50379 × 2\n",
       "\\begin{tabular}{ll}\n",
       " video & n\\\\\n",
       " <chr> & <int>\\\\\n",
       "\\hline\n",
       "\t --2yG9pbAzE & 1\\\\\n",
       "\t --AuxdQUdlo & 1\\\\\n",
       "\t --Cv18I6gxw & 1\\\\\n",
       "\t --FGGcY8xiA & 1\\\\\n",
       "\t --IPWq1bNcQ & 1\\\\\n",
       "\t --dOEtLdSaI & 1\\\\\n",
       "\t --fNM9CkdZY & 1\\\\\n",
       "\t --iuWzEOdKs & 1\\\\\n",
       "\t --mY5ruEhqI & 1\\\\\n",
       "\t --oJxSNzWjk & 1\\\\\n",
       "\t --secsuooko & 1\\\\\n",
       "\t --x0vK2B4H0 & 1\\\\\n",
       "\t -02h94zVvsg & 1\\\\\n",
       "\t -08dWJb66J8 & 1\\\\\n",
       "\t -0Bg88S0jCM & 1\\\\\n",
       "\t -0Md4wYKJDU & 1\\\\\n",
       "\t -0QyxtRSo8I & 1\\\\\n",
       "\t -0Sg67rF8E4 & 1\\\\\n",
       "\t -0Wy3clXuH0 & 1\\\\\n",
       "\t -0ZRlzDwJc0 & 1\\\\\n",
       "\t -0gCJzeT2Wo & 1\\\\\n",
       "\t -0n2kxkdJgM & 1\\\\\n",
       "\t -0w0dM\\_e9a8 & 1\\\\\n",
       "\t -0xDTScrZA4 & 1\\\\\n",
       "\t -13Hn43BMjc & 1\\\\\n",
       "\t -18kVzU4MMQ & 1\\\\\n",
       "\t -1Aud9icDrc & 1\\\\\n",
       "\t -1HtuVn7QQ4 & 1\\\\\n",
       "\t -1M2i5Am0QE & 1\\\\\n",
       "\t -1OVBuRZ2to & 1\\\\\n",
       "\t ⋮ & ⋮\\\\\n",
       "\t zxBuBJ4cO-4 & 1\\\\\n",
       "\t zxD0-FZABtY & 1\\\\\n",
       "\t zxD8FrR7uco & 1\\\\\n",
       "\t zxJQRAid2bw & 1\\\\\n",
       "\t zxObW7F1aLc & 1\\\\\n",
       "\t zxOwGfqzM6I & 1\\\\\n",
       "\t zxRgfBXn6Mg & 1\\\\\n",
       "\t zxT8CM8XntA & 1\\\\\n",
       "\t zxaXGiKwPis & 1\\\\\n",
       "\t zxfJOUfeyzE & 1\\\\\n",
       "\t zxfxmrYm1VU & 1\\\\\n",
       "\t zxi-RnwkbTM & 1\\\\\n",
       "\t zxj3xLDNxo0 & 1\\\\\n",
       "\t zxjJUdFnhwA & 1\\\\\n",
       "\t zxp0CC-DRok & 1\\\\\n",
       "\t zy6dajYnAeg & 1\\\\\n",
       "\t zy6mVAb-UjU & 1\\\\\n",
       "\t zyC3CWDlEzY & 1\\\\\n",
       "\t zyEOKMQ7p74 & 1\\\\\n",
       "\t zyklP1y8HmI & 1\\\\\n",
       "\t zzCQbYn4U74 & 1\\\\\n",
       "\t zzCa8lVBmHM & 1\\\\\n",
       "\t zzClWpq6D-U & 1\\\\\n",
       "\t zzKPvXYiHjo & 1\\\\\n",
       "\t zzLTS5KxkuU & 1\\\\\n",
       "\t zzb-0reGWTo & 1\\\\\n",
       "\t zzbcG7CRYgQ & 1\\\\\n",
       "\t zzch\\_dS1-us & 1\\\\\n",
       "\t zzpK60WGeS8 & 1\\\\\n",
       "\t zzxFZ1E6Hrw & 1\\\\\n",
       "\\end{tabular}\n"
      ],
      "text/markdown": [
       "\n",
       "A data.frame: 50379 × 2\n",
       "\n",
       "| video &lt;chr&gt; | n &lt;int&gt; |\n",
       "|---|---|\n",
       "| --2yG9pbAzE | 1 |\n",
       "| --AuxdQUdlo | 1 |\n",
       "| --Cv18I6gxw | 1 |\n",
       "| --FGGcY8xiA | 1 |\n",
       "| --IPWq1bNcQ | 1 |\n",
       "| --dOEtLdSaI | 1 |\n",
       "| --fNM9CkdZY | 1 |\n",
       "| --iuWzEOdKs | 1 |\n",
       "| --mY5ruEhqI | 1 |\n",
       "| --oJxSNzWjk | 1 |\n",
       "| --secsuooko | 1 |\n",
       "| --x0vK2B4H0 | 1 |\n",
       "| -02h94zVvsg | 1 |\n",
       "| -08dWJb66J8 | 1 |\n",
       "| -0Bg88S0jCM | 1 |\n",
       "| -0Md4wYKJDU | 1 |\n",
       "| -0QyxtRSo8I | 1 |\n",
       "| -0Sg67rF8E4 | 1 |\n",
       "| -0Wy3clXuH0 | 1 |\n",
       "| -0ZRlzDwJc0 | 1 |\n",
       "| -0gCJzeT2Wo | 1 |\n",
       "| -0n2kxkdJgM | 1 |\n",
       "| -0w0dM_e9a8 | 1 |\n",
       "| -0xDTScrZA4 | 1 |\n",
       "| -13Hn43BMjc | 1 |\n",
       "| -18kVzU4MMQ | 1 |\n",
       "| -1Aud9icDrc | 1 |\n",
       "| -1HtuVn7QQ4 | 1 |\n",
       "| -1M2i5Am0QE | 1 |\n",
       "| -1OVBuRZ2to | 1 |\n",
       "| ⋮ | ⋮ |\n",
       "| zxBuBJ4cO-4 | 1 |\n",
       "| zxD0-FZABtY | 1 |\n",
       "| zxD8FrR7uco | 1 |\n",
       "| zxJQRAid2bw | 1 |\n",
       "| zxObW7F1aLc | 1 |\n",
       "| zxOwGfqzM6I | 1 |\n",
       "| zxRgfBXn6Mg | 1 |\n",
       "| zxT8CM8XntA | 1 |\n",
       "| zxaXGiKwPis | 1 |\n",
       "| zxfJOUfeyzE | 1 |\n",
       "| zxfxmrYm1VU | 1 |\n",
       "| zxi-RnwkbTM | 1 |\n",
       "| zxj3xLDNxo0 | 1 |\n",
       "| zxjJUdFnhwA | 1 |\n",
       "| zxp0CC-DRok | 1 |\n",
       "| zy6dajYnAeg | 1 |\n",
       "| zy6mVAb-UjU | 1 |\n",
       "| zyC3CWDlEzY | 1 |\n",
       "| zyEOKMQ7p74 | 1 |\n",
       "| zyklP1y8HmI | 1 |\n",
       "| zzCQbYn4U74 | 1 |\n",
       "| zzCa8lVBmHM | 1 |\n",
       "| zzClWpq6D-U | 1 |\n",
       "| zzKPvXYiHjo | 1 |\n",
       "| zzLTS5KxkuU | 1 |\n",
       "| zzb-0reGWTo | 1 |\n",
       "| zzbcG7CRYgQ | 1 |\n",
       "| zzch_dS1-us | 1 |\n",
       "| zzpK60WGeS8 | 1 |\n",
       "| zzxFZ1E6Hrw | 1 |\n",
       "\n"
      ],
      "text/plain": [
       "      video       n\n",
       "1     --2yG9pbAzE 1\n",
       "2     --AuxdQUdlo 1\n",
       "3     --Cv18I6gxw 1\n",
       "4     --FGGcY8xiA 1\n",
       "5     --IPWq1bNcQ 1\n",
       "6     --dOEtLdSaI 1\n",
       "7     --fNM9CkdZY 1\n",
       "8     --iuWzEOdKs 1\n",
       "9     --mY5ruEhqI 1\n",
       "10    --oJxSNzWjk 1\n",
       "11    --secsuooko 1\n",
       "12    --x0vK2B4H0 1\n",
       "13    -02h94zVvsg 1\n",
       "14    -08dWJb66J8 1\n",
       "15    -0Bg88S0jCM 1\n",
       "16    -0Md4wYKJDU 1\n",
       "17    -0QyxtRSo8I 1\n",
       "18    -0Sg67rF8E4 1\n",
       "19    -0Wy3clXuH0 1\n",
       "20    -0ZRlzDwJc0 1\n",
       "21    -0gCJzeT2Wo 1\n",
       "22    -0n2kxkdJgM 1\n",
       "23    -0w0dM_e9a8 1\n",
       "24    -0xDTScrZA4 1\n",
       "25    -13Hn43BMjc 1\n",
       "26    -18kVzU4MMQ 1\n",
       "27    -1Aud9icDrc 1\n",
       "28    -1HtuVn7QQ4 1\n",
       "29    -1M2i5Am0QE 1\n",
       "30    -1OVBuRZ2to 1\n",
       "⋮     ⋮           ⋮\n",
       "50350 zxBuBJ4cO-4 1\n",
       "50351 zxD0-FZABtY 1\n",
       "50352 zxD8FrR7uco 1\n",
       "50353 zxJQRAid2bw 1\n",
       "50354 zxObW7F1aLc 1\n",
       "50355 zxOwGfqzM6I 1\n",
       "50356 zxRgfBXn6Mg 1\n",
       "50357 zxT8CM8XntA 1\n",
       "50358 zxaXGiKwPis 1\n",
       "50359 zxfJOUfeyzE 1\n",
       "50360 zxfxmrYm1VU 1\n",
       "50361 zxi-RnwkbTM 1\n",
       "50362 zxj3xLDNxo0 1\n",
       "50363 zxjJUdFnhwA 1\n",
       "50364 zxp0CC-DRok 1\n",
       "50365 zy6dajYnAeg 1\n",
       "50366 zy6mVAb-UjU 1\n",
       "50367 zyC3CWDlEzY 1\n",
       "50368 zyEOKMQ7p74 1\n",
       "50369 zyklP1y8HmI 1\n",
       "50370 zzCQbYn4U74 1\n",
       "50371 zzCa8lVBmHM 1\n",
       "50372 zzClWpq6D-U 1\n",
       "50373 zzKPvXYiHjo 1\n",
       "50374 zzLTS5KxkuU 1\n",
       "50375 zzb-0reGWTo 1\n",
       "50376 zzbcG7CRYgQ 1\n",
       "50377 zzch_dS1-us 1\n",
       "50378 zzpK60WGeS8 1\n",
       "50379 zzxFZ1E6Hrw 1"
      ]
     },
     "metadata": {},
     "output_type": "display_data"
    }
   ],
   "source": [
    "df_class_tags %>%\n",
    "  dplyr::count(video) %>%\n",
    "  arrange(desc(n))"
   ]
  },
  {
   "cell_type": "code",
   "execution_count": 19,
   "id": "e2bbb8fe",
   "metadata": {},
   "outputs": [
    {
     "data": {
      "text/html": [
       "431250"
      ],
      "text/latex": [
       "431250"
      ],
      "text/markdown": [
       "431250"
      ],
      "text/plain": [
       "[1] 431250"
      ]
     },
     "metadata": {},
     "output_type": "display_data"
    }
   ],
   "source": [
    "#keywords = c('clinton', 'free speech', 'moderna', 'vaccine', 'AOC', 'Border', 'Gun Control', 'cultural appropriation', 'feminism', 'immigration', 'planned parenthood', 'welfare state')\n",
    "#df_search_keywords <- df_search[df_search$keyword %in% keywords,]\n",
    "df_search_keywords <- df_search\n",
    "nrow(df_search_keywords)"
   ]
  },
  {
   "cell_type": "code",
   "execution_count": 20,
   "id": "d0e87125",
   "metadata": {},
   "outputs": [
    {
     "data": {
      "text/html": [
       "431250"
      ],
      "text/latex": [
       "431250"
      ],
      "text/markdown": [
       "431250"
      ],
      "text/plain": [
       "[1] 431250"
      ]
     },
     "metadata": {},
     "output_type": "display_data"
    }
   ],
   "source": [
    "df_search_keywords <- merge(df_search_keywords, df_class_tags,by=\"video\", all.x=TRUE)\n",
    "nrow(df_search_keywords)"
   ]
  },
  {
   "cell_type": "code",
   "execution_count": 21,
   "id": "afeaa798-dcf7-4e3d-9029-fb499ff070e2",
   "metadata": {},
   "outputs": [
    {
     "data": {
      "text/html": [
       "<table class=\"dataframe\">\n",
       "<caption>A tibble: 27 × 2</caption>\n",
       "<thead>\n",
       "\t<tr><th scope=col>keyword</th><th scope=col>n</th></tr>\n",
       "\t<tr><th scope=col>&lt;chr&gt;</th><th scope=col>&lt;int&gt;</th></tr>\n",
       "</thead>\n",
       "<tbody>\n",
       "\t<tr><td> clinton              </td><td>13252</td></tr>\n",
       "\t<tr><td> free speech          </td><td>14026</td></tr>\n",
       "\t<tr><td> mask                 </td><td> 6029</td></tr>\n",
       "\t<tr><td> moderna              </td><td>14310</td></tr>\n",
       "\t<tr><td> obama                </td><td>13218</td></tr>\n",
       "\t<tr><td> vaccine              </td><td>15972</td></tr>\n",
       "\t<tr><td>AOC                   </td><td>11005</td></tr>\n",
       "\t<tr><td>Border                </td><td>10074</td></tr>\n",
       "\t<tr><td>China                 </td><td> 8836</td></tr>\n",
       "\t<tr><td>Florida               </td><td> 5234</td></tr>\n",
       "\t<tr><td>Gun Control           </td><td>14553</td></tr>\n",
       "\t<tr><td>Lindsey Graham        </td><td>16625</td></tr>\n",
       "\t<tr><td>Mitch McConnell       </td><td>16403</td></tr>\n",
       "\t<tr><td>NRA                   </td><td>12441</td></tr>\n",
       "\t<tr><td>Nancy Pelosi          </td><td>12446</td></tr>\n",
       "\t<tr><td>Newt Gingrich         </td><td>16778</td></tr>\n",
       "\t<tr><td>Ted Cruz              </td><td>15480</td></tr>\n",
       "\t<tr><td>Texas                 </td><td>13899</td></tr>\n",
       "\t<tr><td>andrew cuomo          </td><td>14411</td></tr>\n",
       "\t<tr><td>biden                 </td><td>16941</td></tr>\n",
       "\t<tr><td>climate change        </td><td> 9745</td></tr>\n",
       "\t<tr><td>cultural appropriation</td><td> 9148</td></tr>\n",
       "\t<tr><td>feminism              </td><td>15946</td></tr>\n",
       "\t<tr><td>immigration           </td><td>10856</td></tr>\n",
       "\t<tr><td>planned parenthood    </td><td>10330</td></tr>\n",
       "\t<tr><td>trump                 </td><td>15475</td></tr>\n",
       "\t<tr><td>welfare state         </td><td>12922</td></tr>\n",
       "</tbody>\n",
       "</table>\n"
      ],
      "text/latex": [
       "A tibble: 27 × 2\n",
       "\\begin{tabular}{ll}\n",
       " keyword & n\\\\\n",
       " <chr> & <int>\\\\\n",
       "\\hline\n",
       "\t  clinton               & 13252\\\\\n",
       "\t  free speech           & 14026\\\\\n",
       "\t  mask                  &  6029\\\\\n",
       "\t  moderna               & 14310\\\\\n",
       "\t  obama                 & 13218\\\\\n",
       "\t  vaccine               & 15972\\\\\n",
       "\t AOC                    & 11005\\\\\n",
       "\t Border                 & 10074\\\\\n",
       "\t China                  &  8836\\\\\n",
       "\t Florida                &  5234\\\\\n",
       "\t Gun Control            & 14553\\\\\n",
       "\t Lindsey Graham         & 16625\\\\\n",
       "\t Mitch McConnell        & 16403\\\\\n",
       "\t NRA                    & 12441\\\\\n",
       "\t Nancy Pelosi           & 12446\\\\\n",
       "\t Newt Gingrich          & 16778\\\\\n",
       "\t Ted Cruz               & 15480\\\\\n",
       "\t Texas                  & 13899\\\\\n",
       "\t andrew cuomo           & 14411\\\\\n",
       "\t biden                  & 16941\\\\\n",
       "\t climate change         &  9745\\\\\n",
       "\t cultural appropriation &  9148\\\\\n",
       "\t feminism               & 15946\\\\\n",
       "\t immigration            & 10856\\\\\n",
       "\t planned parenthood     & 10330\\\\\n",
       "\t trump                  & 15475\\\\\n",
       "\t welfare state          & 12922\\\\\n",
       "\\end{tabular}\n"
      ],
      "text/markdown": [
       "\n",
       "A tibble: 27 × 2\n",
       "\n",
       "| keyword &lt;chr&gt; | n &lt;int&gt; |\n",
       "|---|---|\n",
       "|  clinton               | 13252 |\n",
       "|  free speech           | 14026 |\n",
       "|  mask                  |  6029 |\n",
       "|  moderna               | 14310 |\n",
       "|  obama                 | 13218 |\n",
       "|  vaccine               | 15972 |\n",
       "| AOC                    | 11005 |\n",
       "| Border                 | 10074 |\n",
       "| China                  |  8836 |\n",
       "| Florida                |  5234 |\n",
       "| Gun Control            | 14553 |\n",
       "| Lindsey Graham         | 16625 |\n",
       "| Mitch McConnell        | 16403 |\n",
       "| NRA                    | 12441 |\n",
       "| Nancy Pelosi           | 12446 |\n",
       "| Newt Gingrich          | 16778 |\n",
       "| Ted Cruz               | 15480 |\n",
       "| Texas                  | 13899 |\n",
       "| andrew cuomo           | 14411 |\n",
       "| biden                  | 16941 |\n",
       "| climate change         |  9745 |\n",
       "| cultural appropriation |  9148 |\n",
       "| feminism               | 15946 |\n",
       "| immigration            | 10856 |\n",
       "| planned parenthood     | 10330 |\n",
       "| trump                  | 15475 |\n",
       "| welfare state          | 12922 |\n",
       "\n"
      ],
      "text/plain": [
       "   keyword                n    \n",
       "1   clinton               13252\n",
       "2   free speech           14026\n",
       "3   mask                   6029\n",
       "4   moderna               14310\n",
       "5   obama                 13218\n",
       "6   vaccine               15972\n",
       "7  AOC                    11005\n",
       "8  Border                 10074\n",
       "9  China                   8836\n",
       "10 Florida                 5234\n",
       "11 Gun Control            14553\n",
       "12 Lindsey Graham         16625\n",
       "13 Mitch McConnell        16403\n",
       "14 NRA                    12441\n",
       "15 Nancy Pelosi           12446\n",
       "16 Newt Gingrich          16778\n",
       "17 Ted Cruz               15480\n",
       "18 Texas                  13899\n",
       "19 andrew cuomo           14411\n",
       "20 biden                  16941\n",
       "21 climate change          9745\n",
       "22 cultural appropriation  9148\n",
       "23 feminism               15946\n",
       "24 immigration            10856\n",
       "25 planned parenthood     10330\n",
       "26 trump                  15475\n",
       "27 welfare state          12922"
      ]
     },
     "metadata": {},
     "output_type": "display_data"
    }
   ],
   "source": [
    "df_search_keywords %>%\n",
    "  group_by(keyword) %>%\n",
    "  filter(!is.na(lgpp)) %>%\n",
    "  summarise(n = n())"
   ]
  },
  {
   "cell_type": "code",
   "execution_count": 22,
   "id": "1320376f-7f77-4832-8732-8550cf629aab",
   "metadata": {},
   "outputs": [
    {
     "data": {
      "text/html": [
       "<table class=\"dataframe\">\n",
       "<caption>A tibble: 27 × 2</caption>\n",
       "<thead>\n",
       "\t<tr><th scope=col>keyword</th><th scope=col>n</th></tr>\n",
       "\t<tr><th scope=col>&lt;chr&gt;</th><th scope=col>&lt;int&gt;</th></tr>\n",
       "</thead>\n",
       "<tbody>\n",
       "\t<tr><td> clinton              </td><td> 9317</td></tr>\n",
       "\t<tr><td> free speech          </td><td> 6701</td></tr>\n",
       "\t<tr><td> mask                 </td><td>    4</td></tr>\n",
       "\t<tr><td> moderna              </td><td> 7557</td></tr>\n",
       "\t<tr><td> obama                </td><td> 8473</td></tr>\n",
       "\t<tr><td> vaccine              </td><td>15161</td></tr>\n",
       "\t<tr><td>AOC                   </td><td> 7670</td></tr>\n",
       "\t<tr><td>Border                </td><td>11184</td></tr>\n",
       "\t<tr><td>China                 </td><td> 6401</td></tr>\n",
       "\t<tr><td>Florida               </td><td> 1437</td></tr>\n",
       "\t<tr><td>Gun Control           </td><td>10266</td></tr>\n",
       "\t<tr><td>Lindsey Graham        </td><td>13238</td></tr>\n",
       "\t<tr><td>Mitch McConnell       </td><td>11593</td></tr>\n",
       "\t<tr><td>NRA                   </td><td> 9525</td></tr>\n",
       "\t<tr><td>Nancy Pelosi          </td><td>11011</td></tr>\n",
       "\t<tr><td>Newt Gingrich         </td><td>13472</td></tr>\n",
       "\t<tr><td>Ted Cruz              </td><td>10783</td></tr>\n",
       "\t<tr><td>Texas                 </td><td> 7217</td></tr>\n",
       "\t<tr><td>andrew cuomo          </td><td> 8984</td></tr>\n",
       "\t<tr><td>biden                 </td><td>13499</td></tr>\n",
       "\t<tr><td>climate change        </td><td> 5373</td></tr>\n",
       "\t<tr><td>cultural appropriation</td><td> 2789</td></tr>\n",
       "\t<tr><td>feminism              </td><td>14097</td></tr>\n",
       "\t<tr><td>immigration           </td><td> 7958</td></tr>\n",
       "\t<tr><td>planned parenthood    </td><td> 4940</td></tr>\n",
       "\t<tr><td>trump                 </td><td>15386</td></tr>\n",
       "\t<tr><td>welfare state         </td><td> 3771</td></tr>\n",
       "</tbody>\n",
       "</table>\n"
      ],
      "text/latex": [
       "A tibble: 27 × 2\n",
       "\\begin{tabular}{ll}\n",
       " keyword & n\\\\\n",
       " <chr> & <int>\\\\\n",
       "\\hline\n",
       "\t  clinton               &  9317\\\\\n",
       "\t  free speech           &  6701\\\\\n",
       "\t  mask                  &     4\\\\\n",
       "\t  moderna               &  7557\\\\\n",
       "\t  obama                 &  8473\\\\\n",
       "\t  vaccine               & 15161\\\\\n",
       "\t AOC                    &  7670\\\\\n",
       "\t Border                 & 11184\\\\\n",
       "\t China                  &  6401\\\\\n",
       "\t Florida                &  1437\\\\\n",
       "\t Gun Control            & 10266\\\\\n",
       "\t Lindsey Graham         & 13238\\\\\n",
       "\t Mitch McConnell        & 11593\\\\\n",
       "\t NRA                    &  9525\\\\\n",
       "\t Nancy Pelosi           & 11011\\\\\n",
       "\t Newt Gingrich          & 13472\\\\\n",
       "\t Ted Cruz               & 10783\\\\\n",
       "\t Texas                  &  7217\\\\\n",
       "\t andrew cuomo           &  8984\\\\\n",
       "\t biden                  & 13499\\\\\n",
       "\t climate change         &  5373\\\\\n",
       "\t cultural appropriation &  2789\\\\\n",
       "\t feminism               & 14097\\\\\n",
       "\t immigration            &  7958\\\\\n",
       "\t planned parenthood     &  4940\\\\\n",
       "\t trump                  & 15386\\\\\n",
       "\t welfare state          &  3771\\\\\n",
       "\\end{tabular}\n"
      ],
      "text/markdown": [
       "\n",
       "A tibble: 27 × 2\n",
       "\n",
       "| keyword &lt;chr&gt; | n &lt;int&gt; |\n",
       "|---|---|\n",
       "|  clinton               |  9317 |\n",
       "|  free speech           |  6701 |\n",
       "|  mask                  |     4 |\n",
       "|  moderna               |  7557 |\n",
       "|  obama                 |  8473 |\n",
       "|  vaccine               | 15161 |\n",
       "| AOC                    |  7670 |\n",
       "| Border                 | 11184 |\n",
       "| China                  |  6401 |\n",
       "| Florida                |  1437 |\n",
       "| Gun Control            | 10266 |\n",
       "| Lindsey Graham         | 13238 |\n",
       "| Mitch McConnell        | 11593 |\n",
       "| NRA                    |  9525 |\n",
       "| Nancy Pelosi           | 11011 |\n",
       "| Newt Gingrich          | 13472 |\n",
       "| Ted Cruz               | 10783 |\n",
       "| Texas                  |  7217 |\n",
       "| andrew cuomo           |  8984 |\n",
       "| biden                  | 13499 |\n",
       "| climate change         |  5373 |\n",
       "| cultural appropriation |  2789 |\n",
       "| feminism               | 14097 |\n",
       "| immigration            |  7958 |\n",
       "| planned parenthood     |  4940 |\n",
       "| trump                  | 15386 |\n",
       "| welfare state          |  3771 |\n",
       "\n"
      ],
      "text/plain": [
       "   keyword                n    \n",
       "1   clinton                9317\n",
       "2   free speech            6701\n",
       "3   mask                      4\n",
       "4   moderna                7557\n",
       "5   obama                  8473\n",
       "6   vaccine               15161\n",
       "7  AOC                     7670\n",
       "8  Border                 11184\n",
       "9  China                   6401\n",
       "10 Florida                 1437\n",
       "11 Gun Control            10266\n",
       "12 Lindsey Graham         13238\n",
       "13 Mitch McConnell        11593\n",
       "14 NRA                     9525\n",
       "15 Nancy Pelosi           11011\n",
       "16 Newt Gingrich          13472\n",
       "17 Ted Cruz               10783\n",
       "18 Texas                   7217\n",
       "19 andrew cuomo            8984\n",
       "20 biden                  13499\n",
       "21 climate change          5373\n",
       "22 cultural appropriation  2789\n",
       "23 feminism               14097\n",
       "24 immigration             7958\n",
       "25 planned parenthood      4940\n",
       "26 trump                  15386\n",
       "27 welfare state           3771"
      ]
     },
     "metadata": {},
     "output_type": "display_data"
    }
   ],
   "source": [
    "df_search_keywords %>%\n",
    "  group_by(keyword) %>%\n",
    "  filter(Bias!='') %>%\n",
    "  summarise(n = n())"
   ]
  },
  {
   "cell_type": "code",
   "execution_count": 23,
   "id": "8db83e4a-8833-4f57-a1fa-c1f29815d2de",
   "metadata": {},
   "outputs": [
    {
     "data": {
      "text/html": [
       "<table class=\"dataframe\">\n",
       "<caption>A tibble: 201 × 2</caption>\n",
       "<thead>\n",
       "\t<tr><th scope=col>channel</th><th scope=col>n</th></tr>\n",
       "\t<tr><th scope=col>&lt;chr&gt;</th><th scope=col>&lt;int&gt;</th></tr>\n",
       "</thead>\n",
       "<tbody>\n",
       "\t<tr><td>UClgRkhTL3_hImCAmdLfDE4g</td><td>3878</td></tr>\n",
       "\t<tr><td>UCEeA_eQkyeqtpnCXyrLSV0Q</td><td>1236</td></tr>\n",
       "\t<tr><td>UCQkfDHUXS-Vw-629IlOjzaw</td><td>1076</td></tr>\n",
       "\t<tr><td>UCqgts67ZwDd-gAasDQbZrnQ</td><td> 802</td></tr>\n",
       "\t<tr><td>UC5p_l5ZeB_wGjO_yDXwiqvw</td><td> 475</td></tr>\n",
       "\t<tr><td>UC5JWYxKQvuLBio3Vxg5QRkg</td><td> 464</td></tr>\n",
       "\t<tr><td>UCA1mxOwASgWGYkvxN20-MBw</td><td> 390</td></tr>\n",
       "\t<tr><td>UC8dnBi4WUErqYQHZ4PfsLTg</td><td> 365</td></tr>\n",
       "\t<tr><td>UCVhZyGllAVd-Wl6kNufV0uA</td><td> 268</td></tr>\n",
       "\t<tr><td>UCA7bdnvxA9PohJzkMhUW1hw</td><td> 229</td></tr>\n",
       "\t<tr><td>UCEkGjjEus5l7uOXuV80465g</td><td> 207</td></tr>\n",
       "\t<tr><td>UCtrg_CO-cIoh0x9bMDkRJww</td><td> 169</td></tr>\n",
       "\t<tr><td>UC3qSqrIqiwgAY4LE1YHRv0Q</td><td> 167</td></tr>\n",
       "\t<tr><td>UC_8NknAFiyhOUaZqHR3lq3Q</td><td> 163</td></tr>\n",
       "\t<tr><td>UCiSVf-UpLC9rRjAT1qRTW0g</td><td> 154</td></tr>\n",
       "\t<tr><td>UCFAiFyGs6oDiF1Nf-rRJpZA</td><td> 152</td></tr>\n",
       "\t<tr><td>UC9gVCa6ap-KDayMRPg5wjIg</td><td> 134</td></tr>\n",
       "\t<tr><td>UCEThrjV-sVwcCizc9gQPwhA</td><td> 129</td></tr>\n",
       "\t<tr><td>UCFbZ2e9IrPejOdp8wsKUxvA</td><td> 118</td></tr>\n",
       "\t<tr><td>UC3xZYc4SZUGfRERIvDRGqDQ</td><td>  98</td></tr>\n",
       "\t<tr><td>UCnmGIkw-KdI0W5siakKPKog</td><td>  98</td></tr>\n",
       "\t<tr><td>UC6gH759Jm4-JCwmtFM__DKQ</td><td>  91</td></tr>\n",
       "\t<tr><td>UCPDTrtVU72FgD6QHVY2d04Q</td><td>  91</td></tr>\n",
       "\t<tr><td>UC1n_PfsVqxllCcnMPlxBIjw</td><td>  88</td></tr>\n",
       "\t<tr><td>UCss_0YiNRBiQzFLt2dosZIg</td><td>  82</td></tr>\n",
       "\t<tr><td>UCte4hWCCxbHbHvmspTKMPXw</td><td>  78</td></tr>\n",
       "\t<tr><td>UC9OABighzB6Qr5OAOm5RLdA</td><td>  73</td></tr>\n",
       "\t<tr><td>UCA2tt9GSU2sl8rAqjlLR3mQ</td><td>  73</td></tr>\n",
       "\t<tr><td>UCke6I9N4KfC968-yRcd5YRg</td><td>  70</td></tr>\n",
       "\t<tr><td>UCh5mLn90vUaB1PbRRx_AiaA</td><td>  66</td></tr>\n",
       "\t<tr><td>⋮</td><td>⋮</td></tr>\n",
       "\t<tr><td>UCM0j9ZMGByg8BPIu_L6ICVg</td><td>2</td></tr>\n",
       "\t<tr><td>UCN3T5wN8RrNAMaCGGHnbngQ</td><td>2</td></tr>\n",
       "\t<tr><td>UCPn2dRRHGodgdwiK40K7xLQ</td><td>2</td></tr>\n",
       "\t<tr><td>UCQVwQQvz8O_0aeFDBVcdhpg</td><td>2</td></tr>\n",
       "\t<tr><td>UCTWbP-2W-_6mzWLg2oZmT7Q</td><td>2</td></tr>\n",
       "\t<tr><td>UCTrQ7HXWRRxr7OsOtodr2_w</td><td>2</td></tr>\n",
       "\t<tr><td>UCU32Gzx4tvTNf006HuepyuQ</td><td>2</td></tr>\n",
       "\t<tr><td>UCWNH3vyDfAToVG8UVqewdjQ</td><td>2</td></tr>\n",
       "\t<tr><td>UCXXnwJW6WTK2b3i3p6GLaPw</td><td>2</td></tr>\n",
       "\t<tr><td>UCYpqUStHIE9CmgDPkAmN4Sg</td><td>2</td></tr>\n",
       "\t<tr><td>UC_tCuH9uVrUP-BqN4lSRwyg</td><td>2</td></tr>\n",
       "\t<tr><td>UCbdMik2cV8pea1jcWdX_CYA</td><td>2</td></tr>\n",
       "\t<tr><td>UCeBnbqt4VRhotq2TQjkIi2A</td><td>2</td></tr>\n",
       "\t<tr><td>UCfVPkqHdqDon3OfKn6Qm1kA</td><td>2</td></tr>\n",
       "\t<tr><td>UCg7QeDcScxdO64Z0oLwg61Q</td><td>2</td></tr>\n",
       "\t<tr><td>UCjRkTl_HP4zOh3UFaThgRZw</td><td>2</td></tr>\n",
       "\t<tr><td>UCjXYT30DguGUNnQ96TCH1Gg</td><td>2</td></tr>\n",
       "\t<tr><td>UCjm_2mMYXUEjWzSVsA6Wshg</td><td>2</td></tr>\n",
       "\t<tr><td>UCkWNbreCHWnf5MxzkmjicBQ</td><td>2</td></tr>\n",
       "\t<tr><td>UCl-OodciBGZ0k8K8rBZGe4w</td><td>2</td></tr>\n",
       "\t<tr><td>UCm3JllAKCFNCYSNAtllh8pw</td><td>2</td></tr>\n",
       "\t<tr><td>UCm77ZaTQ6DtLdN-72JEt9sQ</td><td>2</td></tr>\n",
       "\t<tr><td>UCoUM-UJ7rirJYP8CQ0EIaHA</td><td>2</td></tr>\n",
       "\t<tr><td>UCojsj6T5tNPGPZSx7wn4coQ</td><td>2</td></tr>\n",
       "\t<tr><td>UCrMUPP-xQ7BuEhADfo2GVDQ</td><td>2</td></tr>\n",
       "\t<tr><td>UCsT0YIqwnpJCM-mx7-gSA4Q</td><td>2</td></tr>\n",
       "\t<tr><td>UCua0cN56ArQlxIiL2qpAksw</td><td>2</td></tr>\n",
       "\t<tr><td>UCuyy32tgMqwk__o_5OOnldQ</td><td>2</td></tr>\n",
       "\t<tr><td>UCvsdQrg8SkOvS2WiVXA5S4A</td><td>2</td></tr>\n",
       "\t<tr><td>UCxpJlfg4-PAeK2GwRww5saQ</td><td>2</td></tr>\n",
       "</tbody>\n",
       "</table>\n"
      ],
      "text/latex": [
       "A tibble: 201 × 2\n",
       "\\begin{tabular}{ll}\n",
       " channel & n\\\\\n",
       " <chr> & <int>\\\\\n",
       "\\hline\n",
       "\t UClgRkhTL3\\_hImCAmdLfDE4g & 3878\\\\\n",
       "\t UCEeA\\_eQkyeqtpnCXyrLSV0Q & 1236\\\\\n",
       "\t UCQkfDHUXS-Vw-629IlOjzaw & 1076\\\\\n",
       "\t UCqgts67ZwDd-gAasDQbZrnQ &  802\\\\\n",
       "\t UC5p\\_l5ZeB\\_wGjO\\_yDXwiqvw &  475\\\\\n",
       "\t UC5JWYxKQvuLBio3Vxg5QRkg &  464\\\\\n",
       "\t UCA1mxOwASgWGYkvxN20-MBw &  390\\\\\n",
       "\t UC8dnBi4WUErqYQHZ4PfsLTg &  365\\\\\n",
       "\t UCVhZyGllAVd-Wl6kNufV0uA &  268\\\\\n",
       "\t UCA7bdnvxA9PohJzkMhUW1hw &  229\\\\\n",
       "\t UCEkGjjEus5l7uOXuV80465g &  207\\\\\n",
       "\t UCtrg\\_CO-cIoh0x9bMDkRJww &  169\\\\\n",
       "\t UC3qSqrIqiwgAY4LE1YHRv0Q &  167\\\\\n",
       "\t UC\\_8NknAFiyhOUaZqHR3lq3Q &  163\\\\\n",
       "\t UCiSVf-UpLC9rRjAT1qRTW0g &  154\\\\\n",
       "\t UCFAiFyGs6oDiF1Nf-rRJpZA &  152\\\\\n",
       "\t UC9gVCa6ap-KDayMRPg5wjIg &  134\\\\\n",
       "\t UCEThrjV-sVwcCizc9gQPwhA &  129\\\\\n",
       "\t UCFbZ2e9IrPejOdp8wsKUxvA &  118\\\\\n",
       "\t UC3xZYc4SZUGfRERIvDRGqDQ &   98\\\\\n",
       "\t UCnmGIkw-KdI0W5siakKPKog &   98\\\\\n",
       "\t UC6gH759Jm4-JCwmtFM\\_\\_DKQ &   91\\\\\n",
       "\t UCPDTrtVU72FgD6QHVY2d04Q &   91\\\\\n",
       "\t UC1n\\_PfsVqxllCcnMPlxBIjw &   88\\\\\n",
       "\t UCss\\_0YiNRBiQzFLt2dosZIg &   82\\\\\n",
       "\t UCte4hWCCxbHbHvmspTKMPXw &   78\\\\\n",
       "\t UC9OABighzB6Qr5OAOm5RLdA &   73\\\\\n",
       "\t UCA2tt9GSU2sl8rAqjlLR3mQ &   73\\\\\n",
       "\t UCke6I9N4KfC968-yRcd5YRg &   70\\\\\n",
       "\t UCh5mLn90vUaB1PbRRx\\_AiaA &   66\\\\\n",
       "\t ⋮ & ⋮\\\\\n",
       "\t UCM0j9ZMGByg8BPIu\\_L6ICVg & 2\\\\\n",
       "\t UCN3T5wN8RrNAMaCGGHnbngQ & 2\\\\\n",
       "\t UCPn2dRRHGodgdwiK40K7xLQ & 2\\\\\n",
       "\t UCQVwQQvz8O\\_0aeFDBVcdhpg & 2\\\\\n",
       "\t UCTWbP-2W-\\_6mzWLg2oZmT7Q & 2\\\\\n",
       "\t UCTrQ7HXWRRxr7OsOtodr2\\_w & 2\\\\\n",
       "\t UCU32Gzx4tvTNf006HuepyuQ & 2\\\\\n",
       "\t UCWNH3vyDfAToVG8UVqewdjQ & 2\\\\\n",
       "\t UCXXnwJW6WTK2b3i3p6GLaPw & 2\\\\\n",
       "\t UCYpqUStHIE9CmgDPkAmN4Sg & 2\\\\\n",
       "\t UC\\_tCuH9uVrUP-BqN4lSRwyg & 2\\\\\n",
       "\t UCbdMik2cV8pea1jcWdX\\_CYA & 2\\\\\n",
       "\t UCeBnbqt4VRhotq2TQjkIi2A & 2\\\\\n",
       "\t UCfVPkqHdqDon3OfKn6Qm1kA & 2\\\\\n",
       "\t UCg7QeDcScxdO64Z0oLwg61Q & 2\\\\\n",
       "\t UCjRkTl\\_HP4zOh3UFaThgRZw & 2\\\\\n",
       "\t UCjXYT30DguGUNnQ96TCH1Gg & 2\\\\\n",
       "\t UCjm\\_2mMYXUEjWzSVsA6Wshg & 2\\\\\n",
       "\t UCkWNbreCHWnf5MxzkmjicBQ & 2\\\\\n",
       "\t UCl-OodciBGZ0k8K8rBZGe4w & 2\\\\\n",
       "\t UCm3JllAKCFNCYSNAtllh8pw & 2\\\\\n",
       "\t UCm77ZaTQ6DtLdN-72JEt9sQ & 2\\\\\n",
       "\t UCoUM-UJ7rirJYP8CQ0EIaHA & 2\\\\\n",
       "\t UCojsj6T5tNPGPZSx7wn4coQ & 2\\\\\n",
       "\t UCrMUPP-xQ7BuEhADfo2GVDQ & 2\\\\\n",
       "\t UCsT0YIqwnpJCM-mx7-gSA4Q & 2\\\\\n",
       "\t UCua0cN56ArQlxIiL2qpAksw & 2\\\\\n",
       "\t UCuyy32tgMqwk\\_\\_o\\_5OOnldQ & 2\\\\\n",
       "\t UCvsdQrg8SkOvS2WiVXA5S4A & 2\\\\\n",
       "\t UCxpJlfg4-PAeK2GwRww5saQ & 2\\\\\n",
       "\\end{tabular}\n"
      ],
      "text/markdown": [
       "\n",
       "A tibble: 201 × 2\n",
       "\n",
       "| channel &lt;chr&gt; | n &lt;int&gt; |\n",
       "|---|---|\n",
       "| UClgRkhTL3_hImCAmdLfDE4g | 3878 |\n",
       "| UCEeA_eQkyeqtpnCXyrLSV0Q | 1236 |\n",
       "| UCQkfDHUXS-Vw-629IlOjzaw | 1076 |\n",
       "| UCqgts67ZwDd-gAasDQbZrnQ |  802 |\n",
       "| UC5p_l5ZeB_wGjO_yDXwiqvw |  475 |\n",
       "| UC5JWYxKQvuLBio3Vxg5QRkg |  464 |\n",
       "| UCA1mxOwASgWGYkvxN20-MBw |  390 |\n",
       "| UC8dnBi4WUErqYQHZ4PfsLTg |  365 |\n",
       "| UCVhZyGllAVd-Wl6kNufV0uA |  268 |\n",
       "| UCA7bdnvxA9PohJzkMhUW1hw |  229 |\n",
       "| UCEkGjjEus5l7uOXuV80465g |  207 |\n",
       "| UCtrg_CO-cIoh0x9bMDkRJww |  169 |\n",
       "| UC3qSqrIqiwgAY4LE1YHRv0Q |  167 |\n",
       "| UC_8NknAFiyhOUaZqHR3lq3Q |  163 |\n",
       "| UCiSVf-UpLC9rRjAT1qRTW0g |  154 |\n",
       "| UCFAiFyGs6oDiF1Nf-rRJpZA |  152 |\n",
       "| UC9gVCa6ap-KDayMRPg5wjIg |  134 |\n",
       "| UCEThrjV-sVwcCizc9gQPwhA |  129 |\n",
       "| UCFbZ2e9IrPejOdp8wsKUxvA |  118 |\n",
       "| UC3xZYc4SZUGfRERIvDRGqDQ |   98 |\n",
       "| UCnmGIkw-KdI0W5siakKPKog |   98 |\n",
       "| UC6gH759Jm4-JCwmtFM__DKQ |   91 |\n",
       "| UCPDTrtVU72FgD6QHVY2d04Q |   91 |\n",
       "| UC1n_PfsVqxllCcnMPlxBIjw |   88 |\n",
       "| UCss_0YiNRBiQzFLt2dosZIg |   82 |\n",
       "| UCte4hWCCxbHbHvmspTKMPXw |   78 |\n",
       "| UC9OABighzB6Qr5OAOm5RLdA |   73 |\n",
       "| UCA2tt9GSU2sl8rAqjlLR3mQ |   73 |\n",
       "| UCke6I9N4KfC968-yRcd5YRg |   70 |\n",
       "| UCh5mLn90vUaB1PbRRx_AiaA |   66 |\n",
       "| ⋮ | ⋮ |\n",
       "| UCM0j9ZMGByg8BPIu_L6ICVg | 2 |\n",
       "| UCN3T5wN8RrNAMaCGGHnbngQ | 2 |\n",
       "| UCPn2dRRHGodgdwiK40K7xLQ | 2 |\n",
       "| UCQVwQQvz8O_0aeFDBVcdhpg | 2 |\n",
       "| UCTWbP-2W-_6mzWLg2oZmT7Q | 2 |\n",
       "| UCTrQ7HXWRRxr7OsOtodr2_w | 2 |\n",
       "| UCU32Gzx4tvTNf006HuepyuQ | 2 |\n",
       "| UCWNH3vyDfAToVG8UVqewdjQ | 2 |\n",
       "| UCXXnwJW6WTK2b3i3p6GLaPw | 2 |\n",
       "| UCYpqUStHIE9CmgDPkAmN4Sg | 2 |\n",
       "| UC_tCuH9uVrUP-BqN4lSRwyg | 2 |\n",
       "| UCbdMik2cV8pea1jcWdX_CYA | 2 |\n",
       "| UCeBnbqt4VRhotq2TQjkIi2A | 2 |\n",
       "| UCfVPkqHdqDon3OfKn6Qm1kA | 2 |\n",
       "| UCg7QeDcScxdO64Z0oLwg61Q | 2 |\n",
       "| UCjRkTl_HP4zOh3UFaThgRZw | 2 |\n",
       "| UCjXYT30DguGUNnQ96TCH1Gg | 2 |\n",
       "| UCjm_2mMYXUEjWzSVsA6Wshg | 2 |\n",
       "| UCkWNbreCHWnf5MxzkmjicBQ | 2 |\n",
       "| UCl-OodciBGZ0k8K8rBZGe4w | 2 |\n",
       "| UCm3JllAKCFNCYSNAtllh8pw | 2 |\n",
       "| UCm77ZaTQ6DtLdN-72JEt9sQ | 2 |\n",
       "| UCoUM-UJ7rirJYP8CQ0EIaHA | 2 |\n",
       "| UCojsj6T5tNPGPZSx7wn4coQ | 2 |\n",
       "| UCrMUPP-xQ7BuEhADfo2GVDQ | 2 |\n",
       "| UCsT0YIqwnpJCM-mx7-gSA4Q | 2 |\n",
       "| UCua0cN56ArQlxIiL2qpAksw | 2 |\n",
       "| UCuyy32tgMqwk__o_5OOnldQ | 2 |\n",
       "| UCvsdQrg8SkOvS2WiVXA5S4A | 2 |\n",
       "| UCxpJlfg4-PAeK2GwRww5saQ | 2 |\n",
       "\n"
      ],
      "text/plain": [
       "    channel                  n   \n",
       "1   UClgRkhTL3_hImCAmdLfDE4g 3878\n",
       "2   UCEeA_eQkyeqtpnCXyrLSV0Q 1236\n",
       "3   UCQkfDHUXS-Vw-629IlOjzaw 1076\n",
       "4   UCqgts67ZwDd-gAasDQbZrnQ  802\n",
       "5   UC5p_l5ZeB_wGjO_yDXwiqvw  475\n",
       "6   UC5JWYxKQvuLBio3Vxg5QRkg  464\n",
       "7   UCA1mxOwASgWGYkvxN20-MBw  390\n",
       "8   UC8dnBi4WUErqYQHZ4PfsLTg  365\n",
       "9   UCVhZyGllAVd-Wl6kNufV0uA  268\n",
       "10  UCA7bdnvxA9PohJzkMhUW1hw  229\n",
       "11  UCEkGjjEus5l7uOXuV80465g  207\n",
       "12  UCtrg_CO-cIoh0x9bMDkRJww  169\n",
       "13  UC3qSqrIqiwgAY4LE1YHRv0Q  167\n",
       "14  UC_8NknAFiyhOUaZqHR3lq3Q  163\n",
       "15  UCiSVf-UpLC9rRjAT1qRTW0g  154\n",
       "16  UCFAiFyGs6oDiF1Nf-rRJpZA  152\n",
       "17  UC9gVCa6ap-KDayMRPg5wjIg  134\n",
       "18  UCEThrjV-sVwcCizc9gQPwhA  129\n",
       "19  UCFbZ2e9IrPejOdp8wsKUxvA  118\n",
       "20  UC3xZYc4SZUGfRERIvDRGqDQ   98\n",
       "21  UCnmGIkw-KdI0W5siakKPKog   98\n",
       "22  UC6gH759Jm4-JCwmtFM__DKQ   91\n",
       "23  UCPDTrtVU72FgD6QHVY2d04Q   91\n",
       "24  UC1n_PfsVqxllCcnMPlxBIjw   88\n",
       "25  UCss_0YiNRBiQzFLt2dosZIg   82\n",
       "26  UCte4hWCCxbHbHvmspTKMPXw   78\n",
       "27  UC9OABighzB6Qr5OAOm5RLdA   73\n",
       "28  UCA2tt9GSU2sl8rAqjlLR3mQ   73\n",
       "29  UCke6I9N4KfC968-yRcd5YRg   70\n",
       "30  UCh5mLn90vUaB1PbRRx_AiaA   66\n",
       "⋮   ⋮                        ⋮   \n",
       "172 UCM0j9ZMGByg8BPIu_L6ICVg 2   \n",
       "173 UCN3T5wN8RrNAMaCGGHnbngQ 2   \n",
       "174 UCPn2dRRHGodgdwiK40K7xLQ 2   \n",
       "175 UCQVwQQvz8O_0aeFDBVcdhpg 2   \n",
       "176 UCTWbP-2W-_6mzWLg2oZmT7Q 2   \n",
       "177 UCTrQ7HXWRRxr7OsOtodr2_w 2   \n",
       "178 UCU32Gzx4tvTNf006HuepyuQ 2   \n",
       "179 UCWNH3vyDfAToVG8UVqewdjQ 2   \n",
       "180 UCXXnwJW6WTK2b3i3p6GLaPw 2   \n",
       "181 UCYpqUStHIE9CmgDPkAmN4Sg 2   \n",
       "182 UC_tCuH9uVrUP-BqN4lSRwyg 2   \n",
       "183 UCbdMik2cV8pea1jcWdX_CYA 2   \n",
       "184 UCeBnbqt4VRhotq2TQjkIi2A 2   \n",
       "185 UCfVPkqHdqDon3OfKn6Qm1kA 2   \n",
       "186 UCg7QeDcScxdO64Z0oLwg61Q 2   \n",
       "187 UCjRkTl_HP4zOh3UFaThgRZw 2   \n",
       "188 UCjXYT30DguGUNnQ96TCH1Gg 2   \n",
       "189 UCjm_2mMYXUEjWzSVsA6Wshg 2   \n",
       "190 UCkWNbreCHWnf5MxzkmjicBQ 2   \n",
       "191 UCl-OodciBGZ0k8K8rBZGe4w 2   \n",
       "192 UCm3JllAKCFNCYSNAtllh8pw 2   \n",
       "193 UCm77ZaTQ6DtLdN-72JEt9sQ 2   \n",
       "194 UCoUM-UJ7rirJYP8CQ0EIaHA 2   \n",
       "195 UCojsj6T5tNPGPZSx7wn4coQ 2   \n",
       "196 UCrMUPP-xQ7BuEhADfo2GVDQ 2   \n",
       "197 UCsT0YIqwnpJCM-mx7-gSA4Q 2   \n",
       "198 UCua0cN56ArQlxIiL2qpAksw 2   \n",
       "199 UCuyy32tgMqwk__o_5OOnldQ 2   \n",
       "200 UCvsdQrg8SkOvS2WiVXA5S4A 2   \n",
       "201 UCxpJlfg4-PAeK2GwRww5saQ 2   "
      ]
     },
     "metadata": {},
     "output_type": "display_data"
    }
   ],
   "source": [
    "df_search_keywords %>%\n",
    "  dplyr::filter(keyword==' mask') %>%\n",
    "  dplyr::group_by(channel) %>%\n",
    "  dplyr::summarise(n = n()) %>%\n",
    "  dplyr::filter(n>1) %>%\n",
    "  dplyr::arrange(desc(n))\n"
   ]
  },
  {
   "cell_type": "code",
   "execution_count": 24,
   "id": "ee6f1d8a-cfee-48d8-949b-32f12ec2d5af",
   "metadata": {},
   "outputs": [
    {
     "data": {
      "text/html": [
       "<table class=\"dataframe\">\n",
       "<caption>A tibble: 1 × 2</caption>\n",
       "<thead>\n",
       "\t<tr><th scope=col>keyword</th><th scope=col>n</th></tr>\n",
       "\t<tr><th scope=col>&lt;chr&gt;</th><th scope=col>&lt;int&gt;</th></tr>\n",
       "</thead>\n",
       "<tbody>\n",
       "\t<tr><td> mask</td><td>13450</td></tr>\n",
       "</tbody>\n",
       "</table>\n"
      ],
      "text/latex": [
       "A tibble: 1 × 2\n",
       "\\begin{tabular}{ll}\n",
       " keyword & n\\\\\n",
       " <chr> & <int>\\\\\n",
       "\\hline\n",
       "\t  mask & 13450\\\\\n",
       "\\end{tabular}\n"
      ],
      "text/markdown": [
       "\n",
       "A tibble: 1 × 2\n",
       "\n",
       "| keyword &lt;chr&gt; | n &lt;int&gt; |\n",
       "|---|---|\n",
       "|  mask | 13450 |\n",
       "\n"
      ],
      "text/plain": [
       "  keyword n    \n",
       "1  mask   13450"
      ]
     },
     "metadata": {},
     "output_type": "display_data"
    }
   ],
   "source": [
    "df_search_keywords %>%\n",
    "  group_by(keyword) %>%\n",
    "  filter(keyword==' mask') %>%\n",
    "  summarise(n = n())"
   ]
  },
  {
   "cell_type": "markdown",
   "id": "e063440b-90eb-44e6-9c2c-0dccae10d4bc",
   "metadata": {},
   "source": [
    "# Correct Bias nomenclature"
   ]
  },
  {
   "cell_type": "code",
   "execution_count": 25,
   "id": "d71ede71-c9e5-4601-bf3c-aa1d5bc694c0",
   "metadata": {},
   "outputs": [
    {
     "data": {
      "text/html": [
       "<table class=\"dataframe\">\n",
       "<caption>A tibble: 6 × 2</caption>\n",
       "<thead>\n",
       "\t<tr><th scope=col>Bias</th><th scope=col>n</th></tr>\n",
       "\t<tr><th scope=col>&lt;chr&gt;</th><th scope=col>&lt;int&gt;</th></tr>\n",
       "</thead>\n",
       "<tbody>\n",
       "\t<tr><td>  </td><td>193443</td></tr>\n",
       "\t<tr><td>C </td><td> 42619</td></tr>\n",
       "\t<tr><td>L </td><td> 42613</td></tr>\n",
       "\t<tr><td>LC</td><td> 94727</td></tr>\n",
       "\t<tr><td>R </td><td> 37329</td></tr>\n",
       "\t<tr><td>RC</td><td> 20519</td></tr>\n",
       "</tbody>\n",
       "</table>\n"
      ],
      "text/latex": [
       "A tibble: 6 × 2\n",
       "\\begin{tabular}{ll}\n",
       " Bias & n\\\\\n",
       " <chr> & <int>\\\\\n",
       "\\hline\n",
       "\t    & 193443\\\\\n",
       "\t C  &  42619\\\\\n",
       "\t L  &  42613\\\\\n",
       "\t LC &  94727\\\\\n",
       "\t R  &  37329\\\\\n",
       "\t RC &  20519\\\\\n",
       "\\end{tabular}\n"
      ],
      "text/markdown": [
       "\n",
       "A tibble: 6 × 2\n",
       "\n",
       "| Bias &lt;chr&gt; | n &lt;int&gt; |\n",
       "|---|---|\n",
       "| <!----> | 193443 |\n",
       "| C  |  42619 |\n",
       "| L  |  42613 |\n",
       "| LC |  94727 |\n",
       "| R  |  37329 |\n",
       "| RC |  20519 |\n",
       "\n"
      ],
      "text/plain": [
       "  Bias n     \n",
       "1      193443\n",
       "2 C     42619\n",
       "3 L     42613\n",
       "4 LC    94727\n",
       "5 R     37329\n",
       "6 RC    20519"
      ]
     },
     "metadata": {},
     "output_type": "display_data"
    }
   ],
   "source": [
    "df_search_keywords %>%\n",
    "  group_by(Bias) %>%\n",
    "  summarise(n = n())"
   ]
  },
  {
   "cell_type": "code",
   "execution_count": 26,
   "id": "6315bd8b-cf18-4270-92d1-d6e0ce818b8d",
   "metadata": {},
   "outputs": [],
   "source": [
    "df_search_keywords$Bias[df_search_keywords$Bias=='LC'] <- 'CL'\n",
    "df_search_keywords$Bias[df_search_keywords$Bias=='RC'] <- 'CR'"
   ]
  },
  {
   "cell_type": "code",
   "execution_count": 27,
   "id": "60bcda2f-a972-4d3a-a17a-b97db634bb4d",
   "metadata": {},
   "outputs": [
    {
     "data": {
      "text/html": [
       "<table class=\"dataframe\">\n",
       "<caption>A tibble: 6 × 2</caption>\n",
       "<thead>\n",
       "\t<tr><th scope=col>Bias</th><th scope=col>n</th></tr>\n",
       "\t<tr><th scope=col>&lt;chr&gt;</th><th scope=col>&lt;int&gt;</th></tr>\n",
       "</thead>\n",
       "<tbody>\n",
       "\t<tr><td>  </td><td>193443</td></tr>\n",
       "\t<tr><td>C </td><td> 42619</td></tr>\n",
       "\t<tr><td>CL</td><td> 94727</td></tr>\n",
       "\t<tr><td>CR</td><td> 20519</td></tr>\n",
       "\t<tr><td>L </td><td> 42613</td></tr>\n",
       "\t<tr><td>R </td><td> 37329</td></tr>\n",
       "</tbody>\n",
       "</table>\n"
      ],
      "text/latex": [
       "A tibble: 6 × 2\n",
       "\\begin{tabular}{ll}\n",
       " Bias & n\\\\\n",
       " <chr> & <int>\\\\\n",
       "\\hline\n",
       "\t    & 193443\\\\\n",
       "\t C  &  42619\\\\\n",
       "\t CL &  94727\\\\\n",
       "\t CR &  20519\\\\\n",
       "\t L  &  42613\\\\\n",
       "\t R  &  37329\\\\\n",
       "\\end{tabular}\n"
      ],
      "text/markdown": [
       "\n",
       "A tibble: 6 × 2\n",
       "\n",
       "| Bias &lt;chr&gt; | n &lt;int&gt; |\n",
       "|---|---|\n",
       "| <!----> | 193443 |\n",
       "| C  |  42619 |\n",
       "| CL |  94727 |\n",
       "| CR |  20519 |\n",
       "| L  |  42613 |\n",
       "| R  |  37329 |\n",
       "\n"
      ],
      "text/plain": [
       "  Bias n     \n",
       "1      193443\n",
       "2 C     42619\n",
       "3 CL    94727\n",
       "4 CR    20519\n",
       "5 L     42613\n",
       "6 R     37329"
      ]
     },
     "metadata": {},
     "output_type": "display_data"
    }
   ],
   "source": [
    "df_search_keywords %>%\n",
    "  group_by(Bias) %>%\n",
    "  summarise(n = n())"
   ]
  },
  {
   "cell_type": "markdown",
   "id": "e1e918c5-ab33-4917-875f-79f2465e692e",
   "metadata": {},
   "source": [
    "# Adding Sentiment by Ratio and creating files for Clustering"
   ]
  },
  {
   "cell_type": "code",
   "execution_count": 11,
   "id": "fa7c54df-876a-4c28-a92f-62d973feba12",
   "metadata": {},
   "outputs": [
    {
     "ename": "ERROR",
     "evalue": "Error in subset(df_search_keywords, select = c(video, keyword, current_depth, : objeto 'df_search_keywords' no encontrado\n",
     "output_type": "error",
     "traceback": [
      "Error in subset(df_search_keywords, select = c(video, keyword, current_depth, : objeto 'df_search_keywords' no encontrado\nTraceback:\n",
      "1. subset(df_search_keywords, select = c(video, keyword, current_depth, \n .     fetch_time, parent_video, positive, negative, sentiment, \n .     sentiment_ratio, lgpp, nrc_el, topic, Flesch, ARI, Flesch.Kincaid, \n .     Bias))"
     ]
    }
   ],
   "source": [
    "df_search_for_clustering <- subset(df_search_keywords, select = c(video, keyword, current_depth, fetch_time, parent_video, positive, negative, sentiment, sentiment_ratio, lgpp, nrc_el, topic, Flesch, ARI, Flesch.Kincaid, Bias))                                   \n",
    "\n",
    "df_search_for_clustering$sentiment_ratio <- df_search_for_clustering$positive / (df_search_for_clustering$negative + df_search_for_clustering$positive)\n",
    "df_search_for_clustering$sentiment_by_ratio <- 'neutral'\n",
    "df_search_for_clustering$sentiment_by_ratio[sentiment_by_ratio$sentiment_ratio > 0.4] <- 'positive'\n",
    "df_search_for_clustering$sentiment_by_ratio[sentiment_by_ratio$sentiment_ratio < 0.4] <- 'negative'\n",
    "\n",
    "df_search_for_clustering <- unique(df_search_for_clustering)\n",
    "nrow(df_search_for_clustering)"
   ]
  },
  {
   "cell_type": "code",
   "execution_count": null,
   "id": "72572e08-1e76-4446-9f6b-f1ff37461940",
   "metadata": {},
   "outputs": [],
   "source": [
    "df_search_for_clustering$sentiment_ratio <- df_search_for_clustering$positive / (df_search_for_clustering$negative + df_search_for_clustering$positive)\n",
    "\n",
    "df_search_for_clustering$sentiment_ratio_plot <- 'neutral'\n",
    "df_search_for_clustering$sentiment_ratio_plot[df_sentiment_calc$sentiment_ratio > 0.6] <- 'positive'\n",
    "df_search_for_clustering$sentiment_ratio_plot[df_sentiment_calc$sentiment_ratio < 0.6] <- 'negative'\n",
    "df_search_for_clustering$sentiment_ratio_plot[(df_search_for_clustering$positive == 0) & (df_search_for_clustering$negative == 0)] <- 'neutral'"
   ]
  },
  {
   "cell_type": "code",
   "execution_count": 29,
   "id": "49769255-a8da-4a05-9201-9df8873fbc5e",
   "metadata": {},
   "outputs": [],
   "source": [
    "date = format(Sys.time(), \"%Y-%m-%d_%H_%M_%S\")\n",
    "file_name = paste('Quanteda/Subtitles/videos_for_clustering', date, \".csv\", sep='')\n",
    "write.csv(df_search_for_clustering, file_name)"
   ]
  },
  {
   "cell_type": "markdown",
   "id": "003e76f0-0aad-4730-8f2d-9cd5c70946e6",
   "metadata": {},
   "source": [
    "# Add Readability Tags"
   ]
  },
  {
   "cell_type": "code",
   "execution_count": 29,
   "id": "961c461b-2d80-4852-ba9f-fa4c8c0982ff",
   "metadata": {},
   "outputs": [],
   "source": [
    "flesch <- function(f) {\n",
    "    if (f=='NA') {return('NA')}\n",
    "    else if (as.numeric(f)<=10) {return('Professional')}\n",
    "    else if (as.numeric(f)<=30) {return('College graduate')}\n",
    "    else if (as.numeric(f)<=50) {return('College')}\n",
    "    else if (as.numeric(f)<=60) {return('10th to 12th grade')}\n",
    "    else if (as.numeric(f)<=70) {return('The value')}\n",
    "    #else if (as.numeric(f)<=70) {return('8th & 9th grade')}\n",
    "    else if (as.numeric(f)<=80) {return('7th grade')}\n",
    "    else if (as.numeric(f)<=90) {return('6th grade')}\n",
    "    else {return('5th grade')}\n",
    "    \n",
    "}"
   ]
  },
  {
   "cell_type": "code",
   "execution_count": 20,
   "id": "6a1c3d59-5cee-4591-9a3f-a08d68141f0e",
   "metadata": {},
   "outputs": [],
   "source": [
    "flesch_kincaid <- function(f) {\n",
    "    if (f<=1) {flesch_kincaid='Kindergarten'}\n",
    "    else if (f<=2) {flesch_kincaid='First/Second Grade'}\n",
    "    else if (f<=3) {flesch_kincaid='Third Grade'}\n",
    "    else if (f<=4) {flesch_kincaid='Fourth Grade'}\n",
    "    else if (f<=5) {flesch_kincaid='Fifth Grade'}\n",
    "    else if (f<=6) {flesch_kincaid='Sixth Grade'}\n",
    "    else if (f<=7) {flesch_kincaid='Seventh Grade'}\n",
    "    else if (f<=8) {flesch_kincaid='Eighth Grade'}\n",
    "    else if (f<=9) {flesch_kincaid='Ninth Grade'}\n",
    "    else if (f<=10) {flesch_kincaid='Tenth Grade'}\n",
    "    else if (f<=11) {flesch_kincaid='Eleventh Grade'}\n",
    "    else if (f<=12) {flesch_kincaid='Twelfth grade'}\n",
    "    else if (f<=13) {flesch_kincaid='College student'}\n",
    "    else {flesch_kincaid='Professor'}\n",
    "    \n",
    "    return(flesch_kincaid)\n",
    "}"
   ]
  },
  {
   "cell_type": "code",
   "execution_count": 21,
   "id": "80ca0351-0561-4612-899f-95a019f8e28a",
   "metadata": {},
   "outputs": [],
   "source": [
    "ARI <- function(f) {\n",
    "    if (f<=1) {ARI='Kindergarten'}\n",
    "    else if (f<=2) {ARI='First/Second Grade'}\n",
    "    else if (f<=3) {ARI='Third Grade'}\n",
    "    else if (f<=4) {ARI='Fourth Grade'}\n",
    "    else if (f<=5) {ARI='Fifth Grade'}\n",
    "    else if (f<=6) {ARI='Sixth Grade'}\n",
    "    else if (f<=7) {ARI='Seventh Grade'}\n",
    "    else if (f<=8) {ARI='Eighth Grade'}\n",
    "    else if (f<=9) {ARI='Ninth Grade'}\n",
    "    else if (f<=10) {ARI='Tenth Grade'}\n",
    "    else if (f<=11) {ARI='Eleventh Grade'}\n",
    "    else if (f<=12) {ARI='Twelfth grade'}\n",
    "    else if (f<=13) {ARI='College student'}\n",
    "    else {ARI='Professor'}\n",
    "    \n",
    "    return(ARI)\n",
    "}"
   ]
  },
  {
   "cell_type": "code",
   "execution_count": 56,
   "id": "1473969e-9ef3-422c-8509-a95f9d17ab87",
   "metadata": {},
   "outputs": [],
   "source": [
    "df_search_for_clustering <- read.csv('Quanteda/Subtitles/videos_for_clustering2021-06-25_14_54_19.csv')\n",
    "\n",
    "df_search_for_clustering$flesch_level <- 'Professional'\n",
    "df_search_for_clustering$flesch_level[df_search_for_clustering$Flesch >= 10] <- 'College graduate'\n",
    "df_search_for_clustering$flesch_level[df_search_for_clustering$Flesch >= 30] <- 'College'\n",
    "df_search_for_clustering$flesch_level[df_search_for_clustering$Flesch >= 50] <- '10th to 12th grade'\n",
    "df_search_for_clustering$flesch_level[df_search_for_clustering$Flesch >= 60] <- '8th & 9th grade'\n",
    "df_search_for_clustering$flesch_level[df_search_for_clustering$Flesch >= 70] <- '7th grade'\n",
    "df_search_for_clustering$flesch_level[df_search_for_clustering$Flesch >= 80] <- '6th grade'\n",
    "df_search_for_clustering$flesch_level[df_search_for_clustering$Flesch >= 90] <- '5th grade'\n",
    "df_search_for_clustering$flesch_level[df_search_for_clustering$Flesch == 'NA'] <- 'NA'\n",
    "\n",
    "df_search_for_clustering$ARI_level <- 'Professor'\n",
    "df_search_for_clustering$ARI_level[df_search_for_clustering$ARI <= 13] <- 'College student'\n",
    "df_search_for_clustering$ARI_level[df_search_for_clustering$ARI <= 12] <- 'Twelfth grade'\n",
    "df_search_for_clustering$ARI_level[df_search_for_clustering$ARI <= 11] <- 'Eleventh Grade'\n",
    "df_search_for_clustering$ARI_level[df_search_for_clustering$ARI <= 10] <- 'Tenth Grade'\n",
    "df_search_for_clustering$ARI_level[df_search_for_clustering$ARI <= 9] <- 'Ninth Grade'\n",
    "df_search_for_clustering$ARI_level[df_search_for_clustering$ARI <= 8] <- 'Eighth Grade'\n",
    "df_search_for_clustering$ARI_level[df_search_for_clustering$ARI <= 7] <- 'Seventh Grade'\n",
    "df_search_for_clustering$ARI_level[df_search_for_clustering$ARI <= 6] <- 'Sixth Grade'\n",
    "df_search_for_clustering$ARI_level[df_search_for_clustering$ARI <= 5] <- 'Fifth Grade'\n",
    "df_search_for_clustering$ARI_level[df_search_for_clustering$ARI <= 4] <- 'Fourth Grade'\n",
    "df_search_for_clustering$ARI_level[df_search_for_clustering$ARI <= 3] <- 'Third Grade'\n",
    "df_search_for_clustering$ARI_level[df_search_for_clustering$ARI <= 2] <- 'First/Second Grade'\n",
    "df_search_for_clustering$ARI_level[df_search_for_clustering$ARI <= 1] <- 'Kindergarten'\n",
    "df_search_for_clustering$ARI_level[df_search_for_clustering$ARI == 'NA'] <- 'NA'\n",
    "\n",
    "df_search_for_clustering$flesch_kincaid_level <- 'Professor'\n",
    "df_search_for_clustering$flesch_kincaid_level[df_search_for_clustering$FleschKincaid <= 13] <- 'College student'\n",
    "df_search_for_clustering$flesch_kincaid_level[df_search_for_clustering$FleschKincaid <= 12] <- 'Twelfth grade'\n",
    "df_search_for_clustering$flesch_kincaid_level[df_search_for_clustering$FleschKincaid <= 11] <- 'Eleventh Grade'\n",
    "df_search_for_clustering$flesch_kincaid_level[df_search_for_clustering$FleschKincaid <= 10] <- 'Tenth Grade'\n",
    "df_search_for_clustering$flesch_kincaid_level[df_search_for_clustering$FleschKincaid <= 9] <- 'Ninth Grade'\n",
    "df_search_for_clustering$flesch_kincaid_level[df_search_for_clustering$FleschKincaid <= 8] <- 'Eighth Grade'\n",
    "df_search_for_clustering$flesch_kincaid_level[df_search_for_clustering$FleschKincaid <= 7] <- 'Seventh Grade'\n",
    "df_search_for_clustering$flesch_kincaid_level[df_search_for_clustering$FleschKincaid <= 6] <- 'Sixth Grade'\n",
    "df_search_for_clustering$flesch_kincaid_level[df_search_for_clustering$FleschKincaid <= 5] <- 'Fifth Grade'\n",
    "df_search_for_clustering$flesch_kincaid_level[df_search_for_clustering$FleschKincaid <= 4] <- 'Fourth Grade'\n",
    "df_search_for_clustering$flesch_kincaid_level[df_search_for_clustering$FleschKincaid <= 3] <- 'Third Grade'\n",
    "df_search_for_clustering$flesch_kincaid_level[df_search_for_clustering$FleschKincaid <= 2] <- 'First/Second Grade'\n",
    "df_search_for_clustering$flesch_kincaid_level[df_search_for_clustering$FleschKincaid <= 1] <- 'Kindergarten'\n",
    "df_search_for_clustering$flesch_kincaid_level[df_search_for_clustering$FleschKincaid == 'NA'] <- 'NA'\n",
    "\n",
    "date = format(Sys.time(), \"%Y-%m-%d_%H_%M_%S\")\n",
    "file_name = paste('Quanteda/Subtitles/videos_for_clustering', date, \".csv\", sep='')\n",
    "write.csv(df_search_for_clustering, file_name, row.names = FALSE)"
   ]
  },
  {
   "cell_type": "markdown",
   "id": "69adeeee-2b1b-4848-a1c6-524f474faad4",
   "metadata": {},
   "source": [
    "# Preparing for Plotting"
   ]
  },
  {
   "cell_type": "code",
   "execution_count": 30,
   "id": "90bb7d7f-b866-46ca-987c-37619bd74ac7",
   "metadata": {},
   "outputs": [],
   "source": [
    "total <- subset(df_search_keywords, select = c(video, keyword, current_depth, fetch_time, parent_video, positive, negative, sentiment, sentiment_ratio, lgpp, nrc_el, topic, Flesch, ARI, Flesch.Kincaid, Bias))\n",
    "#total <- df_search_keywords"
   ]
  },
  {
   "cell_type": "code",
   "execution_count": 31,
   "id": "b5d4cafc",
   "metadata": {},
   "outputs": [
    {
     "data": {
      "text/html": [
       "<table class=\"dataframe\">\n",
       "<caption>A data.frame: 1 × 1</caption>\n",
       "<thead>\n",
       "\t<tr><th scope=col>non_na_count</th></tr>\n",
       "\t<tr><th scope=col>&lt;int&gt;</th></tr>\n",
       "</thead>\n",
       "<tbody>\n",
       "\t<tr><td>346882</td></tr>\n",
       "</tbody>\n",
       "</table>\n"
      ],
      "text/latex": [
       "A data.frame: 1 × 1\n",
       "\\begin{tabular}{l}\n",
       " non\\_na\\_count\\\\\n",
       " <int>\\\\\n",
       "\\hline\n",
       "\t 346882\\\\\n",
       "\\end{tabular}\n"
      ],
      "text/markdown": [
       "\n",
       "A data.frame: 1 × 1\n",
       "\n",
       "| non_na_count &lt;int&gt; |\n",
       "|---|\n",
       "| 346882 |\n",
       "\n"
      ],
      "text/plain": [
       "  non_na_count\n",
       "1 346882      "
      ]
     },
     "metadata": {},
     "output_type": "display_data"
    }
   ],
   "source": [
    "total %>%\n",
    "  #group_by(keyword) %>%\n",
    "  summarise(non_na_count = sum(!is.na(sentiment)))"
   ]
  },
  {
   "cell_type": "code",
   "execution_count": 32,
   "id": "5771b43a-06b2-4468-9d1a-94f281fc3e95",
   "metadata": {},
   "outputs": [
    {
     "data": {
      "text/html": [
       "<table class=\"dataframe\">\n",
       "<caption>A data.frame: 1 × 1</caption>\n",
       "<thead>\n",
       "\t<tr><th scope=col>non_na_count</th></tr>\n",
       "\t<tr><th scope=col>&lt;int&gt;</th></tr>\n",
       "</thead>\n",
       "<tbody>\n",
       "\t<tr><td>237807</td></tr>\n",
       "</tbody>\n",
       "</table>\n"
      ],
      "text/latex": [
       "A data.frame: 1 × 1\n",
       "\\begin{tabular}{l}\n",
       " non\\_na\\_count\\\\\n",
       " <int>\\\\\n",
       "\\hline\n",
       "\t 237807\\\\\n",
       "\\end{tabular}\n"
      ],
      "text/markdown": [
       "\n",
       "A data.frame: 1 × 1\n",
       "\n",
       "| non_na_count &lt;int&gt; |\n",
       "|---|\n",
       "| 237807 |\n",
       "\n"
      ],
      "text/plain": [
       "  non_na_count\n",
       "1 237807      "
      ]
     },
     "metadata": {},
     "output_type": "display_data"
    }
   ],
   "source": [
    "total %>%\n",
    "  #group_by(keyword) %>%\n",
    "  summarise(non_na_count = sum(Bias!=''))"
   ]
  },
  {
   "cell_type": "code",
   "execution_count": 33,
   "id": "edf9641d",
   "metadata": {},
   "outputs": [
    {
     "data": {
      "text/html": [
       "431250"
      ],
      "text/latex": [
       "431250"
      ],
      "text/markdown": [
       "431250"
      ],
      "text/plain": [
       "[1] 431250"
      ]
     },
     "metadata": {},
     "output_type": "display_data"
    }
   ],
   "source": [
    "nrow(total)"
   ]
  },
  {
   "cell_type": "code",
   "execution_count": 34,
   "id": "1b40ac18",
   "metadata": {},
   "outputs": [
    {
     "data": {
      "text/html": [
       "<table class=\"dataframe\">\n",
       "<caption>A tibble: 27 × 2</caption>\n",
       "<thead>\n",
       "\t<tr><th scope=col>keyword</th><th scope=col>non_na_count</th></tr>\n",
       "\t<tr><th scope=col>&lt;chr&gt;</th><th scope=col>&lt;int&gt;</th></tr>\n",
       "</thead>\n",
       "<tbody>\n",
       "\t<tr><td> clinton              </td><td>13252</td></tr>\n",
       "\t<tr><td> free speech          </td><td>14026</td></tr>\n",
       "\t<tr><td> mask                 </td><td> 6029</td></tr>\n",
       "\t<tr><td> moderna              </td><td>14310</td></tr>\n",
       "\t<tr><td> obama                </td><td>13218</td></tr>\n",
       "\t<tr><td> vaccine              </td><td>15972</td></tr>\n",
       "\t<tr><td>AOC                   </td><td>11005</td></tr>\n",
       "\t<tr><td>Border                </td><td>10074</td></tr>\n",
       "\t<tr><td>China                 </td><td> 8836</td></tr>\n",
       "\t<tr><td>Florida               </td><td> 5234</td></tr>\n",
       "\t<tr><td>Gun Control           </td><td>14553</td></tr>\n",
       "\t<tr><td>Lindsey Graham        </td><td>16625</td></tr>\n",
       "\t<tr><td>Mitch McConnell       </td><td>16403</td></tr>\n",
       "\t<tr><td>NRA                   </td><td>12441</td></tr>\n",
       "\t<tr><td>Nancy Pelosi          </td><td>12446</td></tr>\n",
       "\t<tr><td>Newt Gingrich         </td><td>16778</td></tr>\n",
       "\t<tr><td>Ted Cruz              </td><td>15480</td></tr>\n",
       "\t<tr><td>Texas                 </td><td>13899</td></tr>\n",
       "\t<tr><td>andrew cuomo          </td><td>14411</td></tr>\n",
       "\t<tr><td>biden                 </td><td>16941</td></tr>\n",
       "\t<tr><td>climate change        </td><td> 9745</td></tr>\n",
       "\t<tr><td>cultural appropriation</td><td> 9148</td></tr>\n",
       "\t<tr><td>feminism              </td><td>15946</td></tr>\n",
       "\t<tr><td>immigration           </td><td>10856</td></tr>\n",
       "\t<tr><td>planned parenthood    </td><td>10330</td></tr>\n",
       "\t<tr><td>trump                 </td><td>15475</td></tr>\n",
       "\t<tr><td>welfare state         </td><td>12922</td></tr>\n",
       "</tbody>\n",
       "</table>\n"
      ],
      "text/latex": [
       "A tibble: 27 × 2\n",
       "\\begin{tabular}{ll}\n",
       " keyword & non\\_na\\_count\\\\\n",
       " <chr> & <int>\\\\\n",
       "\\hline\n",
       "\t  clinton               & 13252\\\\\n",
       "\t  free speech           & 14026\\\\\n",
       "\t  mask                  &  6029\\\\\n",
       "\t  moderna               & 14310\\\\\n",
       "\t  obama                 & 13218\\\\\n",
       "\t  vaccine               & 15972\\\\\n",
       "\t AOC                    & 11005\\\\\n",
       "\t Border                 & 10074\\\\\n",
       "\t China                  &  8836\\\\\n",
       "\t Florida                &  5234\\\\\n",
       "\t Gun Control            & 14553\\\\\n",
       "\t Lindsey Graham         & 16625\\\\\n",
       "\t Mitch McConnell        & 16403\\\\\n",
       "\t NRA                    & 12441\\\\\n",
       "\t Nancy Pelosi           & 12446\\\\\n",
       "\t Newt Gingrich          & 16778\\\\\n",
       "\t Ted Cruz               & 15480\\\\\n",
       "\t Texas                  & 13899\\\\\n",
       "\t andrew cuomo           & 14411\\\\\n",
       "\t biden                  & 16941\\\\\n",
       "\t climate change         &  9745\\\\\n",
       "\t cultural appropriation &  9148\\\\\n",
       "\t feminism               & 15946\\\\\n",
       "\t immigration            & 10856\\\\\n",
       "\t planned parenthood     & 10330\\\\\n",
       "\t trump                  & 15475\\\\\n",
       "\t welfare state          & 12922\\\\\n",
       "\\end{tabular}\n"
      ],
      "text/markdown": [
       "\n",
       "A tibble: 27 × 2\n",
       "\n",
       "| keyword &lt;chr&gt; | non_na_count &lt;int&gt; |\n",
       "|---|---|\n",
       "|  clinton               | 13252 |\n",
       "|  free speech           | 14026 |\n",
       "|  mask                  |  6029 |\n",
       "|  moderna               | 14310 |\n",
       "|  obama                 | 13218 |\n",
       "|  vaccine               | 15972 |\n",
       "| AOC                    | 11005 |\n",
       "| Border                 | 10074 |\n",
       "| China                  |  8836 |\n",
       "| Florida                |  5234 |\n",
       "| Gun Control            | 14553 |\n",
       "| Lindsey Graham         | 16625 |\n",
       "| Mitch McConnell        | 16403 |\n",
       "| NRA                    | 12441 |\n",
       "| Nancy Pelosi           | 12446 |\n",
       "| Newt Gingrich          | 16778 |\n",
       "| Ted Cruz               | 15480 |\n",
       "| Texas                  | 13899 |\n",
       "| andrew cuomo           | 14411 |\n",
       "| biden                  | 16941 |\n",
       "| climate change         |  9745 |\n",
       "| cultural appropriation |  9148 |\n",
       "| feminism               | 15946 |\n",
       "| immigration            | 10856 |\n",
       "| planned parenthood     | 10330 |\n",
       "| trump                  | 15475 |\n",
       "| welfare state          | 12922 |\n",
       "\n"
      ],
      "text/plain": [
       "   keyword                non_na_count\n",
       "1   clinton               13252       \n",
       "2   free speech           14026       \n",
       "3   mask                   6029       \n",
       "4   moderna               14310       \n",
       "5   obama                 13218       \n",
       "6   vaccine               15972       \n",
       "7  AOC                    11005       \n",
       "8  Border                 10074       \n",
       "9  China                   8836       \n",
       "10 Florida                 5234       \n",
       "11 Gun Control            14553       \n",
       "12 Lindsey Graham         16625       \n",
       "13 Mitch McConnell        16403       \n",
       "14 NRA                    12441       \n",
       "15 Nancy Pelosi           12446       \n",
       "16 Newt Gingrich          16778       \n",
       "17 Ted Cruz               15480       \n",
       "18 Texas                  13899       \n",
       "19 andrew cuomo           14411       \n",
       "20 biden                  16941       \n",
       "21 climate change          9745       \n",
       "22 cultural appropriation  9148       \n",
       "23 feminism               15946       \n",
       "24 immigration            10856       \n",
       "25 planned parenthood     10330       \n",
       "26 trump                  15475       \n",
       "27 welfare state          12922       "
      ]
     },
     "metadata": {},
     "output_type": "display_data"
    }
   ],
   "source": [
    "total %>%\n",
    "  group_by(keyword) %>%\n",
    "  summarise(non_na_count = sum(!is.na(lgpp)))"
   ]
  },
  {
   "cell_type": "markdown",
   "id": "2d6e6b95-4232-4b47-94f3-0cec1d3bfe6f",
   "metadata": {},
   "source": [
    "# Counting"
   ]
  },
  {
   "cell_type": "code",
   "execution_count": 35,
   "id": "d42a32d7-3c0c-4988-bdf4-be5c70c7c233",
   "metadata": {},
   "outputs": [
    {
     "data": {
      "text/html": [
       "<table class=\"dataframe\">\n",
       "<caption>A data.frame: 36 × 3</caption>\n",
       "<thead>\n",
       "\t<tr><th scope=col>current_depth</th><th scope=col>Bias</th><th scope=col>n</th></tr>\n",
       "\t<tr><th scope=col>&lt;int&gt;</th><th scope=col>&lt;chr&gt;</th><th scope=col>&lt;int&gt;</th></tr>\n",
       "</thead>\n",
       "<tbody>\n",
       "\t<tr><td>0</td><td>  </td><td>    49</td></tr>\n",
       "\t<tr><td>0</td><td>C </td><td>    12</td></tr>\n",
       "\t<tr><td>0</td><td>CL</td><td>    39</td></tr>\n",
       "\t<tr><td>0</td><td>CR</td><td>    10</td></tr>\n",
       "\t<tr><td>0</td><td>L </td><td>    12</td></tr>\n",
       "\t<tr><td>0</td><td>R </td><td>     7</td></tr>\n",
       "\t<tr><td>1</td><td>  </td><td>   229</td></tr>\n",
       "\t<tr><td>1</td><td>C </td><td>    53</td></tr>\n",
       "\t<tr><td>1</td><td>CL</td><td>   168</td></tr>\n",
       "\t<tr><td>1</td><td>CR</td><td>    45</td></tr>\n",
       "\t<tr><td>1</td><td>L </td><td>    67</td></tr>\n",
       "\t<tr><td>1</td><td>R </td><td>    54</td></tr>\n",
       "\t<tr><td>2</td><td>  </td><td>  1162</td></tr>\n",
       "\t<tr><td>2</td><td>C </td><td>   270</td></tr>\n",
       "\t<tr><td>2</td><td>CL</td><td>   752</td></tr>\n",
       "\t<tr><td>2</td><td>CR</td><td>   178</td></tr>\n",
       "\t<tr><td>2</td><td>L </td><td>   310</td></tr>\n",
       "\t<tr><td>2</td><td>R </td><td>   279</td></tr>\n",
       "\t<tr><td>3</td><td>  </td><td>  5876</td></tr>\n",
       "\t<tr><td>3</td><td>C </td><td>  1385</td></tr>\n",
       "\t<tr><td>3</td><td>CL</td><td>  3415</td></tr>\n",
       "\t<tr><td>3</td><td>CR</td><td>   808</td></tr>\n",
       "\t<tr><td>3</td><td>L </td><td>  1477</td></tr>\n",
       "\t<tr><td>3</td><td>R </td><td>  1315</td></tr>\n",
       "\t<tr><td>4</td><td>  </td><td> 29439</td></tr>\n",
       "\t<tr><td>4</td><td>C </td><td>  6860</td></tr>\n",
       "\t<tr><td>4</td><td>CL</td><td> 15836</td></tr>\n",
       "\t<tr><td>4</td><td>CR</td><td>  3588</td></tr>\n",
       "\t<tr><td>4</td><td>L </td><td>  6995</td></tr>\n",
       "\t<tr><td>4</td><td>R </td><td>  6266</td></tr>\n",
       "\t<tr><td>5</td><td>  </td><td>156688</td></tr>\n",
       "\t<tr><td>5</td><td>C </td><td> 34039</td></tr>\n",
       "\t<tr><td>5</td><td>CL</td><td> 74517</td></tr>\n",
       "\t<tr><td>5</td><td>CR</td><td> 15890</td></tr>\n",
       "\t<tr><td>5</td><td>L </td><td> 33752</td></tr>\n",
       "\t<tr><td>5</td><td>R </td><td> 29408</td></tr>\n",
       "</tbody>\n",
       "</table>\n"
      ],
      "text/latex": [
       "A data.frame: 36 × 3\n",
       "\\begin{tabular}{lll}\n",
       " current\\_depth & Bias & n\\\\\n",
       " <int> & <chr> & <int>\\\\\n",
       "\\hline\n",
       "\t 0 &    &     49\\\\\n",
       "\t 0 & C  &     12\\\\\n",
       "\t 0 & CL &     39\\\\\n",
       "\t 0 & CR &     10\\\\\n",
       "\t 0 & L  &     12\\\\\n",
       "\t 0 & R  &      7\\\\\n",
       "\t 1 &    &    229\\\\\n",
       "\t 1 & C  &     53\\\\\n",
       "\t 1 & CL &    168\\\\\n",
       "\t 1 & CR &     45\\\\\n",
       "\t 1 & L  &     67\\\\\n",
       "\t 1 & R  &     54\\\\\n",
       "\t 2 &    &   1162\\\\\n",
       "\t 2 & C  &    270\\\\\n",
       "\t 2 & CL &    752\\\\\n",
       "\t 2 & CR &    178\\\\\n",
       "\t 2 & L  &    310\\\\\n",
       "\t 2 & R  &    279\\\\\n",
       "\t 3 &    &   5876\\\\\n",
       "\t 3 & C  &   1385\\\\\n",
       "\t 3 & CL &   3415\\\\\n",
       "\t 3 & CR &    808\\\\\n",
       "\t 3 & L  &   1477\\\\\n",
       "\t 3 & R  &   1315\\\\\n",
       "\t 4 &    &  29439\\\\\n",
       "\t 4 & C  &   6860\\\\\n",
       "\t 4 & CL &  15836\\\\\n",
       "\t 4 & CR &   3588\\\\\n",
       "\t 4 & L  &   6995\\\\\n",
       "\t 4 & R  &   6266\\\\\n",
       "\t 5 &    & 156688\\\\\n",
       "\t 5 & C  &  34039\\\\\n",
       "\t 5 & CL &  74517\\\\\n",
       "\t 5 & CR &  15890\\\\\n",
       "\t 5 & L  &  33752\\\\\n",
       "\t 5 & R  &  29408\\\\\n",
       "\\end{tabular}\n"
      ],
      "text/markdown": [
       "\n",
       "A data.frame: 36 × 3\n",
       "\n",
       "| current_depth &lt;int&gt; | Bias &lt;chr&gt; | n &lt;int&gt; |\n",
       "|---|---|---|\n",
       "| 0 | <!----> |     49 |\n",
       "| 0 | C  |     12 |\n",
       "| 0 | CL |     39 |\n",
       "| 0 | CR |     10 |\n",
       "| 0 | L  |     12 |\n",
       "| 0 | R  |      7 |\n",
       "| 1 | <!----> |    229 |\n",
       "| 1 | C  |     53 |\n",
       "| 1 | CL |    168 |\n",
       "| 1 | CR |     45 |\n",
       "| 1 | L  |     67 |\n",
       "| 1 | R  |     54 |\n",
       "| 2 | <!----> |   1162 |\n",
       "| 2 | C  |    270 |\n",
       "| 2 | CL |    752 |\n",
       "| 2 | CR |    178 |\n",
       "| 2 | L  |    310 |\n",
       "| 2 | R  |    279 |\n",
       "| 3 | <!----> |   5876 |\n",
       "| 3 | C  |   1385 |\n",
       "| 3 | CL |   3415 |\n",
       "| 3 | CR |    808 |\n",
       "| 3 | L  |   1477 |\n",
       "| 3 | R  |   1315 |\n",
       "| 4 | <!----> |  29439 |\n",
       "| 4 | C  |   6860 |\n",
       "| 4 | CL |  15836 |\n",
       "| 4 | CR |   3588 |\n",
       "| 4 | L  |   6995 |\n",
       "| 4 | R  |   6266 |\n",
       "| 5 | <!----> | 156688 |\n",
       "| 5 | C  |  34039 |\n",
       "| 5 | CL |  74517 |\n",
       "| 5 | CR |  15890 |\n",
       "| 5 | L  |  33752 |\n",
       "| 5 | R  |  29408 |\n",
       "\n"
      ],
      "text/plain": [
       "   current_depth Bias n     \n",
       "1  0                      49\n",
       "2  0             C        12\n",
       "3  0             CL       39\n",
       "4  0             CR       10\n",
       "5  0             L        12\n",
       "6  0             R         7\n",
       "7  1                     229\n",
       "8  1             C        53\n",
       "9  1             CL      168\n",
       "10 1             CR       45\n",
       "11 1             L        67\n",
       "12 1             R        54\n",
       "13 2                    1162\n",
       "14 2             C       270\n",
       "15 2             CL      752\n",
       "16 2             CR      178\n",
       "17 2             L       310\n",
       "18 2             R       279\n",
       "19 3                    5876\n",
       "20 3             C      1385\n",
       "21 3             CL     3415\n",
       "22 3             CR      808\n",
       "23 3             L      1477\n",
       "24 3             R      1315\n",
       "25 4                   29439\n",
       "26 4             C      6860\n",
       "27 4             CL    15836\n",
       "28 4             CR     3588\n",
       "29 4             L      6995\n",
       "30 4             R      6266\n",
       "31 5                  156688\n",
       "32 5             C     34039\n",
       "33 5             CL    74517\n",
       "34 5             CR    15890\n",
       "35 5             L     33752\n",
       "36 5             R     29408"
      ]
     },
     "metadata": {},
     "output_type": "display_data"
    }
   ],
   "source": [
    "total %>%\n",
    "  dplyr::count(current_depth, Bias)"
   ]
  },
  {
   "cell_type": "markdown",
   "id": "732ab94a-60a0-43d0-b622-5532790d2f82",
   "metadata": {},
   "source": [
    "# Charting Functions"
   ]
  },
  {
   "cell_type": "code",
   "execution_count": 36,
   "id": "094d6dbe-de29-481a-8f7a-eaf8a00abdfe",
   "metadata": {},
   "outputs": [],
   "source": [
    "plotSentiment <- function(df, file_prefix, verbose) {\n",
    "\n",
    "    df_pos_neg <- df %>%\n",
    "      dplyr::filter(!is.na(sentiment)) %>%\n",
    "      dplyr::count(current_depth, sentiment)\n",
    "\n",
    "    cols <- c(positive='green4', negative='red')\n",
    "    \n",
    "    options(repr.plot.width=20, repr.plot.height=6)\n",
    "    \n",
    "    lineplot=ggplot(data = df_pos_neg, aes(x=current_depth, y=n)) +\n",
    "        geom_line(aes(colour=sentiment), size=2) +\n",
    "        theme(legend.text=element_text(size=12), legend.title=element_text(size=12)) +\n",
    "        theme(axis.text=element_text(size=12), axis.title=element_text(size=14, face=\"bold\")) +\n",
    "        xlab('Recommendation Depth') + ylab('No. of Videos') +\n",
    "        scale_color_manual('Sentiment', values=cols)\n",
    "    \n",
    "    barplot=ggplot(data = df_pos_neg, aes(x=current_depth, y=n, fill=sentiment)) + \n",
    "        geom_bar(position=\"fill\", stat=\"identity\") +\n",
    "        theme(legend.text=element_text(size=12), legend.title=element_text(size=12)) +\n",
    "        theme(axis.text=element_text(size=12), axis.title=element_text(size=14,face=\"bold\")) +\n",
    "        xlab('Recommendation Depth') + ylab('Relative Volume') +\n",
    "        scale_fill_manual(\"Sentiment\", values=cols)\n",
    "    \n",
    "    g_pos_neg <- arrangeGrob(lineplot, barplot, nrow = 1)\n",
    "    \n",
    "    date = format(Sys.time(), '%Y-%m-%d_%H_%M_%S')\n",
    "    file_name = paste('Entregas/Images/', file_prefix, '_pos_neg_', date, '.png', sep='')\n",
    "\n",
    "    ggsave(file=file_name, g_pos_neg, height=3)\n",
    "    if (verbose==1){\n",
    "        grid.arrange(lineplot, barplot, nrow = 1)        \n",
    "    }\n",
    "    \n",
    "    pt <- PivotTable$new()\n",
    "    pt$addData(df)\n",
    "    pt$addColumnDataGroups('current_depth')\n",
    "    pt$addRowDataGroups('sentiment')\n",
    "    pt$defineCalculation(calculationName=\"video\", summariseExpression=\"n()\")\n",
    "    pt$evaluatePivot()\n",
    "    pt\n",
    "}"
   ]
  },
  {
   "cell_type": "code",
   "execution_count": 37,
   "id": "ab7535ca-3850-424f-8b51-f0f0521dd9db",
   "metadata": {},
   "outputs": [],
   "source": [
    "plotLaverGarry <- function(df, file_prefix ,verbose) {\n",
    "    \n",
    "    df_lgpp <- df %>%\n",
    "      dplyr::filter(!is.na(lgpp)) %>%\n",
    "      dplyr::count(current_depth, lgpp)\n",
    "\n",
    "    df_lgpp$order <- order(df_lgpp$current_depth, df_lgpp$n)\n",
    "    \n",
    "    df_lgpp_0<-df_lgpp[df_lgpp$current_depth==0,]\n",
    "    df_lgpp_1<-df_lgpp[df_lgpp$current_depth==1,]\n",
    "    df_lgpp_2<-df_lgpp[df_lgpp$current_depth==2,]\n",
    "    df_lgpp_3<-df_lgpp[df_lgpp$current_depth==3,]\n",
    "    df_lgpp_4<-df_lgpp[df_lgpp$current_depth==4,]\n",
    "    df_lgpp_5<-df_lgpp[df_lgpp$current_depth==5,]\n",
    "\n",
    "    df_lgpp_0<-arrange(df_lgpp_0, df_lgpp_0$n)\n",
    "    df_lgpp_1<-arrange(df_lgpp_1, df_lgpp_1$n)\n",
    "    df_lgpp_2<-arrange(df_lgpp_2, df_lgpp_2$n)\n",
    "    df_lgpp_3<-arrange(df_lgpp_3, df_lgpp_3$n)\n",
    "    df_lgpp_4<-arrange(df_lgpp_4, df_lgpp_4$n)\n",
    "    df_lgpp_5<-arrange(df_lgpp_5, df_lgpp_5$n)\n",
    "\n",
    "    df_lgpp_0$order<-order(df_lgpp_0$n)\n",
    "    df_lgpp_1$order<-order(df_lgpp_1$n)\n",
    "    df_lgpp_2$order<-order(df_lgpp_2$n)\n",
    "    df_lgpp_3$order<-order(df_lgpp_3$n)\n",
    "    df_lgpp_4$order<-order(df_lgpp_4$n)\n",
    "    df_lgpp_5$order<-order(df_lgpp_5$n)\n",
    "\n",
    "    df_lgpp<- rbind(df_lgpp_0, df_lgpp_1, df_lgpp_2, df_lgpp_3, df_lgpp_4, df_lgpp_5)\n",
    "\n",
    "    cols <- c(URBAN='blue', LAW_AND_ORDER='orange', RURAL='red', CULTURE='red', ENVIRONMENT='blue3', ECONOMY='green3', VALUES='grey51', GROUPS='chartreuse4', INSTITUTIONS='royalblue3')\n",
    "    legendTitle <- 'Position'\n",
    "    \n",
    "    options(repr.plot.width=15, repr.plot.height=10)\n",
    "    \n",
    "    lineplot=ggplot(data = df_lgpp, aes(x=current_depth, y=n)) +\n",
    "        geom_line(aes(colour=lgpp), size=2) +\n",
    "        scale_color_manual(legendTitle, values=cols) +\n",
    "        theme(legend.text=element_text(size=12), legend.title=element_text(size=12)) +\n",
    "        theme(axis.text=element_text(size=12), axis.title=element_text(size=12,face='bold')) +\n",
    "        xlab('Recommendation Depth') + ylab('No. of Videos')\n",
    "\n",
    "    posplot=ggplot(data = df_lgpp, aes(x=current_depth, y=order)) +\n",
    "        geom_line(aes(colour=lgpp), size=2) +\n",
    "        scale_color_manual(legendTitle, values=cols) +\n",
    "        theme(legend.text=element_text(size=12), legend.title=element_text(size=12)) +\n",
    "        theme(axis.text=element_text(size=12), axis.title=element_text(size=12,face='bold')) +\n",
    "        xlab('Recommendation Depth') + ylab('Order of Bias')\n",
    "\n",
    "    barplot=ggplot(data = df_lgpp, aes(x=current_depth, y=n, order=lgpp)) + \n",
    "        geom_bar(position='fill', stat='identity', aes(fill=lgpp)) +\n",
    "        scale_fill_manual(legendTitle, values=cols) +\n",
    "        theme(legend.text=element_text(size=12), legend.title=element_text(size=12)) +\n",
    "        theme(axis.text=element_text(size=12), axis.title=element_text(size=12,face=\"bold\")) +\n",
    "        xlab('Recommendation Depth') + ylab('Relative Volume')\n",
    "\n",
    "    g_lgpp <- arrangeGrob(lineplot, posplot, barplot, nrow = 3)\n",
    "    \n",
    "    date = format(Sys.time(), '%Y-%m-%d_%H_%M_%S')\n",
    "    file_name = paste('Entregas/Images/', file_prefix, '_lgpp_', date, '.png', sep='')\n",
    "\n",
    "    ggsave(file=file_name, g_lgpp)\n",
    "    if (verbose==1){\n",
    "        grid.arrange(lineplot, posplot, barplot, nrow = 3)        \n",
    "    }\n",
    "    \n",
    "    pt <- PivotTable$new()\n",
    "    pt$addData(df)\n",
    "    pt$addColumnDataGroups('current_depth')\n",
    "    pt$addRowDataGroups('lgpp')\n",
    "    pt$defineCalculation(calculationName=\"video\", summariseExpression=\"n()\")\n",
    "    pt$evaluatePivot()\n",
    "    pt\n",
    "}"
   ]
  },
  {
   "cell_type": "code",
   "execution_count": 38,
   "id": "c847d116-5070-480d-87fd-b4b13cefa12b",
   "metadata": {},
   "outputs": [],
   "source": [
    "plotNRC_el <- function(df, file_prefix, verbose) {\n",
    "    \n",
    "    df_nrc_el <- df %>%\n",
    "      dplyr::filter(!is.na(nrc_el)) %>%\n",
    "      dplyr::count(current_depth, nrc_el)\n",
    "\n",
    "    #df_nrc_el <- df_nrc_el[complete.cases(df_nrc_el),]\n",
    "\n",
    "    df_nrc_el_0<-df_nrc_el[df_nrc_el$current_depth==0,]\n",
    "    df_nrc_el_1<-df_nrc_el[df_nrc_el$current_depth==1,]\n",
    "    df_nrc_el_2<-df_nrc_el[df_nrc_el$current_depth==2,]\n",
    "    df_nrc_el_3<-df_nrc_el[df_nrc_el$current_depth==3,]\n",
    "    df_nrc_el_4<-df_nrc_el[df_nrc_el$current_depth==4,]\n",
    "    df_nrc_el_5<-df_nrc_el[df_nrc_el$current_depth==5,]\n",
    "\n",
    "    df_nrc_el_0<-arrange(df_nrc_el_0, df_nrc_el_0$n)\n",
    "    df_nrc_el_1<-arrange(df_nrc_el_1, df_nrc_el_1$n)\n",
    "    df_nrc_el_2<-arrange(df_nrc_el_2, df_nrc_el_2$n)\n",
    "    df_nrc_el_3<-arrange(df_nrc_el_3, df_nrc_el_3$n)\n",
    "    df_nrc_el_4<-arrange(df_nrc_el_4, df_nrc_el_4$n)\n",
    "    df_nrc_el_5<-arrange(df_nrc_el_5, df_nrc_el_5$n)\n",
    "\n",
    "    df_nrc_el_0$order<-order(df_nrc_el_0$n)\n",
    "    df_nrc_el_1$order<-order(df_nrc_el_1$n)\n",
    "    df_nrc_el_2$order<-order(df_nrc_el_2$n)\n",
    "    df_nrc_el_3$order<-order(df_nrc_el_3$n)\n",
    "    df_nrc_el_4$order<-order(df_nrc_el_4$n)\n",
    "    df_nrc_el_5$order<-order(df_nrc_el_5$n)\n",
    "\n",
    "    df_nrc_el<- rbind(df_nrc_el_0, df_nrc_el_1, df_nrc_el_2, df_nrc_el_3, df_nrc_el_4, df_nrc_el_5)\n",
    "\n",
    "    cols <- c(anger='blue', surprise='orange', anticipation='red', disgust='blue4', positive='blue3', fear='green3', negative='grey51', sadness='chartreuse4', joy='royalblue3', trust='red4')\n",
    "    legendTitle <- 'Emotion'\n",
    "    \n",
    "    options(repr.plot.width=15, repr.plot.height=10)\n",
    "    \n",
    "    lineplot=ggplot(data = df_nrc_el, aes(x=current_depth, y=n)) +\n",
    "        geom_line(aes(colour=nrc_el), size=2) +\n",
    "        scale_color_manual(legendTitle, values=cols) +\n",
    "        theme(legend.text=element_text(size=12), legend.title=element_text(size=12)) +\n",
    "        theme(axis.text=element_text(size=12), axis.title=element_text(size=14,face='bold')) +\n",
    "        xlab('Recommendation Depth') + ylab('No. of Videos')\n",
    "\n",
    "    posplot=ggplot(data = df_nrc_el, aes(x=current_depth, y=order)) +\n",
    "        geom_line(aes(colour=nrc_el), size=2) +\n",
    "        scale_color_manual(legendTitle, values=cols) +\n",
    "        theme(legend.text=element_text(size=12), legend.title=element_text(size=12)) +\n",
    "        theme(axis.text=element_text(size=12), axis.title=element_text(size=14,face='bold')) +\n",
    "        xlab('Recommendation Depth') + ylab('Order of Bias')\n",
    "\n",
    "    barplot=ggplot(data = df_nrc_el, aes(x=current_depth, y=n, order=nrc_el)) + \n",
    "        geom_bar(position='fill', stat='identity', aes(fill=nrc_el)) +\n",
    "        scale_fill_manual(legendTitle, values=cols) +\n",
    "        theme(legend.text=element_text(size=12), legend.title=element_text(size=12)) +\n",
    "        theme(axis.text=element_text(size=12), axis.title=element_text(size=14,face=\"bold\")) +\n",
    "        xlab('Recommendation Depth') + ylab('Relative Volume')\n",
    "\n",
    "    g_nrc_el <- arrangeGrob(lineplot, posplot, barplot, nrow = 3)\n",
    "    \n",
    "    date = format(Sys.time(), '%Y-%m-%d_%H_%M_%S')\n",
    "    file_name = paste('Entregas/Images/', file_prefix, '_nrc_el_', date, '.png', sep='')\n",
    "\n",
    "    ggsave(file=file_name, g_nrc_el)\n",
    "    if (verbose==1){\n",
    "        grid.arrange(lineplot, posplot, barplot, nrow = 3)        \n",
    "    }\n",
    "    \n",
    "    pt <- PivotTable$new()\n",
    "    pt$addData(df)\n",
    "    pt$addColumnDataGroups('current_depth')\n",
    "    pt$addRowDataGroups('nrc_el')\n",
    "    pt$defineCalculation(calculationName=\"video\", summariseExpression=\"n()\")\n",
    "    pt$evaluatePivot()\n",
    "    pt\n",
    "}"
   ]
  },
  {
   "cell_type": "code",
   "execution_count": 39,
   "id": "5f5c0fda-ed03-4477-a96c-aaed6946a113",
   "metadata": {},
   "outputs": [],
   "source": [
    "plotTopic <- function(df, file_prefix, verbose) {\n",
    "    \n",
    "    df_topic <- df %>%\n",
    "      dplyr::filter(!is.na(topic)) %>%\n",
    "      dplyr::count(current_depth, topic)\n",
    "\n",
    "    df_topic_0<-df_topic[df_topic$current_depth==0,]\n",
    "    df_topic_1<-df_topic[df_topic$current_depth==1,]\n",
    "    df_topic_2<-df_topic[df_topic$current_depth==2,]\n",
    "    df_topic_3<-df_topic[df_topic$current_depth==3,]\n",
    "    df_topic_4<-df_topic[df_topic$current_depth==4,]\n",
    "    df_topic_5<-df_topic[df_topic$current_depth==5,]\n",
    "\n",
    "    df_topic_0<-arrange(df_topic_0, df_topic_0$n)\n",
    "    df_topic_1<-arrange(df_topic_1, df_topic_1$n)\n",
    "    df_topic_2<-arrange(df_topic_2, df_topic_2$n)\n",
    "    df_topic_3<-arrange(df_topic_3, df_topic_3$n)\n",
    "    df_topic_4<-arrange(df_topic_4, df_topic_4$n)\n",
    "    df_topic_5<-arrange(df_topic_5, df_topic_5$n)\n",
    "\n",
    "    df_topic_0$order<-order(df_topic_0$n)\n",
    "    df_topic_1$order<-order(df_topic_1$n)\n",
    "    df_topic_2$order<-order(df_topic_2$n)\n",
    "    df_topic_3$order<-order(df_topic_3$n)\n",
    "    df_topic_4$order<-order(df_topic_4$n)\n",
    "    df_topic_5$order<-order(df_topic_5$n)\n",
    "\n",
    "    df_topic<- rbind(df_topic_0, df_topic_1, df_topic_2, df_topic_3, df_topic_4, df_topic_5)\n",
    "\n",
    "    cols <- c(diplomacy='red', military='green3', economy='red4', politics='royalblue3', society='blue3')\n",
    "    legendTitle <- 'Topic'\n",
    "    \n",
    "    options(repr.plot.width=15, repr.plot.height=10)\n",
    "    \n",
    "    lineplot=ggplot(data = df_topic, aes(x=current_depth, y=n)) +\n",
    "        geom_line(aes(colour=topic), size=2) +\n",
    "        scale_color_manual(legendTitle, values=cols) +\n",
    "        theme(legend.text=element_text(size=12), legend.title=element_text(size=12)) +\n",
    "        theme(axis.text=element_text(size=12), axis.title=element_text(size=14,face='bold')) +\n",
    "        xlab('Recommendation Depth') + ylab('No. of Videos')\n",
    "\n",
    "    posplot=ggplot(data = df_topic, aes(x=current_depth, y=order)) +\n",
    "        geom_line(aes(colour=topic), size=2) +\n",
    "        scale_color_manual(legendTitle, values=cols) +\n",
    "        theme(legend.text=element_text(size=12), legend.title=element_text(size=12)) +\n",
    "        theme(axis.text=element_text(size=12), axis.title=element_text(size=14,face='bold')) +\n",
    "        xlab('Recommendation Depth') + ylab('Order of Bias')\n",
    "\n",
    "    barplot=ggplot(data = df_topic, aes(x=current_depth, y=n, order=topic)) + \n",
    "        geom_bar(position='fill', stat='identity', aes(fill=topic)) +\n",
    "        scale_fill_manual(legendTitle, values=cols) +\n",
    "        theme(legend.text=element_text(size=12), legend.title=element_text(size=12)) +\n",
    "        theme(axis.text=element_text(size=12), axis.title=element_text(size=14,face=\"bold\")) +\n",
    "        xlab('Recommendation Depth') + ylab('Relative Volume')\n",
    "\n",
    "    g_topic <- arrangeGrob(lineplot, posplot, barplot, nrow = 3)\n",
    "    \n",
    "    date = format(Sys.time(), '%Y-%m-%d_%H_%M_%S')\n",
    "    file_name = paste('Entregas/Images/', file_prefix, '_topic_', date, '.png', sep='')\n",
    "\n",
    "    ggsave(file=file_name, g_topic)\n",
    "    if (verbose==1){\n",
    "        grid.arrange(lineplot, posplot, barplot, nrow = 3)        \n",
    "    }\n",
    "    \n",
    "    pt <- PivotTable$new()\n",
    "    pt$addData(df)\n",
    "    pt$addColumnDataGroups('current_depth')\n",
    "    pt$addRowDataGroups('topic')\n",
    "    pt$defineCalculation(calculationName=\"video\", summariseExpression=\"n()\")\n",
    "    pt$evaluatePivot()\n",
    "    pt\n",
    "}"
   ]
  },
  {
   "cell_type": "code",
   "execution_count": 40,
   "id": "39526e99-dda9-433f-9ae6-85f0ba970faa",
   "metadata": {},
   "outputs": [],
   "source": [
    "plotBias <- function(df, file_prefix, verbose) {\n",
    "\n",
    "    df_channel_bias <- df %>%\n",
    "      dplyr::filter(Bias!='') %>%\n",
    "      dplyr::count(current_depth, Bias)\n",
    "\n",
    "    df_channel_bias_0<-df_channel_bias[df_channel_bias$current_depth==0,]\n",
    "    df_channel_bias_1<-df_channel_bias[df_channel_bias$current_depth==1,]\n",
    "    df_channel_bias_2<-df_channel_bias[df_channel_bias$current_depth==2,]\n",
    "    df_channel_bias_3<-df_channel_bias[df_channel_bias$current_depth==3,]\n",
    "    df_channel_bias_4<-df_channel_bias[df_channel_bias$current_depth==4,]\n",
    "    df_channel_bias_5<-df_channel_bias[df_channel_bias$current_depth==5,]\n",
    "\n",
    "    df_channel_bias_0<-arrange(df_channel_bias_0, df_channel_bias_0$n)\n",
    "    df_channel_bias_1<-arrange(df_channel_bias_1, df_channel_bias_1$n)\n",
    "    df_channel_bias_2<-arrange(df_channel_bias_2, df_channel_bias_2$n)\n",
    "    df_channel_bias_3<-arrange(df_channel_bias_3, df_channel_bias_3$n)\n",
    "    df_channel_bias_4<-arrange(df_channel_bias_4, df_channel_bias_4$n)\n",
    "    df_channel_bias_5<-arrange(df_channel_bias_5, df_channel_bias_5$n)\n",
    "\n",
    "    df_channel_bias_0$order<-order(df_channel_bias_0$n)\n",
    "    df_channel_bias_1$order<-order(df_channel_bias_1$n)\n",
    "    df_channel_bias_2$order<-order(df_channel_bias_2$n)\n",
    "    df_channel_bias_3$order<-order(df_channel_bias_3$n)\n",
    "    df_channel_bias_4$order<-order(df_channel_bias_4$n)\n",
    "    df_channel_bias_5$order<-order(df_channel_bias_5$n)\n",
    "\n",
    "    df_channel_bias <- rbind(df_channel_bias_0, df_channel_bias_1, df_channel_bias_2, df_channel_bias_3, df_channel_bias_4, df_channel_bias_5)\n",
    "\n",
    "    df_channel_bias <- transform(df_channel_bias, \n",
    "            Bias.ord = factor(\n",
    "                 Bias ,\n",
    "                 levels=c('L','CL', 'C', 'CR', 'R'),\n",
    "                 ordered =TRUE))\n",
    "\n",
    "    cols <- c(L='blue4',CL='royalblue', C='grey', CR='red', R='red3')\n",
    "    legendTitle <- 'Bias'\n",
    "\n",
    "    options(repr.plot.width=15, repr.plot.height=10)\n",
    "    \n",
    "    lineplot=ggplot(data = df_channel_bias, aes(x=current_depth, y=n)) + geom_line(aes(colour=Bias.ord), size=2) +\n",
    "        scale_color_manual(legendTitle, values=cols) +\n",
    "        theme(legend.text=element_text(size=12), legend.title=element_text(size=12), rect = element_rect(fill = \"transparent\")) +\n",
    "        theme(axis.text=element_text(size=12), axis.title=element_text(size=12, face='bold')) +\n",
    "        xlab('Recommendation Depth') + ylab('No. of Videos')\n",
    "\n",
    "    posplot=ggplot(data = df_channel_bias, aes(x=current_depth, y=order)) + geom_line(aes(colour=Bias.ord), size=2) +\n",
    "        scale_color_manual(legendTitle, values=cols) +\n",
    "        theme(legend.text=element_text(size=12), legend.title=element_text(size=12)) +\n",
    "        theme(axis.text=element_text(size=12), axis.title=element_text(size=12, face='bold')) +\n",
    "        xlab('Recommendation Depth') + ylab('Order of Bias')\n",
    "\n",
    "    barplot=ggplot(data = df_channel_bias, aes(x=current_depth, y=n, order=Bias.ord)) + \n",
    "        geom_bar(position=\"fill\", stat=\"identity\", aes(fill=Bias.ord)) + scale_fill_manual(legendTitle, values=cols) +\n",
    "        theme(legend.text=element_text(size=12), legend.title=element_text(size=12)) +\n",
    "        theme(axis.text=element_text(size=12), axis.title=element_text(size=12, face=\"bold\")) +\n",
    "        xlab('Recommendation Depth') + ylab('Relative Volume')\n",
    "\n",
    "    g_bias <- arrangeGrob(lineplot, posplot, barplot, nrow = 3)\n",
    "    \n",
    "    date = format(Sys.time(), '%Y-%m-%d_%H_%M_%S')\n",
    "    file_name = paste('Entregas/Images/', file_prefix, '_bias_', date, '.png', sep='')\n",
    "\n",
    "    ggsave(file=file_name, g_bias)\n",
    "    if (verbose==1){\n",
    "        grid.arrange(lineplot, posplot, barplot, nrow = 3)        \n",
    "    }\n",
    "\n",
    "    pt <- PivotTable$new()\n",
    "    pt$addData(df)\n",
    "    pt$addColumnDataGroups('current_depth')\n",
    "    pt$addRowDataGroups('Bias')\n",
    "    pt$defineCalculation(calculationName=\"video\", summariseExpression=\"n()\")\n",
    "    pt$evaluatePivot()\n",
    "    pt\n",
    "}"
   ]
  },
  {
   "cell_type": "code",
   "execution_count": 41,
   "id": "ce0652be-fc1e-43e8-849c-860d2ae4d9d5",
   "metadata": {},
   "outputs": [],
   "source": [
    "plotSentimentRatio <- function(df, file_prefix, verbose) {\n",
    "\n",
    "    df_sentiment_calc <- df %>%\n",
    "      dplyr::filter(!is.na(sentiment_ratio))\n",
    "    \n",
    "    df_sentiment_calc$sentiment_ratio_plot <- 'neutral'\n",
    "    df_sentiment_calc$sentiment_ratio_plot[df_sentiment_calc$sentiment_ratio >= 1.5] <- 'positive'\n",
    "    df_sentiment_calc$sentiment_ratio_plot[df_sentiment_calc$sentiment_ratio <= 0.66] <- 'negative'\n",
    "    \n",
    "    df_sentiment_ratio <- df_sentiment_calc %>%\n",
    "      dplyr::filter(!is.na(sentiment_ratio_plot)) %>%\n",
    "      dplyr::count(current_depth, sentiment_ratio_plot)\n",
    "    \n",
    "    cols <- c(positive='green4', negative='red', neutral='grey')\n",
    "    \n",
    "    options(repr.plot.width=20, repr.plot.height=6)\n",
    "    \n",
    "    lineplot=ggplot(data = df_sentiment_ratio, aes(x=current_depth, y=n)) +\n",
    "        geom_line(aes(colour=sentiment_ratio_plot), size=2) +\n",
    "        theme(legend.text=element_text(size=12), legend.title=element_text(size=12)) +\n",
    "        theme(axis.text=element_text(size=12), axis.title=element_text(size=14, face=\"bold\")) +\n",
    "        xlab('Recommendation Depth') + ylab('No. of Videos') +\n",
    "        scale_color_manual('Sentiment', values=cols)\n",
    "    \n",
    "    barplot=ggplot(data = df_sentiment_ratio, aes(x=current_depth, y=n, fill=sentiment_ratio_plot)) + \n",
    "        geom_bar(position=\"fill\", stat=\"identity\") +\n",
    "        theme(legend.text=element_text(size=12), legend.title=element_text(size=12)) +\n",
    "        theme(axis.text=element_text(size=12), axis.title=element_text(size=14,face=\"bold\")) +\n",
    "        xlab('Recommendation Depth') + ylab('Relative Volume') +\n",
    "        scale_fill_manual(\"Sentiment\", values=cols)\n",
    "    \n",
    "    g_sentiment_ratio <- arrangeGrob(lineplot, barplot, nrow = 1)\n",
    "    \n",
    "    date = format(Sys.time(), '%Y-%m-%d_%H_%M_%S')\n",
    "    file_name = paste('Entregas/Images/', file_prefix, '_sentiment_ratio_', date, '.png', sep='')\n",
    "\n",
    "    ggsave(file=file_name, g_sentiment_ratio, height=3)\n",
    "    if (verbose==1){\n",
    "        grid.arrange(lineplot, barplot, nrow = 1)        \n",
    "    }\n",
    "    \n",
    "    pt <- PivotTable$new()\n",
    "    pt$addData(df_sentiment_calc)\n",
    "    pt$addColumnDataGroups('current_depth')\n",
    "    pt$addRowDataGroups('sentiment_ratio_plot')\n",
    "    pt$defineCalculation(calculationName=\"video\", summariseExpression=\"n()\")\n",
    "    pt$evaluatePivot()\n",
    "    pt\n",
    "}"
   ]
  },
  {
   "cell_type": "markdown",
   "id": "ad42599b-4931-4026-86ed-cc1cb6a2ecec",
   "metadata": {},
   "source": [
    "# Full Set"
   ]
  },
  {
   "cell_type": "code",
   "execution_count": 142,
   "id": "4ea42491-21a0-4181-b5e9-6a5dab3f1e47",
   "metadata": {},
   "outputs": [
    {
     "name": "stderr",
     "output_type": "stream",
     "text": [
      "Saving 7 x 3 in image\n",
      "\n"
     ]
    },
    {
     "data": {
      "text/plain": [
       "          0    1    2     3      4      5       Total   \n",
       "negative    9   26   160    688   3228   15496   19607  \n",
       "neutral    43  213  1065   4937  23327  113630  143215  \n",
       "positive   60  251  1189   5971  29302  147287  184060  \n",
       "Total     112  490  2414  11596  55857  276413  346882  "
      ]
     },
     "metadata": {},
     "output_type": "display_data"
    },
    {
     "name": "stderr",
     "output_type": "stream",
     "text": [
      "Saving 7 x 3 in image\n",
      "\n"
     ]
    },
    {
     "data": {
      "text/plain": [
       "          0    1    2     3      4      5       Total   \n",
       "negative   16  101   569   2517  11868   57798   72869  \n",
       "positive   96  389  1845   9079  43989  218615  274013  \n",
       "NA         17  126   537   2680  13127   67881   84368  \n",
       "Total     129  616  2951  14276  68984  344294  431250  "
      ]
     },
     "metadata": {},
     "output_type": "display_data"
    },
    {
     "name": "stderr",
     "output_type": "stream",
     "text": [
      "Saving 7 x 7 in image\n",
      "\n"
     ]
    },
    {
     "data": {
      "text/plain": [
       "       0    1    2     3      4      5       Total   \n",
       "        49  229  1162   5876  29439  156688  193443  \n",
       "C       12   53   270   1385   6860   34039   42619  \n",
       "CL      39  168   752   3415  15836   74517   94727  \n",
       "CR      10   45   178    808   3588   15890   20519  \n",
       "L       12   67   310   1477   6995   33752   42613  \n",
       "R        7   54   279   1315   6266   29408   37329  \n",
       "Total  129  616  2951  14276  68984  344294  431250  "
      ]
     },
     "metadata": {},
     "output_type": "display_data"
    },
    {
     "name": "stderr",
     "output_type": "stream",
     "text": [
      "Saving 7 x 7 in image\n",
      "\n"
     ]
    },
    {
     "data": {
      "text/plain": [
       "               0    1    2     3      4      5       Total   \n",
       "CULTURE          1   15    99    506   2973   16654   20248  \n",
       "ECONOMY         12   50   268   1291   6095   29191   36907  \n",
       "ENVIRONMENT      3   23   133    738   3897   20519   25313  \n",
       "GROUPS           9   86   491   2479  12346   62580   77991  \n",
       "INSTITUTIONS    63  197   774   3361  14882   67677   86954  \n",
       "LAW_AND_ORDER    3   36   208   1100   5233   25965   32545  \n",
       "RURAL            4   17   119    565   2901   15716   19322  \n",
       "URBAN            1    5    38    182    902    4658    5786  \n",
       "VALUES          15   61   284   1352   6549   33028   41289  \n",
       "NA              18  126   537   2702  13206   68306   84895  \n",
       "Total          129  616  2951  14276  68984  344294  431250  "
      ]
     },
     "metadata": {},
     "output_type": "display_data"
    },
    {
     "name": "stderr",
     "output_type": "stream",
     "text": [
      "Saving 7 x 7 in image\n",
      "\n"
     ]
    },
    {
     "data": {
      "text/plain": [
       "              0    1    2     3      4      5       Total   \n",
       "anger           2    8    52    251   1199    5957    7469  \n",
       "anticipation    1   10    78    385   2244   12065   14783  \n",
       "disgust         4   18   112    528   2743   14498   17903  \n",
       "fear            2   13    94    503   2707   14180   17499  \n",
       "joy            10   71   413   2171  11068   56772   70505  \n",
       "negative        7   49   233   1132   5567   28014   35002  \n",
       "positive       11   50   240   1225   5771   29881   37178  \n",
       "sadness        14   58   282   1269   5855   27057   34535  \n",
       "surprise        1   14    89    464   2452   13768   16788  \n",
       "trust          59  199   821   3646  16172   73796   94693  \n",
       "NA             18  126   537   2702  13206   68306   84895  \n",
       "Total         129  616  2951  14276  68984  344294  431250  "
      ]
     },
     "metadata": {},
     "output_type": "display_data"
    },
    {
     "name": "stderr",
     "output_type": "stream",
     "text": [
      "Saving 7 x 7 in image\n",
      "\n"
     ]
    },
    {
     "data": {
      "text/plain": [
       "           0    1    2     3      4      5       Total   \n",
       "diplomacy    8   94   520   2567  12841   65247   81277  \n",
       "economy     13   72   379   1901   9220   47694   59279  \n",
       "military    16   58   332   1579   7679   38552   48216  \n",
       "politics    70  231   929   4202  18984   87595  112011  \n",
       "society      4   35   254   1325   7054   36900   45572  \n",
       "NA          18  126   537   2702  13206   68306   84895  \n",
       "Total      129  616  2951  14276  68984  344294  431250  "
      ]
     },
     "metadata": {},
     "output_type": "display_data"
    }
   ],
   "source": [
    "keyword <- 'Full'\n",
    "keyword_prefix <- gsub(\" \", \"\", keyword, fixed = TRUE)\n",
    "df_keyword_plot <- total\n",
    "plotSentimentRatio(df_keyword_plot, keyword_prefix, 0)\n",
    "plotSentiment(df_keyword_plot, keyword_prefix, 0)\n",
    "plotBias(df_keyword_plot, keyword_prefix, 0)\n",
    "plotLaverGarry(df_keyword_plot, keyword_prefix, 0)\n",
    "plotNRC_el(df_keyword_plot, keyword_prefix, 0)\n",
    "plotTopic(df_keyword_plot, keyword_prefix, 0)"
   ]
  },
  {
   "cell_type": "markdown",
   "id": "aac6a2d1-65a7-4633-924a-32d99b36d36f",
   "metadata": {},
   "source": [
    "# By Search Term"
   ]
  },
  {
   "cell_type": "code",
   "execution_count": 497,
   "id": "35381f18-a944-4bfd-9802-50b4f2ebe560",
   "metadata": {},
   "outputs": [
    {
     "name": "stderr",
     "output_type": "stream",
     "text": [
      "Saving 7 x 3 in image\n",
      "\n"
     ]
    },
    {
     "data": {
      "text/plain": [
       "          0  1   2    3    4     5      Total  \n",
       "negative  2   1    7   18   136    684    848  \n",
       "neutral   2  14   70  344  1491   7032   8953  \n",
       "positive      7   31  150   879   4610   5677  \n",
       "Total     4  22  108  512  2506  12326  15478  "
      ]
     },
     "metadata": {},
     "output_type": "display_data"
    },
    {
     "name": "stderr",
     "output_type": "stream",
     "text": [
      "Saving 7 x 3 in image\n",
      "\n"
     ]
    },
    {
     "data": {
      "text/plain": [
       "          0  1   2    3    4     5      Total  \n",
       "negative  3   8   37  168   734   3650   4600  \n",
       "positive  1  14   71  344  1772   8676  10878  \n",
       "NA        1   1    6   48   224   1306   1586  \n",
       "Total     5  23  114  560  2730  13632  17064  "
      ]
     },
     "metadata": {},
     "output_type": "display_data"
    },
    {
     "name": "stderr",
     "output_type": "stream",
     "text": [
      "Saving 7 x 7 in image\n",
      "\n"
     ]
    },
    {
     "data": {
      "text/plain": [
       "       0  1   2    3    4     5      Total  \n",
       "                3   32   212   1431   1678  \n",
       "C               2   14    69    366    451  \n",
       "CL     1   3   17   90   500   2705   3316  \n",
       "CR         2   12   64   326   1672   2076  \n",
       "L      4  17   71  308  1302   5730   7432  \n",
       "R          1    9   52   321   1728   2111  \n",
       "Total  5  23  114  560  2730  13632  17064  "
      ]
     },
     "metadata": {},
     "output_type": "display_data"
    },
    {
     "name": "stderr",
     "output_type": "stream",
     "text": [
      "Saving 7 x 7 in image\n",
      "\n"
     ]
    },
    {
     "data": {
      "text/plain": [
       "               0  1   2    3    4     5      Total  \n",
       "CULTURE        1   1    2   10    61    371    446  \n",
       "ECONOMY                 2   11    89    501    603  \n",
       "ENVIRONMENT                  7    30    244    281  \n",
       "GROUPS                  4   29   259   1529   1821  \n",
       "INSTITUTIONS   3  21   98  439  1954   8970  11485  \n",
       "LAW_AND_ORDER                     13     69     82  \n",
       "RURAL                   1    4    41    213    259  \n",
       "URBAN                              1     19     20  \n",
       "VALUES                  1   12    58    407    478  \n",
       "NA             1   1    6   48   224   1309   1589  \n",
       "Total          5  23  114  560  2730  13632  17064  "
      ]
     },
     "metadata": {},
     "output_type": "display_data"
    },
    {
     "name": "stderr",
     "output_type": "stream",
     "text": [
      "Saving 7 x 7 in image\n",
      "\n",
      "Saving 7 x 7 in image\n",
      "\n"
     ]
    },
    {
     "data": {
      "text/plain": [
       "           0  1   2    3    4     5      Total  \n",
       "diplomacy  1   1    9   43   322   1863   2239  \n",
       "economy             1    9    72    463    545  \n",
       "military            1   12    81    463    557  \n",
       "politics   3  21   97  442  2001   9318  11882  \n",
       "society                  6    30    216    252  \n",
       "NA         1   1    6   48   224   1309   1589  \n",
       "Total      5  23  114  560  2730  13632  17064  "
      ]
     },
     "metadata": {},
     "output_type": "display_data"
    }
   ],
   "source": [
    "keyword <- 'trump'\n",
    "keyword_prefix <- gsub(\" \", \"\", keyword, fixed = TRUE)\n",
    "df_keyword_plot <- total[total$keyword==keyword,]\n",
    "plotSentimentRatio(df_keyword_plot, keyword_prefix, 0)\n",
    "plotSentiment(df_keyword_plot, keyword_prefix, 0)\n",
    "plotBias(df_keyword_plot, keyword_prefix, 0)\n",
    "plotLaverGarry(df_keyword_plot, keyword_prefix, 0)\n",
    "plotNRC_el(df_keyword_plot, keyword_prefix, 0)\n",
    "plotTopic(df_keyword_plot, keyword_prefix, 0)"
   ]
  },
  {
   "cell_type": "code",
   "execution_count": 498,
   "id": "ae2b6348-a3f4-4822-80f3-f7e8464a6873",
   "metadata": {},
   "outputs": [
    {
     "name": "stderr",
     "output_type": "stream",
     "text": [
      "Saving 7 x 3 in image\n",
      "\n"
     ]
    },
    {
     "data": {
      "text/plain": [
       "          0  1   2    3    4     5      Total  \n",
       "negative  1   2    6   27   166    784    986  \n",
       "neutral      11   54  230  1108   5249   6652  \n",
       "positive  4  10   55  315  1481   7438   9303  \n",
       "Total     5  23  115  572  2755  13471  16941  "
      ]
     },
     "metadata": {},
     "output_type": "display_data"
    },
    {
     "name": "stderr",
     "output_type": "stream",
     "text": [
      "Saving 7 x 3 in image\n",
      "\n"
     ]
    },
    {
     "data": {
      "text/plain": [
       "          0  1   2    3    4     5      Total  \n",
       "negative  1   3   27   91   538   2469   3129  \n",
       "positive  4  20   88  481  2217  11002  13812  \n",
       "NA            2    9   39   244   1415   1709  \n",
       "Total     5  25  124  611  2999  14886  18650  "
      ]
     },
     "metadata": {},
     "output_type": "display_data"
    },
    {
     "name": "stderr",
     "output_type": "stream",
     "text": [
      "Saving 7 x 7 in image\n",
      "\n"
     ]
    },
    {
     "data": {
      "text/plain": [
       "       0  1   2    3    4     5      Total  \n",
       "           2   22  128   717   4282   5151  \n",
       "C          2    7   38   178    813   1038  \n",
       "CL     2   6   23  107   532   2374   3044  \n",
       "CR         1    5   26   134    617    783  \n",
       "L      2  10   47  220   996   4684   5959  \n",
       "R      1   4   20   92   442   2116   2675  \n",
       "Total  5  25  124  611  2999  14886  18650  "
      ]
     },
     "metadata": {},
     "output_type": "display_data"
    },
    {
     "name": "stderr",
     "output_type": "stream",
     "text": [
      "Saving 7 x 7 in image\n",
      "\n"
     ]
    },
    {
     "data": {
      "text/plain": [
       "               0  1   2    3    4     5      Total  \n",
       "CULTURE            3   12   65   329   1885   2294  \n",
       "ECONOMY                 3   16   104    504    627  \n",
       "ENVIRONMENT        2   11   43   253   1300   1609  \n",
       "GROUPS         1   4   29  163   798   3934   4929  \n",
       "INSTITUTIONS   4  12   54  255  1085   4788   6198  \n",
       "LAW_AND_ORDER                3    36    191    230  \n",
       "RURAL              2    4   18    95    465    584  \n",
       "URBAN                              2     38     40  \n",
       "VALUES                  2    9    53    366    430  \n",
       "NA                 2    9   39   244   1415   1709  \n",
       "Total          5  25  124  611  2999  14886  18650  "
      ]
     },
     "metadata": {},
     "output_type": "display_data"
    },
    {
     "name": "stderr",
     "output_type": "stream",
     "text": [
      "Saving 7 x 7 in image\n",
      "\n",
      "Saving 7 x 7 in image\n",
      "\n"
     ]
    },
    {
     "data": {
      "text/plain": [
       "           0  1   2    3    4     5      Total  \n",
       "diplomacy  1   7   33  185   925   4584   5735  \n",
       "economy        2    7   40   215   1180   1444  \n",
       "military            1   10    66    379    456  \n",
       "politics   4  10   54  248  1108   4985   6409  \n",
       "society        4   20   89   441   2343   2897  \n",
       "NA             2    9   39   244   1415   1709  \n",
       "Total      5  25  124  611  2999  14886  18650  "
      ]
     },
     "metadata": {},
     "output_type": "display_data"
    }
   ],
   "source": [
    "keyword <- 'biden'\n",
    "keyword_prefix <- gsub(\" \", \"\", keyword, fixed = TRUE)\n",
    "df_keyword_plot <- total[total$keyword==keyword,]\n",
    "plotSentimentRatio(df_keyword_plot, keyword_prefix, 0)\n",
    "plotSentiment(df_keyword_plot, keyword_prefix, 0)\n",
    "plotBias(df_keyword_plot, keyword_prefix, 0)\n",
    "plotLaverGarry(df_keyword_plot, keyword_prefix, 0)\n",
    "plotNRC_el(df_keyword_plot, keyword_prefix, 0)\n",
    "plotTopic(df_keyword_plot, keyword_prefix, 0)"
   ]
  },
  {
   "cell_type": "code",
   "execution_count": null,
   "id": "26f4a257-aeec-4d26-820f-59b5c0c7d2af",
   "metadata": {},
   "outputs": [],
   "source": [
    "keyword <- 'Gun Control'\n",
    "keyword_prefix <- gsub(\" \", \"\", keyword, fixed = TRUE)\n",
    "df_keyword_plot <- total[total$keyword==keyword,]\n",
    "plotSentimentRatio(df_keyword_plot, keyword_prefix, 0)\n",
    "plotSentiment(df_keyword_plot, keyword_prefix, 0)\n",
    "plotBias(df_keyword_plot, keyword_prefix, 0)\n",
    "plotLaverGarry(df_keyword_plot, keyword_prefix, 0)\n",
    "plotNRC_el(df_keyword_plot, keyword_prefix, 0)\n",
    "plotTopic(df_keyword_plot, keyword_prefix, 0)"
   ]
  },
  {
   "cell_type": "code",
   "execution_count": null,
   "id": "50a371c8-e27f-43d8-a71a-e645dda24e25",
   "metadata": {},
   "outputs": [],
   "source": [
    "keyword <- 'feminism'\n",
    "keyword_prefix <- gsub(\" \", \"\", keyword, fixed = TRUE)\n",
    "df_keyword_plot <- total[total$keyword==keyword,]\n",
    "plotSentimentRatio(df_keyword_plot, keyword_prefix, 0)\n",
    "plotSentiment(df_keyword_plot, keyword_prefix, 0)\n",
    "plotBias(df_keyword_plot, keyword_prefix, 0)\n",
    "plotLaverGarry(df_keyword_plot, keyword_prefix, 0)\n",
    "plotNRC_el(df_keyword_plot, keyword_prefix, 0)\n",
    "plotTopic(df_keyword_plot, keyword_prefix, 0)"
   ]
  },
  {
   "cell_type": "code",
   "execution_count": 42,
   "id": "23768cfd-60b2-465b-b5f5-12bd4a42a0f4",
   "metadata": {},
   "outputs": [
    {
     "data": {
      "text/html": [
       "<table class=\"dataframe\">\n",
       "<caption>A data.frame: 6 × 15</caption>\n",
       "<thead>\n",
       "\t<tr><th></th><th scope=col>video</th><th scope=col>keyword</th><th scope=col>current_depth</th><th scope=col>fetch_time</th><th scope=col>positive</th><th scope=col>negative</th><th scope=col>sentiment</th><th scope=col>sentiment_ratio</th><th scope=col>lgpp</th><th scope=col>nrc_el</th><th scope=col>topic</th><th scope=col>Flesch</th><th scope=col>ARI</th><th scope=col>Flesch.Kincaid</th><th scope=col>Bias</th></tr>\n",
       "\t<tr><th></th><th scope=col>&lt;chr&gt;</th><th scope=col>&lt;chr&gt;</th><th scope=col>&lt;int&gt;</th><th scope=col>&lt;chr&gt;</th><th scope=col>&lt;int&gt;</th><th scope=col>&lt;int&gt;</th><th scope=col>&lt;chr&gt;</th><th scope=col>&lt;dbl&gt;</th><th scope=col>&lt;chr&gt;</th><th scope=col>&lt;chr&gt;</th><th scope=col>&lt;chr&gt;</th><th scope=col>&lt;dbl&gt;</th><th scope=col>&lt;dbl&gt;</th><th scope=col>&lt;dbl&gt;</th><th scope=col>&lt;chr&gt;</th></tr>\n",
       "</thead>\n",
       "<tbody>\n",
       "\t<tr><th scope=row>1</th><td>--2yG9pbAzE</td><td>andrew cuomo </td><td>5</td><td>2021-05-28 09:48:03</td><td> 50</td><td> 9</td><td>positive</td><td>5.555556</td><td>GROUPS </td><td>positive</td><td>diplomacy</td><td>69.72605</td><td>7.112349</td><td>8.156010</td><td>CL</td></tr>\n",
       "\t<tr><th scope=row>2</th><td>--2yG9pbAzE</td><td>andrew cuomo </td><td>5</td><td>2021-05-28 01:37:37</td><td> 50</td><td> 9</td><td>positive</td><td>5.555556</td><td>GROUPS </td><td>positive</td><td>diplomacy</td><td>69.72605</td><td>7.112349</td><td>8.156010</td><td>CL</td></tr>\n",
       "\t<tr><th scope=row>3</th><td>--5Sd_qieME</td><td> obama       </td><td>5</td><td>2021-05-15 06:03:10</td><td> NA</td><td>NA</td><td>NA      </td><td>      NA</td><td>NA     </td><td>NA      </td><td>NA       </td><td>      NA</td><td>      NA</td><td>      NA</td><td>  </td></tr>\n",
       "\t<tr><th scope=row>4</th><td>--AuxdQUdlo</td><td>welfare state</td><td>5</td><td>2021-05-05 19:32:32</td><td>107</td><td>51</td><td>positive</td><td>2.098039</td><td>ECONOMY</td><td>sadness </td><td>politics </td><td>60.90696</td><td>8.301740</td><td>8.667107</td><td>CL</td></tr>\n",
       "\t<tr><th scope=row>5</th><td>--AuxdQUdlo</td><td>NRA          </td><td>5</td><td>2021-03-21 23:05:25</td><td>107</td><td>51</td><td>positive</td><td>2.098039</td><td>ECONOMY</td><td>sadness </td><td>politics </td><td>60.90696</td><td>8.301740</td><td>8.667107</td><td>CL</td></tr>\n",
       "\t<tr><th scope=row>6</th><td>--AuxdQUdlo</td><td>trump        </td><td>5</td><td>2021-05-14 15:50:47</td><td>107</td><td>51</td><td>positive</td><td>2.098039</td><td>ECONOMY</td><td>sadness </td><td>politics </td><td>60.90696</td><td>8.301740</td><td>8.667107</td><td>CL</td></tr>\n",
       "</tbody>\n",
       "</table>\n"
      ],
      "text/latex": [
       "A data.frame: 6 × 15\n",
       "\\begin{tabular}{r|lllllllllllllll}\n",
       "  & video & keyword & current\\_depth & fetch\\_time & positive & negative & sentiment & sentiment\\_ratio & lgpp & nrc\\_el & topic & Flesch & ARI & Flesch.Kincaid & Bias\\\\\n",
       "  & <chr> & <chr> & <int> & <chr> & <int> & <int> & <chr> & <dbl> & <chr> & <chr> & <chr> & <dbl> & <dbl> & <dbl> & <chr>\\\\\n",
       "\\hline\n",
       "\t1 & --2yG9pbAzE & andrew cuomo  & 5 & 2021-05-28 09:48:03 &  50 &  9 & positive & 5.555556 & GROUPS  & positive & diplomacy & 69.72605 & 7.112349 & 8.156010 & CL\\\\\n",
       "\t2 & --2yG9pbAzE & andrew cuomo  & 5 & 2021-05-28 01:37:37 &  50 &  9 & positive & 5.555556 & GROUPS  & positive & diplomacy & 69.72605 & 7.112349 & 8.156010 & CL\\\\\n",
       "\t3 & --5Sd\\_qieME &  obama        & 5 & 2021-05-15 06:03:10 &  NA & NA & NA       &       NA & NA      & NA       & NA        &       NA &       NA &       NA &   \\\\\n",
       "\t4 & --AuxdQUdlo & welfare state & 5 & 2021-05-05 19:32:32 & 107 & 51 & positive & 2.098039 & ECONOMY & sadness  & politics  & 60.90696 & 8.301740 & 8.667107 & CL\\\\\n",
       "\t5 & --AuxdQUdlo & NRA           & 5 & 2021-03-21 23:05:25 & 107 & 51 & positive & 2.098039 & ECONOMY & sadness  & politics  & 60.90696 & 8.301740 & 8.667107 & CL\\\\\n",
       "\t6 & --AuxdQUdlo & trump         & 5 & 2021-05-14 15:50:47 & 107 & 51 & positive & 2.098039 & ECONOMY & sadness  & politics  & 60.90696 & 8.301740 & 8.667107 & CL\\\\\n",
       "\\end{tabular}\n"
      ],
      "text/markdown": [
       "\n",
       "A data.frame: 6 × 15\n",
       "\n",
       "| <!--/--> | video &lt;chr&gt; | keyword &lt;chr&gt; | current_depth &lt;int&gt; | fetch_time &lt;chr&gt; | positive &lt;int&gt; | negative &lt;int&gt; | sentiment &lt;chr&gt; | sentiment_ratio &lt;dbl&gt; | lgpp &lt;chr&gt; | nrc_el &lt;chr&gt; | topic &lt;chr&gt; | Flesch &lt;dbl&gt; | ARI &lt;dbl&gt; | Flesch.Kincaid &lt;dbl&gt; | Bias &lt;chr&gt; |\n",
       "|---|---|---|---|---|---|---|---|---|---|---|---|---|---|---|---|\n",
       "| 1 | --2yG9pbAzE | andrew cuomo  | 5 | 2021-05-28 09:48:03 |  50 |  9 | positive | 5.555556 | GROUPS  | positive | diplomacy | 69.72605 | 7.112349 | 8.156010 | CL |\n",
       "| 2 | --2yG9pbAzE | andrew cuomo  | 5 | 2021-05-28 01:37:37 |  50 |  9 | positive | 5.555556 | GROUPS  | positive | diplomacy | 69.72605 | 7.112349 | 8.156010 | CL |\n",
       "| 3 | --5Sd_qieME |  obama        | 5 | 2021-05-15 06:03:10 |  NA | NA | NA       |       NA | NA      | NA       | NA        |       NA |       NA |       NA | <!----> |\n",
       "| 4 | --AuxdQUdlo | welfare state | 5 | 2021-05-05 19:32:32 | 107 | 51 | positive | 2.098039 | ECONOMY | sadness  | politics  | 60.90696 | 8.301740 | 8.667107 | CL |\n",
       "| 5 | --AuxdQUdlo | NRA           | 5 | 2021-03-21 23:05:25 | 107 | 51 | positive | 2.098039 | ECONOMY | sadness  | politics  | 60.90696 | 8.301740 | 8.667107 | CL |\n",
       "| 6 | --AuxdQUdlo | trump         | 5 | 2021-05-14 15:50:47 | 107 | 51 | positive | 2.098039 | ECONOMY | sadness  | politics  | 60.90696 | 8.301740 | 8.667107 | CL |\n",
       "\n"
      ],
      "text/plain": [
       "  video       keyword       current_depth fetch_time          positive negative\n",
       "1 --2yG9pbAzE andrew cuomo  5             2021-05-28 09:48:03  50       9      \n",
       "2 --2yG9pbAzE andrew cuomo  5             2021-05-28 01:37:37  50       9      \n",
       "3 --5Sd_qieME  obama        5             2021-05-15 06:03:10  NA      NA      \n",
       "4 --AuxdQUdlo welfare state 5             2021-05-05 19:32:32 107      51      \n",
       "5 --AuxdQUdlo NRA           5             2021-03-21 23:05:25 107      51      \n",
       "6 --AuxdQUdlo trump         5             2021-05-14 15:50:47 107      51      \n",
       "  sentiment sentiment_ratio lgpp    nrc_el   topic     Flesch   ARI     \n",
       "1 positive  5.555556        GROUPS  positive diplomacy 69.72605 7.112349\n",
       "2 positive  5.555556        GROUPS  positive diplomacy 69.72605 7.112349\n",
       "3 NA              NA        NA      NA       NA              NA       NA\n",
       "4 positive  2.098039        ECONOMY sadness  politics  60.90696 8.301740\n",
       "5 positive  2.098039        ECONOMY sadness  politics  60.90696 8.301740\n",
       "6 positive  2.098039        ECONOMY sadness  politics  60.90696 8.301740\n",
       "  Flesch.Kincaid Bias\n",
       "1 8.156010       CL  \n",
       "2 8.156010       CL  \n",
       "3       NA           \n",
       "4 8.667107       CL  \n",
       "5 8.667107       CL  \n",
       "6 8.667107       CL  "
      ]
     },
     "metadata": {},
     "output_type": "display_data"
    }
   ],
   "source": [
    "head(total)"
   ]
  },
  {
   "cell_type": "markdown",
   "id": "cf0131cb-6787-41f4-8d18-07c6e5ede227",
   "metadata": {},
   "source": [
    "# By Bias Seed"
   ]
  },
  {
   "cell_type": "code",
   "execution_count": 60,
   "id": "1a3ac3a2-3e39-4050-a90c-fb3ffaf2d0be",
   "metadata": {},
   "outputs": [],
   "source": [
    "getChildren <- function(video) {\n",
    "    #print(video)\n",
    "    children <- df_keyword_plot[0,]\n",
    "    next_depth <- as.numeric(video[3]) + 1\n",
    "    \n",
    "    if (next_depth < 6) {\n",
    "        videoId <- video[1]\n",
    "        key <- video[2]\n",
    "        fetched <- video[4]\n",
    "        children <- total %>%\n",
    "          dplyr::filter(current_depth==next_depth) %>%\n",
    "          dplyr::filter(parent_video==videoId) %>%\n",
    "          dplyr::filter(keyword==key) %>%\n",
    "          dplyr::filter(fetch_time > fetched) %>%\n",
    "          dplyr::arrange(fetch_time) %>%\n",
    "          dplyr::slice_min(fetch_time, n=5)\n",
    "\n",
    "        children <- rbind(children, do.call('rbind', apply(children, 1, getChildren)))\n",
    "    }\n",
    "    return(children)\n",
    "}"
   ]
  },
  {
   "cell_type": "code",
   "execution_count": 165,
   "id": "e3628e19-1680-40c8-a1bf-cb32d4c7fbc0",
   "metadata": {},
   "outputs": [
    {
     "name": "stderr",
     "output_type": "stream",
     "text": [
      "Saving 7 x 3 in image\n",
      "\n"
     ]
    },
    {
     "data": {
      "text/plain": [
       "          0  1   2    3    4     5      Total  \n",
       "negative      3   23   71   369   1797   2263  \n",
       "neutral   4  16  100  485  2220  10647  13472  \n",
       "positive  3  13   42  239  1293   6861   8451  \n",
       "Total     7  32  165  795  3882  19305  24186  "
      ]
     },
     "metadata": {},
     "output_type": "display_data"
    },
    {
     "name": "stderr",
     "output_type": "stream",
     "text": [
      "Saving 7 x 3 in image\n",
      "\n"
     ]
    },
    {
     "data": {
      "text/plain": [
       "          0  1   2    3    4     5      Total  \n",
       "negative  2  15   75  288  1381   6821   8582  \n",
       "positive  5  17   90  507  2501  12484  15604  \n",
       "NA            3    9   64   368   1894   2338  \n",
       "Total     7  35  174  859  4250  21199  26524  "
      ]
     },
     "metadata": {},
     "output_type": "display_data"
    },
    {
     "name": "stderr",
     "output_type": "stream",
     "text": [
      "Saving 7 x 7 in image\n",
      "\n"
     ]
    },
    {
     "data": {
      "text/plain": [
       "       0  1   2    3    4     5      Total  \n",
       "                9   84   522   3477   4092  \n",
       "C          1   12   81   434   2093   2621  \n",
       "CL         1    5   28   198   1173   1405  \n",
       "CR         2   18  137   757   3836   4750  \n",
       "L          1    3   15    81    407    507  \n",
       "R      7  30  127  514  2258  10213  13149  \n",
       "Total  7  35  174  859  4250  21199  26524  "
      ]
     },
     "metadata": {},
     "output_type": "display_data"
    },
    {
     "name": "stderr",
     "output_type": "stream",
     "text": [
      "Saving 7 x 7 in image\n",
      "\n"
     ]
    },
    {
     "data": {
      "text/plain": [
       "               0  1   2    3    4     5      Total  \n",
       "CULTURE            1   13   51   283   1493   1841  \n",
       "ECONOMY        1   1   17   59   346   1693   2117  \n",
       "ENVIRONMENT        1    4   19   111    616    751  \n",
       "GROUPS             4   12   61   332   1935   2344  \n",
       "INSTITUTIONS   5  16   68  317  1526   6971   8903  \n",
       "LAW_AND_ORDER  1   9   41  255  1063   5251   6620  \n",
       "RURAL                   4   15   124    756    899  \n",
       "URBAN                   1    4    27    163    195  \n",
       "VALUES                  5   12    57    363    437  \n",
       "NA                 3    9   66   381   1958   2417  \n",
       "Total          7  35  174  859  4250  21199  26524  "
      ]
     },
     "metadata": {},
     "output_type": "display_data"
    },
    {
     "name": "stderr",
     "output_type": "stream",
     "text": [
      "Saving 7 x 7 in image\n",
      "\n"
     ]
    },
    {
     "data": {
      "text/plain": [
       "              0  1   2    3    4     5      Total  \n",
       "anger         1   1    8   33   174    834   1051  \n",
       "anticipation      1    9   25   154    851   1040  \n",
       "disgust                5   10    82    395    492  \n",
       "fear                   3   15    93    543    654  \n",
       "joy               1    1   14   119    788    923  \n",
       "negative      1  10   29  142   604   3004   3790  \n",
       "positive          1    3   12   109    478    603  \n",
       "sadness           3   21   70   336   1529   1959  \n",
       "surprise               3   35   178   1157   1373  \n",
       "trust         5  15   83  437  2020   9662  12222  \n",
       "NA                3    9   66   381   1958   2417  \n",
       "Total         7  35  174  859  4250  21199  26524  "
      ]
     },
     "metadata": {},
     "output_type": "display_data"
    },
    {
     "name": "stderr",
     "output_type": "stream",
     "text": [
      "Saving 7 x 7 in image\n",
      "\n"
     ]
    },
    {
     "data": {
      "text/plain": [
       "           0  1   2    3    4     5      Total  \n",
       "diplomacy      3   24   84   469   2544   3124  \n",
       "economy    2  10   46  295  1327   6766   8446  \n",
       "military       1   14   43   274   1434   1766  \n",
       "politics   5  14   69  313  1526   7059   8986  \n",
       "society        4   12   58   273   1438   1785  \n",
       "NA             3    9   66   381   1958   2417  \n",
       "Total      7  35  174  859  4250  21199  26524  "
      ]
     },
     "metadata": {},
     "output_type": "display_data"
    }
   ],
   "source": [
    "bias1 <- 'R'\n",
    "bias2 <- 'R'\n",
    "keyword_prefix <- 'Right'\n",
    "\n",
    "df_keyword_plot <- total %>%\n",
    "  dplyr::filter(current_depth==0) %>%\n",
    "  dplyr::filter(Bias==bias1 | Bias==bias2)\n",
    "\n",
    "df_keyword_plot <- rbind(df_keyword_plot, do.call('rbind', apply(df_keyword_plot, 1, getChildren)))\n",
    "\n",
    "plotSentimentRatio(df_keyword_plot, keyword_prefix, 0)\n",
    "plotSentiment(df_keyword_plot, keyword_prefix, 0)\n",
    "plotBias(df_keyword_plot, keyword_prefix, 0)\n",
    "plotLaverGarry(df_keyword_plot, keyword_prefix, 0)\n",
    "plotNRC_el(df_keyword_plot, keyword_prefix, 0)\n",
    "plotTopic(df_keyword_plot, keyword_prefix, 0)"
   ]
  },
  {
   "cell_type": "code",
   "execution_count": 166,
   "id": "66f62c49-c788-4572-a9e9-59622d6d02fc",
   "metadata": {},
   "outputs": [
    {
     "name": "stderr",
     "output_type": "stream",
     "text": [
      "Saving 7 x 3 in image\n",
      "\n"
     ]
    },
    {
     "data": {
      "text/plain": [
       "          0   1   2    3     4     5      Total  \n",
       "negative   1   6   40   142   726   3386   4301  \n",
       "neutral    6  41  205   959  4433  21419  27063  \n",
       "positive   9  25  109   607  3215  16863  20828  \n",
       "Total     16  72  354  1708  8374  41668  52192  "
      ]
     },
     "metadata": {},
     "output_type": "display_data"
    },
    {
     "name": "stderr",
     "output_type": "stream",
     "text": [
      "Saving 7 x 3 in image\n",
      "\n"
     ]
    },
    {
     "data": {
      "text/plain": [
       "          0   1   2    3     4     5      Total  \n",
       "negative   5  29  129   543  2584  12557  15847  \n",
       "positive  11  43  225  1165  5790  29111  36345  \n",
       "NA         1   9   42   244  1248   6218   7762  \n",
       "Total     17  81  396  1952  9622  47886  59954  "
      ]
     },
     "metadata": {},
     "output_type": "display_data"
    },
    {
     "name": "stderr",
     "output_type": "stream",
     "text": [
      "Saving 7 x 7 in image\n",
      "\n"
     ]
    },
    {
     "data": {
      "text/plain": [
       "       0   1   2    3     4     5      Total  \n",
       "            3   46   337  2022  12364  14772  \n",
       "C           2   19   120   623   3068   3832  \n",
       "CL          1   11    86   564   3313   3975  \n",
       "CR     10  32  118   526  2298  10133  13117  \n",
       "L           2   11    57   304   1428   1802  \n",
       "R       7  41  191   826  3811  17580  22456  \n",
       "Total  17  81  396  1952  9622  47886  59954  "
      ]
     },
     "metadata": {},
     "output_type": "display_data"
    },
    {
     "name": "stderr",
     "output_type": "stream",
     "text": [
      "Saving 7 x 7 in image\n",
      "\n"
     ]
    },
    {
     "data": {
      "text/plain": [
       "               0   1   2    3     4     5      Total  \n",
       "CULTURE             2   18    74   486   2713   3293  \n",
       "ECONOMY         1   7   42   137   756   3542   4485  \n",
       "ENVIRONMENT         2    9    47   274   1481   1813  \n",
       "GROUPS              4   24   138   793   4507   5466  \n",
       "INSTITUTIONS   13  39  152   707  3158  14576  18645  \n",
       "LAW_AND_ORDER   1  15   84   473  2120  10242  12935  \n",
       "RURAL                    6    40   318   1976   2340  \n",
       "URBAN                    4    17    93    602    716  \n",
       "VALUES          1   3   15    71   361   1946   2397  \n",
       "NA              1   9   42   248  1263   6301   7864  \n",
       "Total          17  81  396  1952  9622  47886  59954  "
      ]
     },
     "metadata": {},
     "output_type": "display_data"
    },
    {
     "name": "stderr",
     "output_type": "stream",
     "text": [
      "Saving 7 x 7 in image\n",
      "\n"
     ]
    },
    {
     "data": {
      "text/plain": [
       "              0   1   2    3     4     5      Total  \n",
       "anger          1   1   10    59   274   1377   1722  \n",
       "anticipation       3   15    53   319   1679   2069  \n",
       "disgust                 7    30   213   1176   1426  \n",
       "fear                    6    37   234   1435   1712  \n",
       "joy                1    9    62   456   2717   3245  \n",
       "negative       1  11   39   203   938   4662   5854  \n",
       "positive       1   3   10    61   392   2001   2468  \n",
       "sadness        1   9   42   158   765   3552   4527  \n",
       "surprise                7    65   418   2716   3206  \n",
       "trust         12  44  209   976  4350  20270  25861  \n",
       "NA             1   9   42   248  1263   6301   7864  \n",
       "Total         17  81  396  1952  9622  47886  59954  "
      ]
     },
     "metadata": {},
     "output_type": "display_data"
    },
    {
     "name": "stderr",
     "output_type": "stream",
     "text": [
      "Saving 7 x 7 in image\n",
      "\n"
     ]
    },
    {
     "data": {
      "text/plain": [
       "           0   1   2    3     4     5      Total  \n",
       "diplomacy       4   37   165   959   5355   6520  \n",
       "economy     4  23  114   615  2898  14430  18084  \n",
       "military    1   3   28   123   747   3917   4819  \n",
       "politics   11  37  154   684  3198  14857  18941  \n",
       "society         5   21   117   557   3026   3726  \n",
       "NA          1   9   42   248  1263   6301   7864  \n",
       "Total      17  81  396  1952  9622  47886  59954  "
      ]
     },
     "metadata": {},
     "output_type": "display_data"
    }
   ],
   "source": [
    "bias1 <- 'R'\n",
    "bias2 <- 'CR'\n",
    "keyword_prefix <- 'Right-Center-Right'\n",
    "\n",
    "df_keyword_plot <- total %>%\n",
    "  dplyr::filter(current_depth==0) %>%\n",
    "  dplyr::filter(Bias==bias1 | Bias==bias2)\n",
    "\n",
    "df_keyword_plot <- rbind(df_keyword_plot, do.call('rbind', apply(df_keyword_plot, 1, getChildren)))\n",
    "\n",
    "plotSentimentRatio(df_keyword_plot, keyword_prefix, 0)\n",
    "plotSentiment(df_keyword_plot, keyword_prefix, 0)\n",
    "plotBias(df_keyword_plot, keyword_prefix, 0)\n",
    "plotLaverGarry(df_keyword_plot, keyword_prefix, 0)\n",
    "plotNRC_el(df_keyword_plot, keyword_prefix, 0)\n",
    "plotTopic(df_keyword_plot, keyword_prefix, 0)"
   ]
  },
  {
   "cell_type": "code",
   "execution_count": 167,
   "id": "b4cab911-6ee0-4756-a12f-0f03b14658f2",
   "metadata": {},
   "outputs": [
    {
     "name": "stderr",
     "output_type": "stream",
     "text": [
      "Saving 7 x 3 in image\n",
      "\n"
     ]
    },
    {
     "data": {
      "text/plain": [
       "          0   1   2    3     4     5      Total  \n",
       "negative   4   3   17    96   452   2023   2595  \n",
       "neutral    2  26  131   625  2910  14027  17721  \n",
       "positive   4  22  111   539  2809  14360  17845  \n",
       "Total     10  51  259  1260  6171  30410  38161  "
      ]
     },
     "metadata": {},
     "output_type": "display_data"
    },
    {
     "name": "stderr",
     "output_type": "stream",
     "text": [
      "Saving 7 x 3 in image\n",
      "\n"
     ]
    },
    {
     "data": {
      "text/plain": [
       "          0   1   2    3     4     5      Total  \n",
       "negative   5  13   70   348  1567   7586   9589  \n",
       "positive   5  38  189   912  4604  22824  28572  \n",
       "NA         2   9   40   218  1135   5998   7402  \n",
       "Total     12  60  299  1478  7306  36408  45563  "
      ]
     },
     "metadata": {},
     "output_type": "display_data"
    },
    {
     "name": "stderr",
     "output_type": "stream",
     "text": [
      "Saving 7 x 7 in image\n",
      "\n"
     ]
    },
    {
     "data": {
      "text/plain": [
       "       0   1   2    3     4     5      Total  \n",
       "            4   39   239  1345   7786   9413  \n",
       "C                4    28   138    786    956  \n",
       "CL         14   70   361  1906   9637  11988  \n",
       "CR          2   12    63   322   1653   2052  \n",
       "L      12  39  166   731  3244  14627  18819  \n",
       "R           1    8    56   351   1919   2335  \n",
       "Total  12  60  299  1478  7306  36408  45563  "
      ]
     },
     "metadata": {},
     "output_type": "display_data"
    },
    {
     "name": "stderr",
     "output_type": "stream",
     "text": [
      "Saving 7 x 7 in image\n",
      "\n"
     ]
    },
    {
     "data": {
      "text/plain": [
       "               0   1   2    3     4     5      Total  \n",
       "CULTURE         1   3    8    63   349   2040   2464  \n",
       "ECONOMY             1   13    68   373   1964   2419  \n",
       "ENVIRONMENT              2    19   136    887   1044  \n",
       "GROUPS          2   5   53   266  1462   7544   9332  \n",
       "INSTITUTIONS    7  39  169   749  3332  14976  19272  \n",
       "LAW_AND_ORDER            1     6    70    385    462  \n",
       "RURAL               2    7    37   187   1027   1260  \n",
       "URBAN                          3    17    123    143  \n",
       "VALUES              1    6    48   244   1455   1754  \n",
       "NA              2   9   40   219  1136   6007   7413  \n",
       "Total          12  60  299  1478  7306  36408  45563  "
      ]
     },
     "metadata": {},
     "output_type": "display_data"
    },
    {
     "name": "stderr",
     "output_type": "stream",
     "text": [
      "Saving 7 x 7 in image\n",
      "\n"
     ]
    },
    {
     "data": {
      "text/plain": [
       "              0   1   2    3     4     5      Total  \n",
       "anger                   2     4    33    166    205  \n",
       "anticipation   1   1    3    19   100    632    756  \n",
       "disgust        1   2    8    31   163    856   1061  \n",
       "fear                    2    11    80    411    504  \n",
       "joy            1   7   52   294  1606   8379  10339  \n",
       "negative                3    32   213   1308   1556  \n",
       "positive           1    4    35   155    924   1119  \n",
       "sadness            2   18    81   446   2213   2760  \n",
       "surprise           1    2    21   111    751    886  \n",
       "trust          7  37  165   731  3263  14761  18964  \n",
       "NA             2   9   40   219  1136   6007   7413  \n",
       "Total         12  60  299  1478  7306  36408  45563  "
      ]
     },
     "metadata": {},
     "output_type": "display_data"
    },
    {
     "name": "stderr",
     "output_type": "stream",
     "text": [
      "Saving 7 x 7 in image\n",
      "\n"
     ]
    },
    {
     "data": {
      "text/plain": [
       "           0   1   2    3     4     5      Total  \n",
       "diplomacy   2   8   59   322  1709   8849  10949  \n",
       "economy     1   2   12    56   356   2040   2467  \n",
       "military        2   13    74   379   2003   2471  \n",
       "politics    7  39  173   779  3520  16196  20714  \n",
       "society              2    28   206   1313   1549  \n",
       "NA          2   9   40   219  1136   6007   7413  \n",
       "Total      12  60  299  1478  7306  36408  45563  "
      ]
     },
     "metadata": {},
     "output_type": "display_data"
    }
   ],
   "source": [
    "bias1 <- 'L'\n",
    "bias2 <- 'L'\n",
    "keyword_prefix <- 'Left'\n",
    "\n",
    "df_keyword_plot <- total %>%\n",
    "  dplyr::filter(current_depth==0) %>%\n",
    "  dplyr::filter(Bias==bias1 | Bias==bias2)\n",
    "\n",
    "df_keyword_plot <- rbind(df_keyword_plot, do.call('rbind', apply(df_keyword_plot, 1, getChildren)))\n",
    "\n",
    "plotSentimentRatio(df_keyword_plot, keyword_prefix, 0)\n",
    "plotSentiment(df_keyword_plot, keyword_prefix, 0)\n",
    "plotBias(df_keyword_plot, keyword_prefix, 0)\n",
    "plotLaverGarry(df_keyword_plot, keyword_prefix, 0)\n",
    "plotNRC_el(df_keyword_plot, keyword_prefix, 0)\n",
    "plotTopic(df_keyword_plot, keyword_prefix, 0)"
   ]
  },
  {
   "cell_type": "code",
   "execution_count": null,
   "id": "f0e52908-0b2e-49ad-a707-8231758cc6e7",
   "metadata": {},
   "outputs": [],
   "source": [
    "bias1 <- 'L'\n",
    "bias2 <- 'CL'\n",
    "keyword_prefix <- 'Left-Center-Left'\n",
    "\n",
    "df_keyword_plot <- total %>%\n",
    "  dplyr::filter(current_depth==0) %>%\n",
    "  dplyr::filter(Bias==bias1 | Bias==bias2)\n",
    "\n",
    "df_keyword_plot <- rbind(df_keyword_plot, do.call('rbind', apply(df_keyword_plot, 1, getChildren)))\n",
    "\n",
    "plotSentimentRatio(df_keyword_plot, keyword_prefix, 0)\n",
    "plotSentiment(df_keyword_plot, keyword_prefix, 0)\n",
    "plotBias(df_keyword_plot, keyword_prefix, 0)\n",
    "plotLaverGarry(df_keyword_plot, keyword_prefix, 0)\n",
    "plotNRC_el(df_keyword_plot, keyword_prefix, 0)\n",
    "plotTopic(df_keyword_plot, keyword_prefix, 0)"
   ]
  },
  {
   "cell_type": "code",
   "execution_count": null,
   "id": "20d6bcb7-732d-41c2-8872-e531e0476dc0",
   "metadata": {},
   "outputs": [],
   "source": [
    "bias1 <- 'C'\n",
    "bias2 <- 'C'\n",
    "keyword_prefix <- 'Center'\n",
    "\n",
    "df_keyword_plot <- total %>%\n",
    "  dplyr::filter(current_depth==0) %>%\n",
    "  dplyr::filter(Bias==bias1 | Bias==bias2)\n",
    "\n",
    "df_keyword_plot <- rbind(df_keyword_plot, do.call('rbind', apply(df_keyword_plot, 1, getChildren)))\n",
    "\n",
    "plotSentimentRatio(df_keyword_plot, keyword_prefix, 0)\n",
    "plotSentiment(df_keyword_plot, keyword_prefix, 0)\n",
    "plotBias(df_keyword_plot, keyword_prefix, 0)\n",
    "plotLaverGarry(df_keyword_plot, keyword_prefix, 0)\n",
    "plotNRC_el(df_keyword_plot, keyword_prefix, 0)\n",
    "plotTopic(df_keyword_plot, keyword_prefix, 0)"
   ]
  },
  {
   "cell_type": "code",
   "execution_count": 82,
   "id": "0e205e33-bdb7-49ae-9874-336cd53f50d3",
   "metadata": {},
   "outputs": [],
   "source": [
    "keywords <- c('feminism',\n",
    "'Border',\n",
    "'NRA',\n",
    "'Gun Control',\n",
    "' free speech',\n",
    "'climate change',\n",
    "'cultural appropriation',\n",
    "'welfare state',\n",
    "'immigration',\n",
    "' vaccine',\n",
    "' moderna',\n",
    "'planned parenthood')\n",
    "\n",
    "keyword_prefix <- 'Topics'\n",
    "\n",
    "df_keyword_plot <- filter(total, keyword %in% keywords)"
   ]
  },
  {
   "cell_type": "code",
   "execution_count": 84,
   "id": "56570c05-6d2b-43b9-85ee-93e38d52a2b6",
   "metadata": {},
   "outputs": [
    {
     "name": "stderr",
     "output_type": "stream",
     "text": [
      "Saving 7 x 3 in image\n",
      "\n"
     ]
    },
    {
     "data": {
      "text/plain": [
       "          0   1    2     3     4      5       Total   \n",
       "negative   2   13    82   332   1508    7239    9176  \n",
       "neutral   26  101   464  2073   9860   48005   60529  \n",
       "positive  25  105   522  2653  12841   64713   80859  \n",
       "Total     53  219  1068  5058  24209  119957  150564  "
      ]
     },
     "metadata": {},
     "output_type": "display_data"
    },
    {
     "name": "stderr",
     "output_type": "stream",
     "text": [
      "Saving 7 x 3 in image\n",
      "\n"
     ]
    },
    {
     "data": {
      "text/plain": [
       "          0   1    2     3     4      5       Total   \n",
       "negative   4   45   255  1055   4953   23955   30267  \n",
       "positive  49  174   813  4003  19256   96002  120297  \n",
       "NA         5   56   242  1200   5791   30088   37382  \n",
       "Total     58  275  1310  6258  30000  150045  187946  "
      ]
     },
     "metadata": {},
     "output_type": "display_data"
    },
    {
     "name": "stderr",
     "output_type": "stream",
     "text": [
      "Saving 7 x 7 in image\n",
      "\n"
     ]
    },
    {
     "data": {
      "text/plain": [
       "       0   1    2     3     4      5       Total   \n",
       "       26  114   576  2805  13641   71462   88624  \n",
       "C       5   35   183   945   4695   23258   29121  \n",
       "CL     22   86   359  1606   7383   34936   44392  \n",
       "CR      2    9    40   168    764    3295    4278  \n",
       "L       1   15    75   363   1818    9262   11534  \n",
       "R       2   16    77   371   1699    7832    9997  \n",
       "Total  58  275  1310  6258  30000  150045  187946  "
      ]
     },
     "metadata": {},
     "output_type": "display_data"
    },
    {
     "name": "stderr",
     "output_type": "stream",
     "text": [
      "Saving 7 x 7 in image\n",
      "\n"
     ]
    },
    {
     "data": {
      "text/plain": [
       "               0   1    2     3     4      5       Total   \n",
       "CULTURE              8    51   255   1370    7476    9160  \n",
       "ECONOMY         8   36   172   829   3733   17509   22287  \n",
       "ENVIRONMENT     3   13    70   405   2108   10909   13508  \n",
       "GROUPS          2   37   211  1051   5068   25623   31992  \n",
       "INSTITUTIONS   24   65   255  1099   5033   23046   29522  \n",
       "LAW_AND_ORDER        8    60   300   1404    7432    9204  \n",
       "RURAL           2    4    49   197   1098    5994    7344  \n",
       "URBAN                1     8    29    163     954    1155  \n",
       "VALUES         14   47   192   885   4195   20818   26151  \n",
       "NA              5   56   242  1208   5828   30284   37623  \n",
       "Total          58  275  1310  6258  30000  150045  187946  "
      ]
     },
     "metadata": {},
     "output_type": "display_data"
    },
    {
     "name": "stderr",
     "output_type": "stream",
     "text": [
      "Saving 7 x 7 in image\n",
      "\n"
     ]
    },
    {
     "data": {
      "text/plain": [
       "              0   1    2     3     4      5       Total   \n",
       "anger               3     9    45    215    1201    1473  \n",
       "anticipation        4    32   162    946    5261    6405  \n",
       "disgust        1    3    44   196   1166    6197    7607  \n",
       "fear           1   10    59   295   1505    7895    9765  \n",
       "joy            4   29   171   915   4480   23347   28946  \n",
       "negative       5   31   124   580   2808   13803   17351  \n",
       "positive       9   36   162   785   3664   18549   23205  \n",
       "sadness       10   39   181   815   3552   16088   20685  \n",
       "surprise       1   10    55   260   1272    6587    8185  \n",
       "trust         22   54   231   997   4564   20833   26701  \n",
       "NA             5   56   242  1208   5828   30284   37623  \n",
       "Total         58  275  1310  6258  30000  150045  187946  "
      ]
     },
     "metadata": {},
     "output_type": "display_data"
    },
    {
     "name": "stderr",
     "output_type": "stream",
     "text": [
      "Saving 7 x 7 in image\n",
      "\n"
     ]
    },
    {
     "data": {
      "text/plain": [
       "           0   1    2     3     4      5       Total   \n",
       "diplomacy   1   35   194   966   4750   24340   30286  \n",
       "economy     3   17   118   569   2872   15263   18842  \n",
       "military   11   43   208   912   4247   21057   26478  \n",
       "politics   34  105   409  1857   8398   38652   49455  \n",
       "society     4   19   139   746   3905   20449   25262  \n",
       "NA          5   56   242  1208   5828   30284   37623  \n",
       "Total      58  275  1310  6258  30000  150045  187946  "
      ]
     },
     "metadata": {},
     "output_type": "display_data"
    }
   ],
   "source": [
    "plotSentimentRatio(df_keyword_plot, keyword_prefix, 0)\n",
    "plotSentiment(df_keyword_plot, keyword_prefix, 0)\n",
    "plotBias(df_keyword_plot, keyword_prefix, 0)\n",
    "plotLaverGarry(df_keyword_plot, keyword_prefix, 0)\n",
    "plotNRC_el(df_keyword_plot, keyword_prefix, 0)\n",
    "plotTopic(df_keyword_plot, keyword_prefix, 0)"
   ]
  },
  {
   "cell_type": "code",
   "execution_count": 1,
   "id": "9f0c5c98-79da-41b8-9d10-a400c4e6fcac",
   "metadata": {},
   "outputs": [
    {
     "ename": "ERROR",
     "evalue": "Error in parse(text = x, srcfile = src): <text>:7:1: unexpected string constant\n6: 'Mitch McConnell'\n7: 'Nancy Pelosi'\n   ^\n",
     "output_type": "error",
     "traceback": [
      "Error in parse(text = x, srcfile = src): <text>:7:1: unexpected string constant\n6: 'Mitch McConnell'\n7: 'Nancy Pelosi'\n   ^\nTraceback:\n"
     ]
    }
   ],
   "source": [
    "keywords <- c('andrew cuomo',\n",
    "'AOC',\n",
    "'biden',\n",
    "'clinton',\n",
    "'Lindsey Graham',\n",
    "'Mitch McConnell',\n",
    "'Nancy Pelosi',\n",
    "'Newt Gingrich',\n",
    "'obama',\n",
    "'Ted Cruz',\n",
    "'trump')\n",
    "\n",
    "keyword_prefix <- 'People'\n",
    "\n",
    "df_keyword_plot <- filter(total, keyword %in% keywords)\n",
    "\n",
    "plotSentimentRatio(df_keyword_plot, keyword_prefix, 0)\n",
    "plotSentiment(df_keyword_plot, keyword_prefix, 0)\n",
    "plotBias(df_keyword_plot, keyword_prefix, 0)\n",
    "plotLaverGarry(df_keyword_plot, keyword_prefix, 0)\n",
    "plotNRC_el(df_keyword_plot, keyword_prefix, 0)\n",
    "plotTopic(df_keyword_plot, keyword_prefix, 0)"
   ]
  },
  {
   "cell_type": "code",
   "execution_count": null,
   "id": "063dece7-8178-4378-a8bf-63dad066b196",
   "metadata": {},
   "outputs": [],
   "source": [
    "plotSentimentRatio(df_keyword_plot, keyword_prefix, 0)\n",
    "plotSentiment(df_keyword_plot, keyword_prefix, 0)\n",
    "plotBias(df_keyword_plot, keyword_prefix, 0)\n",
    "plotLaverGarry(df_keyword_plot, keyword_prefix, 0)\n",
    "plotNRC_el(df_keyword_plot, keyword_prefix, 0)\n",
    "plotTopic(df_keyword_plot, keyword_prefix, 0)"
   ]
  }
 ],
 "metadata": {
  "kernelspec": {
   "display_name": "R",
   "language": "R",
   "name": "ir"
  },
  "language_info": {
   "codemirror_mode": "r",
   "file_extension": ".r",
   "mimetype": "text/x-r-source",
   "name": "R",
   "pygments_lexer": "r",
   "version": "4.0.5"
  }
 },
 "nbformat": 4,
 "nbformat_minor": 5
}
