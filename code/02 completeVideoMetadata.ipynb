{
 "cells": [
  {
   "cell_type": "code",
   "execution_count": 2,
   "metadata": {},
   "outputs": [],
   "source": [
    "#pip install youtube-search-python"
   ]
  },
  {
   "cell_type": "code",
   "execution_count": 2,
   "metadata": {},
   "outputs": [],
   "source": [
    "#from youtubesearchpython.__future__ import VideosSearch\n",
    "from youtubesearchpython import VideosSearch\n",
    "import pandas as pd\n",
    "from os import listdir\n",
    "from os import remove\n",
    "import csv\n",
    "import time\n",
    "import asyncio"
   ]
  },
  {
   "cell_type": "code",
   "execution_count": 3,
   "metadata": {},
   "outputs": [],
   "source": [
    "def getMetadata(video, file_name):\n",
    "    videosSearch = VideosSearch(video, limit = 1)\n",
    "    videosResult = videosSearch.result()\n",
    "    if videosResult and \"result\" in videosResult and len(videosResult[\"result\"]) > 0:\n",
    "        title = videosResult['result'][0]['title']\n",
    "        duration = videosResult['result'][0]['duration']\n",
    "\n",
    "        view_count_txt = videosResult['result'][0]['viewCount']['text']\n",
    "        view_count = 0\n",
    "        if view_count_txt and (view_count_txt.isnumeric()) == True:\n",
    "            view_count = int(view_count_txt.replace(\",\", \"\").split()[0])\n",
    "\n",
    "        width = 0\n",
    "        height = 0\n",
    "\n",
    "        description_snippet_txt = videosResult['result'][0]['descriptionSnippet']\n",
    "        description_snippet = \"\"\n",
    "        if description_snippet_txt:\n",
    "            description_snippet = description_snippet_txt[0]['text']\n",
    "\n",
    "        channel_id = videosResult['result'][0]['channel']['id']\n",
    "        channel_title = videosResult['result'][0]['channel']['name']\n",
    "        \n",
    "        published_time_txt = videosResult['result'][0]['publishedTime']\n",
    "        published_time = \"\"\n",
    "        if published_time_txt:\n",
    "            published_time = published_time_txt\n",
    "        \n",
    "        status = \"Success\"\n",
    "\n",
    "        with open(file_name, mode='a') as out_file:\n",
    "            result_writer = csv.writer(out_file, delimiter=',', quotechar='\"', quoting=csv.QUOTE_MINIMAL)\n",
    "            result_writer.writerow([video, title, duration, view_count, width, height, description_snippet, channel_id, channel_title, published_time, status])"
   ]
  },
  {
   "cell_type": "code",
   "execution_count": 33,
   "metadata": {},
   "outputs": [
    {
     "name": "stdout",
     "output_type": "stream",
     "text": [
      "New videos: 288\n",
      "0\n"
     ]
    }
   ],
   "source": [
    "# Create output file with header\n",
    "date = time.strftime('%Y-%m-%d_%H:%M:%S')\n",
    "file_name = \"processed/unique_videos_metadata\" + date + \".csv\"\n",
    "\n",
    "# Get videos\n",
    "pd.set_option('display.max_rows', None)\n",
    "filepaths = [\"results/\" + f for f in listdir(\"results/\") if f.endswith(\".csv\")]\n",
    "df_videos = pd.concat(map(pd.read_csv, filepaths))\n",
    "\n",
    "# Create dataframe with unique videos\n",
    "df_unique_videos = df_videos.drop_duplicates(subset = [\"video\"])\n",
    "\n",
    "df_new_unique_videos = df_unique_videos.copy()\n",
    "\n",
    "# Get already processed videos\n",
    "filepaths = [\"processed/\" + f for f in listdir(\"processed/\") if f.startswith(\"unique_videos_metadata\")]\n",
    "if filepaths:\n",
    "    df_processed = pd.concat(map(pd.read_csv, filepaths))\n",
    "    #df_processed = df_processed.drop_duplicates()\n",
    "    df_processed.to_csv(file_name, index=False)\n",
    "    for f in filepaths:\n",
    "        remove(f)\n",
    "    \n",
    "    # Remove previously processed videos\n",
    "    if len(df_processed) > 0:\n",
    "        df_processed = df_processed[[\"video\"]]\n",
    "        #cond = df_new_unique_videos[\"video\"].isin(df_processed[\"video\"])\n",
    "        #df_new_unique_videos.drop(df_new_unique_videos[cond].index, inplace = True)\n",
    "        df_new_unique_videos = pd.merge(df_new_unique_videos,df_processed, indicator=True, how='outer').query('_merge==\"left_only\"').drop('_merge', axis=1)\n",
    "else:\n",
    "    with open(file_name, mode='a') as out_file:\n",
    "        result_writer = csv.writer(out_file, delimiter=',', quotechar='\"', quoting=csv.QUOTE_MINIMAL)\n",
    "        result_writer.writerow([\"video\", \"title\", \"duration\", \"view_count\", \"width\", \"height\", \"description_snippet\", \"channel_id\", \"channel_title\", \"published_time\", \"status\"])\n",
    "\n",
    "#df_new_unique_videos = df_new_unique_videos[:50]\n",
    "\n",
    "print(\"New videos:\", len(df_new_unique_videos))\n",
    "\n",
    "i = 0\n",
    "for index, row in df_new_unique_videos.iterrows():\n",
    "    getMetadata(row[\"video\"], file_name)\n",
    "    if i % 500 == 0: \n",
    "        print(i)\n",
    "    i += 1"
   ]
  },
  {
   "cell_type": "code",
   "execution_count": 34,
   "metadata": {},
   "outputs": [
    {
     "name": "stdout",
     "output_type": "stream",
     "text": [
      "New videos: 280\n",
      "0\n"
     ]
    }
   ],
   "source": [
    "# Create output file with header\n",
    "date = time.strftime('%Y-%m-%d_%H:%M:%S')\n",
    "file_name = \"processed/unique_videos_metadata\" + date + \".csv\"\n",
    "\n",
    "# Get videos\n",
    "pd.set_option('display.max_rows', None)\n",
    "filepaths = [\"results/\" + f for f in listdir(\"results/\") if f.endswith(\".csv\")]\n",
    "df_videos = pd.concat(map(pd.read_csv, filepaths))\n",
    "\n",
    "# Create dataframe with unique videos\n",
    "df_unique_videos = df_videos.drop_duplicates(subset = [\"video\"])\n",
    "\n",
    "df_new_unique_videos = df_unique_videos.copy()\n",
    "\n",
    "# Get already processed videos\n",
    "filepaths = [\"processed/\" + f for f in listdir(\"processed/\") if f.startswith(\"unique_videos_metadata\")]\n",
    "if filepaths:\n",
    "    df_processed = pd.concat(map(pd.read_csv, filepaths))\n",
    "    #df_processed = df_processed.drop_duplicates()\n",
    "    df_processed.to_csv(file_name, index=False)\n",
    "    for f in filepaths:\n",
    "        remove(f)\n",
    "    \n",
    "    # Remove previously processed videos\n",
    "    if len(df_processed) > 0:\n",
    "        df_processed = df_processed[[\"video\"]]\n",
    "        #cond = df_new_unique_videos[\"video\"].isin(df_processed[\"video\"])\n",
    "        #df_new_unique_videos.drop(df_new_unique_videos[cond].index, inplace = True)\n",
    "        df_new_unique_videos = pd.merge(df_new_unique_videos,df_processed, indicator=True, how='outer').query('_merge==\"left_only\"').drop('_merge', axis=1)\n",
    "else:\n",
    "    with open(file_name, mode='a') as out_file:\n",
    "        result_writer = csv.writer(out_file, delimiter=',', quotechar='\"', quoting=csv.QUOTE_MINIMAL)\n",
    "        result_writer.writerow([\"video\", \"title\", \"duration\", \"view_count\", \"width\", \"height\", \"description_snippet\", \"channel_id\", \"channel_title\", \"published_time\", \"status\"])\n",
    "\n",
    "#df_new_unique_videos = df_new_unique_videos[:50]\n",
    "\n",
    "print(\"New videos:\", len(df_new_unique_videos))\n",
    "\n",
    "i = 0\n",
    "for index, row in df_new_unique_videos.iterrows():\n",
    "    getMetadata(row[\"video\"], file_name)\n",
    "    if i % 500 == 0: \n",
    "        print(i)\n",
    "    i += 1"
   ]
  },
  {
   "cell_type": "code",
   "execution_count": 35,
   "metadata": {},
   "outputs": [
    {
     "name": "stdout",
     "output_type": "stream",
     "text": [
      "New videos: 274\n",
      "0\n"
     ]
    }
   ],
   "source": [
    "# Create output file with header\n",
    "date = time.strftime('%Y-%m-%d_%H:%M:%S')\n",
    "file_name = \"processed/unique_videos_metadata\" + date + \".csv\"\n",
    "\n",
    "# Get videos\n",
    "pd.set_option('display.max_rows', None)\n",
    "filepaths = [\"results/\" + f for f in listdir(\"results/\") if f.endswith(\".csv\")]\n",
    "df_videos = pd.concat(map(pd.read_csv, filepaths))\n",
    "\n",
    "# Create dataframe with unique videos\n",
    "df_unique_videos = df_videos.drop_duplicates(subset = [\"video\"])\n",
    "\n",
    "df_new_unique_videos = df_unique_videos.copy()\n",
    "\n",
    "# Get already processed videos\n",
    "filepaths = [\"processed/\" + f for f in listdir(\"processed/\") if f.startswith(\"unique_videos_metadata\")]\n",
    "if filepaths:\n",
    "    df_processed = pd.concat(map(pd.read_csv, filepaths))\n",
    "    #df_processed = df_processed.drop_duplicates()\n",
    "    df_processed.to_csv(file_name, index=False)\n",
    "    for f in filepaths:\n",
    "        remove(f)\n",
    "    \n",
    "    # Remove previously processed videos\n",
    "    if len(df_processed) > 0:\n",
    "        df_processed = df_processed[[\"video\"]]\n",
    "        #cond = df_new_unique_videos[\"video\"].isin(df_processed[\"video\"])\n",
    "        #df_new_unique_videos.drop(df_new_unique_videos[cond].index, inplace = True)\n",
    "        df_new_unique_videos = pd.merge(df_new_unique_videos,df_processed, indicator=True, how='outer').query('_merge==\"left_only\"').drop('_merge', axis=1)\n",
    "else:\n",
    "    with open(file_name, mode='a') as out_file:\n",
    "        result_writer = csv.writer(out_file, delimiter=',', quotechar='\"', quoting=csv.QUOTE_MINIMAL)\n",
    "        result_writer.writerow([\"video\", \"title\", \"duration\", \"view_count\", \"width\", \"height\", \"description_snippet\", \"channel_id\", \"channel_title\", \"published_time\", \"status\"])\n",
    "\n",
    "#df_new_unique_videos = df_new_unique_videos[:50]\n",
    "\n",
    "print(\"New videos:\", len(df_new_unique_videos))\n",
    "\n",
    "i = 0\n",
    "for index, row in df_new_unique_videos.iterrows():\n",
    "    getMetadata(row[\"video\"], file_name)\n",
    "    if i % 500 == 0: \n",
    "        print(i)\n",
    "    i += 1"
   ]
  },
  {
   "cell_type": "code",
   "execution_count": 15,
   "metadata": {},
   "outputs": [
    {
     "name": "stdout",
     "output_type": "stream",
     "text": [
      "New videos: 533\n"
     ]
    }
   ],
   "source": [
    "filepaths = [\"results/\" + f for f in listdir(\"results/\") if f.endswith(\".csv\")]\n",
    "df_videos = pd.concat(map(pd.read_csv, filepaths))\n",
    "\n",
    "# Create dataframe with unique videos\n",
    "df_unique_videos = df_videos.drop_duplicates(subset = [\"video\"])\n",
    "\n",
    "df_new_unique_videos = df_unique_videos.copy()\n",
    "\n",
    "# Get already processed videos\n",
    "filepaths = [\"processed/\" + f for f in listdir(\"processed/\") if f.startswith(\"unique_videos_metadata\")]\n",
    "df_processed = pd.concat(map(pd.read_csv, filepaths))\n",
    "\n",
    "df_new_unique_videos = pd.merge(df_new_unique_videos,df_processed, indicator=True, how='outer').query('_merge==\"left_only\"').drop('_merge', axis=1)\n",
    "\n",
    "print(\"New videos:\", len(df_new_unique_videos))\n"
   ]
  },
  {
   "cell_type": "code",
   "execution_count": 20,
   "metadata": {},
   "outputs": [
    {
     "data": {
      "text/html": [
       "<div>\n",
       "<style scoped>\n",
       "    .dataframe tbody tr th:only-of-type {\n",
       "        vertical-align: middle;\n",
       "    }\n",
       "\n",
       "    .dataframe tbody tr th {\n",
       "        vertical-align: top;\n",
       "    }\n",
       "\n",
       "    .dataframe thead th {\n",
       "        text-align: right;\n",
       "    }\n",
       "</style>\n",
       "<table border=\"1\" class=\"dataframe\">\n",
       "  <thead>\n",
       "    <tr style=\"text-align: right;\">\n",
       "      <th></th>\n",
       "      <th>keyword</th>\n",
       "      <th>video</th>\n",
       "      <th>parent_video</th>\n",
       "      <th>current_depth</th>\n",
       "      <th>pubdate</th>\n",
       "      <th>likes</th>\n",
       "      <th>dislikes</th>\n",
       "      <th>rating</th>\n",
       "      <th>reco_count</th>\n",
       "      <th>fetch_time</th>\n",
       "      <th>reco_list</th>\n",
       "      <th>elapsed</th>\n",
       "      <th>trace</th>\n",
       "      <th>parent_trace</th>\n",
       "    </tr>\n",
       "  </thead>\n",
       "  <tbody>\n",
       "  </tbody>\n",
       "</table>\n",
       "</div>"
      ],
      "text/plain": [
       "Empty DataFrame\n",
       "Columns: [keyword, video, parent_video, current_depth, pubdate, likes, dislikes, rating, reco_count, fetch_time, reco_list, elapsed, trace, parent_trace]\n",
       "Index: []"
      ]
     },
     "execution_count": 20,
     "metadata": {},
     "output_type": "execute_result"
    }
   ],
   "source": [
    "df_new_unique_videos[df_new_unique_videos[\"video\"]==\"SEisl-8EtH4\"]"
   ]
  },
  {
   "cell_type": "code",
   "execution_count": null,
   "metadata": {},
   "outputs": [],
   "source": []
  }
 ],
 "metadata": {
  "instance_type": "ml.t3.medium",
  "kernelspec": {
   "display_name": "Python 3 (Data Science)",
   "language": "python",
   "name": "python3__SAGEMAKER_INTERNAL__arn:aws:sagemaker:us-east-2:429704687514:image/datascience-1.0"
  },
  "language_info": {
   "codemirror_mode": {
    "name": "ipython",
    "version": 3
   },
   "file_extension": ".py",
   "mimetype": "text/x-python",
   "name": "python",
   "nbconvert_exporter": "python",
   "pygments_lexer": "ipython3",
   "version": "3.7.10"
  }
 },
 "nbformat": 4,
 "nbformat_minor": 4
}
