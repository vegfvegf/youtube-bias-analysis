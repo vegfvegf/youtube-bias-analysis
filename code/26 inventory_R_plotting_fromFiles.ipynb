{
 "cells": [
  {
   "cell_type": "code",
   "execution_count": 1,
   "id": "c920471b",
   "metadata": {},
   "outputs": [
    {
     "name": "stderr",
     "output_type": "stream",
     "text": [
      "\n",
      "Attaching package: ‘dplyr’\n",
      "\n",
      "\n",
      "The following objects are masked from ‘package:stats’:\n",
      "\n",
      "    filter, lag\n",
      "\n",
      "\n",
      "The following objects are masked from ‘package:base’:\n",
      "\n",
      "    intersect, setdiff, setequal, union\n",
      "\n",
      "\n",
      "\n",
      "Attaching package: ‘gridExtra’\n",
      "\n",
      "\n",
      "The following object is masked from ‘package:dplyr’:\n",
      "\n",
      "    combine\n",
      "\n",
      "\n"
     ]
    }
   ],
   "source": [
    "library(dplyr)\n",
    "library(ggplot2)\n",
    "library(gridExtra)\n",
    "library(pivottabler)"
   ]
  },
  {
   "cell_type": "markdown",
   "id": "732ab94a-60a0-43d0-b622-5532790d2f82",
   "metadata": {},
   "source": [
    "# Plotting Functions"
   ]
  },
  {
   "cell_type": "code",
   "execution_count": 2,
   "id": "ab7535ca-3850-424f-8b51-f0f0521dd9db",
   "metadata": {},
   "outputs": [],
   "source": [
    "plotlgpp <- function(df, file_prefix ,verbose) {\n",
    "    \n",
    "    df_lgpp <- df %>%\n",
    "      dplyr::filter(!is.na(lgpp)) %>%\n",
    "      dplyr::count(current_depth, lgpp)\n",
    "\n",
    "    df_lgpp$order <- order(df_lgpp$current_depth, df_lgpp$n)\n",
    "    \n",
    "    df_lgpp_0<-df_lgpp[df_lgpp$current_depth==0,]\n",
    "    df_lgpp_1<-df_lgpp[df_lgpp$current_depth==1,]\n",
    "    df_lgpp_2<-df_lgpp[df_lgpp$current_depth==2,]\n",
    "    df_lgpp_3<-df_lgpp[df_lgpp$current_depth==3,]\n",
    "    df_lgpp_4<-df_lgpp[df_lgpp$current_depth==4,]\n",
    "    df_lgpp_5<-df_lgpp[df_lgpp$current_depth==5,]\n",
    "\n",
    "    df_lgpp_0<-arrange(df_lgpp_0, df_lgpp_0$n)\n",
    "    df_lgpp_1<-arrange(df_lgpp_1, df_lgpp_1$n)\n",
    "    df_lgpp_2<-arrange(df_lgpp_2, df_lgpp_2$n)\n",
    "    df_lgpp_3<-arrange(df_lgpp_3, df_lgpp_3$n)\n",
    "    df_lgpp_4<-arrange(df_lgpp_4, df_lgpp_4$n)\n",
    "    df_lgpp_5<-arrange(df_lgpp_5, df_lgpp_5$n)\n",
    "\n",
    "    df_lgpp_0$order<-order(df_lgpp_0$n)\n",
    "    df_lgpp_1$order<-order(df_lgpp_1$n)\n",
    "    df_lgpp_2$order<-order(df_lgpp_2$n)\n",
    "    df_lgpp_3$order<-order(df_lgpp_3$n)\n",
    "    df_lgpp_4$order<-order(df_lgpp_4$n)\n",
    "    df_lgpp_5$order<-order(df_lgpp_5$n)\n",
    "\n",
    "    df_lgpp<- rbind(df_lgpp_0, df_lgpp_1, df_lgpp_2, df_lgpp_3, df_lgpp_4, df_lgpp_5)\n",
    "\n",
    "    cols <- c(culture='blue', economy='orange', environment='red', groups='red4', institutions='blue3', law_and_order='green3', rural='grey51', urban='chartreuse4', values='royalblue3')\n",
    "    legendTitle <- 'Position'\n",
    "    \n",
    "    options(repr.plot.width=15, repr.plot.height=10)\n",
    "    \n",
    "    lineplot=ggplot(data = df_lgpp, aes(x=current_depth, y=n)) +\n",
    "        geom_line(aes(colour=lgpp), size=2) +\n",
    "        scale_color_manual(legendTitle, values=cols) +\n",
    "        theme(legend.text=element_text(size=12), legend.title=element_text(size=12)) +\n",
    "        theme(axis.text=element_text(size=12), axis.title=element_text(size=12,face='bold')) +\n",
    "        xlab('Recommendation Depth') + ylab('No. of Videos')\n",
    "\n",
    "    g_lgpp <- arrangeGrob(lineplot, nrow = 1)\n",
    "    \n",
    "    date = format(Sys.time(), '%Y-%m-%d_%H_%M_%S')\n",
    "    file_name = paste('plotting/images/lines/lines_', file_prefix, '_lgpp_', date, '.png', sep='')\n",
    "\n",
    "    ggsave(file=file_name, g_lgpp)\n",
    "\n",
    "    posplot=ggplot(data = df_lgpp, aes(x=current_depth, y=order)) +\n",
    "        geom_line(aes(colour=lgpp), size=2) +\n",
    "        scale_color_manual(legendTitle, values=cols) +\n",
    "        theme(legend.text=element_text(size=12), legend.title=element_text(size=12)) +\n",
    "        theme(axis.text=element_text(size=12), axis.title=element_text(size=12,face='bold')) +\n",
    "        xlab('Recommendation Depth') + ylab('Order of Policy Position')\n",
    "\n",
    "    g_lgpp <- arrangeGrob(posplot, nrow = 1)\n",
    "    \n",
    "    file_name = paste('plotting/images/order/order_', file_prefix, '_lgpp_', date, '.png', sep='')\n",
    "\n",
    "    ggsave(file=file_name, g_lgpp)\n",
    "\n",
    "    barplot=ggplot(data = df_lgpp, aes(x=current_depth, y=n, order=lgpp)) + \n",
    "        geom_bar(position='fill', stat='identity', aes(fill=lgpp)) +\n",
    "        scale_fill_manual(legendTitle, values=cols) +\n",
    "        theme(legend.text=element_text(size=12), legend.title=element_text(size=12)) +\n",
    "        theme(axis.text=element_text(size=12), axis.title=element_text(size=12,face=\"bold\")) +\n",
    "        xlab('Recommendation Depth') + ylab('Relative Volume')\n",
    "\n",
    "    g_lgpp <- arrangeGrob(barplot, nrow = 1)\n",
    "    \n",
    "    file_name = paste('plotting/images/bars/bars_', file_prefix, '_lgpp_', date, '.png', sep='')\n",
    "\n",
    "    ggsave(file=file_name, g_lgpp)\n",
    "\n",
    "    g_lgpp <- arrangeGrob(lineplot, posplot, barplot, nrow = 3)\n",
    "    \n",
    "    file_name = paste('plotting/images/combo/', file_prefix, '_lgpp_', date, '.png', sep='')\n",
    "\n",
    "    ggsave(file=file_name, g_lgpp)\n",
    "    \n",
    "    if (verbose==1){\n",
    "        grid.arrange(lineplot, posplot, barplot, nrow = 3)        \n",
    "    }\n",
    "    \n",
    "    pt <- PivotTable$new()\n",
    "    pt$addData(df)\n",
    "    pt$addColumnDataGroups('current_depth')\n",
    "    pt$addRowDataGroups('lgpp')\n",
    "    pt$defineCalculation(calculationName=\"video\", summariseExpression=\"n()\")\n",
    "    pt$evaluatePivot()\n",
    "    print(pt)\n",
    "}"
   ]
  },
  {
   "cell_type": "code",
   "execution_count": 3,
   "id": "c847d116-5070-480d-87fd-b4b13cefa12b",
   "metadata": {},
   "outputs": [],
   "source": [
    "plotnrc_el <- function(df, file_prefix ,verbose) {\n",
    "    \n",
    "    df_nrc_el <- df %>%\n",
    "      dplyr::filter(!is.na(nrc_el)) %>%\n",
    "      dplyr::count(current_depth, nrc_el)\n",
    "\n",
    "    df_nrc_el$order <- order(df_nrc_el$current_depth, df_nrc_el$n)\n",
    "    \n",
    "    df_nrc_el_0<-df_nrc_el[df_nrc_el$current_depth==0,]\n",
    "    df_nrc_el_1<-df_nrc_el[df_nrc_el$current_depth==1,]\n",
    "    df_nrc_el_2<-df_nrc_el[df_nrc_el$current_depth==2,]\n",
    "    df_nrc_el_3<-df_nrc_el[df_nrc_el$current_depth==3,]\n",
    "    df_nrc_el_4<-df_nrc_el[df_nrc_el$current_depth==4,]\n",
    "    df_nrc_el_5<-df_nrc_el[df_nrc_el$current_depth==5,]\n",
    "\n",
    "    df_nrc_el_0<-arrange(df_nrc_el_0, df_nrc_el_0$n)\n",
    "    df_nrc_el_1<-arrange(df_nrc_el_1, df_nrc_el_1$n)\n",
    "    df_nrc_el_2<-arrange(df_nrc_el_2, df_nrc_el_2$n)\n",
    "    df_nrc_el_3<-arrange(df_nrc_el_3, df_nrc_el_3$n)\n",
    "    df_nrc_el_4<-arrange(df_nrc_el_4, df_nrc_el_4$n)\n",
    "    df_nrc_el_5<-arrange(df_nrc_el_5, df_nrc_el_5$n)\n",
    "\n",
    "    df_nrc_el_0$order<-order(df_nrc_el_0$n)\n",
    "    df_nrc_el_1$order<-order(df_nrc_el_1$n)\n",
    "    df_nrc_el_2$order<-order(df_nrc_el_2$n)\n",
    "    df_nrc_el_3$order<-order(df_nrc_el_3$n)\n",
    "    df_nrc_el_4$order<-order(df_nrc_el_4$n)\n",
    "    df_nrc_el_5$order<-order(df_nrc_el_5$n)\n",
    "\n",
    "    df_nrc_el<- rbind(df_nrc_el_0, df_nrc_el_1, df_nrc_el_2, df_nrc_el_3, df_nrc_el_4, df_nrc_el_5)\n",
    "\n",
    "    cols <- c(anger='blue', anticipation='orange', disgust='red', fear='red4', joy='blue3', negative='green3', positive='grey51', sadness='chartreuse4', surprise='royalblue3', trust='yellow')\n",
    "    legendTitle <- 'Emotion'\n",
    "    \n",
    "    options(repr.plot.width=15, repr.plot.height=10)\n",
    "    \n",
    "    lineplot=ggplot(data = df_nrc_el, aes(x=current_depth, y=n)) +\n",
    "        geom_line(aes(colour=nrc_el), size=2) +\n",
    "        scale_color_manual(legendTitle, values=cols) +\n",
    "        theme(legend.text=element_text(size=12), legend.title=element_text(size=12)) +\n",
    "        theme(axis.text=element_text(size=12), axis.title=element_text(size=12,face='bold')) +\n",
    "        xlab('Recommendation Depth') + ylab('No. of Videos')\n",
    "\n",
    "    g_nrc_el <- arrangeGrob(lineplot, nrow = 1)\n",
    "    \n",
    "    date = format(Sys.time(), '%Y-%m-%d_%H_%M_%S')\n",
    "    file_name = paste('plotting/images/lines/lines_', file_prefix, '_nrc_el_', date, '.png', sep='')\n",
    "\n",
    "    ggsave(file=file_name, g_nrc_el)\n",
    "\n",
    "    posplot=ggplot(data = df_nrc_el, aes(x=current_depth, y=order)) +\n",
    "        geom_line(aes(colour=nrc_el), size=2) +\n",
    "        scale_color_manual(legendTitle, values=cols) +\n",
    "        theme(legend.text=element_text(size=12), legend.title=element_text(size=12)) +\n",
    "        theme(axis.text=element_text(size=12), axis.title=element_text(size=12,face='bold')) +\n",
    "        xlab('Recommendation Depth') + ylab('Order of Policy Position')\n",
    "\n",
    "    g_nrc_el <- arrangeGrob(posplot, nrow = 1)\n",
    "    \n",
    "    date = format(Sys.time(), '%Y-%m-%d_%H_%M_%S')\n",
    "    file_name = paste('plotting/images/order/order_', file_prefix, '_nrc_el_', date, '.png', sep='')\n",
    "\n",
    "    ggsave(file=file_name, g_nrc_el)\n",
    "\n",
    "    barplot=ggplot(data = df_nrc_el, aes(x=current_depth, y=n, order=nrc_el)) + \n",
    "        geom_bar(position='fill', stat='identity', aes(fill=nrc_el)) +\n",
    "        scale_fill_manual(legendTitle, values=cols) +\n",
    "        theme(legend.text=element_text(size=12), legend.title=element_text(size=12)) +\n",
    "        theme(axis.text=element_text(size=12), axis.title=element_text(size=12,face=\"bold\")) +\n",
    "        xlab('Recommendation Depth') + ylab('Relative Volume')\n",
    "\n",
    "    g_nrc_el <- arrangeGrob(barplot, nrow = 1)\n",
    "    \n",
    "    file_name = paste('plotting/images/bars/bars_', file_prefix, '_nrc_el_', date, '.png', sep='')\n",
    "\n",
    "    ggsave(file=file_name, g_nrc_el)\n",
    "\n",
    "    g_nrc_el <- arrangeGrob(lineplot, posplot, barplot, nrow = 3)\n",
    "    \n",
    "    file_name = paste('plotting/images/combo/combo_', file_prefix, '_nrc_el_', date, '.png', sep='')\n",
    "\n",
    "    ggsave(file=file_name, g_nrc_el)\n",
    "    \n",
    "    if (verbose==1){\n",
    "        grid.arrange(lineplot, posplot, barplot, nrow = 3)        \n",
    "    }\n",
    "    \n",
    "    pt <- PivotTable$new()\n",
    "    pt$addData(df)\n",
    "    pt$addColumnDataGroups('current_depth')\n",
    "    pt$addRowDataGroups('nrc_el')\n",
    "    pt$defineCalculation(calculationName=\"video\", summariseExpression=\"n()\")\n",
    "    pt$evaluatePivot()\n",
    "    print(pt)\n",
    "}"
   ]
  },
  {
   "cell_type": "code",
   "execution_count": 4,
   "id": "779d8147-51a7-485f-9c9c-e7aad7761f0f",
   "metadata": {},
   "outputs": [],
   "source": [
    "plotlm <- function(df, file_prefix ,verbose) {\n",
    "    \n",
    "    df_lm <- df %>%\n",
    "      dplyr::filter(!is.na(lm)) %>%\n",
    "      dplyr::count(current_depth, lm)\n",
    "\n",
    "    df_lm$order <- order(df_lm$current_depth, df_lm$n)\n",
    "    \n",
    "    df_lm_0<-df_lm[df_lm$current_depth==0,]\n",
    "    df_lm_1<-df_lm[df_lm$current_depth==1,]\n",
    "    df_lm_2<-df_lm[df_lm$current_depth==2,]\n",
    "    df_lm_3<-df_lm[df_lm$current_depth==3,]\n",
    "    df_lm_4<-df_lm[df_lm$current_depth==4,]\n",
    "    df_lm_5<-df_lm[df_lm$current_depth==5,]\n",
    "\n",
    "    df_lm_0<-arrange(df_lm_0, df_lm_0$n)\n",
    "    df_lm_1<-arrange(df_lm_1, df_lm_1$n)\n",
    "    df_lm_2<-arrange(df_lm_2, df_lm_2$n)\n",
    "    df_lm_3<-arrange(df_lm_3, df_lm_3$n)\n",
    "    df_lm_4<-arrange(df_lm_4, df_lm_4$n)\n",
    "    df_lm_5<-arrange(df_lm_5, df_lm_5$n)\n",
    "\n",
    "    df_lm_0$order<-order(df_lm_0$n)\n",
    "    df_lm_1$order<-order(df_lm_1$n)\n",
    "    df_lm_2$order<-order(df_lm_2$n)\n",
    "    df_lm_3$order<-order(df_lm_3$n)\n",
    "    df_lm_4$order<-order(df_lm_4$n)\n",
    "    df_lm_5$order<-order(df_lm_5$n)\n",
    "\n",
    "    df_lm<- rbind(df_lm_0, df_lm_1, df_lm_2, df_lm_3, df_lm_4, df_lm_5)\n",
    "\n",
    "    cols <- c(negative='blue', positive='orange', uncertainty='red', litigious='red4', constraining='blue3', superfluous='green3', interesting='grey51', modal_words_strong='chartreuse4')\n",
    "    legendTitle <- 'Sentiment'\n",
    "    \n",
    "    options(repr.plot.width=15, repr.plot.height=10)\n",
    "    \n",
    "    lineplot=ggplot(data = df_lm, aes(x=current_depth, y=n)) +\n",
    "        geom_line(aes(colour=lm), size=2) +\n",
    "        scale_color_manual(legendTitle, values=cols) +\n",
    "        theme(legend.text=element_text(size=12), legend.title=element_text(size=12)) +\n",
    "        theme(axis.text=element_text(size=12), axis.title=element_text(size=12,face='bold')) +\n",
    "        xlab('Recommendation Depth') + ylab('No. of Videos')\n",
    "\n",
    "    g_lm <- arrangeGrob(lineplot, nrow = 1)\n",
    "    \n",
    "    date = format(Sys.time(), '%Y-%m-%d_%H_%M_%S')\n",
    "    file_name = paste('plotting/images/lines/lines_', file_prefix, '_lm_', date, '.png', sep='')\n",
    "\n",
    "    ggsave(file=file_name, g_lm)\n",
    "\n",
    "    posplot=ggplot(data = df_lm, aes(x=current_depth, y=order)) +\n",
    "        geom_line(aes(colour=lm), size=2) +\n",
    "        scale_color_manual(legendTitle, values=cols) +\n",
    "        theme(legend.text=element_text(size=12), legend.title=element_text(size=12)) +\n",
    "        theme(axis.text=element_text(size=12), axis.title=element_text(size=12,face='bold')) +\n",
    "        xlab('Recommendation Depth') + ylab('Order of Policy Position')\n",
    "\n",
    "    g_lm <- arrangeGrob(posplot, nrow = 1)\n",
    "    \n",
    "    file_name = paste('plotting/images/order/order_', file_prefix, '_lm_', date, '.png', sep='')\n",
    "\n",
    "    ggsave(file=file_name, g_lm)\n",
    "\n",
    "    barplot=ggplot(data = df_lm, aes(x=current_depth, y=n, order=lm)) + \n",
    "        geom_bar(position='fill', stat='identity', aes(fill=lm)) +\n",
    "        scale_fill_manual(legendTitle, values=cols) +\n",
    "        theme(legend.text=element_text(size=12), legend.title=element_text(size=12)) +\n",
    "        theme(axis.text=element_text(size=12), axis.title=element_text(size=12,face=\"bold\")) +\n",
    "        xlab('Recommendation Depth') + ylab('Relative Volume')\n",
    "\n",
    "    g_lm <- arrangeGrob(barplot, nrow = 1)\n",
    "    \n",
    "    file_name = paste('plotting/images/bars/bars_', file_prefix, '_lm_', date, '.png', sep='')\n",
    "\n",
    "    ggsave(file=file_name, g_lm)\n",
    "\n",
    "    g_lm <- arrangeGrob(lineplot, posplot, barplot, nrow = 3)\n",
    "    \n",
    "    file_name = paste('plotting/images/combo/combo_', file_prefix, '_lm_', date, '.png', sep='')\n",
    "\n",
    "    ggsave(file=file_name, g_lm)\n",
    "    \n",
    "    if (verbose==1){\n",
    "        grid.arrange(lineplot, posplot, barplot, nrow = 3)        \n",
    "    }\n",
    "    \n",
    "    pt <- PivotTable$new()\n",
    "    pt$addData(df)\n",
    "    pt$addColumnDataGroups('current_depth')\n",
    "    pt$addRowDataGroups('lm')\n",
    "    pt$defineCalculation(calculationName=\"video\", summariseExpression=\"n()\")\n",
    "    pt$evaluatePivot()\n",
    "    print(pt)\n",
    "}"
   ]
  },
  {
   "cell_type": "code",
   "execution_count": 5,
   "id": "39526e99-dda9-433f-9ae6-85f0ba970faa",
   "metadata": {},
   "outputs": [],
   "source": [
    "plotbias <- function(df, file_prefix, verbose) {\n",
    "\n",
    "    df_channel_bias <- df %>%\n",
    "      dplyr::filter(Bias!='') %>%\n",
    "      dplyr::count(current_depth, Bias)\n",
    "\n",
    "    df_channel_bias_0<-df_channel_bias[df_channel_bias$current_depth==0,]\n",
    "    df_channel_bias_1<-df_channel_bias[df_channel_bias$current_depth==1,]\n",
    "    df_channel_bias_2<-df_channel_bias[df_channel_bias$current_depth==2,]\n",
    "    df_channel_bias_3<-df_channel_bias[df_channel_bias$current_depth==3,]\n",
    "    df_channel_bias_4<-df_channel_bias[df_channel_bias$current_depth==4,]\n",
    "    df_channel_bias_5<-df_channel_bias[df_channel_bias$current_depth==5,]\n",
    "\n",
    "    df_channel_bias_0<-arrange(df_channel_bias_0, df_channel_bias_0$n)\n",
    "    df_channel_bias_1<-arrange(df_channel_bias_1, df_channel_bias_1$n)\n",
    "    df_channel_bias_2<-arrange(df_channel_bias_2, df_channel_bias_2$n)\n",
    "    df_channel_bias_3<-arrange(df_channel_bias_3, df_channel_bias_3$n)\n",
    "    df_channel_bias_4<-arrange(df_channel_bias_4, df_channel_bias_4$n)\n",
    "    df_channel_bias_5<-arrange(df_channel_bias_5, df_channel_bias_5$n)\n",
    "\n",
    "    df_channel_bias_0$order<-order(df_channel_bias_0$n)\n",
    "    df_channel_bias_1$order<-order(df_channel_bias_1$n)\n",
    "    df_channel_bias_2$order<-order(df_channel_bias_2$n)\n",
    "    df_channel_bias_3$order<-order(df_channel_bias_3$n)\n",
    "    df_channel_bias_4$order<-order(df_channel_bias_4$n)\n",
    "    df_channel_bias_5$order<-order(df_channel_bias_5$n)\n",
    "\n",
    "    df_channel_bias <- rbind(df_channel_bias_0, df_channel_bias_1, df_channel_bias_2, df_channel_bias_3, df_channel_bias_4, df_channel_bias_5)\n",
    "\n",
    "    df_channel_bias <- transform(df_channel_bias, \n",
    "            Bias.ord = factor(\n",
    "                 Bias ,\n",
    "                 levels=c('L','CL', 'C', 'CR', 'R'),\n",
    "                 ordered =TRUE))\n",
    "\n",
    "    cols <- c(L='blue4',CL='royalblue', C='grey', CR='red', R='red3')\n",
    "    legendTitle <- 'Bias'\n",
    "\n",
    "    options(repr.plot.width=15, repr.plot.height=10)\n",
    "    \n",
    "    lineplot=ggplot(data = df_channel_bias, aes(x=current_depth, y=n)) + geom_line(aes(colour=Bias.ord), size=2) +\n",
    "        scale_color_manual(legendTitle, values=cols) +\n",
    "        theme(legend.text=element_text(size=12), legend.title=element_text(size=12), rect = element_rect(fill = \"transparent\")) +\n",
    "        theme(axis.text=element_text(size=12), axis.title=element_text(size=12, face='bold')) +\n",
    "        xlab('Recommendation Depth') + ylab('No. of Videos')\n",
    "\n",
    "    g_bias <- arrangeGrob(lineplot, nrow = 1)\n",
    "    \n",
    "    date = format(Sys.time(), '%Y-%m-%d_%H_%M_%S')\n",
    "    file_name = paste('plotting/images/lines/lines_', file_prefix, '_bias_', date, '.png', sep='')\n",
    "\n",
    "    ggsave(file=file_name, g_bias)\n",
    "    \n",
    "    posplot=ggplot(data = df_channel_bias, aes(x=current_depth, y=order)) + geom_line(aes(colour=Bias.ord), size=2) +\n",
    "        scale_color_manual(legendTitle, values=cols) +\n",
    "        theme(legend.text=element_text(size=12), legend.title=element_text(size=12)) +\n",
    "        theme(axis.text=element_text(size=12), axis.title=element_text(size=12, face='bold')) +\n",
    "        xlab('Recommendation Depth') + ylab('Order of Bias')\n",
    "\n",
    "    g_bias <- arrangeGrob(posplot, nrow = 1)\n",
    "    \n",
    "    file_name = paste('plotting/images/order/order_', file_prefix, '_bias_', date, '.png', sep='')\n",
    "\n",
    "    ggsave(file=file_name, g_bias)\n",
    "    \n",
    "    barplot=ggplot(data = df_channel_bias, aes(x=current_depth, y=n, order=Bias.ord)) + \n",
    "        geom_bar(position=\"fill\", stat=\"identity\", aes(fill=Bias.ord)) + scale_fill_manual(legendTitle, values=cols) +\n",
    "        theme(legend.text=element_text(size=12), legend.title=element_text(size=12)) +\n",
    "        theme(axis.text=element_text(size=12), axis.title=element_text(size=12, face=\"bold\")) +\n",
    "        xlab('Recommendation Depth') + ylab('Relative Volume')\n",
    "\n",
    "    g_bias <- arrangeGrob(barplot, nrow = 1)\n",
    "    \n",
    "    file_name = paste('plotting/images/bars/bars_', file_prefix, '_bias_', date, '.png', sep='')\n",
    "\n",
    "    ggsave(file=file_name, g_bias)\n",
    "    \n",
    "    g_bias <- arrangeGrob(lineplot, posplot, barplot, nrow = 3)\n",
    "   \n",
    "    file_name = paste('plotting/images/combo/combo_', file_prefix, '_bias_', date, '.png', sep='')\n",
    "\n",
    "    ggsave(file=file_name, g_bias)\n",
    "    \n",
    "    if (verbose==1){\n",
    "        grid.arrange(lineplot, posplot, barplot, nrow = 3)        \n",
    "    }\n",
    "\n",
    "    pt <- PivotTable$new()\n",
    "    pt$addData(df)\n",
    "    pt$addColumnDataGroups('current_depth')\n",
    "    pt$addRowDataGroups('Bias')\n",
    "    pt$defineCalculation(calculationName=\"video\", summariseExpression=\"n()\")\n",
    "    pt$evaluatePivot()\n",
    "    print(pt)\n",
    "}"
   ]
  },
  {
   "cell_type": "code",
   "execution_count": 61,
   "id": "cce9e739-79a7-49bf-838f-5fab2c3bec61",
   "metadata": {},
   "outputs": [
    {
     "name": "stdout",
     "output_type": "stream",
     "text": [
      "[1] \"model/plotting/ready/nrc_el_anger_classified_videos_proportional_Dataset5_top152022-01-28_18_36_39.csv\"\n",
      "[1] \"nrc_el_anger\"\n"
     ]
    },
    {
     "name": "stderr",
     "output_type": "stream",
     "text": [
      "Saving 7 x 7 in image\n",
      "\n",
      "Saving 7 x 7 in image\n",
      "\n",
      "Saving 7 x 7 in image\n",
      "\n",
      "Saving 7 x 7 in image\n",
      "\n"
     ]
    },
    {
     "name": "stdout",
     "output_type": "stream",
     "text": [
      "              0  1  2   3    4    5     Total  \n",
      "anger         2  5  21   79  340  1511   1958  \n",
      "anticipation                   2    10     12  \n",
      "disgust                              1      1  \n",
      "fear                      1    2    10     13  \n",
      "joy                            1     3      4  \n",
      "negative             3   17   77   438    535  \n",
      "positive         3  12   65  339  1802   2221  \n",
      "trust                1    4   28    96    129  \n",
      "Total         2  8  37  166  789  3871   4873  \n",
      "[1] \"model/plotting/ready/nrc_el_anticipation_classified_videos_proportional_Dataset5_top152022-01-28_18_36_39.csv\"\n",
      "[1] \"nrc_el_anticipation\"\n"
     ]
    },
    {
     "name": "stderr",
     "output_type": "stream",
     "text": [
      "Saving 7 x 7 in image\n",
      "\n",
      "Saving 7 x 7 in image\n",
      "\n",
      "Saving 7 x 7 in image\n",
      "\n",
      "Saving 7 x 7 in image\n",
      "\n"
     ]
    },
    {
     "name": "stdout",
     "output_type": "stream",
     "text": [
      "              0  1  2   3   4    5     Total  \n",
      "anticipation  1               2     8     11  \n",
      "fear                          1            1  \n",
      "joy                                 6      6  \n",
      "negative         1   1   4   18   100    124  \n",
      "positive         4  20  91  425  2112   2652  \n",
      "trust                         1     6      7  \n",
      "Total         1  5  21  95  447  2232   2801  \n",
      "[1] \"model/plotting/ready/nrc_el_disgust_classified_videos_proportional_Dataset5_top152022-01-28_18_36_39.csv\"\n",
      "[1] \"nrc_el_disgust\"\n"
     ]
    },
    {
     "name": "stderr",
     "output_type": "stream",
     "text": [
      "Saving 7 x 7 in image\n",
      "\n",
      "Saving 7 x 7 in image\n",
      "\n",
      "Saving 7 x 7 in image\n",
      "\n",
      "Saving 7 x 7 in image\n",
      "\n"
     ]
    },
    {
     "name": "stdout",
     "output_type": "stream",
     "text": [
      "    \n",
      "    \n",
      "[1] \"model/plotting/ready/nrc_el_fear_classified_videos_proportional_Dataset5_top152022-01-28_18_36_39.csv\"\n",
      "[1] \"nrc_el_fear\"\n"
     ]
    },
    {
     "name": "stderr",
     "output_type": "stream",
     "text": [
      "Saving 7 x 7 in image\n",
      "\n",
      "Saving 7 x 7 in image\n",
      "\n",
      "Saving 7 x 7 in image\n",
      "\n",
      "Saving 7 x 7 in image\n",
      "\n"
     ]
    },
    {
     "name": "stdout",
     "output_type": "stream",
     "text": [
      "              0  1  2   3    4    5     Total  \n",
      "anger            1   5   20   55   199    280  \n",
      "anticipation         2    1    8    34     45  \n",
      "fear          3           2   14    58     77  \n",
      "joy                                  1      1  \n",
      "negative         2   8   28  139   649    826  \n",
      "positive         4  19  111  563  3068   3765  \n",
      "sadness                              2      2  \n",
      "trust                1    7   50   234    292  \n",
      "Total         3  7  35  169  829  4245   5288  \n",
      "[1] \"model/plotting/ready/nrc_el_joy_classified_videos_proportional_Dataset5_top152022-01-28_18_36_39.csv\"\n",
      "[1] \"nrc_el_joy\"\n"
     ]
    },
    {
     "name": "stderr",
     "output_type": "stream",
     "text": [
      "Saving 7 x 7 in image\n",
      "\n",
      "Saving 7 x 7 in image\n",
      "\n",
      "Saving 7 x 7 in image\n",
      "\n",
      "Saving 7 x 7 in image\n",
      "\n"
     ]
    },
    {
     "name": "stdout",
     "output_type": "stream",
     "text": [
      "    \n",
      "    \n",
      "[1] \"model/plotting/ready/nrc_el_negative_classified_videos_proportional_Dataset5_top152022-01-28_18_36_39.csv\"\n",
      "[1] \"nrc_el_negative\"\n"
     ]
    },
    {
     "name": "stderr",
     "output_type": "stream",
     "text": [
      "Saving 7 x 7 in image\n",
      "\n",
      "Saving 7 x 7 in image\n",
      "\n",
      "Saving 7 x 7 in image\n",
      "\n",
      "Saving 7 x 7 in image\n",
      "\n"
     ]
    },
    {
     "name": "stdout",
     "output_type": "stream",
     "text": [
      "              0   1   2    3     4     5      Total  \n",
      "anger              2   23    91   421   1949   2486  \n",
      "anticipation                  1     7     86     94  \n",
      "disgust                             1             1  \n",
      "fear               1    2     7    29    107    146  \n",
      "joy                                 1     26     27  \n",
      "negative      21  14   41   179   770   3694   4719  \n",
      "positive          54  260  1225  5679  28330  35548  \n",
      "sadness                       1     1     12     14  \n",
      "trust              6    9    46   190    657    908  \n",
      "Total         21  77  335  1550  7099  34861  43943  \n",
      "[1] \"model/plotting/ready/nrc_el_positive_classified_videos_proportional_Dataset5_top152022-01-28_18_36_39.csv\"\n",
      "[1] \"nrc_el_positive\"\n"
     ]
    },
    {
     "name": "stderr",
     "output_type": "stream",
     "text": [
      "Saving 7 x 7 in image\n",
      "\n",
      "Saving 7 x 7 in image\n",
      "\n",
      "Saving 7 x 7 in image\n",
      "\n",
      "Saving 7 x 7 in image\n",
      "\n"
     ]
    },
    {
     "name": "stdout",
     "output_type": "stream",
     "text": [
      "              0   1    2     3     4      5       Total   \n",
      "anger              19    73   411   1790    7935   10228  \n",
      "anticipation        1    12    43    234    1047    1337  \n",
      "disgust                   2     8     16      21      47  \n",
      "fear                      6    26     91     432     555  \n",
      "joy                             8     34     280     322  \n",
      "negative           35   148   738   3490   16902   21313  \n",
      "positive      99  315  1443  6404  30227  149927  188415  \n",
      "sadness                         2     20      84     106  \n",
      "surprise                                       2       2  \n",
      "trust               6    31   126    455    1947    2565  \n",
      "Total         99  376  1715  7766  36357  178577  224890  \n",
      "[1] \"model/plotting/ready/nrc_el_sadness_classified_videos_proportional_Dataset5_top152022-01-28_18_36_39.csv\"\n",
      "[1] \"nrc_el_sadness\"\n"
     ]
    },
    {
     "name": "stderr",
     "output_type": "stream",
     "text": [
      "Saving 7 x 7 in image\n",
      "\n",
      "Saving 7 x 7 in image\n",
      "\n",
      "Saving 7 x 7 in image\n",
      "\n",
      "Saving 7 x 7 in image\n",
      "\n"
     ]
    },
    {
     "name": "stdout",
     "output_type": "stream",
     "text": [
      "              0  1  2   3   4    5     Total  \n",
      "anger            3  10  41  189   812   1055  \n",
      "anticipation                        1      1  \n",
      "negative         1   4  23   80   391    499  \n",
      "positive         1   5  30  199  1062   1297  \n",
      "sadness       1                            1  \n",
      "trust                1   2   12    60     75  \n",
      "Total         1  5  20  96  480  2326   2928  \n",
      "[1] \"model/plotting/ready/nrc_el_surprise_classified_videos_proportional_Dataset5_top152022-01-28_18_36_39.csv\"\n",
      "[1] \"nrc_el_surprise\"\n"
     ]
    },
    {
     "name": "stderr",
     "output_type": "stream",
     "text": [
      "Saving 7 x 7 in image\n",
      "\n",
      "Saving 7 x 7 in image\n",
      "\n",
      "Saving 7 x 7 in image\n",
      "\n",
      "Saving 7 x 7 in image\n",
      "\n"
     ]
    },
    {
     "name": "stdout",
     "output_type": "stream",
     "text": [
      "    \n",
      "    \n",
      "[1] \"model/plotting/ready/nrc_el_trust_classified_videos_proportional_Dataset5_top152022-01-28_18_36_39.csv\"\n",
      "[1] \"nrc_el_trust\"\n"
     ]
    },
    {
     "name": "stderr",
     "output_type": "stream",
     "text": [
      "Saving 7 x 7 in image\n",
      "\n",
      "Saving 7 x 7 in image\n",
      "\n",
      "Saving 7 x 7 in image\n",
      "\n",
      "Saving 7 x 7 in image\n",
      "\n"
     ]
    },
    {
     "name": "stdout",
     "output_type": "stream",
     "text": [
      "              0  1  2   3    4    5     Total  \n",
      "anger                1    7   49   203    260  \n",
      "anticipation                   1    13     14  \n",
      "fear                      2   11    35     48  \n",
      "joy                            1     1      2  \n",
      "negative         2   5   24   90   440    561  \n",
      "positive         4  27  108  547  2764   3450  \n",
      "trust         2  1   1    5   13    61     83  \n",
      "Total         2  7  34  146  712  3517   4418  \n"
     ]
    }
   ],
   "source": [
    "file_names <- dir(\"model/plotting/ready/\", pattern = \"nrc_el\")\n",
    "file_names <- gsub(\" \", \"\", paste(\"model/plotting/ready/\",file_names, sep=\"\"))\n",
    "\n",
    "for (file in file_names) {\n",
    "    print(file)\n",
    "    filename <- sub(\"model/plotting/ready/\", \"\", file)\n",
    "    prefix_potition <- regexpr(\"classified\", filename) - 2\n",
    "    #prefix_potition <- regexpr(\".\", filename) - 1\n",
    "    keyword_prefix <- substr(filename, 0, prefix_potition)\n",
    "    print(keyword_prefix)\n",
    "    \n",
    "    df_keyword_plot <- read.csv(file)\n",
    "    \n",
    "    df_keyword_plot <- df_keyword_plot %>%\n",
    "        dplyr::filter(length > 0)\n",
    "\n",
    "    df_keyword_plot$Bias[df_keyword_plot$bias==\"L\"] <- \"L\"\n",
    "    df_keyword_plot$Bias[df_keyword_plot$bias==\"LC\"] <- \"CL\"\n",
    "    df_keyword_plot$Bias[df_keyword_plot$bias==\"C\"] <- \"C\"\n",
    "    df_keyword_plot$Bias[df_keyword_plot$bias==\"RC\"] <- \"CR\"\n",
    "    df_keyword_plot$Bias[df_keyword_plot$bias==\"R\"] <- \"R\"\n",
    "    df_keyword_plot$Bias[df_keyword_plot$bias==\"\"] <- \"\"\n",
    "    df_keyword_plot$Bias[df_keyword_plot$Bias==\"\"] <- df_keyword_plot$new_bias[df_keyword_plot$Bias==\"\"]\n",
    "    \n",
    "    #plotbias(df_keyword_plot, keyword_prefix, 0)\n",
    "    #plotlm(df_keyword_plot, keyword_prefix, 0)\n",
    "    #plotlgpp(df_keyword_plot, keyword_prefix, 0)\n",
    "    plotnrc_el(df_keyword_plot, keyword_prefix, 0)\n",
    "\n",
    "    #plotlsd(df_keyword_plot, keyword_prefix, 0)\n",
    "    #plotafinn(df_keyword_plot, keyword_prefix, 0)\n",
    "    #plotgeninqposneg(df_keyword_plot, keyword_prefix, 0)\n",
    "    #plothuliu(df_keyword_plot, keyword_prefix, 0)\n",
    "\n",
    "}"
   ]
  },
  {
   "cell_type": "code",
   "execution_count": 58,
   "id": "77323a5c-6aa5-4cc8-8218-f4b02325e85c",
   "metadata": {},
   "outputs": [
    {
     "name": "stdout",
     "output_type": "stream",
     "text": [
      "[1] \"model/plotting/ready/lm_constraining_classified_videos_proportional_Dataset5_top152022-01-28_18_36_39.csv\"\n",
      "[1] \"lm_constraining\"\n"
     ]
    },
    {
     "name": "stderr",
     "output_type": "stream",
     "text": [
      "Saving 7 x 7 in image\n",
      "\n",
      "Saving 7 x 7 in image\n",
      "\n",
      "Saving 7 x 7 in image\n",
      "\n",
      "Saving 7 x 7 in image\n",
      "\n"
     ]
    },
    {
     "name": "stdout",
     "output_type": "stream",
     "text": [
      "    \n",
      "    \n",
      "[1] \"model/plotting/ready/lm_interesting_classified_videos_proportional_Dataset5_top152022-01-28_18_36_39.csv\"\n",
      "[1] \"lm_interesting\"\n"
     ]
    },
    {
     "name": "stderr",
     "output_type": "stream",
     "text": [
      "Saving 7 x 7 in image\n",
      "\n",
      "Saving 7 x 7 in image\n",
      "\n",
      "Saving 7 x 7 in image\n",
      "\n",
      "Saving 7 x 7 in image\n",
      "\n"
     ]
    },
    {
     "name": "stdout",
     "output_type": "stream",
     "text": [
      "              0  1  2   3   4    5     Total  \n",
      "constraining                        4      4  \n",
      "interesting   1               6    13     20  \n",
      "litigious        1   1   1    7    20     30  \n",
      "negative         2  13  68  322  1559   1964  \n",
      "positive                 1   13   116    130  \n",
      "superfluous                   1     2      3  \n",
      "uncertainty              1   11    64     76  \n",
      "Total         1  3  14  71  360  1778   2227  \n",
      "[1] \"model/plotting/ready/lm_litigious_classified_videos_proportional_Dataset5_top152022-01-28_18_36_39.csv\"\n",
      "[1] \"lm_litigious\"\n"
     ]
    },
    {
     "name": "stderr",
     "output_type": "stream",
     "text": [
      "Saving 7 x 7 in image\n",
      "\n",
      "Saving 7 x 7 in image\n",
      "\n",
      "Saving 7 x 7 in image\n",
      "\n",
      "Saving 7 x 7 in image\n",
      "\n"
     ]
    },
    {
     "name": "stdout",
     "output_type": "stream",
     "text": [
      "    \n",
      "    \n",
      "[1] \"model/plotting/ready/lm_negative_classified_videos_proportional_Dataset5_top152022-01-28_18_36_39.csv\"\n",
      "[1] \"lm_negative\"\n"
     ]
    },
    {
     "name": "stderr",
     "output_type": "stream",
     "text": [
      "Warning message:\n",
      "“Removed 4 row(s) containing missing values (geom_path).”\n",
      "Saving 7 x 7 in image\n",
      "\n",
      "Warning message:\n",
      "“Removed 4 row(s) containing missing values (geom_path).”\n",
      "Saving 7 x 7 in image\n",
      "\n",
      "Saving 7 x 7 in image\n",
      "\n",
      "Warning message:\n",
      "“Removed 4 row(s) containing missing values (geom_path).”\n",
      "Warning message:\n",
      "“Removed 4 row(s) containing missing values (geom_path).”\n",
      "Saving 7 x 7 in image\n",
      "\n"
     ]
    },
    {
     "name": "stdout",
     "output_type": "stream",
     "text": [
      "                    0   1    2     3     4      5       Total   \n",
      "constraining                          1      9      38      48  \n",
      "interesting               1     2    15     61     319     398  \n",
      "litigious                 9    23   102    429    1868    2431  \n",
      "modal words strong              2    11     56     207     276  \n",
      "negative            92  273  1222  5463  25047  119515  151612  \n",
      "positive                 58   291  1372   6646   35342   43709  \n",
      "superfluous                           1      8      32      41  \n",
      "uncertainty               7    49   238   1384    7949    9627  \n",
      "Total               92  348  1589  7203  33640  165270  208142  \n",
      "[1] \"model/plotting/ready/lm_positive_classified_videos_proportional_Dataset5_top152022-01-28_18_36_39.csv\"\n",
      "[1] \"lm_positive\"\n"
     ]
    },
    {
     "name": "stderr",
     "output_type": "stream",
     "text": [
      "Warning message:\n",
      "“Removed 4 row(s) containing missing values (geom_path).”\n",
      "Saving 7 x 7 in image\n",
      "\n",
      "Warning message:\n",
      "“Removed 4 row(s) containing missing values (geom_path).”\n",
      "Saving 7 x 7 in image\n",
      "\n",
      "Saving 7 x 7 in image\n",
      "\n",
      "Warning message:\n",
      "“Removed 4 row(s) containing missing values (geom_path).”\n",
      "Warning message:\n",
      "“Removed 4 row(s) containing missing values (geom_path).”\n",
      "Saving 7 x 7 in image\n",
      "\n"
     ]
    },
    {
     "name": "stdout",
     "output_type": "stream",
     "text": [
      "                    0   1    2    3     4      5      Total  \n",
      "constraining                                2      8     10  \n",
      "interesting                          7     24    116    147  \n",
      "litigious                 1    1    10     75    334    421  \n",
      "modal words strong             7     9     34    141    191  \n",
      "negative                 69  301  1398   6692  31895  40355  \n",
      "positive            29   30  134   601   2717  14173  17684  \n",
      "superfluous                          1      1     21     23  \n",
      "uncertainty               3   26   118    540   3031   3718  \n",
      "Total               29  103  469  2144  10085  49719  62549  \n",
      "[1] \"model/plotting/ready/lm_superfluous_classified_videos_proportional_Dataset5_top152022-01-28_18_36_39.csv\"\n",
      "[1] \"lm_superfluous\"\n"
     ]
    },
    {
     "name": "stderr",
     "output_type": "stream",
     "text": [
      "Saving 7 x 7 in image\n",
      "\n",
      "Saving 7 x 7 in image\n",
      "\n",
      "Saving 7 x 7 in image\n",
      "\n",
      "Saving 7 x 7 in image\n",
      "\n"
     ]
    },
    {
     "name": "stdout",
     "output_type": "stream",
     "text": [
      "    \n",
      "    \n",
      "[1] \"model/plotting/ready/lm_uncertainty_classified_videos_proportional_Dataset5_top152022-01-28_18_36_39.csv\"\n",
      "[1] \"lm_uncertainty\"\n"
     ]
    },
    {
     "name": "stderr",
     "output_type": "stream",
     "text": [
      "Warning message:\n",
      "“Removed 3 row(s) containing missing values (geom_path).”\n",
      "Saving 7 x 7 in image\n",
      "\n",
      "Warning message:\n",
      "“Removed 3 row(s) containing missing values (geom_path).”\n",
      "Saving 7 x 7 in image\n",
      "\n",
      "Saving 7 x 7 in image\n",
      "\n",
      "Warning message:\n",
      "“Removed 3 row(s) containing missing values (geom_path).”\n",
      "Warning message:\n",
      "“Removed 3 row(s) containing missing values (geom_path).”\n",
      "Saving 7 x 7 in image\n",
      "\n"
     ]
    },
    {
     "name": "stdout",
     "output_type": "stream",
     "text": [
      "                    0  1   2    3    4     5      Total  \n",
      "constraining                                   4      4  \n",
      "interesting                       5     6     42     53  \n",
      "litigious                    2    6    26     76    110  \n",
      "modal words strong           1         11     36     48  \n",
      "negative               23   86  401  1766   8465  10741  \n",
      "positive                6   30  137   666   3409   4248  \n",
      "superfluous                             3      6      9  \n",
      "uncertainty         7   2    6   21   150    824   1010  \n",
      "Total               7  31  125  570  2628  12862  16223  \n"
     ]
    }
   ],
   "source": [
    "file_names <- dir(\"model/plotting/ready/\", pattern = \"lm\")\n",
    "file_names <- gsub(\" \", \"\", paste(\"model/plotting/ready/\",file_names, sep=\"\"))\n",
    "\n",
    "for (file in file_names) {\n",
    "    print(file)\n",
    "    filename <- sub(\"model/plotting/ready/\", \"\", file)\n",
    "    prefix_potition <- regexpr(\"classified\", filename) - 2\n",
    "    #prefix_potition <- regexpr(\".\", filename) - 1\n",
    "    keyword_prefix <- substr(filename, 0, prefix_potition)\n",
    "    print(keyword_prefix)\n",
    "    \n",
    "    df_keyword_plot <- read.csv(file)\n",
    "    \n",
    "    df_keyword_plot <- df_keyword_plot %>%\n",
    "        dplyr::filter(length > 0)\n",
    "\n",
    "    df_keyword_plot$Bias[df_keyword_plot$bias==\"L\"] <- \"L\"\n",
    "    df_keyword_plot$Bias[df_keyword_plot$bias==\"LC\"] <- \"CL\"\n",
    "    df_keyword_plot$Bias[df_keyword_plot$bias==\"C\"] <- \"C\"\n",
    "    df_keyword_plot$Bias[df_keyword_plot$bias==\"RC\"] <- \"CR\"\n",
    "    df_keyword_plot$Bias[df_keyword_plot$bias==\"R\"] <- \"R\"\n",
    "    df_keyword_plot$Bias[df_keyword_plot$bias==\"\"] <- \"\"\n",
    "    df_keyword_plot$Bias[df_keyword_plot$Bias==\"\"] <- df_keyword_plot$new_bias[df_keyword_plot$Bias==\"\"]\n",
    "    \n",
    "    #plotbias(df_keyword_plot, keyword_prefix, 0)\n",
    "    plotlm(df_keyword_plot, keyword_prefix, 0)\n",
    "    #plotlgpp(df_keyword_plot, keyword_prefix, 0)\n",
    "    #plotnrc_el(df_keyword_plot, keyword_prefix, 0)\n",
    "\n",
    "    #plotlsd(df_keyword_plot, keyword_prefix, 0)\n",
    "    #plotafinn(df_keyword_plot, keyword_prefix, 0)\n",
    "    #plotgeninqposneg(df_keyword_plot, keyword_prefix, 0)\n",
    "    #plothuliu(df_keyword_plot, keyword_prefix, 0)\n",
    "\n",
    "}"
   ]
  },
  {
   "cell_type": "code",
   "execution_count": 45,
   "id": "350342f7-1741-4ae1-af1a-83de0a09fe2f",
   "metadata": {},
   "outputs": [
    {
     "name": "stdout",
     "output_type": "stream",
     "text": [
      "[1] \"model/plotting/ready/lgpp_culture_classified_videos_proportional_Dataset5_top152022-01-28_18_36_39.csv\"\n",
      "[1] \"lgpp_culture\"\n"
     ]
    },
    {
     "name": "stderr",
     "output_type": "stream",
     "text": [
      "Saving 7 x 7 in image\n",
      "\n",
      "Saving 7 x 7 in image\n",
      "\n",
      "Saving 7 x 7 in image\n",
      "\n",
      "Saving 7 x 7 in image\n",
      "\n"
     ]
    },
    {
     "name": "stdout",
     "output_type": "stream",
     "text": [
      "               0   1   2    3    4     5      Total  \n",
      "culture        12  13   49  244  1004   4927   6249  \n",
      "economy            30  119  529  2510  12555  15743  \n",
      "environment              2   14    78    383    477  \n",
      "groups                   2    4    19     84    109  \n",
      "institutions        2   30   89   446   1859   2426  \n",
      "law_and_order       1    1   12    72    463    549  \n",
      "rural                    1    5    24    114    144  \n",
      "urban                               2      2      4  \n",
      "values                   2    9    57    188    256  \n",
      "Total          12  46  206  906  4212  20575  25957  \n",
      "[1] \"model/plotting/ready/lgpp_economy_classified_videos_proportional_Dataset5_top152022-01-28_18_36_39.csv\"\n",
      "[1] \"lgpp_economy\"\n"
     ]
    },
    {
     "name": "stderr",
     "output_type": "stream",
     "text": [
      "Saving 7 x 7 in image\n",
      "\n",
      "Saving 7 x 7 in image\n",
      "\n",
      "Saving 7 x 7 in image\n",
      "\n",
      "Saving 7 x 7 in image\n",
      "\n"
     ]
    },
    {
     "name": "stdout",
     "output_type": "stream",
     "text": [
      "               0   1    2     3     4      5       Total   \n",
      "culture             27   146   750   3528   17512   21963  \n",
      "economy        69  174   806  3597  16992   85053  106691  \n",
      "environment          5    16    77    409    2017    2524  \n",
      "groups               1     3    23     83     367     477  \n",
      "institutions        45   154   672   2824   12504   16199  \n",
      "law_and_order        9    35   149    725    3158    4076  \n",
      "rural                           16     63     421     500  \n",
      "urban                            1      5      11      17  \n",
      "values               3    15    63    277    1358    1716  \n",
      "Total          69  264  1175  5348  24906  122401  154163  \n",
      "[1] \"model/plotting/ready/lgpp_groups_classified_videos_proportional_Dataset5_top152022-01-28_18_36_39.csv\"\n",
      "[1] \"lgpp_groups\"\n"
     ]
    },
    {
     "name": "stderr",
     "output_type": "stream",
     "text": [
      "Saving 7 x 7 in image\n",
      "\n",
      "Saving 7 x 7 in image\n",
      "\n",
      "Saving 7 x 7 in image\n",
      "\n",
      "Saving 7 x 7 in image\n",
      "\n"
     ]
    },
    {
     "name": "stdout",
     "output_type": "stream",
     "text": [
      "               0  1   2   3    4    5     Total  \n",
      "culture            1  11   45  166   755    978  \n",
      "economy            5  32  137  698  3356   4228  \n",
      "environment                      7    41     48  \n",
      "groups         2       1    5   15    74     97  \n",
      "institutions       2       12   46   284    344  \n",
      "law_and_order      1   1    6   32   131    171  \n",
      "rural                                 15     15  \n",
      "values             1   1    6   19    63     90  \n",
      "Total          2  10  46  211  983  4719   5971  \n",
      "[1] \"model/plotting/ready/lgpp_institutions_classified_videos_proportional_Dataset5_top152022-01-28_18_36_39.csv\"\n",
      "[1] \"lgpp_institutions\"\n"
     ]
    },
    {
     "name": "stderr",
     "output_type": "stream",
     "text": [
      "Saving 7 x 7 in image\n",
      "\n",
      "Saving 7 x 7 in image\n",
      "\n",
      "Saving 7 x 7 in image\n",
      "\n",
      "Saving 7 x 7 in image\n",
      "\n"
     ]
    },
    {
     "name": "stdout",
     "output_type": "stream",
     "text": [
      "               0   1    2    3     4      5      Total  \n",
      "culture             11   68   416   2021  10117  12633  \n",
      "economy             66  345  1598   7685  37883  47577  \n",
      "environment          2    9    24    178    806   1019  \n",
      "groups               1          4     15    148    168  \n",
      "institutions   31   27   92   300   1232   5317   6999  \n",
      "law_and_order        6   16    99    426   2048   2595  \n",
      "rural                     3     9     33    257    302  \n",
      "urban                                         3      3  \n",
      "values               2    9    25    114    627    777  \n",
      "Total          31  115  542  2475  11704  57206  72073  \n",
      "[1] \"model/plotting/ready/lgpp_law_and_order_classified_videos_proportional_Dataset5_top152022-01-28_18_36_39.csv\"\n",
      "[1] \"lgpp_law_and_order\"\n"
     ]
    },
    {
     "name": "stderr",
     "output_type": "stream",
     "text": [
      "Saving 7 x 7 in image\n",
      "\n",
      "Saving 7 x 7 in image\n",
      "\n",
      "Saving 7 x 7 in image\n",
      "\n",
      "Saving 7 x 7 in image\n",
      "\n"
     ]
    },
    {
     "name": "stdout",
     "output_type": "stream",
     "text": [
      "               0  1   2   3    4     5      Total  \n",
      "culture            4  27  112   437   2127   2707  \n",
      "economy           12  44  255  1154   5980   7445  \n",
      "environment        1   2    8    31    195    237  \n",
      "groups                      4    10     56     70  \n",
      "institutions       4  11   41   267   1359   1682  \n",
      "law_and_order  7   1   9   34   148    698    897  \n",
      "rural                             3     21     24  \n",
      "urban                             1      2      3  \n",
      "values                 5   13    65    276    359  \n",
      "Total          7  22  98  467  2116  10714  13424  \n",
      "[1] \"model/plotting/ready/lgpp_rural_classified_videos_proportional_Dataset5_top152022-01-28_18_36_39.csv\"\n",
      "[1] \"lgpp_rural\"\n"
     ]
    },
    {
     "name": "stderr",
     "output_type": "stream",
     "text": [
      "Saving 7 x 7 in image\n",
      "\n",
      "Saving 7 x 7 in image\n",
      "\n",
      "Saving 7 x 7 in image\n",
      "\n",
      "Saving 7 x 7 in image\n",
      "\n"
     ]
    },
    {
     "name": "stdout",
     "output_type": "stream",
     "text": [
      "    \n",
      "    \n",
      "[1] \"model/plotting/ready/lgpp_urban_classified_videos_proportional_Dataset5_top152022-01-28_18_36_39.csv\"\n",
      "[1] \"lgpp_urban\"\n"
     ]
    },
    {
     "name": "stderr",
     "output_type": "stream",
     "text": [
      "Saving 7 x 7 in image\n",
      "\n",
      "Saving 7 x 7 in image\n",
      "\n",
      "Saving 7 x 7 in image\n",
      "\n",
      "Saving 7 x 7 in image\n",
      "\n"
     ]
    },
    {
     "name": "stdout",
     "output_type": "stream",
     "text": [
      "    \n",
      "    \n",
      "[1] \"model/plotting/ready/lgpp_values_classified_videos_proportional_Dataset5_top152022-01-28_18_36_39.csv\"\n",
      "[1] \"lgpp_values\"\n"
     ]
    },
    {
     "name": "stderr",
     "output_type": "stream",
     "text": [
      "Saving 7 x 7 in image\n",
      "\n",
      "Saving 7 x 7 in image\n",
      "\n",
      "Saving 7 x 7 in image\n",
      "\n",
      "Saving 7 x 7 in image\n",
      "\n"
     ]
    },
    {
     "name": "stdout",
     "output_type": "stream",
     "text": [
      "               0  1   2    3    4     5      Total  \n",
      "culture            8   28  129   570   2741   3476  \n",
      "economy           15   79  373  1857   9568  11892  \n",
      "environment             2    1    28    184    215  \n",
      "groups                       2     3     26     31  \n",
      "institutions       3   13   43   191    869   1119  \n",
      "law_and_order      1    3   13    89    386    492  \n",
      "rural                   1    1    11     61     74  \n",
      "values         8   1    4   19    43    179    254  \n",
      "Total          8  28  130  581  2792  14014  17553  \n"
     ]
    }
   ],
   "source": [
    "file_names <- dir(\"model/plotting/ready/\", pattern = \"lgpp\")\n",
    "file_names <- gsub(\" \", \"\", paste(\"model/plotting/ready/\",file_names, sep=\"\"))\n",
    "\n",
    "for (file in file_names) {\n",
    "    print(file)\n",
    "    filename <- sub(\"model/plotting/ready/\", \"\", file)\n",
    "    prefix_potition <- regexpr(\"classified\", filename) - 2\n",
    "    #prefix_potition <- regexpr(\".\", filename) - 1\n",
    "    keyword_prefix <- substr(filename, 0, prefix_potition)\n",
    "    print(keyword_prefix)\n",
    "    \n",
    "    df_keyword_plot <- read.csv(file)\n",
    "    \n",
    "    df_keyword_plot <- df_keyword_plot %>%\n",
    "        dplyr::filter(length > 0)\n",
    "\n",
    "    df_keyword_plot$Bias[df_keyword_plot$bias==\"L\"] <- \"L\"\n",
    "    df_keyword_plot$Bias[df_keyword_plot$bias==\"LC\"] <- \"CL\"\n",
    "    df_keyword_plot$Bias[df_keyword_plot$bias==\"C\"] <- \"C\"\n",
    "    df_keyword_plot$Bias[df_keyword_plot$bias==\"RC\"] <- \"CR\"\n",
    "    df_keyword_plot$Bias[df_keyword_plot$bias==\"R\"] <- \"R\"\n",
    "    df_keyword_plot$Bias[df_keyword_plot$bias==\"\"] <- \"\"\n",
    "    df_keyword_plot$Bias[df_keyword_plot$Bias==\"\"] <- df_keyword_plot$new_bias[df_keyword_plot$Bias==\"\"]\n",
    "    \n",
    "    #plotbias(df_keyword_plot, keyword_prefix, 0)\n",
    "    #plotlm(df_keyword_plot, keyword_prefix, 0)\n",
    "    plotlgpp(df_keyword_plot, keyword_prefix, 0)\n",
    "    #plotnrc_el(df_keyword_plot, keyword_prefix, 0)\n",
    "\n",
    "    #plotlsd(df_keyword_plot, keyword_prefix, 0)\n",
    "    #plotafinn(df_keyword_plot, keyword_prefix, 0)\n",
    "    #plotgeninqposneg(df_keyword_plot, keyword_prefix, 0)\n",
    "    #plothuliu(df_keyword_plot, keyword_prefix, 0)\n",
    "\n",
    "}"
   ]
  },
  {
   "cell_type": "code",
   "execution_count": 35,
   "id": "656eed6a-5f1a-45a0-a44b-23815ddb05de",
   "metadata": {},
   "outputs": [
    {
     "name": "stdout",
     "output_type": "stream",
     "text": [
      "[1] \"model/plotting/keywords/AOC.csv\"\n",
      "[1] \"AOC.csv\"\n",
      "[1] \"AOC\"\n"
     ]
    },
    {
     "name": "stderr",
     "output_type": "stream",
     "text": [
      "Saving 7 x 7 in image\n",
      "\n",
      "Saving 7 x 7 in image\n",
      "\n",
      "Saving 7 x 7 in image\n",
      "\n",
      "Saving 7 x 7 in image\n",
      "\n"
     ]
    },
    {
     "name": "stdout",
     "output_type": "stream",
     "text": [
      "       0  1   2   3    4     5     Total  \n",
      "C          2   7   34   206  1151   1400  \n",
      "CL         2  18   78   437  2958   3493  \n",
      "CR         1   4   26   129   617    777  \n",
      "L                         6    43     49  \n",
      "R      2  12  50  214   851  3492   4621  \n",
      "Total  2  17  79  352  1629  8261  10340  \n",
      "[1] \"model/plotting/keywords/AnthonyFauci.csv\"\n",
      "[1] \"AnthonyFauci.csv\"\n",
      "[1] \"AnthonyFauci\"\n"
     ]
    },
    {
     "name": "stderr",
     "output_type": "stream",
     "text": [
      "Saving 7 x 7 in image\n",
      "\n",
      "Saving 7 x 7 in image\n",
      "\n",
      "Saving 7 x 7 in image\n",
      "\n",
      "Saving 7 x 7 in image\n",
      "\n"
     ]
    },
    {
     "name": "stdout",
     "output_type": "stream",
     "text": [
      "       0  1   2   3    4     5     Total  \n",
      "C      1   4  21  103   503  2885   3517  \n",
      "CL     2   7  45  213  1045  5114   6426  \n",
      "CR     1       2   12    50   258    323  \n",
      "L          3   8   36   137   540    724  \n",
      "R          1   3    9    28   113    154  \n",
      "Total  4  15  79  373  1763  8910  11144  \n",
      "[1] \"model/plotting/keywords/AnthonyHuber.csv\"\n",
      "[1] \"AnthonyHuber.csv\"\n",
      "[1] \"AnthonyHuber\"\n"
     ]
    },
    {
     "name": "stderr",
     "output_type": "stream",
     "text": [
      "Saving 7 x 7 in image\n",
      "\n",
      "Saving 7 x 7 in image\n",
      "\n",
      "Saving 7 x 7 in image\n",
      "\n",
      "Saving 7 x 7 in image\n",
      "\n"
     ]
    },
    {
     "name": "stdout",
     "output_type": "stream",
     "text": [
      "       0  1   2   3    4     5     Total  \n",
      "C          1   9   32   141   826   1009  \n",
      "CL     2   6  24  114   535  2906   3587  \n",
      "CR     2   3   3   23   175  1058   1264  \n",
      "L              5   18    75   318    416  \n",
      "R          4  21   92   398  1704   2219  \n",
      "Total  4  14  62  279  1324  6812   8495  \n",
      "[1] \"model/plotting/keywords/BarakObama.csv\"\n",
      "[1] \"BarakObama.csv\"\n",
      "[1] \"BarakObama\"\n"
     ]
    },
    {
     "name": "stderr",
     "output_type": "stream",
     "text": [
      "Saving 7 x 7 in image\n",
      "\n",
      "Saving 7 x 7 in image\n",
      "\n",
      "Saving 7 x 7 in image\n",
      "\n",
      "Saving 7 x 7 in image\n",
      "\n"
     ]
    },
    {
     "name": "stdout",
     "output_type": "stream",
     "text": [
      "       0  1   2   3    4     5     Total  \n",
      "C          4  21  105   498  2443   3071  \n",
      "CL     2  11  44  174   821  4136   5188  \n",
      "CR             2   11    50   226    289  \n",
      "L          1   3   13    56   385    458  \n",
      "R                   1     3    11     15  \n",
      "Total  2  16  70  304  1428  7201   9021  \n",
      "[1] \"model/plotting/keywords/ClimateChange.csv\"\n",
      "[1] \"ClimateChange.csv\"\n",
      "[1] \"ClimateChange\"\n"
     ]
    },
    {
     "name": "stderr",
     "output_type": "stream",
     "text": [
      "Saving 7 x 7 in image\n",
      "\n",
      "Saving 7 x 7 in image\n",
      "\n",
      "Saving 7 x 7 in image\n",
      "\n",
      "Saving 7 x 7 in image\n",
      "\n"
     ]
    },
    {
     "name": "stdout",
     "output_type": "stream",
     "text": [
      "       0  1   2   3    4     5     Total  \n",
      "C      1   7  35  168   781  3765   4757  \n",
      "CL     2   7  33  120   626  3252   4040  \n",
      "CR     1   1   3   17    92   512    626  \n",
      "L          1   5   16    58   255    335  \n",
      "R          1   8   42   201   918   1170  \n",
      "Total  4  17  84  363  1758  8702  10928  \n",
      "[1] \"model/plotting/keywords/CulturalAppropriation.csv\"\n",
      "[1] \"CulturalAppropriation.csv\"\n",
      "[1] \"CulturalAppropriation\"\n"
     ]
    },
    {
     "name": "stderr",
     "output_type": "stream",
     "text": [
      "Saving 7 x 7 in image\n",
      "\n",
      "Saving 7 x 7 in image\n",
      "\n",
      "Saving 7 x 7 in image\n",
      "\n",
      "Saving 7 x 7 in image\n",
      "\n"
     ]
    },
    {
     "name": "stdout",
     "output_type": "stream",
     "text": [
      "       0  1   2   3    4     5     Total  \n",
      "C      1      10   41   288  1416   1756  \n",
      "CL     2  13  56  224   854  4516   5665  \n",
      "CR     1   4   7   34   124   563    733  \n",
      "L              1    8    33   222    264  \n",
      "R                   2    18   118    138  \n",
      "Total  4  17  74  309  1317  6835   8556  \n",
      "[1] \"model/plotting/keywords/DonaldTrump.csv\"\n",
      "[1] \"DonaldTrump.csv\"\n",
      "[1] \"DonaldTrump\"\n"
     ]
    },
    {
     "name": "stderr",
     "output_type": "stream",
     "text": [
      "Saving 7 x 7 in image\n",
      "\n",
      "Saving 7 x 7 in image\n",
      "\n",
      "Saving 7 x 7 in image\n",
      "\n",
      "Saving 7 x 7 in image\n",
      "\n"
     ]
    },
    {
     "name": "stdout",
     "output_type": "stream",
     "text": [
      "       0  1   2   3    4     5     Total  \n",
      "C      1   1  11   69   313  1586   1981  \n",
      "CL     2  11  47  205  1050  5364   6679  \n",
      "CR         1   4   25   116   612    758  \n",
      "L      1   3  10   41   172   807   1034  \n",
      "R          5  17   71   284  1159   1536  \n",
      "Total  4  21  89  411  1935  9528  11988  \n",
      "[1] \"model/plotting/keywords/Feminism.csv\"\n",
      "[1] \"Feminism.csv\"\n",
      "[1] \"Feminism\"\n"
     ]
    },
    {
     "name": "stderr",
     "output_type": "stream",
     "text": [
      "Saving 7 x 7 in image\n",
      "\n",
      "Saving 7 x 7 in image\n",
      "\n",
      "Saving 7 x 7 in image\n",
      "\n",
      "Saving 7 x 7 in image\n",
      "\n"
     ]
    },
    {
     "name": "stdout",
     "output_type": "stream",
     "text": [
      "       0  1   2   3    4     5     Total  \n",
      "C      2   8  47  239  1157  5435   6888  \n",
      "CL     1   7  21   90   398  2166   2683  \n",
      "CR                  1     4    55     60  \n",
      "L                   2    14    81     97  \n",
      "R                   1     9    48     58  \n",
      "Total  3  15  68  333  1582  7785   9786  \n",
      "[1] \"model/plotting/keywords/FreeSpeech.csv\"\n",
      "[1] \"FreeSpeech.csv\"\n",
      "[1] \"FreeSpeech\"\n"
     ]
    },
    {
     "name": "stderr",
     "output_type": "stream",
     "text": [
      "Saving 7 x 7 in image\n",
      "\n",
      "Saving 7 x 7 in image\n",
      "\n",
      "Saving 7 x 7 in image\n",
      "\n",
      "Saving 7 x 7 in image\n",
      "\n"
     ]
    },
    {
     "name": "stdout",
     "output_type": "stream",
     "text": [
      "       0  1   2   3    4     5     Total  \n",
      "C      1   7  53  230  1104  5412   6807  \n",
      "CL     3   8  29  134   671  3584   4429  \n",
      "CR             3   10    62   314    389  \n",
      "L                   3    10    49     62  \n",
      "R                         4    29     33  \n",
      "Total  4  15  85  377  1851  9388  11720  \n",
      "[1] \"model/plotting/keywords/GavinNewson.csv\"\n",
      "[1] \"GavinNewson.csv\"\n",
      "[1] \"GavinNewson\"\n"
     ]
    },
    {
     "name": "stderr",
     "output_type": "stream",
     "text": [
      "Saving 7 x 7 in image\n",
      "\n",
      "Saving 7 x 7 in image\n",
      "\n",
      "Saving 7 x 7 in image\n",
      "\n",
      "Saving 7 x 7 in image\n",
      "\n"
     ]
    },
    {
     "name": "stdout",
     "output_type": "stream",
     "text": [
      "       0  1   2   3    4     5     Total  \n",
      "C      1   2   9   53   270  1454   1789  \n",
      "CL     1   7  32  121   567  3105   3833  \n",
      "CR     1   3  10   40   192   842   1088  \n",
      "L          1   4   19    80   350    454  \n",
      "R              1    6    26   120    153  \n",
      "Total  3  13  56  239  1135  5871   7317  \n",
      "[1] \"model/plotting/keywords/GunControl.csv\"\n",
      "[1] \"GunControl.csv\"\n",
      "[1] \"GunControl\"\n"
     ]
    },
    {
     "name": "stderr",
     "output_type": "stream",
     "text": [
      "Saving 7 x 7 in image\n",
      "\n",
      "Saving 7 x 7 in image\n",
      "\n",
      "Saving 7 x 7 in image\n",
      "\n",
      "Saving 7 x 7 in image\n",
      "\n"
     ]
    },
    {
     "name": "stdout",
     "output_type": "stream",
     "text": [
      "       0  1   2   3    4     5     Total  \n",
      "C          3  16   91   463  2266   2839  \n",
      "CL     2   7  27  110   508  2815   3469  \n",
      "CR         1   3   14    69   310    397  \n",
      "L              5   16    62   246    329  \n",
      "R          2  15   64   286  1203   1570  \n",
      "Total  2  13  66  295  1388  6840   8604  \n",
      "[1] \"model/plotting/keywords/HillaryClinton.csv\"\n",
      "[1] \"HillaryClinton.csv\"\n",
      "[1] \"HillaryClinton\"\n"
     ]
    },
    {
     "name": "stderr",
     "output_type": "stream",
     "text": [
      "Saving 7 x 7 in image\n",
      "\n",
      "Saving 7 x 7 in image\n",
      "\n",
      "Saving 7 x 7 in image\n",
      "\n",
      "Saving 7 x 7 in image\n",
      "\n"
     ]
    },
    {
     "name": "stdout",
     "output_type": "stream",
     "text": [
      "       0  1   2   3    4     5     Total  \n",
      "C              7   29   173  1108   1317  \n",
      "CL     2  12  36  200   994  5206   6450  \n",
      "CR             2   12    57   319    390  \n",
      "L      3   9  42  166   683  2834   3737  \n",
      "R              1    4    32   163    200  \n",
      "Total  5  21  88  411  1939  9630  12094  \n",
      "[1] \"model/plotting/keywords/IlhanOmar.csv\"\n",
      "[1] \"IlhanOmar.csv\"\n",
      "[1] \"IlhanOmar\"\n"
     ]
    },
    {
     "name": "stderr",
     "output_type": "stream",
     "text": [
      "Saving 7 x 7 in image\n",
      "\n",
      "Saving 7 x 7 in image\n",
      "\n",
      "Saving 7 x 7 in image\n",
      "\n",
      "Saving 7 x 7 in image\n",
      "\n"
     ]
    },
    {
     "name": "stdout",
     "output_type": "stream",
     "text": [
      "       0  1   2   3    4     5     Total  \n",
      "C      2   1  17   62   341  1762   2185  \n",
      "CL         8  28  169   740  3750   4695  \n",
      "CR         3  17   81   347  1539   1987  \n",
      "L      1   3   6   21    79   318    428  \n",
      "R          2  10   51   232  1042   1337  \n",
      "Total  3  17  78  384  1739  8411  10632  \n",
      "[1] \"model/plotting/keywords/Immigration.csv\"\n",
      "[1] \"Immigration.csv\"\n",
      "[1] \"Immigration\"\n"
     ]
    },
    {
     "name": "stderr",
     "output_type": "stream",
     "text": [
      "Saving 7 x 7 in image\n",
      "\n",
      "Saving 7 x 7 in image\n",
      "\n",
      "Saving 7 x 7 in image\n",
      "\n",
      "Saving 7 x 7 in image\n",
      "\n"
     ]
    },
    {
     "name": "stdout",
     "output_type": "stream",
     "text": [
      "       0  1   2   3    4     5     Total  \n",
      "C      2   6  29  159   726  3745   4667  \n",
      "CL     1   9  37  161   740  3965   4913  \n",
      "CR         1   3   10    42   221    277  \n",
      "L      1   2   9   26    76   270    384  \n",
      "R          2  12   46   203   887   1150  \n",
      "Total  4  20  90  402  1787  9088  11391  \n",
      "[1] \"model/plotting/keywords/InfrastructureBill.csv\"\n",
      "[1] \"InfrastructureBill.csv\"\n",
      "[1] \"InfrastructureBill\"\n"
     ]
    },
    {
     "name": "stderr",
     "output_type": "stream",
     "text": [
      "Saving 7 x 7 in image\n",
      "\n",
      "Saving 7 x 7 in image\n",
      "\n",
      "Saving 7 x 7 in image\n",
      "\n",
      "Saving 7 x 7 in image\n",
      "\n"
     ]
    },
    {
     "name": "stdout",
     "output_type": "stream",
     "text": [
      "       0  1   2   3    4     5     Total  \n",
      "C          3  24  123   573  3016   3739  \n",
      "CL     3  11  31  161   733  3926   4865  \n",
      "CR             5   18    83   377    483  \n",
      "L          1  15   44   139   536    735  \n",
      "R              1    4    29   166    200  \n",
      "Total  3  15  76  350  1557  8021  10022  \n",
      "[1] \"model/plotting/keywords/JoeBiden.csv\"\n",
      "[1] \"JoeBiden.csv\"\n",
      "[1] \"JoeBiden\"\n"
     ]
    },
    {
     "name": "stderr",
     "output_type": "stream",
     "text": [
      "Saving 7 x 7 in image\n",
      "\n",
      "Saving 7 x 7 in image\n",
      "\n",
      "Saving 7 x 7 in image\n",
      "\n",
      "Saving 7 x 7 in image\n",
      "\n"
     ]
    },
    {
     "name": "stdout",
     "output_type": "stream",
     "text": [
      "       0  1   2   3    4     5      Total  \n",
      "C      2   3  18   42   228   1079   1372  \n",
      "CL     3   7  24  151   773   4716   5674  \n",
      "CR         2  10   41   211    934   1198  \n",
      "L          3  21  104   454   2132   2714  \n",
      "R          5  26  116   509   2167   2823  \n",
      "Total  5  20  99  454  2175  11028  13781  \n",
      "[1] \"model/plotting/keywords/JoeManchin.csv\"\n",
      "[1] \"JoeManchin.csv\"\n",
      "[1] \"JoeManchin\"\n"
     ]
    },
    {
     "name": "stderr",
     "output_type": "stream",
     "text": [
      "Saving 7 x 7 in image\n",
      "\n",
      "Saving 7 x 7 in image\n",
      "\n",
      "Saving 7 x 7 in image\n",
      "\n",
      "Saving 7 x 7 in image\n",
      "\n"
     ]
    },
    {
     "name": "stdout",
     "output_type": "stream",
     "text": [
      "       0  1   2   3    4     5     Total  \n",
      "C          4  23   95   508  2706   3336  \n",
      "CL     1   3  10  108   526  3008   3656  \n",
      "CR     1   3  10   31   130   578    753  \n",
      "L                         6    44     50  \n",
      "R      1   6  30  139   602  2546   3324  \n",
      "Total  3  16  73  373  1772  8882  11119  \n",
      "[1] \"model/plotting/keywords/JosephRocenbaum.csv\"\n",
      "[1] \"JosephRocenbaum.csv\"\n",
      "[1] \"JosephRocenbaum\"\n"
     ]
    },
    {
     "name": "stderr",
     "output_type": "stream",
     "text": [
      "Saving 7 x 7 in image\n",
      "\n",
      "Saving 7 x 7 in image\n",
      "\n",
      "Saving 7 x 7 in image\n",
      "\n",
      "Saving 7 x 7 in image\n",
      "\n"
     ]
    },
    {
     "name": "stdout",
     "output_type": "stream",
     "text": [
      "       0  1   2   3    4     5     Total  \n",
      "C      2   7  21  119   543  2677   3369  \n",
      "CL     1   8  29  135   604  3359   4136  \n",
      "CR     2   1   7   24   100   446    580  \n",
      "L              1    3    18    86    108  \n",
      "R              5   13    71   293    382  \n",
      "Total  5  16  63  294  1336  6861   8575  \n",
      "[1] \"model/plotting/keywords/KyleRittenhouse.csv\"\n",
      "[1] \"KyleRittenhouse.csv\"\n",
      "[1] \"KyleRittenhouse\"\n"
     ]
    },
    {
     "name": "stderr",
     "output_type": "stream",
     "text": [
      "Saving 7 x 7 in image\n",
      "\n",
      "Saving 7 x 7 in image\n",
      "\n",
      "Saving 7 x 7 in image\n",
      "\n",
      "Saving 7 x 7 in image\n",
      "\n"
     ]
    },
    {
     "name": "stdout",
     "output_type": "stream",
     "text": [
      "       0  1  2   3    4    5     Total  \n",
      "C      1  2   4   23   98   621    749  \n",
      "CL     1  1  21   81  476  2467   3047  \n",
      "CR     1      2   12   70   336    421  \n",
      "L                  1   15    99    115  \n",
      "R         1   4   24   91   369    489  \n",
      "Total  3  4  31  141  750  3892   4821  \n",
      "[1] \"model/plotting/keywords/LetsgoBrandon.csv\"\n",
      "[1] \"LetsgoBrandon.csv\"\n",
      "[1] \"LetsgoBrandon\"\n"
     ]
    },
    {
     "name": "stderr",
     "output_type": "stream",
     "text": [
      "Saving 7 x 7 in image\n",
      "\n",
      "Saving 7 x 7 in image\n",
      "\n",
      "Saving 7 x 7 in image\n",
      "\n",
      "Saving 7 x 7 in image\n",
      "\n"
     ]
    },
    {
     "name": "stdout",
     "output_type": "stream",
     "text": [
      "       0  1  2   3    4    5     Total  \n",
      "C         3   7   23  113   648    794  \n",
      "CL        2  16   82  411  2257   2768  \n",
      "CR                16   53   251    320  \n",
      "L         3   9   29   96   388    525  \n",
      "R      1  1   4   12   53   194    265  \n",
      "Total  1  9  36  162  726  3738   4672  \n",
      "[1] \"model/plotting/keywords/LindseyGraham.csv\"\n",
      "[1] \"LindseyGraham.csv\"\n",
      "[1] \"LindseyGraham\"\n"
     ]
    },
    {
     "name": "stderr",
     "output_type": "stream",
     "text": [
      "Saving 7 x 7 in image\n",
      "\n",
      "Saving 7 x 7 in image\n",
      "\n",
      "Saving 7 x 7 in image\n",
      "\n",
      "Saving 7 x 7 in image\n",
      "\n"
     ]
    },
    {
     "name": "stdout",
     "output_type": "stream",
     "text": [
      "       0  1   2    3    4     5      Total  \n",
      "C      2   2   17   87   491   2537   3136  \n",
      "CL         1   22  104   592   3493   4212  \n",
      "CR     2  13   43  154   633   2502   3347  \n",
      "L          1    2    7    23    102    135  \n",
      "R      1   4   17   88   393   1773   2276  \n",
      "Total  5  21  101  440  2132  10407  13106  \n",
      "[1] \"model/plotting/keywords/MitchMcConnell.csv\"\n",
      "[1] \"MitchMcConnell.csv\"\n",
      "[1] \"MitchMcConnell\"\n"
     ]
    },
    {
     "name": "stderr",
     "output_type": "stream",
     "text": [
      "Saving 7 x 7 in image\n",
      "\n",
      "Saving 7 x 7 in image\n",
      "\n",
      "Saving 7 x 7 in image\n",
      "\n",
      "Saving 7 x 7 in image\n",
      "\n"
     ]
    },
    {
     "name": "stdout",
     "output_type": "stream",
     "text": [
      "       0  1   2   3    4     5      Total  \n",
      "C          1   8   51   297   1702   2059  \n",
      "CL     1   5  32  138   724   4022   4922  \n",
      "CR     1   3  11   54   194    916   1179  \n",
      "L      2   8  29   96   315   1127   1577  \n",
      "R      1   5  19  110   526   2460   3121  \n",
      "Total  5  22  99  449  2056  10227  12858  \n",
      "[1] \"model/plotting/keywords/Moderna.csv\"\n",
      "[1] \"Moderna.csv\"\n",
      "[1] \"Moderna\"\n"
     ]
    },
    {
     "name": "stderr",
     "output_type": "stream",
     "text": [
      "Saving 7 x 7 in image\n",
      "\n",
      "Saving 7 x 7 in image\n",
      "\n",
      "Saving 7 x 7 in image\n",
      "\n",
      "Saving 7 x 7 in image\n",
      "\n"
     ]
    },
    {
     "name": "stdout",
     "output_type": "stream",
     "text": [
      "       0  1   2   3    4     5     Total  \n",
      "C          2  33  153   606  3110   3904  \n",
      "CL     4  11  34  139   694  3611   4493  \n",
      "CR     1   2   3   14    84   337    441  \n",
      "L                   1     9    51     61  \n",
      "R          1   7   27   119   560    714  \n",
      "Total  5  16  77  334  1512  7669   9613  \n",
      "[1] \"model/plotting/keywords/NRA.csv\"\n",
      "[1] \"NRA.csv\"\n",
      "[1] \"NRA\"\n"
     ]
    },
    {
     "name": "stderr",
     "output_type": "stream",
     "text": [
      "Saving 7 x 7 in image\n",
      "\n",
      "Saving 7 x 7 in image\n",
      "\n",
      "Saving 7 x 7 in image\n",
      "\n",
      "Saving 7 x 7 in image\n",
      "\n"
     ]
    },
    {
     "name": "stdout",
     "output_type": "stream",
     "text": [
      "       0  1   2   3    4     5     Total  \n",
      "C              7   68   362  2126   2563  \n",
      "CL     5  21  78  315  1397  6450   8266  \n",
      "CR                  4    15   142    161  \n",
      "L              3   14    55   296    368  \n",
      "R              1          4    22     27  \n",
      "Total  5  21  89  401  1833  9036  11385  \n",
      "[1] \"model/plotting/keywords/NancyPelosi.csv\"\n",
      "[1] \"NancyPelosi.csv\"\n",
      "[1] \"NancyPelosi\"\n"
     ]
    },
    {
     "name": "stderr",
     "output_type": "stream",
     "text": [
      "Saving 7 x 7 in image\n",
      "\n",
      "Saving 7 x 7 in image\n",
      "\n",
      "Saving 7 x 7 in image\n",
      "\n",
      "Saving 7 x 7 in image\n",
      "\n"
     ]
    },
    {
     "name": "stdout",
     "output_type": "stream",
     "text": [
      "       0  1  2   3    4    5     Total  \n",
      "C         3   7   32  121   641    804  \n",
      "CL        1  15   51  253  1539   1859  \n",
      "CR     1  2   7   27  129   469    635  \n",
      "L         1   3   14   49   233    300  \n",
      "R         2   8   46  224  1076   1356  \n",
      "Total  1  9  40  170  776  3958   4954  \n",
      "[1] \"model/plotting/keywords/NewtGingrich.csv\"\n",
      "[1] \"NewtGingrich.csv\"\n",
      "[1] \"NewtGingrich\"\n"
     ]
    },
    {
     "name": "stderr",
     "output_type": "stream",
     "text": [
      "Saving 7 x 7 in image\n",
      "\n",
      "Saving 7 x 7 in image\n",
      "\n",
      "Saving 7 x 7 in image\n",
      "\n",
      "Saving 7 x 7 in image\n",
      "\n"
     ]
    },
    {
     "name": "stdout",
     "output_type": "stream",
     "text": [
      "       0  1   2   3    4     5      Total  \n",
      "C              8   39   232   1339   1618  \n",
      "CL         2  13   65   410   2341   2831  \n",
      "CR     1   1   6   26   140    613    787  \n",
      "L                   1    10    162    173  \n",
      "R      4  17  67  304  1405   6376   8173  \n",
      "Total  5  20  94  435  2197  10831  13582  \n",
      "[1] \"model/plotting/keywords/Omicron.csv\"\n",
      "[1] \"Omicron.csv\"\n",
      "[1] \"Omicron\"\n"
     ]
    },
    {
     "name": "stderr",
     "output_type": "stream",
     "text": [
      "Saving 7 x 7 in image\n",
      "\n",
      "Saving 7 x 7 in image\n",
      "\n",
      "Saving 7 x 7 in image\n",
      "\n",
      "Saving 7 x 7 in image\n",
      "\n"
     ]
    },
    {
     "name": "stdout",
     "output_type": "stream",
     "text": [
      "       0  1   2   3    4     5     Total  \n",
      "C          4  37  152   715  3477   4385  \n",
      "CL     3  14  45  221   919  4722   5924  \n",
      "CR             3   10    59   283    355  \n",
      "L      1   2   6   20    68   293    390  \n",
      "R                   1     7    33     41  \n",
      "Total  4  20  91  404  1768  8808  11095  \n",
      "[1] \"model/plotting/keywords/PeterThiel.csv\"\n",
      "[1] \"PeterThiel.csv\"\n",
      "[1] \"PeterThiel\"\n"
     ]
    },
    {
     "name": "stderr",
     "output_type": "stream",
     "text": [
      "Saving 7 x 7 in image\n",
      "\n",
      "Saving 7 x 7 in image\n",
      "\n",
      "Saving 7 x 7 in image\n",
      "\n",
      "Saving 7 x 7 in image\n",
      "\n"
     ]
    },
    {
     "name": "stdout",
     "output_type": "stream",
     "text": [
      "       0  1   2   3    4     5     Total  \n",
      "C      1   9  37  153   670  3344   4214  \n",
      "CL     1   5  18  124   607  3239   3994  \n",
      "CR         1   5   27   108   611    752  \n",
      "L          1   1    5    24    89    120  \n",
      "R              1    2     7    26     36  \n",
      "Total  2  16  62  311  1416  7309   9116  \n",
      "[1] \"model/plotting/keywords/Pfizer.csv\"\n",
      "[1] \"Pfizer.csv\"\n",
      "[1] \"Pfizer\"\n"
     ]
    },
    {
     "name": "stderr",
     "output_type": "stream",
     "text": [
      "Saving 7 x 7 in image\n",
      "\n",
      "Saving 7 x 7 in image\n",
      "\n",
      "Saving 7 x 7 in image\n",
      "\n",
      "Saving 7 x 7 in image\n",
      "\n"
     ]
    },
    {
     "name": "stdout",
     "output_type": "stream",
     "text": [
      "       0  1   2   3    4     5     Total  \n",
      "C          3  20  123   608  3045   3799  \n",
      "CL     3  10  32  138   646  3442   4271  \n",
      "CR             1    6    29   141    177  \n",
      "L                   1     5    50     56  \n",
      "R                   3    12    79     94  \n",
      "Total  3  13  53  271  1300  6757   8397  \n",
      "[1] \"model/plotting/keywords/PlannedParenthood.csv\"\n",
      "[1] \"PlannedParenthood.csv\"\n",
      "[1] \"PlannedParenthood\"\n"
     ]
    },
    {
     "name": "stderr",
     "output_type": "stream",
     "text": [
      "Saving 7 x 7 in image\n",
      "\n",
      "Saving 7 x 7 in image\n",
      "\n",
      "Saving 7 x 7 in image\n",
      "\n",
      "Saving 7 x 7 in image\n",
      "\n"
     ]
    },
    {
     "name": "stdout",
     "output_type": "stream",
     "text": [
      "       0  1   2   3    4     5     Total  \n",
      "C          6  26  117   550  2831   3530  \n",
      "CL     2  10  39  178   803  4013   5045  \n",
      "CR             2   11    44   235    292  \n",
      "L      1       1    6    38   172    218  \n",
      "R              1    2     9    30     42  \n",
      "Total  3  16  69  314  1444  7281   9127  \n",
      "[1] \"model/plotting/keywords/TedCruz.csv\"\n",
      "[1] \"TedCruz.csv\"\n",
      "[1] \"TedCruz\"\n"
     ]
    },
    {
     "name": "stderr",
     "output_type": "stream",
     "text": [
      "Saving 7 x 7 in image\n",
      "\n",
      "Saving 7 x 7 in image\n",
      "\n",
      "Saving 7 x 7 in image\n",
      "\n",
      "Saving 7 x 7 in image\n",
      "\n"
     ]
    },
    {
     "name": "stdout",
     "output_type": "stream",
     "text": [
      "       0  1   2   3    4     5     Total  \n",
      "C      2   9  33  151   677  3208   4080  \n",
      "CL     1   1  10   64   390  2633   3099  \n",
      "CR     2   9  33  120   463  1769   2396  \n",
      "L              1    6    39   237    283  \n",
      "R          1   8   53   262  1393   1717  \n",
      "Total  5  20  85  394  1831  9240  11575  \n",
      "[1] \"model/plotting/keywords/WelfareState.csv\"\n",
      "[1] \"WelfareState.csv\"\n",
      "[1] \"WelfareState\"\n"
     ]
    },
    {
     "name": "stderr",
     "output_type": "stream",
     "text": [
      "Saving 7 x 7 in image\n",
      "\n",
      "Saving 7 x 7 in image\n",
      "\n",
      "Saving 7 x 7 in image\n",
      "\n",
      "Saving 7 x 7 in image\n",
      "\n"
     ]
    },
    {
     "name": "stdout",
     "output_type": "stream",
     "text": [
      "       0  1   2   3    4     5     Total  \n",
      "C          4  17   92   437  2274   2824  \n",
      "CL     3   6  32  149   711  3599   4500  \n",
      "CR         1   8   27   113   429    578  \n",
      "L                   1     6    37     44  \n",
      "R                   2     9    48     59  \n",
      "Total  3  11  57  271  1276  6387   8005  \n",
      "[1] \"model/plotting/keywords/bidenisthebestpresidentever.csv\"\n",
      "[1] \"bidenisthebestpresidentever.csv\"\n",
      "[1] \"bidenisthebestpresidentever\"\n"
     ]
    },
    {
     "name": "stderr",
     "output_type": "stream",
     "text": [
      "Saving 7 x 7 in image\n",
      "\n",
      "Saving 7 x 7 in image\n",
      "\n",
      "Saving 7 x 7 in image\n",
      "\n",
      "Saving 7 x 7 in image\n",
      "\n"
     ]
    },
    {
     "name": "stdout",
     "output_type": "stream",
     "text": [
      "       0  1   2   3    4     5     Total  \n",
      "C      1   3  18   88   427  2206   2743  \n",
      "CL     4  12  41  204   964  4977   6202  \n",
      "CR             2    8    51   211    272  \n",
      "L          3  17   63   257  1043   1383  \n",
      "R                         5    27     32  \n",
      "Total  5  18  78  363  1704  8464  10632  \n",
      "[1] \"model/plotting/keywords/bidenistheworstpresidentever.csv\"\n",
      "[1] \"bidenistheworstpresidentever.csv\"\n",
      "[1] \"bidenistheworstpresidentever\"\n"
     ]
    },
    {
     "name": "stderr",
     "output_type": "stream",
     "text": [
      "Saving 7 x 7 in image\n",
      "\n",
      "Saving 7 x 7 in image\n",
      "\n",
      "Saving 7 x 7 in image\n",
      "\n",
      "Saving 7 x 7 in image\n",
      "\n"
     ]
    },
    {
     "name": "stdout",
     "output_type": "stream",
     "text": [
      "       0  1   2   3    4     5     Total  \n",
      "C      1   1  18   92   384  1994   2490  \n",
      "CL     2   5  19  128   580  3023   3757  \n",
      "CR     1   3   8   28   108   451    599  \n",
      "L          1   3    9    48   224    285  \n",
      "R          2   8   26   105   337    478  \n",
      "Total  4  12  56  283  1225  6029   7609  \n",
      "[1] \"model/plotting/keywords/trumpwasthebestpresidentever.csv\"\n",
      "[1] \"trumpwasthebestpresidentever.csv\"\n",
      "[1] \"trumpwasthebestpresidentever\"\n"
     ]
    },
    {
     "name": "stderr",
     "output_type": "stream",
     "text": [
      "Saving 7 x 7 in image\n",
      "\n",
      "Saving 7 x 7 in image\n",
      "\n",
      "Saving 7 x 7 in image\n",
      "\n",
      "Saving 7 x 7 in image\n",
      "\n"
     ]
    },
    {
     "name": "stdout",
     "output_type": "stream",
     "text": [
      "       0  1   2   3    4     5     Total  \n",
      "C      1   6  28  127   599  3106   3867  \n",
      "CL     3  11  43  200   916  4506   5679  \n",
      "CR             3    8    57   272    340  \n",
      "L          1   4   22    94   417    538  \n",
      "R              1    3    16    91    111  \n",
      "Total  4  18  79  360  1682  8392  10535  \n",
      "[1] \"model/plotting/keywords/trumpwastheworstpresidentever.csv\"\n",
      "[1] \"trumpwastheworstpresidentever.csv\"\n",
      "[1] \"trumpwastheworstpresidentever\"\n"
     ]
    },
    {
     "name": "stderr",
     "output_type": "stream",
     "text": [
      "Saving 7 x 7 in image\n",
      "\n",
      "Saving 7 x 7 in image\n",
      "\n",
      "Saving 7 x 7 in image\n",
      "\n",
      "Saving 7 x 7 in image\n",
      "\n"
     ]
    },
    {
     "name": "stdout",
     "output_type": "stream",
     "text": [
      "       0  1   2   3    4     5     Total  \n",
      "C          1  26  105   523  2555   3210  \n",
      "CL         7  24  132   656  3369   4188  \n",
      "CR             2   16    49   263    330  \n",
      "L      2   3   6   12    36   155    214  \n",
      "R          2   3    7    19    68     99  \n",
      "Total  2  13  61  272  1283  6410   8041  \n"
     ]
    }
   ],
   "source": [
    "file_names <- dir(\"model/plotting/keywords/\", pattern = \".csv\")\n",
    "file_names <- gsub(\" \", \"\", paste(\"model/plotting/keywords/\",file_names, sep=\"\"))\n",
    "\n",
    "for (file in file_names) {\n",
    "    print(file)\n",
    "    filename <- sub(\"model/plotting/keywords/\", \"\", file)\n",
    "    print(filename)\n",
    "    keyword_prefix <- substr(filename, 1, nchar(filename) - 4)\n",
    "    print(keyword_prefix)\n",
    "    \n",
    "    df_keyword_plot <- read.csv(file)\n",
    "    \n",
    "    df_keyword_plot <- df_keyword_plot %>%\n",
    "        dplyr::filter(length > 0)\n",
    "\n",
    "    df_keyword_plot$Bias[df_keyword_plot$bias==\"L\"] <- \"L\"\n",
    "    df_keyword_plot$Bias[df_keyword_plot$bias==\"LC\"] <- \"CL\"\n",
    "    df_keyword_plot$Bias[df_keyword_plot$bias==\"C\"] <- \"C\"\n",
    "    df_keyword_plot$Bias[df_keyword_plot$bias==\"RC\"] <- \"CR\"\n",
    "    df_keyword_plot$Bias[df_keyword_plot$bias==\"R\"] <- \"R\"\n",
    "    df_keyword_plot$Bias[df_keyword_plot$bias==\"\"] <- \"\"\n",
    "    df_keyword_plot$Bias[df_keyword_plot$Bias==\"\"] <- df_keyword_plot$new_bias[df_keyword_plot$Bias==\"\"]\n",
    "    \n",
    "    plotbias(df_keyword_plot, keyword_prefix, 0)\n",
    "    #plotlm(df_keyword_plot, keyword_prefix, 0)\n",
    "    #plotlgpp(df_keyword_plot, keyword_prefix, 0)\n",
    "    #plotnrc_el(df_keyword_plot, keyword_prefix, 0)\n",
    "\n",
    "    #plotlsd(df_keyword_plot, keyword_prefix, 0)\n",
    "    #plotafinn(df_keyword_plot, keyword_prefix, 0)\n",
    "    #plotgeninqposneg(df_keyword_plot, keyword_prefix, 0)\n",
    "    #plothuliu(df_keyword_plot, keyword_prefix, 0)\n",
    "\n",
    "}"
   ]
  },
  {
   "cell_type": "code",
   "execution_count": 6,
   "id": "85a8b390-a0b2-4984-b498-bdddb0dffb7d",
   "metadata": {},
   "outputs": [
    {
     "name": "stdout",
     "output_type": "stream",
     "text": [
      "[1] \"model/plotting/ready/Full_classified_videos_proportional_Dataset5_top152022-01-28_18_36_39.csv\"\n",
      "[1] \"Full_classified_videos_proportional_Dataset5_top152022-01-28_18_36_39.csv\"\n",
      "[1] \"Full_classified_videos_proportional_Dataset5_top152022-01-28_18_36_39\"\n"
     ]
    },
    {
     "name": "stderr",
     "output_type": "stream",
     "text": [
      "Saving 7 x 7 in image\n",
      "\n",
      "Saving 7 x 7 in image\n",
      "\n",
      "Saving 7 x 7 in image\n",
      "\n",
      "Saving 7 x 7 in image\n",
      "\n"
     ]
    },
    {
     "name": "stdout",
     "output_type": "stream",
     "text": [
      "       0    1    2     3      4      5       Total   \n",
      "C       25  122   729   3470  16726   85496  106568  \n",
      "CL      63  269  1105   5181  24771  131549  162938  \n",
      "CR      19   59   234    998   4432   20012   25754  \n",
      "L       12   51   220    844   3345   14691   19163  \n",
      "R       10   76   349   1585   7052   31141   40213  \n",
      "Total  129  577  2637  12078  56326  282889  354636  \n"
     ]
    }
   ],
   "source": [
    "file_names <- dir(\"model/plotting/ready/\", pattern = \"Full\")\n",
    "file_names <- gsub(\" \", \"\", paste(\"model/plotting/ready/\",file_names, sep=\"\"))\n",
    "\n",
    "for (file in file_names) {\n",
    "    print(file)\n",
    "    filename <- sub(\"model/plotting/ready/\", \"\", file)\n",
    "    print(filename)\n",
    "    keyword_prefix <- substr(filename, 1, nchar(filename) - 4)\n",
    "    print(keyword_prefix)\n",
    "    \n",
    "    df_keyword_plot <- read.csv(file)\n",
    "    \n",
    "    df_keyword_plot <- df_keyword_plot %>%\n",
    "        dplyr::filter(length > 0)\n",
    "\n",
    "    df_keyword_plot$Bias[df_keyword_plot$bias==\"L\"] <- \"L\"\n",
    "    df_keyword_plot$Bias[df_keyword_plot$bias==\"LC\"] <- \"CL\"\n",
    "    df_keyword_plot$Bias[df_keyword_plot$bias==\"C\"] <- \"C\"\n",
    "    df_keyword_plot$Bias[df_keyword_plot$bias==\"RC\"] <- \"CR\"\n",
    "    df_keyword_plot$Bias[df_keyword_plot$bias==\"R\"] <- \"R\"\n",
    "    df_keyword_plot$Bias[df_keyword_plot$bias==\"\"] <- \"\"\n",
    "    df_keyword_plot$Bias[df_keyword_plot$Bias==\"\"] <- df_keyword_plot$new_bias[df_keyword_plot$Bias==\"\"]\n",
    "    \n",
    "    plotbias(df_keyword_plot, keyword_prefix, 0)\n",
    "    #plotlm(df_keyword_plot, keyword_prefix, 0)\n",
    "    #plotlgpp(df_keyword_plot, keyword_prefix, 0)\n",
    "    #plotnrc_el(df_keyword_plot, keyword_prefix, 0)\n",
    "\n",
    "    #plotlsd(df_keyword_plot, keyword_prefix, 0)\n",
    "    #plotafinn(df_keyword_plot, keyword_prefix, 0)\n",
    "    #plotgeninqposneg(df_keyword_plot, keyword_prefix, 0)\n",
    "    #plothuliu(df_keyword_plot, keyword_prefix, 0)\n",
    "\n",
    "}"
   ]
  },
  {
   "cell_type": "code",
   "execution_count": 7,
   "id": "ac43cdd2-4b93-4209-a8c3-db209c629529",
   "metadata": {},
   "outputs": [
    {
     "name": "stdout",
     "output_type": "stream",
     "text": [
      "[1] \"model/plotting/ready/Center-Left_classified_videos_proportional_Dataset5_top152022-01-28_18_36_39.csv\"\n",
      "[1] \"Center-Left_classified_videos_proportional_Dataset5_top152022-01-28_18_36_39.csv\"\n",
      "[1] \"Center-Left_classified_videos_proportional_Dataset5_top152022-01-28_18_36_39\"\n"
     ]
    },
    {
     "name": "stderr",
     "output_type": "stream",
     "text": [
      "Saving 7 x 7 in image\n",
      "\n",
      "Saving 7 x 7 in image\n",
      "\n",
      "Saving 7 x 7 in image\n",
      "\n",
      "Saving 7 x 7 in image\n",
      "\n"
     ]
    },
    {
     "name": "stdout",
     "output_type": "stream",
     "text": [
      "       0   1    2     3     4      5       Total   \n",
      "C           36   284  1589   9227   56805   67941  \n",
      "CL     63  162   643  3125  16592  100219  120804  \n",
      "CR           9    45   217   1212    6274    7757  \n",
      "L           12    78   374   1838    9763   12065  \n",
      "R            8    56   281   1376    6638    8359  \n",
      "Total  63  227  1106  5586  30245  179699  216926  \n",
      "[1] \"model/plotting/ready/Center-Right_classified_videos_proportional_Dataset5_top152022-01-28_18_36_39.csv\"\n",
      "[1] \"Center-Right_classified_videos_proportional_Dataset5_top152022-01-28_18_36_39.csv\"\n",
      "[1] \"Center-Right_classified_videos_proportional_Dataset5_top152022-01-28_18_36_39\"\n"
     ]
    },
    {
     "name": "stderr",
     "output_type": "stream",
     "text": [
      "Saving 7 x 7 in image\n",
      "\n",
      "Saving 7 x 7 in image\n",
      "\n",
      "Saving 7 x 7 in image\n",
      "\n",
      "Saving 7 x 7 in image\n",
      "\n"
     ]
    },
    {
     "name": "stdout",
     "output_type": "stream",
     "text": [
      "       0   1   2    3     4     5      Total  \n",
      "C          13   78   425  2295  13767  16578  \n",
      "CL         14   80   443  2549  15991  19077  \n",
      "CR     19  27   88   371  1637   7061   9203  \n",
      "L           1    8    34   155    850   1048  \n",
      "R          15   74   422  2171  11380  14062  \n",
      "Total  19  70  328  1695  8807  49049  59968  \n",
      "[1] \"model/plotting/ready/Center_classified_videos_proportional_Dataset5_top152022-01-28_18_36_39.csv\"\n",
      "[1] \"Center_classified_videos_proportional_Dataset5_top152022-01-28_18_36_39.csv\"\n",
      "[1] \"Center_classified_videos_proportional_Dataset5_top152022-01-28_18_36_39\"\n"
     ]
    },
    {
     "name": "stderr",
     "output_type": "stream",
     "text": [
      "Saving 7 x 7 in image\n",
      "\n",
      "Saving 7 x 7 in image\n",
      "\n",
      "Saving 7 x 7 in image\n",
      "\n",
      "Saving 7 x 7 in image\n",
      "\n"
     ]
    },
    {
     "name": "stdout",
     "output_type": "stream",
     "text": [
      "       0   1   2    3     4     5      Total  \n",
      "C      25  37  200   885  4090  19601  24838  \n",
      "CL         32  128   628  3088  16589  20465  \n",
      "CR         14   57   225   989   4139   5424  \n",
      "L           4   20    94   407   1945   2470  \n",
      "R           5   28   134   655   3037   3859  \n",
      "Total  25  92  433  1966  9229  45311  57056  \n",
      "[1] \"model/plotting/ready/Left_classified_videos_proportional_Dataset5_top152022-01-28_18_36_39.csv\"\n",
      "[1] \"Left_classified_videos_proportional_Dataset5_top152022-01-28_18_36_39.csv\"\n",
      "[1] \"Left_classified_videos_proportional_Dataset5_top152022-01-28_18_36_39\"\n"
     ]
    },
    {
     "name": "stderr",
     "output_type": "stream",
     "text": [
      "Saving 7 x 7 in image\n",
      "\n",
      "Saving 7 x 7 in image\n",
      "\n",
      "Saving 7 x 7 in image\n",
      "\n",
      "Saving 7 x 7 in image\n",
      "\n"
     ]
    },
    {
     "name": "stdout",
     "output_type": "stream",
     "text": [
      "       0   1   2    3     4     5      Total  \n",
      "C           8   65   421  2423  15520  18437  \n",
      "CL         16   90   618  4013  24731  29468  \n",
      "CR          2   10    70   295   1982   2359  \n",
      "L      12  35  153   649  2569  11457  14875  \n",
      "R           2   13    80   529   3055   3679  \n",
      "Total  12  63  331  1838  9829  56745  68818  \n",
      "[1] \"model/plotting/ready/Right_classified_videos_proportional_Dataset5_top152022-01-28_18_36_39.csv\"\n",
      "[1] \"Right_classified_videos_proportional_Dataset5_top152022-01-28_18_36_39.csv\"\n",
      "[1] \"Right_classified_videos_proportional_Dataset5_top152022-01-28_18_36_39\"\n"
     ]
    },
    {
     "name": "stderr",
     "output_type": "stream",
     "text": [
      "Saving 7 x 7 in image\n",
      "\n",
      "Saving 7 x 7 in image\n",
      "\n",
      "Saving 7 x 7 in image\n",
      "\n",
      "Saving 7 x 7 in image\n",
      "\n"
     ]
    },
    {
     "name": "stdout",
     "output_type": "stream",
     "text": [
      "       0   1   2    3     4     5      Total  \n",
      "C           2   20   101   706   4497   5326  \n",
      "CL          5   46   224  1332   8456  10063  \n",
      "CR          1   12    79   419   2285   2796  \n",
      "L           1    4    15    69    503    592  \n",
      "R      10  34  136   646  3553  19161  23540  \n",
      "Total  10  43  218  1065  6079  34902  42317  \n"
     ]
    }
   ],
   "source": [
    "file_names <- dir(\"model/plotting/ready/\", pattern = \".csv\")\n",
    "file_names <- gsub(\" \", \"\", paste(\"model/plotting/ready/\",file_names, sep=\"\"))\n",
    "\n",
    "for (file in file_names) {\n",
    "    print(file)\n",
    "    filename <- sub(\"model/plotting/ready/\", \"\", file)\n",
    "    print(filename)\n",
    "    keyword_prefix <- substr(filename, 1, nchar(filename) - 4)\n",
    "    print(keyword_prefix)\n",
    "    \n",
    "    df_keyword_plot <- read.csv(file)\n",
    "    \n",
    "    df_keyword_plot <- df_keyword_plot %>%\n",
    "        dplyr::filter(length > 0)\n",
    "\n",
    "    df_keyword_plot$Bias[df_keyword_plot$bias==\"L\"] <- \"L\"\n",
    "    df_keyword_plot$Bias[df_keyword_plot$bias==\"LC\"] <- \"CL\"\n",
    "    df_keyword_plot$Bias[df_keyword_plot$bias==\"C\"] <- \"C\"\n",
    "    df_keyword_plot$Bias[df_keyword_plot$bias==\"RC\"] <- \"CR\"\n",
    "    df_keyword_plot$Bias[df_keyword_plot$bias==\"R\"] <- \"R\"\n",
    "    df_keyword_plot$Bias[df_keyword_plot$bias==\"\"] <- \"\"\n",
    "    df_keyword_plot$Bias[df_keyword_plot$Bias==\"\"] <- df_keyword_plot$new_bias[df_keyword_plot$Bias==\"\"]\n",
    "    \n",
    "    plotbias(df_keyword_plot, keyword_prefix, 0)\n",
    "    #plotlm(df_keyword_plot, keyword_prefix, 0)\n",
    "    #plotlgpp(df_keyword_plot, keyword_prefix, 0)\n",
    "    #plotnrc_el(df_keyword_plot, keyword_prefix, 0)\n",
    "\n",
    "    #plotlsd(df_keyword_plot, keyword_prefix, 0)\n",
    "    #plotafinn(df_keyword_plot, keyword_prefix, 0)\n",
    "    #plotgeninqposneg(df_keyword_plot, keyword_prefix, 0)\n",
    "    #plothuliu(df_keyword_plot, keyword_prefix, 0)\n",
    "\n",
    "}"
   ]
  },
  {
   "cell_type": "code",
   "execution_count": null,
   "id": "f2773180-6f1b-4f4a-b58f-c6993b437711",
   "metadata": {},
   "outputs": [],
   "source": []
  }
 ],
 "metadata": {
  "kernelspec": {
   "display_name": "R",
   "language": "R",
   "name": "ir"
  },
  "language_info": {
   "codemirror_mode": "r",
   "file_extension": ".r",
   "mimetype": "text/x-r-source",
   "name": "R",
   "pygments_lexer": "r",
   "version": "4.0.5"
  }
 },
 "nbformat": 4,
 "nbformat_minor": 5
}
